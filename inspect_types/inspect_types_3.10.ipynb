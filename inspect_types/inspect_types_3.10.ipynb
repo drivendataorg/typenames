{
 "cells": [
  {
   "cell_type": "code",
   "execution_count": 1,
   "metadata": {
    "execution": {
     "iopub.execute_input": "2023-02-19T03:55:46.896362Z",
     "iopub.status.busy": "2023-02-19T03:55:46.895991Z",
     "iopub.status.idle": "2023-02-19T03:55:46.904701Z",
     "shell.execute_reply": "2023-02-19T03:55:46.903986Z"
    }
   },
   "outputs": [],
   "source": [
    "import sys\n",
    "import typing"
   ]
  },
  {
   "cell_type": "code",
   "execution_count": 2,
   "metadata": {
    "execution": {
     "iopub.execute_input": "2023-02-19T03:55:46.907278Z",
     "iopub.status.busy": "2023-02-19T03:55:46.907002Z",
     "iopub.status.idle": "2023-02-19T03:55:46.913385Z",
     "shell.execute_reply": "2023-02-19T03:55:46.912679Z"
    }
   },
   "outputs": [
    {
     "data": {
      "text/plain": [
       "'3.10.9 | packaged by conda-forge | (main, Feb  2 2023, 20:24:27) [Clang 14.0.6 ]'"
      ]
     },
     "execution_count": 2,
     "metadata": {},
     "output_type": "execute_result"
    }
   ],
   "source": [
    "sys.version"
   ]
  },
  {
   "cell_type": "markdown",
   "metadata": {},
   "source": [
    "## Union"
   ]
  },
  {
   "cell_type": "markdown",
   "metadata": {},
   "source": [
    "### typing.Union (Generic Alias)"
   ]
  },
  {
   "cell_type": "code",
   "execution_count": 3,
   "metadata": {
    "execution": {
     "iopub.execute_input": "2023-02-19T03:55:46.952764Z",
     "iopub.status.busy": "2023-02-19T03:55:46.952466Z",
     "iopub.status.idle": "2023-02-19T03:55:46.957195Z",
     "shell.execute_reply": "2023-02-19T03:55:46.956444Z"
    }
   },
   "outputs": [
    {
     "data": {
      "text/plain": [
       "typing.Union[int, str]"
      ]
     },
     "execution_count": 3,
     "metadata": {},
     "output_type": "execute_result"
    }
   ],
   "source": [
    "tp = typing.Union[int, str]\n",
    "tp"
   ]
  },
  {
   "cell_type": "code",
   "execution_count": 4,
   "metadata": {
    "execution": {
     "iopub.execute_input": "2023-02-19T03:55:46.959709Z",
     "iopub.status.busy": "2023-02-19T03:55:46.959475Z",
     "iopub.status.idle": "2023-02-19T03:55:46.963261Z",
     "shell.execute_reply": "2023-02-19T03:55:46.962632Z"
    }
   },
   "outputs": [
    {
     "data": {
      "text/plain": [
       "typing._UnionGenericAlias"
      ]
     },
     "execution_count": 4,
     "metadata": {},
     "output_type": "execute_result"
    }
   ],
   "source": [
    "type(tp)"
   ]
  },
  {
   "cell_type": "code",
   "execution_count": 5,
   "metadata": {
    "execution": {
     "iopub.execute_input": "2023-02-19T03:55:46.965810Z",
     "iopub.status.busy": "2023-02-19T03:55:46.965558Z",
     "iopub.status.idle": "2023-02-19T03:55:46.969406Z",
     "shell.execute_reply": "2023-02-19T03:55:46.968804Z"
    }
   },
   "outputs": [
    {
     "data": {
      "text/plain": [
       "(typing._UnionGenericAlias,\n",
       " typing._GenericAlias,\n",
       " typing._BaseGenericAlias,\n",
       " typing._Final,\n",
       " object)"
      ]
     },
     "execution_count": 5,
     "metadata": {},
     "output_type": "execute_result"
    }
   ],
   "source": [
    "type(tp).__mro__"
   ]
  },
  {
   "cell_type": "code",
   "execution_count": 6,
   "metadata": {
    "execution": {
     "iopub.execute_input": "2023-02-19T03:55:46.971843Z",
     "iopub.status.busy": "2023-02-19T03:55:46.971623Z",
     "iopub.status.idle": "2023-02-19T03:55:46.974543Z",
     "shell.execute_reply": "2023-02-19T03:55:46.973929Z"
    }
   },
   "outputs": [],
   "source": [
    "tp._name"
   ]
  },
  {
   "cell_type": "code",
   "execution_count": 7,
   "metadata": {
    "execution": {
     "iopub.execute_input": "2023-02-19T03:55:46.976818Z",
     "iopub.status.busy": "2023-02-19T03:55:46.976589Z",
     "iopub.status.idle": "2023-02-19T03:55:46.980161Z",
     "shell.execute_reply": "2023-02-19T03:55:46.979658Z"
    }
   },
   "outputs": [
    {
     "data": {
      "text/plain": [
       "'Union'"
      ]
     },
     "execution_count": 7,
     "metadata": {},
     "output_type": "execute_result"
    }
   ],
   "source": [
    "tp.__name__"
   ]
  },
  {
   "cell_type": "code",
   "execution_count": 8,
   "metadata": {
    "execution": {
     "iopub.execute_input": "2023-02-19T03:55:46.982836Z",
     "iopub.status.busy": "2023-02-19T03:55:46.982568Z",
     "iopub.status.idle": "2023-02-19T03:55:46.986315Z",
     "shell.execute_reply": "2023-02-19T03:55:46.985809Z"
    }
   },
   "outputs": [
    {
     "data": {
      "text/plain": [
       "typing.Union"
      ]
     },
     "execution_count": 8,
     "metadata": {},
     "output_type": "execute_result"
    }
   ],
   "source": [
    "origin = typing.get_origin(tp)\n",
    "origin"
   ]
  },
  {
   "cell_type": "code",
   "execution_count": 9,
   "metadata": {
    "execution": {
     "iopub.execute_input": "2023-02-19T03:55:46.988556Z",
     "iopub.status.busy": "2023-02-19T03:55:46.988322Z",
     "iopub.status.idle": "2023-02-19T03:55:46.992147Z",
     "shell.execute_reply": "2023-02-19T03:55:46.991549Z"
    }
   },
   "outputs": [
    {
     "data": {
      "text/plain": [
       "typing._SpecialForm"
      ]
     },
     "execution_count": 9,
     "metadata": {},
     "output_type": "execute_result"
    }
   ],
   "source": [
    "type(origin)"
   ]
  },
  {
   "cell_type": "code",
   "execution_count": 10,
   "metadata": {
    "execution": {
     "iopub.execute_input": "2023-02-19T03:55:46.994399Z",
     "iopub.status.busy": "2023-02-19T03:55:46.994174Z",
     "iopub.status.idle": "2023-02-19T03:55:46.998038Z",
     "shell.execute_reply": "2023-02-19T03:55:46.997318Z"
    }
   },
   "outputs": [
    {
     "data": {
      "text/plain": [
       "(typing._SpecialForm, typing._Final, object)"
      ]
     },
     "execution_count": 10,
     "metadata": {},
     "output_type": "execute_result"
    }
   ],
   "source": [
    "type(origin).__mro__"
   ]
  },
  {
   "cell_type": "code",
   "execution_count": 11,
   "metadata": {
    "execution": {
     "iopub.execute_input": "2023-02-19T03:55:47.000754Z",
     "iopub.status.busy": "2023-02-19T03:55:47.000492Z",
     "iopub.status.idle": "2023-02-19T03:55:47.004091Z",
     "shell.execute_reply": "2023-02-19T03:55:47.003586Z"
    }
   },
   "outputs": [
    {
     "data": {
      "text/plain": [
       "'Union'"
      ]
     },
     "execution_count": 11,
     "metadata": {},
     "output_type": "execute_result"
    }
   ],
   "source": [
    "origin._name"
   ]
  },
  {
   "cell_type": "code",
   "execution_count": 12,
   "metadata": {
    "execution": {
     "iopub.execute_input": "2023-02-19T03:55:47.006520Z",
     "iopub.status.busy": "2023-02-19T03:55:47.006264Z",
     "iopub.status.idle": "2023-02-19T03:55:47.010080Z",
     "shell.execute_reply": "2023-02-19T03:55:47.009572Z"
    }
   },
   "outputs": [
    {
     "data": {
      "text/plain": [
       "'Union'"
      ]
     },
     "execution_count": 12,
     "metadata": {},
     "output_type": "execute_result"
    }
   ],
   "source": [
    "origin.__name__"
   ]
  },
  {
   "cell_type": "markdown",
   "metadata": {},
   "source": [
    "### | (bitwise or) operator"
   ]
  },
  {
   "cell_type": "code",
   "execution_count": 13,
   "metadata": {
    "execution": {
     "iopub.execute_input": "2023-02-19T03:55:47.012469Z",
     "iopub.status.busy": "2023-02-19T03:55:47.012231Z",
     "iopub.status.idle": "2023-02-19T03:55:47.016417Z",
     "shell.execute_reply": "2023-02-19T03:55:47.015816Z"
    },
    "tags": []
   },
   "outputs": [
    {
     "data": {
      "text/plain": [
       "int | str"
      ]
     },
     "execution_count": 13,
     "metadata": {},
     "output_type": "execute_result"
    }
   ],
   "source": [
    "tp = int | str\n",
    "tp"
   ]
  },
  {
   "cell_type": "code",
   "execution_count": 14,
   "metadata": {
    "execution": {
     "iopub.execute_input": "2023-02-19T03:55:47.018834Z",
     "iopub.status.busy": "2023-02-19T03:55:47.018598Z",
     "iopub.status.idle": "2023-02-19T03:55:47.022318Z",
     "shell.execute_reply": "2023-02-19T03:55:47.021634Z"
    },
    "tags": []
   },
   "outputs": [
    {
     "data": {
      "text/plain": [
       "types.UnionType"
      ]
     },
     "execution_count": 14,
     "metadata": {},
     "output_type": "execute_result"
    }
   ],
   "source": [
    "type(tp)"
   ]
  },
  {
   "cell_type": "code",
   "execution_count": 15,
   "metadata": {
    "execution": {
     "iopub.execute_input": "2023-02-19T03:55:47.024817Z",
     "iopub.status.busy": "2023-02-19T03:55:47.024582Z",
     "iopub.status.idle": "2023-02-19T03:55:47.028281Z",
     "shell.execute_reply": "2023-02-19T03:55:47.027795Z"
    },
    "tags": []
   },
   "outputs": [
    {
     "data": {
      "text/plain": [
       "(types.UnionType, object)"
      ]
     },
     "execution_count": 15,
     "metadata": {},
     "output_type": "execute_result"
    }
   ],
   "source": [
    "type(tp).__mro__"
   ]
  },
  {
   "cell_type": "code",
   "execution_count": 16,
   "metadata": {
    "execution": {
     "iopub.execute_input": "2023-02-19T03:55:47.030713Z",
     "iopub.status.busy": "2023-02-19T03:55:47.030437Z",
     "iopub.status.idle": "2023-02-19T03:55:47.034700Z",
     "shell.execute_reply": "2023-02-19T03:55:47.034068Z"
    },
    "tags": []
   },
   "outputs": [
    {
     "data": {
      "text/plain": [
       "types.UnionType"
      ]
     },
     "execution_count": 16,
     "metadata": {},
     "output_type": "execute_result"
    }
   ],
   "source": [
    "origin = typing.get_origin(tp)\n",
    "origin"
   ]
  },
  {
   "cell_type": "code",
   "execution_count": 17,
   "metadata": {
    "execution": {
     "iopub.execute_input": "2023-02-19T03:55:47.037010Z",
     "iopub.status.busy": "2023-02-19T03:55:47.036785Z",
     "iopub.status.idle": "2023-02-19T03:55:47.040617Z",
     "shell.execute_reply": "2023-02-19T03:55:47.040107Z"
    },
    "tags": []
   },
   "outputs": [
    {
     "data": {
      "text/plain": [
       "type"
      ]
     },
     "execution_count": 17,
     "metadata": {},
     "output_type": "execute_result"
    }
   ],
   "source": [
    "type(origin)"
   ]
  },
  {
   "cell_type": "code",
   "execution_count": 18,
   "metadata": {
    "execution": {
     "iopub.execute_input": "2023-02-19T03:55:47.042864Z",
     "iopub.status.busy": "2023-02-19T03:55:47.042641Z",
     "iopub.status.idle": "2023-02-19T03:55:47.046129Z",
     "shell.execute_reply": "2023-02-19T03:55:47.045634Z"
    },
    "tags": []
   },
   "outputs": [
    {
     "data": {
      "text/plain": [
       "(type, object)"
      ]
     },
     "execution_count": 18,
     "metadata": {},
     "output_type": "execute_result"
    }
   ],
   "source": [
    "type(origin).__mro__"
   ]
  },
  {
   "cell_type": "code",
   "execution_count": 19,
   "metadata": {
    "execution": {
     "iopub.execute_input": "2023-02-19T03:55:47.048373Z",
     "iopub.status.busy": "2023-02-19T03:55:47.048141Z",
     "iopub.status.idle": "2023-02-19T03:55:47.169183Z",
     "shell.execute_reply": "2023-02-19T03:55:47.168687Z"
    },
    "tags": []
   },
   "outputs": [
    {
     "ename": "AttributeError",
     "evalue": "type object 'types.UnionType' has no attribute '_name'",
     "output_type": "error",
     "traceback": [
      "\u001b[0;31m---------------------------------------------------------------------------\u001b[0m",
      "\u001b[0;31mAttributeError\u001b[0m                            Traceback (most recent call last)",
      "Cell \u001b[0;32mIn[19], line 1\u001b[0m\n\u001b[0;32m----> 1\u001b[0m \u001b[43morigin\u001b[49m\u001b[38;5;241;43m.\u001b[39;49m\u001b[43m_name\u001b[49m\n",
      "\u001b[0;31mAttributeError\u001b[0m: type object 'types.UnionType' has no attribute '_name'"
     ]
    }
   ],
   "source": [
    "origin._name"
   ]
  },
  {
   "cell_type": "code",
   "execution_count": 20,
   "metadata": {
    "execution": {
     "iopub.execute_input": "2023-02-19T03:55:47.172368Z",
     "iopub.status.busy": "2023-02-19T03:55:47.172154Z",
     "iopub.status.idle": "2023-02-19T03:55:47.175416Z",
     "shell.execute_reply": "2023-02-19T03:55:47.174923Z"
    },
    "tags": []
   },
   "outputs": [
    {
     "data": {
      "text/plain": [
       "'UnionType'"
      ]
     },
     "execution_count": 20,
     "metadata": {},
     "output_type": "execute_result"
    }
   ],
   "source": [
    "origin.__name__"
   ]
  },
  {
   "cell_type": "markdown",
   "metadata": {},
   "source": [
    "## Optional"
   ]
  },
  {
   "cell_type": "markdown",
   "metadata": {},
   "source": [
    "### typing.Optional (Generic Alias)"
   ]
  },
  {
   "cell_type": "code",
   "execution_count": 21,
   "metadata": {
    "execution": {
     "iopub.execute_input": "2023-02-19T03:55:47.177563Z",
     "iopub.status.busy": "2023-02-19T03:55:47.177368Z",
     "iopub.status.idle": "2023-02-19T03:55:47.181380Z",
     "shell.execute_reply": "2023-02-19T03:55:47.180836Z"
    }
   },
   "outputs": [
    {
     "data": {
      "text/plain": [
       "typing.Optional[int]"
      ]
     },
     "execution_count": 21,
     "metadata": {},
     "output_type": "execute_result"
    }
   ],
   "source": [
    "tp = typing.Optional[int]\n",
    "tp"
   ]
  },
  {
   "cell_type": "code",
   "execution_count": 22,
   "metadata": {
    "execution": {
     "iopub.execute_input": "2023-02-19T03:55:47.183389Z",
     "iopub.status.busy": "2023-02-19T03:55:47.183193Z",
     "iopub.status.idle": "2023-02-19T03:55:47.186537Z",
     "shell.execute_reply": "2023-02-19T03:55:47.186069Z"
    }
   },
   "outputs": [
    {
     "data": {
      "text/plain": [
       "typing._UnionGenericAlias"
      ]
     },
     "execution_count": 22,
     "metadata": {},
     "output_type": "execute_result"
    }
   ],
   "source": [
    "type(tp)"
   ]
  },
  {
   "cell_type": "code",
   "execution_count": 23,
   "metadata": {
    "execution": {
     "iopub.execute_input": "2023-02-19T03:55:47.188562Z",
     "iopub.status.busy": "2023-02-19T03:55:47.188374Z",
     "iopub.status.idle": "2023-02-19T03:55:47.191752Z",
     "shell.execute_reply": "2023-02-19T03:55:47.191252Z"
    }
   },
   "outputs": [
    {
     "data": {
      "text/plain": [
       "(typing._UnionGenericAlias,\n",
       " typing._GenericAlias,\n",
       " typing._BaseGenericAlias,\n",
       " typing._Final,\n",
       " object)"
      ]
     },
     "execution_count": 23,
     "metadata": {},
     "output_type": "execute_result"
    }
   ],
   "source": [
    "type(tp).__mro__"
   ]
  },
  {
   "cell_type": "code",
   "execution_count": 24,
   "metadata": {
    "execution": {
     "iopub.execute_input": "2023-02-19T03:55:47.193649Z",
     "iopub.status.busy": "2023-02-19T03:55:47.193458Z",
     "iopub.status.idle": "2023-02-19T03:55:47.196927Z",
     "shell.execute_reply": "2023-02-19T03:55:47.196481Z"
    },
    "tags": []
   },
   "outputs": [
    {
     "data": {
      "text/plain": [
       "'Optional'"
      ]
     },
     "execution_count": 24,
     "metadata": {},
     "output_type": "execute_result"
    }
   ],
   "source": [
    "tp._name"
   ]
  },
  {
   "cell_type": "code",
   "execution_count": 25,
   "metadata": {
    "execution": {
     "iopub.execute_input": "2023-02-19T03:55:47.198883Z",
     "iopub.status.busy": "2023-02-19T03:55:47.198683Z",
     "iopub.status.idle": "2023-02-19T03:55:47.201936Z",
     "shell.execute_reply": "2023-02-19T03:55:47.201514Z"
    },
    "tags": []
   },
   "outputs": [
    {
     "data": {
      "text/plain": [
       "'Optional'"
      ]
     },
     "execution_count": 25,
     "metadata": {},
     "output_type": "execute_result"
    }
   ],
   "source": [
    "tp.__name__"
   ]
  },
  {
   "cell_type": "code",
   "execution_count": 26,
   "metadata": {
    "execution": {
     "iopub.execute_input": "2023-02-19T03:55:47.203840Z",
     "iopub.status.busy": "2023-02-19T03:55:47.203647Z",
     "iopub.status.idle": "2023-02-19T03:55:47.206872Z",
     "shell.execute_reply": "2023-02-19T03:55:47.206447Z"
    }
   },
   "outputs": [
    {
     "data": {
      "text/plain": [
       "typing.Union"
      ]
     },
     "execution_count": 26,
     "metadata": {},
     "output_type": "execute_result"
    }
   ],
   "source": [
    "origin = typing.get_origin(tp)\n",
    "origin"
   ]
  },
  {
   "cell_type": "code",
   "execution_count": 27,
   "metadata": {
    "execution": {
     "iopub.execute_input": "2023-02-19T03:55:47.208839Z",
     "iopub.status.busy": "2023-02-19T03:55:47.208642Z",
     "iopub.status.idle": "2023-02-19T03:55:47.211897Z",
     "shell.execute_reply": "2023-02-19T03:55:47.211366Z"
    }
   },
   "outputs": [
    {
     "data": {
      "text/plain": [
       "typing._SpecialForm"
      ]
     },
     "execution_count": 27,
     "metadata": {},
     "output_type": "execute_result"
    }
   ],
   "source": [
    "type(origin)"
   ]
  },
  {
   "cell_type": "code",
   "execution_count": 28,
   "metadata": {
    "execution": {
     "iopub.execute_input": "2023-02-19T03:55:47.213901Z",
     "iopub.status.busy": "2023-02-19T03:55:47.213657Z",
     "iopub.status.idle": "2023-02-19T03:55:47.217284Z",
     "shell.execute_reply": "2023-02-19T03:55:47.216745Z"
    }
   },
   "outputs": [
    {
     "data": {
      "text/plain": [
       "(typing._SpecialForm, typing._Final, object)"
      ]
     },
     "execution_count": 28,
     "metadata": {},
     "output_type": "execute_result"
    }
   ],
   "source": [
    "type(origin).__mro__"
   ]
  },
  {
   "cell_type": "code",
   "execution_count": 29,
   "metadata": {
    "execution": {
     "iopub.execute_input": "2023-02-19T03:55:47.219244Z",
     "iopub.status.busy": "2023-02-19T03:55:47.219040Z",
     "iopub.status.idle": "2023-02-19T03:55:47.222340Z",
     "shell.execute_reply": "2023-02-19T03:55:47.221911Z"
    },
    "tags": []
   },
   "outputs": [
    {
     "data": {
      "text/plain": [
       "'Union'"
      ]
     },
     "execution_count": 29,
     "metadata": {},
     "output_type": "execute_result"
    }
   ],
   "source": [
    "origin._name"
   ]
  },
  {
   "cell_type": "code",
   "execution_count": 30,
   "metadata": {
    "execution": {
     "iopub.execute_input": "2023-02-19T03:55:47.224269Z",
     "iopub.status.busy": "2023-02-19T03:55:47.224074Z",
     "iopub.status.idle": "2023-02-19T03:55:47.227197Z",
     "shell.execute_reply": "2023-02-19T03:55:47.226751Z"
    },
    "tags": []
   },
   "outputs": [
    {
     "data": {
      "text/plain": [
       "'Union'"
      ]
     },
     "execution_count": 30,
     "metadata": {},
     "output_type": "execute_result"
    }
   ],
   "source": [
    "origin.__name__"
   ]
  },
  {
   "cell_type": "markdown",
   "metadata": {},
   "source": [
    "### | (bitwise or) Operator"
   ]
  },
  {
   "cell_type": "code",
   "execution_count": 31,
   "metadata": {
    "execution": {
     "iopub.execute_input": "2023-02-19T03:55:47.229170Z",
     "iopub.status.busy": "2023-02-19T03:55:47.228979Z",
     "iopub.status.idle": "2023-02-19T03:55:47.232067Z",
     "shell.execute_reply": "2023-02-19T03:55:47.231634Z"
    },
    "tags": []
   },
   "outputs": [
    {
     "data": {
      "text/plain": [
       "int | None"
      ]
     },
     "execution_count": 31,
     "metadata": {},
     "output_type": "execute_result"
    }
   ],
   "source": [
    "tp = int | None\n",
    "tp"
   ]
  },
  {
   "cell_type": "code",
   "execution_count": 32,
   "metadata": {
    "execution": {
     "iopub.execute_input": "2023-02-19T03:55:47.233917Z",
     "iopub.status.busy": "2023-02-19T03:55:47.233727Z",
     "iopub.status.idle": "2023-02-19T03:55:47.236868Z",
     "shell.execute_reply": "2023-02-19T03:55:47.236438Z"
    },
    "tags": []
   },
   "outputs": [
    {
     "data": {
      "text/plain": [
       "types.UnionType"
      ]
     },
     "execution_count": 32,
     "metadata": {},
     "output_type": "execute_result"
    }
   ],
   "source": [
    "type(tp)"
   ]
  },
  {
   "cell_type": "code",
   "execution_count": 33,
   "metadata": {
    "execution": {
     "iopub.execute_input": "2023-02-19T03:55:47.238959Z",
     "iopub.status.busy": "2023-02-19T03:55:47.238640Z",
     "iopub.status.idle": "2023-02-19T03:55:47.241897Z",
     "shell.execute_reply": "2023-02-19T03:55:47.241464Z"
    },
    "tags": []
   },
   "outputs": [
    {
     "data": {
      "text/plain": [
       "(types.UnionType, object)"
      ]
     },
     "execution_count": 33,
     "metadata": {},
     "output_type": "execute_result"
    }
   ],
   "source": [
    "type(tp).__mro__"
   ]
  },
  {
   "cell_type": "code",
   "execution_count": 34,
   "metadata": {
    "execution": {
     "iopub.execute_input": "2023-02-19T03:55:47.243789Z",
     "iopub.status.busy": "2023-02-19T03:55:47.243593Z",
     "iopub.status.idle": "2023-02-19T03:55:47.253886Z",
     "shell.execute_reply": "2023-02-19T03:55:47.253402Z"
    },
    "tags": []
   },
   "outputs": [
    {
     "ename": "AttributeError",
     "evalue": "'types.UnionType' object has no attribute '_name'",
     "output_type": "error",
     "traceback": [
      "\u001b[0;31m---------------------------------------------------------------------------\u001b[0m",
      "\u001b[0;31mAttributeError\u001b[0m                            Traceback (most recent call last)",
      "Cell \u001b[0;32mIn[34], line 1\u001b[0m\n\u001b[0;32m----> 1\u001b[0m \u001b[43mtp\u001b[49m\u001b[38;5;241;43m.\u001b[39;49m\u001b[43m_name\u001b[49m\n",
      "\u001b[0;31mAttributeError\u001b[0m: 'types.UnionType' object has no attribute '_name'"
     ]
    }
   ],
   "source": [
    "tp._name"
   ]
  },
  {
   "cell_type": "code",
   "execution_count": 35,
   "metadata": {
    "execution": {
     "iopub.execute_input": "2023-02-19T03:55:47.256031Z",
     "iopub.status.busy": "2023-02-19T03:55:47.255841Z",
     "iopub.status.idle": "2023-02-19T03:55:47.265858Z",
     "shell.execute_reply": "2023-02-19T03:55:47.265383Z"
    },
    "tags": []
   },
   "outputs": [
    {
     "ename": "AttributeError",
     "evalue": "'types.UnionType' object has no attribute '__name__'",
     "output_type": "error",
     "traceback": [
      "\u001b[0;31m---------------------------------------------------------------------------\u001b[0m",
      "\u001b[0;31mAttributeError\u001b[0m                            Traceback (most recent call last)",
      "Cell \u001b[0;32mIn[35], line 1\u001b[0m\n\u001b[0;32m----> 1\u001b[0m \u001b[43mtp\u001b[49m\u001b[38;5;241;43m.\u001b[39;49m\u001b[38;5;18;43m__name__\u001b[39;49m\n",
      "\u001b[0;31mAttributeError\u001b[0m: 'types.UnionType' object has no attribute '__name__'"
     ]
    }
   ],
   "source": [
    "tp.__name__"
   ]
  },
  {
   "cell_type": "code",
   "execution_count": 36,
   "metadata": {
    "execution": {
     "iopub.execute_input": "2023-02-19T03:55:47.267953Z",
     "iopub.status.busy": "2023-02-19T03:55:47.267756Z",
     "iopub.status.idle": "2023-02-19T03:55:47.271706Z",
     "shell.execute_reply": "2023-02-19T03:55:47.271129Z"
    },
    "tags": []
   },
   "outputs": [
    {
     "data": {
      "text/plain": [
       "types.UnionType"
      ]
     },
     "execution_count": 36,
     "metadata": {},
     "output_type": "execute_result"
    }
   ],
   "source": [
    "origin = typing.get_origin(tp)\n",
    "origin"
   ]
  },
  {
   "cell_type": "code",
   "execution_count": 37,
   "metadata": {
    "execution": {
     "iopub.execute_input": "2023-02-19T03:55:47.274090Z",
     "iopub.status.busy": "2023-02-19T03:55:47.273887Z",
     "iopub.status.idle": "2023-02-19T03:55:47.277196Z",
     "shell.execute_reply": "2023-02-19T03:55:47.276725Z"
    },
    "tags": []
   },
   "outputs": [
    {
     "data": {
      "text/plain": [
       "type"
      ]
     },
     "execution_count": 37,
     "metadata": {},
     "output_type": "execute_result"
    }
   ],
   "source": [
    "type(origin)"
   ]
  },
  {
   "cell_type": "code",
   "execution_count": 38,
   "metadata": {
    "execution": {
     "iopub.execute_input": "2023-02-19T03:55:47.279170Z",
     "iopub.status.busy": "2023-02-19T03:55:47.278967Z",
     "iopub.status.idle": "2023-02-19T03:55:47.282817Z",
     "shell.execute_reply": "2023-02-19T03:55:47.282198Z"
    },
    "tags": []
   },
   "outputs": [
    {
     "data": {
      "text/plain": [
       "(type, object)"
      ]
     },
     "execution_count": 38,
     "metadata": {},
     "output_type": "execute_result"
    }
   ],
   "source": [
    "type(origin).__mro__"
   ]
  },
  {
   "cell_type": "code",
   "execution_count": 39,
   "metadata": {
    "execution": {
     "iopub.execute_input": "2023-02-19T03:55:47.284794Z",
     "iopub.status.busy": "2023-02-19T03:55:47.284591Z",
     "iopub.status.idle": "2023-02-19T03:55:47.295671Z",
     "shell.execute_reply": "2023-02-19T03:55:47.295200Z"
    },
    "tags": []
   },
   "outputs": [
    {
     "ename": "AttributeError",
     "evalue": "type object 'types.UnionType' has no attribute '_name'",
     "output_type": "error",
     "traceback": [
      "\u001b[0;31m---------------------------------------------------------------------------\u001b[0m",
      "\u001b[0;31mAttributeError\u001b[0m                            Traceback (most recent call last)",
      "Cell \u001b[0;32mIn[39], line 1\u001b[0m\n\u001b[0;32m----> 1\u001b[0m \u001b[43morigin\u001b[49m\u001b[38;5;241;43m.\u001b[39;49m\u001b[43m_name\u001b[49m\n",
      "\u001b[0;31mAttributeError\u001b[0m: type object 'types.UnionType' has no attribute '_name'"
     ]
    }
   ],
   "source": [
    "origin._name"
   ]
  },
  {
   "cell_type": "code",
   "execution_count": 40,
   "metadata": {
    "execution": {
     "iopub.execute_input": "2023-02-19T03:55:47.298113Z",
     "iopub.status.busy": "2023-02-19T03:55:47.297830Z",
     "iopub.status.idle": "2023-02-19T03:55:47.301313Z",
     "shell.execute_reply": "2023-02-19T03:55:47.300828Z"
    },
    "tags": []
   },
   "outputs": [
    {
     "data": {
      "text/plain": [
       "'UnionType'"
      ]
     },
     "execution_count": 40,
     "metadata": {},
     "output_type": "execute_result"
    }
   ],
   "source": [
    "origin.__name__"
   ]
  },
  {
   "cell_type": "markdown",
   "metadata": {},
   "source": [
    "## Standard Collections"
   ]
  },
  {
   "cell_type": "markdown",
   "metadata": {},
   "source": [
    "### typing Module Aliases"
   ]
  },
  {
   "cell_type": "code",
   "execution_count": 41,
   "metadata": {
    "execution": {
     "iopub.execute_input": "2023-02-19T03:55:47.303525Z",
     "iopub.status.busy": "2023-02-19T03:55:47.303333Z",
     "iopub.status.idle": "2023-02-19T03:55:47.306885Z",
     "shell.execute_reply": "2023-02-19T03:55:47.306420Z"
    }
   },
   "outputs": [
    {
     "data": {
      "text/plain": [
       "typing.List[int]"
      ]
     },
     "execution_count": 41,
     "metadata": {},
     "output_type": "execute_result"
    }
   ],
   "source": [
    "tp = typing.List[int]\n",
    "tp"
   ]
  },
  {
   "cell_type": "code",
   "execution_count": 42,
   "metadata": {
    "execution": {
     "iopub.execute_input": "2023-02-19T03:55:47.308829Z",
     "iopub.status.busy": "2023-02-19T03:55:47.308641Z",
     "iopub.status.idle": "2023-02-19T03:55:47.312400Z",
     "shell.execute_reply": "2023-02-19T03:55:47.311716Z"
    }
   },
   "outputs": [
    {
     "data": {
      "text/plain": [
       "typing._GenericAlias"
      ]
     },
     "execution_count": 42,
     "metadata": {},
     "output_type": "execute_result"
    }
   ],
   "source": [
    "type(tp)"
   ]
  },
  {
   "cell_type": "code",
   "execution_count": 43,
   "metadata": {
    "execution": {
     "iopub.execute_input": "2023-02-19T03:55:47.314953Z",
     "iopub.status.busy": "2023-02-19T03:55:47.314706Z",
     "iopub.status.idle": "2023-02-19T03:55:47.317994Z",
     "shell.execute_reply": "2023-02-19T03:55:47.317558Z"
    }
   },
   "outputs": [
    {
     "data": {
      "text/plain": [
       "(typing._GenericAlias, typing._BaseGenericAlias, typing._Final, object)"
      ]
     },
     "execution_count": 43,
     "metadata": {},
     "output_type": "execute_result"
    }
   ],
   "source": [
    "type(tp).__mro__"
   ]
  },
  {
   "cell_type": "code",
   "execution_count": 44,
   "metadata": {
    "execution": {
     "iopub.execute_input": "2023-02-19T03:55:47.319968Z",
     "iopub.status.busy": "2023-02-19T03:55:47.319763Z",
     "iopub.status.idle": "2023-02-19T03:55:47.322908Z",
     "shell.execute_reply": "2023-02-19T03:55:47.322480Z"
    }
   },
   "outputs": [
    {
     "data": {
      "text/plain": [
       "'List'"
      ]
     },
     "execution_count": 44,
     "metadata": {},
     "output_type": "execute_result"
    }
   ],
   "source": [
    "tp._name"
   ]
  },
  {
   "cell_type": "code",
   "execution_count": 45,
   "metadata": {
    "execution": {
     "iopub.execute_input": "2023-02-19T03:55:47.324876Z",
     "iopub.status.busy": "2023-02-19T03:55:47.324557Z",
     "iopub.status.idle": "2023-02-19T03:55:47.328335Z",
     "shell.execute_reply": "2023-02-19T03:55:47.327878Z"
    },
    "tags": []
   },
   "outputs": [
    {
     "data": {
      "text/plain": [
       "'List'"
      ]
     },
     "execution_count": 45,
     "metadata": {},
     "output_type": "execute_result"
    }
   ],
   "source": [
    "tp.__name__"
   ]
  },
  {
   "cell_type": "code",
   "execution_count": 46,
   "metadata": {
    "execution": {
     "iopub.execute_input": "2023-02-19T03:55:47.330404Z",
     "iopub.status.busy": "2023-02-19T03:55:47.330196Z",
     "iopub.status.idle": "2023-02-19T03:55:47.333751Z",
     "shell.execute_reply": "2023-02-19T03:55:47.333277Z"
    }
   },
   "outputs": [
    {
     "data": {
      "text/plain": [
       "list"
      ]
     },
     "execution_count": 46,
     "metadata": {},
     "output_type": "execute_result"
    }
   ],
   "source": [
    "origin = typing.get_origin(tp)\n",
    "origin"
   ]
  },
  {
   "cell_type": "code",
   "execution_count": 47,
   "metadata": {
    "execution": {
     "iopub.execute_input": "2023-02-19T03:55:47.335765Z",
     "iopub.status.busy": "2023-02-19T03:55:47.335538Z",
     "iopub.status.idle": "2023-02-19T03:55:47.339033Z",
     "shell.execute_reply": "2023-02-19T03:55:47.338612Z"
    }
   },
   "outputs": [
    {
     "data": {
      "text/plain": [
       "type"
      ]
     },
     "execution_count": 47,
     "metadata": {},
     "output_type": "execute_result"
    }
   ],
   "source": [
    "type(origin)"
   ]
  },
  {
   "cell_type": "code",
   "execution_count": 48,
   "metadata": {
    "execution": {
     "iopub.execute_input": "2023-02-19T03:55:47.340990Z",
     "iopub.status.busy": "2023-02-19T03:55:47.340769Z",
     "iopub.status.idle": "2023-02-19T03:55:47.344322Z",
     "shell.execute_reply": "2023-02-19T03:55:47.343897Z"
    }
   },
   "outputs": [
    {
     "data": {
      "text/plain": [
       "tuple"
      ]
     },
     "execution_count": 48,
     "metadata": {},
     "output_type": "execute_result"
    }
   ],
   "source": [
    "type(origin.__mro__)"
   ]
  },
  {
   "cell_type": "code",
   "execution_count": 49,
   "metadata": {
    "execution": {
     "iopub.execute_input": "2023-02-19T03:55:47.346483Z",
     "iopub.status.busy": "2023-02-19T03:55:47.346241Z",
     "iopub.status.idle": "2023-02-19T03:55:47.357021Z",
     "shell.execute_reply": "2023-02-19T03:55:47.356437Z"
    },
    "tags": []
   },
   "outputs": [
    {
     "ename": "AttributeError",
     "evalue": "type object 'list' has no attribute '_name'",
     "output_type": "error",
     "traceback": [
      "\u001b[0;31m---------------------------------------------------------------------------\u001b[0m",
      "\u001b[0;31mAttributeError\u001b[0m                            Traceback (most recent call last)",
      "Cell \u001b[0;32mIn[49], line 1\u001b[0m\n\u001b[0;32m----> 1\u001b[0m \u001b[43morigin\u001b[49m\u001b[38;5;241;43m.\u001b[39;49m\u001b[43m_name\u001b[49m\n",
      "\u001b[0;31mAttributeError\u001b[0m: type object 'list' has no attribute '_name'"
     ]
    }
   ],
   "source": [
    "origin._name"
   ]
  },
  {
   "cell_type": "code",
   "execution_count": 50,
   "metadata": {
    "execution": {
     "iopub.execute_input": "2023-02-19T03:55:47.359605Z",
     "iopub.status.busy": "2023-02-19T03:55:47.359227Z",
     "iopub.status.idle": "2023-02-19T03:55:47.362982Z",
     "shell.execute_reply": "2023-02-19T03:55:47.362524Z"
    },
    "tags": []
   },
   "outputs": [
    {
     "data": {
      "text/plain": [
       "'list'"
      ]
     },
     "execution_count": 50,
     "metadata": {},
     "output_type": "execute_result"
    }
   ],
   "source": [
    "origin.__name__"
   ]
  },
  {
   "cell_type": "markdown",
   "metadata": {},
   "source": [
    "### Standard Collection Aliases"
   ]
  },
  {
   "cell_type": "code",
   "execution_count": 51,
   "metadata": {
    "execution": {
     "iopub.execute_input": "2023-02-19T03:55:47.365162Z",
     "iopub.status.busy": "2023-02-19T03:55:47.364954Z",
     "iopub.status.idle": "2023-02-19T03:55:47.368197Z",
     "shell.execute_reply": "2023-02-19T03:55:47.367760Z"
    },
    "tags": []
   },
   "outputs": [
    {
     "data": {
      "text/plain": [
       "list[int]"
      ]
     },
     "execution_count": 51,
     "metadata": {},
     "output_type": "execute_result"
    }
   ],
   "source": [
    "tp = list[int]\n",
    "tp"
   ]
  },
  {
   "cell_type": "code",
   "execution_count": 52,
   "metadata": {
    "execution": {
     "iopub.execute_input": "2023-02-19T03:55:47.370152Z",
     "iopub.status.busy": "2023-02-19T03:55:47.369951Z",
     "iopub.status.idle": "2023-02-19T03:55:47.373151Z",
     "shell.execute_reply": "2023-02-19T03:55:47.372704Z"
    },
    "tags": []
   },
   "outputs": [
    {
     "data": {
      "text/plain": [
       "types.GenericAlias"
      ]
     },
     "execution_count": 52,
     "metadata": {},
     "output_type": "execute_result"
    }
   ],
   "source": [
    "type(tp)"
   ]
  },
  {
   "cell_type": "code",
   "execution_count": 53,
   "metadata": {
    "execution": {
     "iopub.execute_input": "2023-02-19T03:55:47.375115Z",
     "iopub.status.busy": "2023-02-19T03:55:47.374912Z",
     "iopub.status.idle": "2023-02-19T03:55:47.378144Z",
     "shell.execute_reply": "2023-02-19T03:55:47.377701Z"
    },
    "tags": []
   },
   "outputs": [
    {
     "data": {
      "text/plain": [
       "(types.GenericAlias, object)"
      ]
     },
     "execution_count": 53,
     "metadata": {},
     "output_type": "execute_result"
    }
   ],
   "source": [
    "type(tp).__mro__"
   ]
  },
  {
   "cell_type": "code",
   "execution_count": 54,
   "metadata": {
    "execution": {
     "iopub.execute_input": "2023-02-19T03:55:47.380101Z",
     "iopub.status.busy": "2023-02-19T03:55:47.379898Z",
     "iopub.status.idle": "2023-02-19T03:55:47.390626Z",
     "shell.execute_reply": "2023-02-19T03:55:47.390142Z"
    },
    "tags": []
   },
   "outputs": [
    {
     "ename": "AttributeError",
     "evalue": "type object 'list' has no attribute '_name'",
     "output_type": "error",
     "traceback": [
      "\u001b[0;31m---------------------------------------------------------------------------\u001b[0m",
      "\u001b[0;31mAttributeError\u001b[0m                            Traceback (most recent call last)",
      "Cell \u001b[0;32mIn[54], line 1\u001b[0m\n\u001b[0;32m----> 1\u001b[0m \u001b[43mtp\u001b[49m\u001b[38;5;241;43m.\u001b[39;49m\u001b[43m_name\u001b[49m\n",
      "\u001b[0;31mAttributeError\u001b[0m: type object 'list' has no attribute '_name'"
     ]
    }
   ],
   "source": [
    "tp._name"
   ]
  },
  {
   "cell_type": "code",
   "execution_count": 55,
   "metadata": {
    "execution": {
     "iopub.execute_input": "2023-02-19T03:55:47.392673Z",
     "iopub.status.busy": "2023-02-19T03:55:47.392464Z",
     "iopub.status.idle": "2023-02-19T03:55:47.395709Z",
     "shell.execute_reply": "2023-02-19T03:55:47.395254Z"
    },
    "tags": []
   },
   "outputs": [
    {
     "data": {
      "text/plain": [
       "'list'"
      ]
     },
     "execution_count": 55,
     "metadata": {},
     "output_type": "execute_result"
    }
   ],
   "source": [
    "tp.__name__"
   ]
  },
  {
   "cell_type": "code",
   "execution_count": 56,
   "metadata": {
    "execution": {
     "iopub.execute_input": "2023-02-19T03:55:47.397907Z",
     "iopub.status.busy": "2023-02-19T03:55:47.397551Z",
     "iopub.status.idle": "2023-02-19T03:55:47.401019Z",
     "shell.execute_reply": "2023-02-19T03:55:47.400429Z"
    },
    "tags": []
   },
   "outputs": [
    {
     "data": {
      "text/plain": [
       "list"
      ]
     },
     "execution_count": 56,
     "metadata": {},
     "output_type": "execute_result"
    }
   ],
   "source": [
    "origin = typing.get_origin(tp)\n",
    "origin"
   ]
  },
  {
   "cell_type": "code",
   "execution_count": 57,
   "metadata": {
    "execution": {
     "iopub.execute_input": "2023-02-19T03:55:47.403173Z",
     "iopub.status.busy": "2023-02-19T03:55:47.402953Z",
     "iopub.status.idle": "2023-02-19T03:55:47.406257Z",
     "shell.execute_reply": "2023-02-19T03:55:47.405815Z"
    },
    "tags": []
   },
   "outputs": [
    {
     "data": {
      "text/plain": [
       "type"
      ]
     },
     "execution_count": 57,
     "metadata": {},
     "output_type": "execute_result"
    }
   ],
   "source": [
    "type(origin)"
   ]
  },
  {
   "cell_type": "code",
   "execution_count": 58,
   "metadata": {
    "execution": {
     "iopub.execute_input": "2023-02-19T03:55:47.408322Z",
     "iopub.status.busy": "2023-02-19T03:55:47.407995Z",
     "iopub.status.idle": "2023-02-19T03:55:47.411343Z",
     "shell.execute_reply": "2023-02-19T03:55:47.410912Z"
    },
    "tags": []
   },
   "outputs": [
    {
     "data": {
      "text/plain": [
       "(type, object)"
      ]
     },
     "execution_count": 58,
     "metadata": {},
     "output_type": "execute_result"
    }
   ],
   "source": [
    "type(origin).__mro__"
   ]
  },
  {
   "cell_type": "code",
   "execution_count": 59,
   "metadata": {
    "execution": {
     "iopub.execute_input": "2023-02-19T03:55:47.413253Z",
     "iopub.status.busy": "2023-02-19T03:55:47.413065Z",
     "iopub.status.idle": "2023-02-19T03:55:47.448543Z",
     "shell.execute_reply": "2023-02-19T03:55:47.447835Z"
    },
    "tags": []
   },
   "outputs": [
    {
     "ename": "AttributeError",
     "evalue": "type object 'list' has no attribute '_name'",
     "output_type": "error",
     "traceback": [
      "\u001b[0;31m---------------------------------------------------------------------------\u001b[0m",
      "\u001b[0;31mAttributeError\u001b[0m                            Traceback (most recent call last)",
      "Cell \u001b[0;32mIn[59], line 1\u001b[0m\n\u001b[0;32m----> 1\u001b[0m \u001b[43morigin\u001b[49m\u001b[38;5;241;43m.\u001b[39;49m\u001b[43m_name\u001b[49m\n",
      "\u001b[0;31mAttributeError\u001b[0m: type object 'list' has no attribute '_name'"
     ]
    }
   ],
   "source": [
    "origin._name"
   ]
  },
  {
   "cell_type": "code",
   "execution_count": 60,
   "metadata": {
    "execution": {
     "iopub.execute_input": "2023-02-19T03:55:47.451519Z",
     "iopub.status.busy": "2023-02-19T03:55:47.451232Z",
     "iopub.status.idle": "2023-02-19T03:55:47.455668Z",
     "shell.execute_reply": "2023-02-19T03:55:47.455014Z"
    },
    "tags": []
   },
   "outputs": [
    {
     "data": {
      "text/plain": [
       "'list'"
      ]
     },
     "execution_count": 60,
     "metadata": {},
     "output_type": "execute_result"
    }
   ],
   "source": [
    "origin.__name__"
   ]
  },
  {
   "cell_type": "code",
   "execution_count": null,
   "metadata": {},
   "outputs": [],
   "source": []
  }
 ],
 "metadata": {
  "kernelspec": {
   "display_name": "Python 3 (ipykernel)",
   "language": "python",
   "name": "python3"
  },
  "language_info": {
   "codemirror_mode": {
    "name": "ipython",
    "version": 3
   },
   "file_extension": ".py",
   "mimetype": "text/x-python",
   "name": "python",
   "nbconvert_exporter": "python",
   "pygments_lexer": "ipython3",
   "version": "3.10.9"
  },
  "vscode": {
   "interpreter": {
    "hash": "80942b1bde6a4b6b83cda378767221fd5d0b42ef189a887432315083c1f66fc8"
   }
  }
 },
 "nbformat": 4,
 "nbformat_minor": 4
}
