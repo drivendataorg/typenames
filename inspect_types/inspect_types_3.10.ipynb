{
 "cells": [
  {
   "cell_type": "code",
   "execution_count": 1,
   "metadata": {
    "execution": {
     "iopub.execute_input": "2023-02-19T18:47:47.495289Z",
     "iopub.status.busy": "2023-02-19T18:47:47.494957Z",
     "iopub.status.idle": "2023-02-19T18:47:47.503147Z",
     "shell.execute_reply": "2023-02-19T18:47:47.502489Z"
    }
   },
   "outputs": [],
   "source": [
    "import sys\n",
    "import typing"
   ]
  },
  {
   "cell_type": "code",
   "execution_count": 2,
   "metadata": {
    "execution": {
     "iopub.execute_input": "2023-02-19T18:47:47.505863Z",
     "iopub.status.busy": "2023-02-19T18:47:47.505579Z",
     "iopub.status.idle": "2023-02-19T18:47:47.512227Z",
     "shell.execute_reply": "2023-02-19T18:47:47.511589Z"
    }
   },
   "outputs": [
    {
     "data": {
      "text/plain": [
       "'3.10.9 | packaged by conda-forge | (main, Feb  2 2023, 20:24:27) [Clang 14.0.6 ]'"
      ]
     },
     "execution_count": 2,
     "metadata": {},
     "output_type": "execute_result"
    }
   ],
   "source": [
    "sys.version"
   ]
  },
  {
   "cell_type": "markdown",
   "metadata": {},
   "source": [
    "## Union"
   ]
  },
  {
   "cell_type": "markdown",
   "metadata": {},
   "source": [
    "### typing.Union (Generic Alias)"
   ]
  },
  {
   "cell_type": "code",
   "execution_count": 3,
   "metadata": {
    "execution": {
     "iopub.execute_input": "2023-02-19T18:47:47.551077Z",
     "iopub.status.busy": "2023-02-19T18:47:47.550794Z",
     "iopub.status.idle": "2023-02-19T18:47:47.555050Z",
     "shell.execute_reply": "2023-02-19T18:47:47.554409Z"
    }
   },
   "outputs": [
    {
     "data": {
      "text/plain": [
       "typing.Union[int, str]"
      ]
     },
     "execution_count": 3,
     "metadata": {},
     "output_type": "execute_result"
    }
   ],
   "source": [
    "tp_union = typing.Union[int, str]\n",
    "tp_union"
   ]
  },
  {
   "cell_type": "code",
   "execution_count": 4,
   "metadata": {
    "execution": {
     "iopub.execute_input": "2023-02-19T18:47:47.557457Z",
     "iopub.status.busy": "2023-02-19T18:47:47.557218Z",
     "iopub.status.idle": "2023-02-19T18:47:47.561025Z",
     "shell.execute_reply": "2023-02-19T18:47:47.560354Z"
    }
   },
   "outputs": [
    {
     "data": {
      "text/plain": [
       "typing._UnionGenericAlias"
      ]
     },
     "execution_count": 4,
     "metadata": {},
     "output_type": "execute_result"
    }
   ],
   "source": [
    "type(tp_union)"
   ]
  },
  {
   "cell_type": "code",
   "execution_count": 5,
   "metadata": {
    "execution": {
     "iopub.execute_input": "2023-02-19T18:47:47.563240Z",
     "iopub.status.busy": "2023-02-19T18:47:47.563027Z",
     "iopub.status.idle": "2023-02-19T18:47:47.566879Z",
     "shell.execute_reply": "2023-02-19T18:47:47.566344Z"
    }
   },
   "outputs": [
    {
     "data": {
      "text/plain": [
       "(typing._UnionGenericAlias,\n",
       " typing._GenericAlias,\n",
       " typing._BaseGenericAlias,\n",
       " typing._Final,\n",
       " object)"
      ]
     },
     "execution_count": 5,
     "metadata": {},
     "output_type": "execute_result"
    }
   ],
   "source": [
    "type(tp_union).__mro__"
   ]
  },
  {
   "cell_type": "code",
   "execution_count": 6,
   "metadata": {
    "execution": {
     "iopub.execute_input": "2023-02-19T18:47:47.568888Z",
     "iopub.status.busy": "2023-02-19T18:47:47.568689Z",
     "iopub.status.idle": "2023-02-19T18:47:47.571159Z",
     "shell.execute_reply": "2023-02-19T18:47:47.570657Z"
    }
   },
   "outputs": [],
   "source": [
    "tp_union._name"
   ]
  },
  {
   "cell_type": "code",
   "execution_count": 7,
   "metadata": {
    "execution": {
     "iopub.execute_input": "2023-02-19T18:47:47.573106Z",
     "iopub.status.busy": "2023-02-19T18:47:47.572923Z",
     "iopub.status.idle": "2023-02-19T18:47:47.575996Z",
     "shell.execute_reply": "2023-02-19T18:47:47.575566Z"
    }
   },
   "outputs": [
    {
     "data": {
      "text/plain": [
       "'Union'"
      ]
     },
     "execution_count": 7,
     "metadata": {},
     "output_type": "execute_result"
    }
   ],
   "source": [
    "tp_union.__name__"
   ]
  },
  {
   "cell_type": "code",
   "execution_count": 8,
   "metadata": {
    "execution": {
     "iopub.execute_input": "2023-02-19T18:47:47.577813Z",
     "iopub.status.busy": "2023-02-19T18:47:47.577646Z",
     "iopub.status.idle": "2023-02-19T18:47:47.580765Z",
     "shell.execute_reply": "2023-02-19T18:47:47.580338Z"
    }
   },
   "outputs": [
    {
     "data": {
      "text/plain": [
       "typing.Union"
      ]
     },
     "execution_count": 8,
     "metadata": {},
     "output_type": "execute_result"
    }
   ],
   "source": [
    "origin_union = typing.get_origin(tp_union)\n",
    "origin_union"
   ]
  },
  {
   "cell_type": "code",
   "execution_count": 9,
   "metadata": {
    "execution": {
     "iopub.execute_input": "2023-02-19T18:47:47.582553Z",
     "iopub.status.busy": "2023-02-19T18:47:47.582370Z",
     "iopub.status.idle": "2023-02-19T18:47:47.585611Z",
     "shell.execute_reply": "2023-02-19T18:47:47.585193Z"
    }
   },
   "outputs": [
    {
     "data": {
      "text/plain": [
       "typing._SpecialForm"
      ]
     },
     "execution_count": 9,
     "metadata": {},
     "output_type": "execute_result"
    }
   ],
   "source": [
    "type(origin_union)"
   ]
  },
  {
   "cell_type": "code",
   "execution_count": 10,
   "metadata": {
    "execution": {
     "iopub.execute_input": "2023-02-19T18:47:47.587571Z",
     "iopub.status.busy": "2023-02-19T18:47:47.587389Z",
     "iopub.status.idle": "2023-02-19T18:47:47.590666Z",
     "shell.execute_reply": "2023-02-19T18:47:47.590241Z"
    }
   },
   "outputs": [
    {
     "data": {
      "text/plain": [
       "(typing._SpecialForm, typing._Final, object)"
      ]
     },
     "execution_count": 10,
     "metadata": {},
     "output_type": "execute_result"
    }
   ],
   "source": [
    "type(origin_union).__mro__"
   ]
  },
  {
   "cell_type": "code",
   "execution_count": 11,
   "metadata": {
    "execution": {
     "iopub.execute_input": "2023-02-19T18:47:47.592470Z",
     "iopub.status.busy": "2023-02-19T18:47:47.592293Z",
     "iopub.status.idle": "2023-02-19T18:47:47.595419Z",
     "shell.execute_reply": "2023-02-19T18:47:47.594995Z"
    }
   },
   "outputs": [
    {
     "data": {
      "text/plain": [
       "'Union'"
      ]
     },
     "execution_count": 11,
     "metadata": {},
     "output_type": "execute_result"
    }
   ],
   "source": [
    "origin_union._name"
   ]
  },
  {
   "cell_type": "code",
   "execution_count": 12,
   "metadata": {
    "execution": {
     "iopub.execute_input": "2023-02-19T18:47:47.597305Z",
     "iopub.status.busy": "2023-02-19T18:47:47.597132Z",
     "iopub.status.idle": "2023-02-19T18:47:47.600292Z",
     "shell.execute_reply": "2023-02-19T18:47:47.599846Z"
    }
   },
   "outputs": [
    {
     "data": {
      "text/plain": [
       "'Union'"
      ]
     },
     "execution_count": 12,
     "metadata": {},
     "output_type": "execute_result"
    }
   ],
   "source": [
    "origin_union.__name__"
   ]
  },
  {
   "cell_type": "markdown",
   "metadata": {},
   "source": [
    "### | (bitwise or) operator"
   ]
  },
  {
   "cell_type": "code",
   "execution_count": 13,
   "metadata": {
    "execution": {
     "iopub.execute_input": "2023-02-19T18:47:47.602501Z",
     "iopub.status.busy": "2023-02-19T18:47:47.602273Z",
     "iopub.status.idle": "2023-02-19T18:47:47.605585Z",
     "shell.execute_reply": "2023-02-19T18:47:47.605146Z"
    },
    "tags": []
   },
   "outputs": [
    {
     "data": {
      "text/plain": [
       "int | str"
      ]
     },
     "execution_count": 13,
     "metadata": {},
     "output_type": "execute_result"
    }
   ],
   "source": [
    "tp_or = int | str\n",
    "tp_or"
   ]
  },
  {
   "cell_type": "code",
   "execution_count": 14,
   "metadata": {
    "execution": {
     "iopub.execute_input": "2023-02-19T18:47:47.607607Z",
     "iopub.status.busy": "2023-02-19T18:47:47.607421Z",
     "iopub.status.idle": "2023-02-19T18:47:47.610521Z",
     "shell.execute_reply": "2023-02-19T18:47:47.610084Z"
    },
    "tags": []
   },
   "outputs": [
    {
     "data": {
      "text/plain": [
       "types.UnionType"
      ]
     },
     "execution_count": 14,
     "metadata": {},
     "output_type": "execute_result"
    }
   ],
   "source": [
    "type(tp_or)"
   ]
  },
  {
   "cell_type": "code",
   "execution_count": 15,
   "metadata": {
    "execution": {
     "iopub.execute_input": "2023-02-19T18:47:47.612433Z",
     "iopub.status.busy": "2023-02-19T18:47:47.612252Z",
     "iopub.status.idle": "2023-02-19T18:47:47.615467Z",
     "shell.execute_reply": "2023-02-19T18:47:47.615022Z"
    },
    "tags": []
   },
   "outputs": [
    {
     "data": {
      "text/plain": [
       "(types.UnionType, object)"
      ]
     },
     "execution_count": 15,
     "metadata": {},
     "output_type": "execute_result"
    }
   ],
   "source": [
    "type(tp_or).__mro__"
   ]
  },
  {
   "cell_type": "code",
   "execution_count": 16,
   "metadata": {
    "execution": {
     "iopub.execute_input": "2023-02-19T18:47:47.617324Z",
     "iopub.status.busy": "2023-02-19T18:47:47.617139Z",
     "iopub.status.idle": "2023-02-19T18:47:47.620353Z",
     "shell.execute_reply": "2023-02-19T18:47:47.619925Z"
    },
    "tags": []
   },
   "outputs": [
    {
     "data": {
      "text/plain": [
       "types.UnionType"
      ]
     },
     "execution_count": 16,
     "metadata": {},
     "output_type": "execute_result"
    }
   ],
   "source": [
    "origin_or = typing.get_origin(tp_or)\n",
    "origin_or"
   ]
  },
  {
   "cell_type": "code",
   "execution_count": 17,
   "metadata": {
    "execution": {
     "iopub.execute_input": "2023-02-19T18:47:47.622326Z",
     "iopub.status.busy": "2023-02-19T18:47:47.622151Z",
     "iopub.status.idle": "2023-02-19T18:47:47.625342Z",
     "shell.execute_reply": "2023-02-19T18:47:47.624911Z"
    },
    "tags": []
   },
   "outputs": [
    {
     "data": {
      "text/plain": [
       "type"
      ]
     },
     "execution_count": 17,
     "metadata": {},
     "output_type": "execute_result"
    }
   ],
   "source": [
    "type(origin_or)"
   ]
  },
  {
   "cell_type": "code",
   "execution_count": 18,
   "metadata": {
    "execution": {
     "iopub.execute_input": "2023-02-19T18:47:47.627174Z",
     "iopub.status.busy": "2023-02-19T18:47:47.627002Z",
     "iopub.status.idle": "2023-02-19T18:47:47.630141Z",
     "shell.execute_reply": "2023-02-19T18:47:47.629706Z"
    },
    "tags": []
   },
   "outputs": [
    {
     "data": {
      "text/plain": [
       "(type, object)"
      ]
     },
     "execution_count": 18,
     "metadata": {},
     "output_type": "execute_result"
    }
   ],
   "source": [
    "type(origin_or).__mro__"
   ]
  },
  {
   "cell_type": "code",
   "execution_count": 19,
   "metadata": {
    "execution": {
     "iopub.execute_input": "2023-02-19T18:47:47.632112Z",
     "iopub.status.busy": "2023-02-19T18:47:47.631928Z",
     "iopub.status.idle": "2023-02-19T18:47:47.747366Z",
     "shell.execute_reply": "2023-02-19T18:47:47.746691Z"
    },
    "tags": []
   },
   "outputs": [
    {
     "ename": "AttributeError",
     "evalue": "type object 'types.UnionType' has no attribute '_name'",
     "output_type": "error",
     "traceback": [
      "\u001b[0;31m---------------------------------------------------------------------------\u001b[0m",
      "\u001b[0;31mAttributeError\u001b[0m                            Traceback (most recent call last)",
      "Cell \u001b[0;32mIn[19], line 1\u001b[0m\n\u001b[0;32m----> 1\u001b[0m \u001b[43morigin_or\u001b[49m\u001b[38;5;241;43m.\u001b[39;49m\u001b[43m_name\u001b[49m\n",
      "\u001b[0;31mAttributeError\u001b[0m: type object 'types.UnionType' has no attribute '_name'"
     ]
    }
   ],
   "source": [
    "origin_or._name"
   ]
  },
  {
   "cell_type": "code",
   "execution_count": 20,
   "metadata": {
    "execution": {
     "iopub.execute_input": "2023-02-19T18:47:47.749839Z",
     "iopub.status.busy": "2023-02-19T18:47:47.749616Z",
     "iopub.status.idle": "2023-02-19T18:47:47.753253Z",
     "shell.execute_reply": "2023-02-19T18:47:47.752820Z"
    },
    "tags": []
   },
   "outputs": [
    {
     "data": {
      "text/plain": [
       "'UnionType'"
      ]
     },
     "execution_count": 20,
     "metadata": {},
     "output_type": "execute_result"
    }
   ],
   "source": [
    "origin_or.__name__"
   ]
  },
  {
   "cell_type": "markdown",
   "metadata": {},
   "source": [
    "## Optional"
   ]
  },
  {
   "cell_type": "markdown",
   "metadata": {},
   "source": [
    "### typing.Optional (Generic Alias)"
   ]
  },
  {
   "cell_type": "code",
   "execution_count": 21,
   "metadata": {
    "execution": {
     "iopub.execute_input": "2023-02-19T18:47:47.755621Z",
     "iopub.status.busy": "2023-02-19T18:47:47.755375Z",
     "iopub.status.idle": "2023-02-19T18:47:47.759180Z",
     "shell.execute_reply": "2023-02-19T18:47:47.758686Z"
    }
   },
   "outputs": [
    {
     "data": {
      "text/plain": [
       "typing.Optional[int]"
      ]
     },
     "execution_count": 21,
     "metadata": {},
     "output_type": "execute_result"
    }
   ],
   "source": [
    "tp_optional = typing.Optional[int]\n",
    "tp_optional"
   ]
  },
  {
   "cell_type": "code",
   "execution_count": 22,
   "metadata": {
    "execution": {
     "iopub.execute_input": "2023-02-19T18:47:47.761075Z",
     "iopub.status.busy": "2023-02-19T18:47:47.760892Z",
     "iopub.status.idle": "2023-02-19T18:47:47.764066Z",
     "shell.execute_reply": "2023-02-19T18:47:47.763639Z"
    }
   },
   "outputs": [
    {
     "data": {
      "text/plain": [
       "typing._UnionGenericAlias"
      ]
     },
     "execution_count": 22,
     "metadata": {},
     "output_type": "execute_result"
    }
   ],
   "source": [
    "type(tp_optional)"
   ]
  },
  {
   "cell_type": "code",
   "execution_count": 23,
   "metadata": {
    "execution": {
     "iopub.execute_input": "2023-02-19T18:47:47.766093Z",
     "iopub.status.busy": "2023-02-19T18:47:47.765873Z",
     "iopub.status.idle": "2023-02-19T18:47:47.769125Z",
     "shell.execute_reply": "2023-02-19T18:47:47.768695Z"
    }
   },
   "outputs": [
    {
     "data": {
      "text/plain": [
       "(typing._UnionGenericAlias,\n",
       " typing._GenericAlias,\n",
       " typing._BaseGenericAlias,\n",
       " typing._Final,\n",
       " object)"
      ]
     },
     "execution_count": 23,
     "metadata": {},
     "output_type": "execute_result"
    }
   ],
   "source": [
    "type(tp_optional).__mro__"
   ]
  },
  {
   "cell_type": "code",
   "execution_count": 24,
   "metadata": {
    "execution": {
     "iopub.execute_input": "2023-02-19T18:47:47.770998Z",
     "iopub.status.busy": "2023-02-19T18:47:47.770816Z",
     "iopub.status.idle": "2023-02-19T18:47:47.774007Z",
     "shell.execute_reply": "2023-02-19T18:47:47.773587Z"
    },
    "tags": []
   },
   "outputs": [
    {
     "data": {
      "text/plain": [
       "'Optional'"
      ]
     },
     "execution_count": 24,
     "metadata": {},
     "output_type": "execute_result"
    }
   ],
   "source": [
    "tp_optional._name"
   ]
  },
  {
   "cell_type": "code",
   "execution_count": 25,
   "metadata": {
    "execution": {
     "iopub.execute_input": "2023-02-19T18:47:47.775885Z",
     "iopub.status.busy": "2023-02-19T18:47:47.775699Z",
     "iopub.status.idle": "2023-02-19T18:47:47.778942Z",
     "shell.execute_reply": "2023-02-19T18:47:47.778487Z"
    },
    "tags": []
   },
   "outputs": [
    {
     "data": {
      "text/plain": [
       "'Optional'"
      ]
     },
     "execution_count": 25,
     "metadata": {},
     "output_type": "execute_result"
    }
   ],
   "source": [
    "tp_optional.__name__"
   ]
  },
  {
   "cell_type": "code",
   "execution_count": 26,
   "metadata": {
    "execution": {
     "iopub.execute_input": "2023-02-19T18:47:47.780818Z",
     "iopub.status.busy": "2023-02-19T18:47:47.780641Z",
     "iopub.status.idle": "2023-02-19T18:47:47.783827Z",
     "shell.execute_reply": "2023-02-19T18:47:47.783403Z"
    }
   },
   "outputs": [
    {
     "data": {
      "text/plain": [
       "typing.Union"
      ]
     },
     "execution_count": 26,
     "metadata": {},
     "output_type": "execute_result"
    }
   ],
   "source": [
    "origin_optional = typing.get_origin(tp_optional)\n",
    "origin_optional"
   ]
  },
  {
   "cell_type": "code",
   "execution_count": 27,
   "metadata": {
    "execution": {
     "iopub.execute_input": "2023-02-19T18:47:47.785773Z",
     "iopub.status.busy": "2023-02-19T18:47:47.785594Z",
     "iopub.status.idle": "2023-02-19T18:47:47.789022Z",
     "shell.execute_reply": "2023-02-19T18:47:47.788583Z"
    }
   },
   "outputs": [
    {
     "data": {
      "text/plain": [
       "typing._SpecialForm"
      ]
     },
     "execution_count": 27,
     "metadata": {},
     "output_type": "execute_result"
    }
   ],
   "source": [
    "type(origin_optional)"
   ]
  },
  {
   "cell_type": "code",
   "execution_count": 28,
   "metadata": {
    "execution": {
     "iopub.execute_input": "2023-02-19T18:47:47.790874Z",
     "iopub.status.busy": "2023-02-19T18:47:47.790690Z",
     "iopub.status.idle": "2023-02-19T18:47:47.793933Z",
     "shell.execute_reply": "2023-02-19T18:47:47.793468Z"
    }
   },
   "outputs": [
    {
     "data": {
      "text/plain": [
       "(typing._SpecialForm, typing._Final, object)"
      ]
     },
     "execution_count": 28,
     "metadata": {},
     "output_type": "execute_result"
    }
   ],
   "source": [
    "type(origin_optional).__mro__"
   ]
  },
  {
   "cell_type": "code",
   "execution_count": 29,
   "metadata": {
    "execution": {
     "iopub.execute_input": "2023-02-19T18:47:47.795782Z",
     "iopub.status.busy": "2023-02-19T18:47:47.795597Z",
     "iopub.status.idle": "2023-02-19T18:47:47.798800Z",
     "shell.execute_reply": "2023-02-19T18:47:47.798214Z"
    },
    "tags": []
   },
   "outputs": [
    {
     "data": {
      "text/plain": [
       "'Union'"
      ]
     },
     "execution_count": 29,
     "metadata": {},
     "output_type": "execute_result"
    }
   ],
   "source": [
    "origin_optional._name"
   ]
  },
  {
   "cell_type": "code",
   "execution_count": 30,
   "metadata": {
    "execution": {
     "iopub.execute_input": "2023-02-19T18:47:47.800640Z",
     "iopub.status.busy": "2023-02-19T18:47:47.800454Z",
     "iopub.status.idle": "2023-02-19T18:47:47.803898Z",
     "shell.execute_reply": "2023-02-19T18:47:47.803452Z"
    },
    "tags": []
   },
   "outputs": [
    {
     "data": {
      "text/plain": [
       "'Union'"
      ]
     },
     "execution_count": 30,
     "metadata": {},
     "output_type": "execute_result"
    }
   ],
   "source": [
    "origin_optional.__name__"
   ]
  },
  {
   "cell_type": "markdown",
   "metadata": {},
   "source": [
    "### | (bitwise or) Operator"
   ]
  },
  {
   "cell_type": "code",
   "execution_count": 31,
   "metadata": {
    "execution": {
     "iopub.execute_input": "2023-02-19T18:47:47.805842Z",
     "iopub.status.busy": "2023-02-19T18:47:47.805651Z",
     "iopub.status.idle": "2023-02-19T18:47:47.808843Z",
     "shell.execute_reply": "2023-02-19T18:47:47.808418Z"
    },
    "tags": []
   },
   "outputs": [
    {
     "data": {
      "text/plain": [
       "int | None"
      ]
     },
     "execution_count": 31,
     "metadata": {},
     "output_type": "execute_result"
    }
   ],
   "source": [
    "tp_or_none = int | None\n",
    "tp_or_none"
   ]
  },
  {
   "cell_type": "code",
   "execution_count": 32,
   "metadata": {
    "execution": {
     "iopub.execute_input": "2023-02-19T18:47:47.810696Z",
     "iopub.status.busy": "2023-02-19T18:47:47.810511Z",
     "iopub.status.idle": "2023-02-19T18:47:47.813705Z",
     "shell.execute_reply": "2023-02-19T18:47:47.813262Z"
    },
    "tags": []
   },
   "outputs": [
    {
     "data": {
      "text/plain": [
       "types.UnionType"
      ]
     },
     "execution_count": 32,
     "metadata": {},
     "output_type": "execute_result"
    }
   ],
   "source": [
    "type(tp_or_none)"
   ]
  },
  {
   "cell_type": "code",
   "execution_count": 33,
   "metadata": {
    "execution": {
     "iopub.execute_input": "2023-02-19T18:47:47.815747Z",
     "iopub.status.busy": "2023-02-19T18:47:47.815517Z",
     "iopub.status.idle": "2023-02-19T18:47:47.818908Z",
     "shell.execute_reply": "2023-02-19T18:47:47.818474Z"
    },
    "tags": []
   },
   "outputs": [
    {
     "data": {
      "text/plain": [
       "(types.UnionType, object)"
      ]
     },
     "execution_count": 33,
     "metadata": {},
     "output_type": "execute_result"
    }
   ],
   "source": [
    "type(tp_or_none).__mro__"
   ]
  },
  {
   "cell_type": "code",
   "execution_count": 34,
   "metadata": {
    "execution": {
     "iopub.execute_input": "2023-02-19T18:47:47.820765Z",
     "iopub.status.busy": "2023-02-19T18:47:47.820583Z",
     "iopub.status.idle": "2023-02-19T18:47:47.831618Z",
     "shell.execute_reply": "2023-02-19T18:47:47.831171Z"
    },
    "tags": []
   },
   "outputs": [
    {
     "ename": "AttributeError",
     "evalue": "'types.UnionType' object has no attribute '_name'",
     "output_type": "error",
     "traceback": [
      "\u001b[0;31m---------------------------------------------------------------------------\u001b[0m",
      "\u001b[0;31mAttributeError\u001b[0m                            Traceback (most recent call last)",
      "Cell \u001b[0;32mIn[34], line 1\u001b[0m\n\u001b[0;32m----> 1\u001b[0m \u001b[43mtp_or_none\u001b[49m\u001b[38;5;241;43m.\u001b[39;49m\u001b[43m_name\u001b[49m\n",
      "\u001b[0;31mAttributeError\u001b[0m: 'types.UnionType' object has no attribute '_name'"
     ]
    }
   ],
   "source": [
    "tp_or_none._name"
   ]
  },
  {
   "cell_type": "code",
   "execution_count": 35,
   "metadata": {
    "execution": {
     "iopub.execute_input": "2023-02-19T18:47:47.833544Z",
     "iopub.status.busy": "2023-02-19T18:47:47.833350Z",
     "iopub.status.idle": "2023-02-19T18:47:47.843490Z",
     "shell.execute_reply": "2023-02-19T18:47:47.843026Z"
    },
    "tags": []
   },
   "outputs": [
    {
     "ename": "AttributeError",
     "evalue": "'types.UnionType' object has no attribute '__name__'",
     "output_type": "error",
     "traceback": [
      "\u001b[0;31m---------------------------------------------------------------------------\u001b[0m",
      "\u001b[0;31mAttributeError\u001b[0m                            Traceback (most recent call last)",
      "Cell \u001b[0;32mIn[35], line 1\u001b[0m\n\u001b[0;32m----> 1\u001b[0m \u001b[43mtp_or_none\u001b[49m\u001b[38;5;241;43m.\u001b[39;49m\u001b[38;5;18;43m__name__\u001b[39;49m\n",
      "\u001b[0;31mAttributeError\u001b[0m: 'types.UnionType' object has no attribute '__name__'"
     ]
    }
   ],
   "source": [
    "tp_or_none.__name__"
   ]
  },
  {
   "cell_type": "code",
   "execution_count": 36,
   "metadata": {
    "execution": {
     "iopub.execute_input": "2023-02-19T18:47:47.845737Z",
     "iopub.status.busy": "2023-02-19T18:47:47.845521Z",
     "iopub.status.idle": "2023-02-19T18:47:47.849082Z",
     "shell.execute_reply": "2023-02-19T18:47:47.848638Z"
    },
    "tags": []
   },
   "outputs": [
    {
     "data": {
      "text/plain": [
       "types.UnionType"
      ]
     },
     "execution_count": 36,
     "metadata": {},
     "output_type": "execute_result"
    }
   ],
   "source": [
    "origin_or_none = typing.get_origin(tp_or_none)\n",
    "origin_or_none"
   ]
  },
  {
   "cell_type": "code",
   "execution_count": 37,
   "metadata": {
    "execution": {
     "iopub.execute_input": "2023-02-19T18:47:47.851114Z",
     "iopub.status.busy": "2023-02-19T18:47:47.850897Z",
     "iopub.status.idle": "2023-02-19T18:47:47.854236Z",
     "shell.execute_reply": "2023-02-19T18:47:47.853764Z"
    },
    "tags": []
   },
   "outputs": [
    {
     "data": {
      "text/plain": [
       "type"
      ]
     },
     "execution_count": 37,
     "metadata": {},
     "output_type": "execute_result"
    }
   ],
   "source": [
    "type(origin_or_none)"
   ]
  },
  {
   "cell_type": "code",
   "execution_count": 38,
   "metadata": {
    "execution": {
     "iopub.execute_input": "2023-02-19T18:47:47.856285Z",
     "iopub.status.busy": "2023-02-19T18:47:47.856080Z",
     "iopub.status.idle": "2023-02-19T18:47:47.859407Z",
     "shell.execute_reply": "2023-02-19T18:47:47.858944Z"
    },
    "tags": []
   },
   "outputs": [
    {
     "data": {
      "text/plain": [
       "(type, object)"
      ]
     },
     "execution_count": 38,
     "metadata": {},
     "output_type": "execute_result"
    }
   ],
   "source": [
    "type(origin_or_none).__mro__"
   ]
  },
  {
   "cell_type": "code",
   "execution_count": 39,
   "metadata": {
    "execution": {
     "iopub.execute_input": "2023-02-19T18:47:47.861427Z",
     "iopub.status.busy": "2023-02-19T18:47:47.861231Z",
     "iopub.status.idle": "2023-02-19T18:47:47.871438Z",
     "shell.execute_reply": "2023-02-19T18:47:47.870922Z"
    },
    "tags": []
   },
   "outputs": [
    {
     "ename": "AttributeError",
     "evalue": "type object 'types.UnionType' has no attribute '_name'",
     "output_type": "error",
     "traceback": [
      "\u001b[0;31m---------------------------------------------------------------------------\u001b[0m",
      "\u001b[0;31mAttributeError\u001b[0m                            Traceback (most recent call last)",
      "Cell \u001b[0;32mIn[39], line 1\u001b[0m\n\u001b[0;32m----> 1\u001b[0m \u001b[43morigin_or_none\u001b[49m\u001b[38;5;241;43m.\u001b[39;49m\u001b[43m_name\u001b[49m\n",
      "\u001b[0;31mAttributeError\u001b[0m: type object 'types.UnionType' has no attribute '_name'"
     ]
    }
   ],
   "source": [
    "origin_or_none._name"
   ]
  },
  {
   "cell_type": "code",
   "execution_count": 40,
   "metadata": {
    "execution": {
     "iopub.execute_input": "2023-02-19T18:47:47.873524Z",
     "iopub.status.busy": "2023-02-19T18:47:47.873330Z",
     "iopub.status.idle": "2023-02-19T18:47:47.876683Z",
     "shell.execute_reply": "2023-02-19T18:47:47.876233Z"
    },
    "tags": []
   },
   "outputs": [
    {
     "data": {
      "text/plain": [
       "'UnionType'"
      ]
     },
     "execution_count": 40,
     "metadata": {},
     "output_type": "execute_result"
    }
   ],
   "source": [
    "origin_or_none.__name__"
   ]
  },
  {
   "cell_type": "markdown",
   "metadata": {},
   "source": [
    "## Standard Collections"
   ]
  },
  {
   "cell_type": "markdown",
   "metadata": {},
   "source": [
    "### typing Module Aliases"
   ]
  },
  {
   "cell_type": "code",
   "execution_count": 41,
   "metadata": {
    "execution": {
     "iopub.execute_input": "2023-02-19T18:47:47.878770Z",
     "iopub.status.busy": "2023-02-19T18:47:47.878580Z",
     "iopub.status.idle": "2023-02-19T18:47:47.881786Z",
     "shell.execute_reply": "2023-02-19T18:47:47.881364Z"
    }
   },
   "outputs": [
    {
     "data": {
      "text/plain": [
       "typing.List[int]"
      ]
     },
     "execution_count": 41,
     "metadata": {},
     "output_type": "execute_result"
    }
   ],
   "source": [
    "tp_List = typing.List[int]\n",
    "tp_List"
   ]
  },
  {
   "cell_type": "code",
   "execution_count": 42,
   "metadata": {
    "execution": {
     "iopub.execute_input": "2023-02-19T18:47:47.883720Z",
     "iopub.status.busy": "2023-02-19T18:47:47.883535Z",
     "iopub.status.idle": "2023-02-19T18:47:47.886683Z",
     "shell.execute_reply": "2023-02-19T18:47:47.886221Z"
    }
   },
   "outputs": [
    {
     "data": {
      "text/plain": [
       "typing._GenericAlias"
      ]
     },
     "execution_count": 42,
     "metadata": {},
     "output_type": "execute_result"
    }
   ],
   "source": [
    "type(tp_List)"
   ]
  },
  {
   "cell_type": "code",
   "execution_count": 43,
   "metadata": {
    "execution": {
     "iopub.execute_input": "2023-02-19T18:47:47.888527Z",
     "iopub.status.busy": "2023-02-19T18:47:47.888338Z",
     "iopub.status.idle": "2023-02-19T18:47:47.891621Z",
     "shell.execute_reply": "2023-02-19T18:47:47.891202Z"
    }
   },
   "outputs": [
    {
     "data": {
      "text/plain": [
       "(typing._GenericAlias, typing._BaseGenericAlias, typing._Final, object)"
      ]
     },
     "execution_count": 43,
     "metadata": {},
     "output_type": "execute_result"
    }
   ],
   "source": [
    "type(tp_List).__mro__"
   ]
  },
  {
   "cell_type": "code",
   "execution_count": 44,
   "metadata": {
    "execution": {
     "iopub.execute_input": "2023-02-19T18:47:47.893457Z",
     "iopub.status.busy": "2023-02-19T18:47:47.893272Z",
     "iopub.status.idle": "2023-02-19T18:47:47.896271Z",
     "shell.execute_reply": "2023-02-19T18:47:47.895854Z"
    }
   },
   "outputs": [
    {
     "data": {
      "text/plain": [
       "'List'"
      ]
     },
     "execution_count": 44,
     "metadata": {},
     "output_type": "execute_result"
    }
   ],
   "source": [
    "tp_List._name"
   ]
  },
  {
   "cell_type": "code",
   "execution_count": 45,
   "metadata": {
    "execution": {
     "iopub.execute_input": "2023-02-19T18:47:47.898151Z",
     "iopub.status.busy": "2023-02-19T18:47:47.897965Z",
     "iopub.status.idle": "2023-02-19T18:47:47.901080Z",
     "shell.execute_reply": "2023-02-19T18:47:47.900654Z"
    },
    "tags": []
   },
   "outputs": [
    {
     "data": {
      "text/plain": [
       "'List'"
      ]
     },
     "execution_count": 45,
     "metadata": {},
     "output_type": "execute_result"
    }
   ],
   "source": [
    "tp_List.__name__"
   ]
  },
  {
   "cell_type": "code",
   "execution_count": 46,
   "metadata": {
    "execution": {
     "iopub.execute_input": "2023-02-19T18:47:47.903015Z",
     "iopub.status.busy": "2023-02-19T18:47:47.902826Z",
     "iopub.status.idle": "2023-02-19T18:47:47.906126Z",
     "shell.execute_reply": "2023-02-19T18:47:47.905684Z"
    }
   },
   "outputs": [
    {
     "data": {
      "text/plain": [
       "list"
      ]
     },
     "execution_count": 46,
     "metadata": {},
     "output_type": "execute_result"
    }
   ],
   "source": [
    "origin_List = typing.get_origin(tp_List)\n",
    "origin_List"
   ]
  },
  {
   "cell_type": "code",
   "execution_count": 47,
   "metadata": {
    "execution": {
     "iopub.execute_input": "2023-02-19T18:47:47.908080Z",
     "iopub.status.busy": "2023-02-19T18:47:47.907894Z",
     "iopub.status.idle": "2023-02-19T18:47:47.910976Z",
     "shell.execute_reply": "2023-02-19T18:47:47.910542Z"
    }
   },
   "outputs": [
    {
     "data": {
      "text/plain": [
       "type"
      ]
     },
     "execution_count": 47,
     "metadata": {},
     "output_type": "execute_result"
    }
   ],
   "source": [
    "type(origin_List)"
   ]
  },
  {
   "cell_type": "code",
   "execution_count": 48,
   "metadata": {
    "execution": {
     "iopub.execute_input": "2023-02-19T18:47:47.912903Z",
     "iopub.status.busy": "2023-02-19T18:47:47.912714Z",
     "iopub.status.idle": "2023-02-19T18:47:47.915962Z",
     "shell.execute_reply": "2023-02-19T18:47:47.915473Z"
    }
   },
   "outputs": [
    {
     "data": {
      "text/plain": [
       "tuple"
      ]
     },
     "execution_count": 48,
     "metadata": {},
     "output_type": "execute_result"
    }
   ],
   "source": [
    "type(origin_List.__mro__)"
   ]
  },
  {
   "cell_type": "code",
   "execution_count": 49,
   "metadata": {
    "execution": {
     "iopub.execute_input": "2023-02-19T18:47:47.917894Z",
     "iopub.status.busy": "2023-02-19T18:47:47.917702Z",
     "iopub.status.idle": "2023-02-19T18:47:47.927937Z",
     "shell.execute_reply": "2023-02-19T18:47:47.927467Z"
    },
    "tags": []
   },
   "outputs": [
    {
     "ename": "AttributeError",
     "evalue": "type object 'list' has no attribute '_name'",
     "output_type": "error",
     "traceback": [
      "\u001b[0;31m---------------------------------------------------------------------------\u001b[0m",
      "\u001b[0;31mAttributeError\u001b[0m                            Traceback (most recent call last)",
      "Cell \u001b[0;32mIn[49], line 1\u001b[0m\n\u001b[0;32m----> 1\u001b[0m \u001b[43morigin_List\u001b[49m\u001b[38;5;241;43m.\u001b[39;49m\u001b[43m_name\u001b[49m\n",
      "\u001b[0;31mAttributeError\u001b[0m: type object 'list' has no attribute '_name'"
     ]
    }
   ],
   "source": [
    "origin_List._name"
   ]
  },
  {
   "cell_type": "code",
   "execution_count": 50,
   "metadata": {
    "execution": {
     "iopub.execute_input": "2023-02-19T18:47:47.929905Z",
     "iopub.status.busy": "2023-02-19T18:47:47.929719Z",
     "iopub.status.idle": "2023-02-19T18:47:47.932797Z",
     "shell.execute_reply": "2023-02-19T18:47:47.932346Z"
    },
    "tags": []
   },
   "outputs": [
    {
     "data": {
      "text/plain": [
       "'list'"
      ]
     },
     "execution_count": 50,
     "metadata": {},
     "output_type": "execute_result"
    }
   ],
   "source": [
    "origin_List.__name__"
   ]
  },
  {
   "cell_type": "markdown",
   "metadata": {},
   "source": [
    "### Standard Collection Aliases"
   ]
  },
  {
   "cell_type": "code",
   "execution_count": 51,
   "metadata": {
    "execution": {
     "iopub.execute_input": "2023-02-19T18:47:47.934831Z",
     "iopub.status.busy": "2023-02-19T18:47:47.934644Z",
     "iopub.status.idle": "2023-02-19T18:47:47.937889Z",
     "shell.execute_reply": "2023-02-19T18:47:47.937469Z"
    },
    "tags": []
   },
   "outputs": [
    {
     "data": {
      "text/plain": [
       "list[int]"
      ]
     },
     "execution_count": 51,
     "metadata": {},
     "output_type": "execute_result"
    }
   ],
   "source": [
    "tp_list = list[int]\n",
    "tp_list"
   ]
  },
  {
   "cell_type": "code",
   "execution_count": 52,
   "metadata": {
    "execution": {
     "iopub.execute_input": "2023-02-19T18:47:47.939748Z",
     "iopub.status.busy": "2023-02-19T18:47:47.939564Z",
     "iopub.status.idle": "2023-02-19T18:47:47.942776Z",
     "shell.execute_reply": "2023-02-19T18:47:47.942351Z"
    },
    "tags": []
   },
   "outputs": [
    {
     "data": {
      "text/plain": [
       "types.GenericAlias"
      ]
     },
     "execution_count": 52,
     "metadata": {},
     "output_type": "execute_result"
    }
   ],
   "source": [
    "type(tp_list)"
   ]
  },
  {
   "cell_type": "code",
   "execution_count": 53,
   "metadata": {
    "execution": {
     "iopub.execute_input": "2023-02-19T18:47:47.944634Z",
     "iopub.status.busy": "2023-02-19T18:47:47.944447Z",
     "iopub.status.idle": "2023-02-19T18:47:47.947724Z",
     "shell.execute_reply": "2023-02-19T18:47:47.947295Z"
    },
    "tags": []
   },
   "outputs": [
    {
     "data": {
      "text/plain": [
       "(types.GenericAlias, object)"
      ]
     },
     "execution_count": 53,
     "metadata": {},
     "output_type": "execute_result"
    }
   ],
   "source": [
    "type(tp_list).__mro__"
   ]
  },
  {
   "cell_type": "code",
   "execution_count": 54,
   "metadata": {
    "execution": {
     "iopub.execute_input": "2023-02-19T18:47:47.949576Z",
     "iopub.status.busy": "2023-02-19T18:47:47.949382Z",
     "iopub.status.idle": "2023-02-19T18:47:47.959946Z",
     "shell.execute_reply": "2023-02-19T18:47:47.959460Z"
    },
    "tags": []
   },
   "outputs": [
    {
     "ename": "AttributeError",
     "evalue": "type object 'list' has no attribute '_name'",
     "output_type": "error",
     "traceback": [
      "\u001b[0;31m---------------------------------------------------------------------------\u001b[0m",
      "\u001b[0;31mAttributeError\u001b[0m                            Traceback (most recent call last)",
      "Cell \u001b[0;32mIn[54], line 1\u001b[0m\n\u001b[0;32m----> 1\u001b[0m \u001b[43mtp_list\u001b[49m\u001b[38;5;241;43m.\u001b[39;49m\u001b[43m_name\u001b[49m\n",
      "\u001b[0;31mAttributeError\u001b[0m: type object 'list' has no attribute '_name'"
     ]
    }
   ],
   "source": [
    "tp_list._name"
   ]
  },
  {
   "cell_type": "code",
   "execution_count": 55,
   "metadata": {
    "execution": {
     "iopub.execute_input": "2023-02-19T18:47:47.961889Z",
     "iopub.status.busy": "2023-02-19T18:47:47.961693Z",
     "iopub.status.idle": "2023-02-19T18:47:47.964900Z",
     "shell.execute_reply": "2023-02-19T18:47:47.964479Z"
    },
    "tags": []
   },
   "outputs": [
    {
     "data": {
      "text/plain": [
       "'list'"
      ]
     },
     "execution_count": 55,
     "metadata": {},
     "output_type": "execute_result"
    }
   ],
   "source": [
    "tp_list.__name__"
   ]
  },
  {
   "cell_type": "code",
   "execution_count": 56,
   "metadata": {
    "execution": {
     "iopub.execute_input": "2023-02-19T18:47:47.966791Z",
     "iopub.status.busy": "2023-02-19T18:47:47.966602Z",
     "iopub.status.idle": "2023-02-19T18:47:47.969915Z",
     "shell.execute_reply": "2023-02-19T18:47:47.969475Z"
    },
    "tags": []
   },
   "outputs": [
    {
     "data": {
      "text/plain": [
       "list"
      ]
     },
     "execution_count": 56,
     "metadata": {},
     "output_type": "execute_result"
    }
   ],
   "source": [
    "origin_list = typing.get_origin(tp_list)\n",
    "origin_list"
   ]
  },
  {
   "cell_type": "code",
   "execution_count": 57,
   "metadata": {
    "execution": {
     "iopub.execute_input": "2023-02-19T18:47:47.971841Z",
     "iopub.status.busy": "2023-02-19T18:47:47.971655Z",
     "iopub.status.idle": "2023-02-19T18:47:47.974909Z",
     "shell.execute_reply": "2023-02-19T18:47:47.974484Z"
    },
    "tags": []
   },
   "outputs": [
    {
     "data": {
      "text/plain": [
       "type"
      ]
     },
     "execution_count": 57,
     "metadata": {},
     "output_type": "execute_result"
    }
   ],
   "source": [
    "type(origin_list)"
   ]
  },
  {
   "cell_type": "code",
   "execution_count": 58,
   "metadata": {
    "execution": {
     "iopub.execute_input": "2023-02-19T18:47:47.976767Z",
     "iopub.status.busy": "2023-02-19T18:47:47.976578Z",
     "iopub.status.idle": "2023-02-19T18:47:47.979831Z",
     "shell.execute_reply": "2023-02-19T18:47:47.979415Z"
    },
    "tags": []
   },
   "outputs": [
    {
     "data": {
      "text/plain": [
       "(type, object)"
      ]
     },
     "execution_count": 58,
     "metadata": {},
     "output_type": "execute_result"
    }
   ],
   "source": [
    "type(origin_list).__mro__"
   ]
  },
  {
   "cell_type": "code",
   "execution_count": 59,
   "metadata": {
    "execution": {
     "iopub.execute_input": "2023-02-19T18:47:47.981680Z",
     "iopub.status.busy": "2023-02-19T18:47:47.981496Z",
     "iopub.status.idle": "2023-02-19T18:47:48.015491Z",
     "shell.execute_reply": "2023-02-19T18:47:48.014655Z"
    },
    "tags": []
   },
   "outputs": [
    {
     "ename": "AttributeError",
     "evalue": "type object 'list' has no attribute '_name'",
     "output_type": "error",
     "traceback": [
      "\u001b[0;31m---------------------------------------------------------------------------\u001b[0m",
      "\u001b[0;31mAttributeError\u001b[0m                            Traceback (most recent call last)",
      "Cell \u001b[0;32mIn[59], line 1\u001b[0m\n\u001b[0;32m----> 1\u001b[0m \u001b[43morigin_list\u001b[49m\u001b[38;5;241;43m.\u001b[39;49m\u001b[43m_name\u001b[49m\n",
      "\u001b[0;31mAttributeError\u001b[0m: type object 'list' has no attribute '_name'"
     ]
    }
   ],
   "source": [
    "origin_list._name"
   ]
  },
  {
   "cell_type": "code",
   "execution_count": 60,
   "metadata": {
    "execution": {
     "iopub.execute_input": "2023-02-19T18:47:48.018277Z",
     "iopub.status.busy": "2023-02-19T18:47:48.018002Z",
     "iopub.status.idle": "2023-02-19T18:47:48.022494Z",
     "shell.execute_reply": "2023-02-19T18:47:48.021874Z"
    },
    "tags": []
   },
   "outputs": [
    {
     "data": {
      "text/plain": [
       "'list'"
      ]
     },
     "execution_count": 60,
     "metadata": {},
     "output_type": "execute_result"
    }
   ],
   "source": [
    "origin_list.__name__"
   ]
  }
 ],
 "metadata": {
  "kernelspec": {
   "display_name": "Python 3 (ipykernel)",
   "language": "python",
   "name": "python3"
  },
  "language_info": {
   "codemirror_mode": {
    "name": "ipython",
    "version": 3
   },
   "file_extension": ".py",
   "mimetype": "text/x-python",
   "name": "python",
   "nbconvert_exporter": "python",
   "pygments_lexer": "ipython3",
   "version": "3.10.9"
  },
  "vscode": {
   "interpreter": {
    "hash": "80942b1bde6a4b6b83cda378767221fd5d0b42ef189a887432315083c1f66fc8"
   }
  }
 },
 "nbformat": 4,
 "nbformat_minor": 4
}
