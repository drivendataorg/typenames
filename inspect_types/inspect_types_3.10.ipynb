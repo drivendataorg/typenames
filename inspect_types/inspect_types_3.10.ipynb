{
 "cells": [
  {
   "cell_type": "code",
   "execution_count": 1,
   "metadata": {
    "execution": {
     "iopub.execute_input": "2023-02-19T19:14:21.218684Z",
     "iopub.status.busy": "2023-02-19T19:14:21.218352Z",
     "iopub.status.idle": "2023-02-19T19:14:21.227516Z",
     "shell.execute_reply": "2023-02-19T19:14:21.226494Z"
    }
   },
   "outputs": [],
   "source": [
    "import sys\n",
    "import typing\n",
    "try: \n",
    "    from typing import get_origin\n",
    "except ImportError:\n",
    "    from typing_extensions import get_origin"
   ]
  },
  {
   "cell_type": "code",
   "execution_count": 2,
   "metadata": {
    "execution": {
     "iopub.execute_input": "2023-02-19T19:14:21.230595Z",
     "iopub.status.busy": "2023-02-19T19:14:21.230312Z",
     "iopub.status.idle": "2023-02-19T19:14:21.237055Z",
     "shell.execute_reply": "2023-02-19T19:14:21.236471Z"
    }
   },
   "outputs": [
    {
     "data": {
      "text/plain": [
       "'3.10.9 | packaged by conda-forge | (main, Feb  2 2023, 20:24:27) [Clang 14.0.6 ]'"
      ]
     },
     "execution_count": 2,
     "metadata": {},
     "output_type": "execute_result"
    }
   ],
   "source": [
    "sys.version"
   ]
  },
  {
   "cell_type": "markdown",
   "metadata": {},
   "source": [
    "## Union"
   ]
  },
  {
   "cell_type": "markdown",
   "metadata": {},
   "source": [
    "### typing.Union (Generic Alias)"
   ]
  },
  {
   "cell_type": "code",
   "execution_count": 3,
   "metadata": {
    "execution": {
     "iopub.execute_input": "2023-02-19T19:14:21.276661Z",
     "iopub.status.busy": "2023-02-19T19:14:21.276361Z",
     "iopub.status.idle": "2023-02-19T19:14:21.280800Z",
     "shell.execute_reply": "2023-02-19T19:14:21.280181Z"
    }
   },
   "outputs": [
    {
     "data": {
      "text/plain": [
       "typing.Union[int, str]"
      ]
     },
     "execution_count": 3,
     "metadata": {},
     "output_type": "execute_result"
    }
   ],
   "source": [
    "tp_union = typing.Union[int, str]\n",
    "tp_union"
   ]
  },
  {
   "cell_type": "code",
   "execution_count": 4,
   "metadata": {
    "execution": {
     "iopub.execute_input": "2023-02-19T19:14:21.283207Z",
     "iopub.status.busy": "2023-02-19T19:14:21.282980Z",
     "iopub.status.idle": "2023-02-19T19:14:21.286702Z",
     "shell.execute_reply": "2023-02-19T19:14:21.286110Z"
    }
   },
   "outputs": [
    {
     "data": {
      "text/plain": [
       "typing._UnionGenericAlias"
      ]
     },
     "execution_count": 4,
     "metadata": {},
     "output_type": "execute_result"
    }
   ],
   "source": [
    "type(tp_union)"
   ]
  },
  {
   "cell_type": "code",
   "execution_count": 5,
   "metadata": {
    "execution": {
     "iopub.execute_input": "2023-02-19T19:14:21.288932Z",
     "iopub.status.busy": "2023-02-19T19:14:21.288713Z",
     "iopub.status.idle": "2023-02-19T19:14:21.292365Z",
     "shell.execute_reply": "2023-02-19T19:14:21.291766Z"
    }
   },
   "outputs": [
    {
     "data": {
      "text/plain": [
       "(typing._UnionGenericAlias,\n",
       " typing._GenericAlias,\n",
       " typing._BaseGenericAlias,\n",
       " typing._Final,\n",
       " object)"
      ]
     },
     "execution_count": 5,
     "metadata": {},
     "output_type": "execute_result"
    }
   ],
   "source": [
    "type(tp_union).__mro__"
   ]
  },
  {
   "cell_type": "code",
   "execution_count": 6,
   "metadata": {
    "execution": {
     "iopub.execute_input": "2023-02-19T19:14:21.294623Z",
     "iopub.status.busy": "2023-02-19T19:14:21.294405Z",
     "iopub.status.idle": "2023-02-19T19:14:21.297141Z",
     "shell.execute_reply": "2023-02-19T19:14:21.296556Z"
    }
   },
   "outputs": [],
   "source": [
    "tp_union._name"
   ]
  },
  {
   "cell_type": "code",
   "execution_count": 7,
   "metadata": {
    "execution": {
     "iopub.execute_input": "2023-02-19T19:14:21.299365Z",
     "iopub.status.busy": "2023-02-19T19:14:21.299150Z",
     "iopub.status.idle": "2023-02-19T19:14:21.302538Z",
     "shell.execute_reply": "2023-02-19T19:14:21.302026Z"
    }
   },
   "outputs": [
    {
     "data": {
      "text/plain": [
       "'Union'"
      ]
     },
     "execution_count": 7,
     "metadata": {},
     "output_type": "execute_result"
    }
   ],
   "source": [
    "tp_union.__name__"
   ]
  },
  {
   "cell_type": "code",
   "execution_count": 8,
   "metadata": {
    "execution": {
     "iopub.execute_input": "2023-02-19T19:14:21.305606Z",
     "iopub.status.busy": "2023-02-19T19:14:21.305399Z",
     "iopub.status.idle": "2023-02-19T19:14:21.308842Z",
     "shell.execute_reply": "2023-02-19T19:14:21.308326Z"
    }
   },
   "outputs": [
    {
     "data": {
      "text/plain": [
       "typing.Union"
      ]
     },
     "execution_count": 8,
     "metadata": {},
     "output_type": "execute_result"
    }
   ],
   "source": [
    "origin_union = get_origin(tp_union)\n",
    "origin_union"
   ]
  },
  {
   "cell_type": "code",
   "execution_count": 9,
   "metadata": {
    "execution": {
     "iopub.execute_input": "2023-02-19T19:14:21.310975Z",
     "iopub.status.busy": "2023-02-19T19:14:21.310762Z",
     "iopub.status.idle": "2023-02-19T19:14:21.314259Z",
     "shell.execute_reply": "2023-02-19T19:14:21.313750Z"
    }
   },
   "outputs": [
    {
     "data": {
      "text/plain": [
       "typing._SpecialForm"
      ]
     },
     "execution_count": 9,
     "metadata": {},
     "output_type": "execute_result"
    }
   ],
   "source": [
    "type(origin_union)"
   ]
  },
  {
   "cell_type": "code",
   "execution_count": 10,
   "metadata": {
    "execution": {
     "iopub.execute_input": "2023-02-19T19:14:21.316426Z",
     "iopub.status.busy": "2023-02-19T19:14:21.316210Z",
     "iopub.status.idle": "2023-02-19T19:14:21.319638Z",
     "shell.execute_reply": "2023-02-19T19:14:21.319155Z"
    }
   },
   "outputs": [
    {
     "data": {
      "text/plain": [
       "(typing._SpecialForm, typing._Final, object)"
      ]
     },
     "execution_count": 10,
     "metadata": {},
     "output_type": "execute_result"
    }
   ],
   "source": [
    "type(origin_union).__mro__"
   ]
  },
  {
   "cell_type": "code",
   "execution_count": 11,
   "metadata": {
    "execution": {
     "iopub.execute_input": "2023-02-19T19:14:21.321791Z",
     "iopub.status.busy": "2023-02-19T19:14:21.321572Z",
     "iopub.status.idle": "2023-02-19T19:14:21.324927Z",
     "shell.execute_reply": "2023-02-19T19:14:21.324392Z"
    }
   },
   "outputs": [
    {
     "data": {
      "text/plain": [
       "'Union'"
      ]
     },
     "execution_count": 11,
     "metadata": {},
     "output_type": "execute_result"
    }
   ],
   "source": [
    "origin_union._name"
   ]
  },
  {
   "cell_type": "code",
   "execution_count": 12,
   "metadata": {
    "execution": {
     "iopub.execute_input": "2023-02-19T19:14:21.327291Z",
     "iopub.status.busy": "2023-02-19T19:14:21.326928Z",
     "iopub.status.idle": "2023-02-19T19:14:21.330344Z",
     "shell.execute_reply": "2023-02-19T19:14:21.329875Z"
    }
   },
   "outputs": [
    {
     "data": {
      "text/plain": [
       "'Union'"
      ]
     },
     "execution_count": 12,
     "metadata": {},
     "output_type": "execute_result"
    }
   ],
   "source": [
    "origin_union.__name__"
   ]
  },
  {
   "cell_type": "markdown",
   "metadata": {},
   "source": [
    "### | (bitwise or) operator"
   ]
  },
  {
   "cell_type": "code",
   "execution_count": 13,
   "metadata": {
    "execution": {
     "iopub.execute_input": "2023-02-19T19:14:21.333128Z",
     "iopub.status.busy": "2023-02-19T19:14:21.332926Z",
     "iopub.status.idle": "2023-02-19T19:14:21.336949Z",
     "shell.execute_reply": "2023-02-19T19:14:21.336416Z"
    },
    "tags": []
   },
   "outputs": [
    {
     "data": {
      "text/plain": [
       "int | str"
      ]
     },
     "execution_count": 13,
     "metadata": {},
     "output_type": "execute_result"
    }
   ],
   "source": [
    "tp_or = int | str\n",
    "tp_or"
   ]
  },
  {
   "cell_type": "code",
   "execution_count": 14,
   "metadata": {
    "execution": {
     "iopub.execute_input": "2023-02-19T19:14:21.339391Z",
     "iopub.status.busy": "2023-02-19T19:14:21.339125Z",
     "iopub.status.idle": "2023-02-19T19:14:21.342496Z",
     "shell.execute_reply": "2023-02-19T19:14:21.342021Z"
    },
    "tags": []
   },
   "outputs": [
    {
     "data": {
      "text/plain": [
       "types.UnionType"
      ]
     },
     "execution_count": 14,
     "metadata": {},
     "output_type": "execute_result"
    }
   ],
   "source": [
    "type(tp_or)"
   ]
  },
  {
   "cell_type": "code",
   "execution_count": 15,
   "metadata": {
    "execution": {
     "iopub.execute_input": "2023-02-19T19:14:21.344791Z",
     "iopub.status.busy": "2023-02-19T19:14:21.344577Z",
     "iopub.status.idle": "2023-02-19T19:14:21.348074Z",
     "shell.execute_reply": "2023-02-19T19:14:21.347613Z"
    },
    "tags": []
   },
   "outputs": [
    {
     "data": {
      "text/plain": [
       "(types.UnionType, object)"
      ]
     },
     "execution_count": 15,
     "metadata": {},
     "output_type": "execute_result"
    }
   ],
   "source": [
    "type(tp_or).__mro__"
   ]
  },
  {
   "cell_type": "code",
   "execution_count": 16,
   "metadata": {
    "execution": {
     "iopub.execute_input": "2023-02-19T19:14:21.350071Z",
     "iopub.status.busy": "2023-02-19T19:14:21.349847Z",
     "iopub.status.idle": "2023-02-19T19:14:21.353459Z",
     "shell.execute_reply": "2023-02-19T19:14:21.353026Z"
    },
    "tags": []
   },
   "outputs": [
    {
     "data": {
      "text/plain": [
       "types.UnionType"
      ]
     },
     "execution_count": 16,
     "metadata": {},
     "output_type": "execute_result"
    }
   ],
   "source": [
    "origin_or = get_origin(tp_or)\n",
    "origin_or"
   ]
  },
  {
   "cell_type": "code",
   "execution_count": 17,
   "metadata": {
    "execution": {
     "iopub.execute_input": "2023-02-19T19:14:21.355386Z",
     "iopub.status.busy": "2023-02-19T19:14:21.355202Z",
     "iopub.status.idle": "2023-02-19T19:14:21.358581Z",
     "shell.execute_reply": "2023-02-19T19:14:21.358108Z"
    },
    "tags": []
   },
   "outputs": [
    {
     "data": {
      "text/plain": [
       "type"
      ]
     },
     "execution_count": 17,
     "metadata": {},
     "output_type": "execute_result"
    }
   ],
   "source": [
    "type(origin_or)"
   ]
  },
  {
   "cell_type": "code",
   "execution_count": 18,
   "metadata": {
    "execution": {
     "iopub.execute_input": "2023-02-19T19:14:21.360533Z",
     "iopub.status.busy": "2023-02-19T19:14:21.360354Z",
     "iopub.status.idle": "2023-02-19T19:14:21.363509Z",
     "shell.execute_reply": "2023-02-19T19:14:21.363079Z"
    },
    "tags": []
   },
   "outputs": [
    {
     "data": {
      "text/plain": [
       "(type, object)"
      ]
     },
     "execution_count": 18,
     "metadata": {},
     "output_type": "execute_result"
    }
   ],
   "source": [
    "type(origin_or).__mro__"
   ]
  },
  {
   "cell_type": "code",
   "execution_count": 19,
   "metadata": {
    "execution": {
     "iopub.execute_input": "2023-02-19T19:14:21.365329Z",
     "iopub.status.busy": "2023-02-19T19:14:21.365148Z",
     "iopub.status.idle": "2023-02-19T19:14:21.482159Z",
     "shell.execute_reply": "2023-02-19T19:14:21.481640Z"
    },
    "tags": []
   },
   "outputs": [
    {
     "ename": "AttributeError",
     "evalue": "type object 'types.UnionType' has no attribute '_name'",
     "output_type": "error",
     "traceback": [
      "\u001b[0;31m---------------------------------------------------------------------------\u001b[0m",
      "\u001b[0;31mAttributeError\u001b[0m                            Traceback (most recent call last)",
      "Cell \u001b[0;32mIn[19], line 1\u001b[0m\n\u001b[0;32m----> 1\u001b[0m \u001b[43morigin_or\u001b[49m\u001b[38;5;241;43m.\u001b[39;49m\u001b[43m_name\u001b[49m\n",
      "\u001b[0;31mAttributeError\u001b[0m: type object 'types.UnionType' has no attribute '_name'"
     ]
    }
   ],
   "source": [
    "origin_or._name"
   ]
  },
  {
   "cell_type": "code",
   "execution_count": 20,
   "metadata": {
    "execution": {
     "iopub.execute_input": "2023-02-19T19:14:21.484838Z",
     "iopub.status.busy": "2023-02-19T19:14:21.484573Z",
     "iopub.status.idle": "2023-02-19T19:14:21.488517Z",
     "shell.execute_reply": "2023-02-19T19:14:21.488029Z"
    },
    "tags": []
   },
   "outputs": [
    {
     "data": {
      "text/plain": [
       "'UnionType'"
      ]
     },
     "execution_count": 20,
     "metadata": {},
     "output_type": "execute_result"
    }
   ],
   "source": [
    "origin_or.__name__"
   ]
  },
  {
   "cell_type": "markdown",
   "metadata": {},
   "source": [
    "## Optional"
   ]
  },
  {
   "cell_type": "markdown",
   "metadata": {},
   "source": [
    "### typing.Optional (Generic Alias)"
   ]
  },
  {
   "cell_type": "code",
   "execution_count": 21,
   "metadata": {
    "execution": {
     "iopub.execute_input": "2023-02-19T19:14:21.491139Z",
     "iopub.status.busy": "2023-02-19T19:14:21.490862Z",
     "iopub.status.idle": "2023-02-19T19:14:21.494770Z",
     "shell.execute_reply": "2023-02-19T19:14:21.494199Z"
    }
   },
   "outputs": [
    {
     "data": {
      "text/plain": [
       "typing.Optional[int]"
      ]
     },
     "execution_count": 21,
     "metadata": {},
     "output_type": "execute_result"
    }
   ],
   "source": [
    "tp_optional = typing.Optional[int]\n",
    "tp_optional"
   ]
  },
  {
   "cell_type": "code",
   "execution_count": 22,
   "metadata": {
    "execution": {
     "iopub.execute_input": "2023-02-19T19:14:21.496837Z",
     "iopub.status.busy": "2023-02-19T19:14:21.496637Z",
     "iopub.status.idle": "2023-02-19T19:14:21.500003Z",
     "shell.execute_reply": "2023-02-19T19:14:21.499590Z"
    }
   },
   "outputs": [
    {
     "data": {
      "text/plain": [
       "typing._UnionGenericAlias"
      ]
     },
     "execution_count": 22,
     "metadata": {},
     "output_type": "execute_result"
    }
   ],
   "source": [
    "type(tp_optional)"
   ]
  },
  {
   "cell_type": "code",
   "execution_count": 23,
   "metadata": {
    "execution": {
     "iopub.execute_input": "2023-02-19T19:14:21.502334Z",
     "iopub.status.busy": "2023-02-19T19:14:21.501970Z",
     "iopub.status.idle": "2023-02-19T19:14:21.505795Z",
     "shell.execute_reply": "2023-02-19T19:14:21.505298Z"
    }
   },
   "outputs": [
    {
     "data": {
      "text/plain": [
       "(typing._UnionGenericAlias,\n",
       " typing._GenericAlias,\n",
       " typing._BaseGenericAlias,\n",
       " typing._Final,\n",
       " object)"
      ]
     },
     "execution_count": 23,
     "metadata": {},
     "output_type": "execute_result"
    }
   ],
   "source": [
    "type(tp_optional).__mro__"
   ]
  },
  {
   "cell_type": "code",
   "execution_count": 24,
   "metadata": {
    "execution": {
     "iopub.execute_input": "2023-02-19T19:14:21.507687Z",
     "iopub.status.busy": "2023-02-19T19:14:21.507505Z",
     "iopub.status.idle": "2023-02-19T19:14:21.510652Z",
     "shell.execute_reply": "2023-02-19T19:14:21.510225Z"
    },
    "tags": []
   },
   "outputs": [
    {
     "data": {
      "text/plain": [
       "'Optional'"
      ]
     },
     "execution_count": 24,
     "metadata": {},
     "output_type": "execute_result"
    }
   ],
   "source": [
    "tp_optional._name"
   ]
  },
  {
   "cell_type": "code",
   "execution_count": 25,
   "metadata": {
    "execution": {
     "iopub.execute_input": "2023-02-19T19:14:21.512580Z",
     "iopub.status.busy": "2023-02-19T19:14:21.512400Z",
     "iopub.status.idle": "2023-02-19T19:14:21.515579Z",
     "shell.execute_reply": "2023-02-19T19:14:21.515148Z"
    },
    "tags": []
   },
   "outputs": [
    {
     "data": {
      "text/plain": [
       "'Optional'"
      ]
     },
     "execution_count": 25,
     "metadata": {},
     "output_type": "execute_result"
    }
   ],
   "source": [
    "tp_optional.__name__"
   ]
  },
  {
   "cell_type": "code",
   "execution_count": 26,
   "metadata": {
    "execution": {
     "iopub.execute_input": "2023-02-19T19:14:21.517559Z",
     "iopub.status.busy": "2023-02-19T19:14:21.517388Z",
     "iopub.status.idle": "2023-02-19T19:14:21.520719Z",
     "shell.execute_reply": "2023-02-19T19:14:21.520290Z"
    }
   },
   "outputs": [
    {
     "data": {
      "text/plain": [
       "typing.Union"
      ]
     },
     "execution_count": 26,
     "metadata": {},
     "output_type": "execute_result"
    }
   ],
   "source": [
    "origin_optional = get_origin(tp_optional)\n",
    "origin_optional"
   ]
  },
  {
   "cell_type": "code",
   "execution_count": 27,
   "metadata": {
    "execution": {
     "iopub.execute_input": "2023-02-19T19:14:21.522546Z",
     "iopub.status.busy": "2023-02-19T19:14:21.522370Z",
     "iopub.status.idle": "2023-02-19T19:14:21.525605Z",
     "shell.execute_reply": "2023-02-19T19:14:21.525105Z"
    }
   },
   "outputs": [
    {
     "data": {
      "text/plain": [
       "typing._SpecialForm"
      ]
     },
     "execution_count": 27,
     "metadata": {},
     "output_type": "execute_result"
    }
   ],
   "source": [
    "type(origin_optional)"
   ]
  },
  {
   "cell_type": "code",
   "execution_count": 28,
   "metadata": {
    "execution": {
     "iopub.execute_input": "2023-02-19T19:14:21.527448Z",
     "iopub.status.busy": "2023-02-19T19:14:21.527269Z",
     "iopub.status.idle": "2023-02-19T19:14:21.530694Z",
     "shell.execute_reply": "2023-02-19T19:14:21.530199Z"
    }
   },
   "outputs": [
    {
     "data": {
      "text/plain": [
       "(typing._SpecialForm, typing._Final, object)"
      ]
     },
     "execution_count": 28,
     "metadata": {},
     "output_type": "execute_result"
    }
   ],
   "source": [
    "type(origin_optional).__mro__"
   ]
  },
  {
   "cell_type": "code",
   "execution_count": 29,
   "metadata": {
    "execution": {
     "iopub.execute_input": "2023-02-19T19:14:21.532538Z",
     "iopub.status.busy": "2023-02-19T19:14:21.532358Z",
     "iopub.status.idle": "2023-02-19T19:14:21.535459Z",
     "shell.execute_reply": "2023-02-19T19:14:21.535033Z"
    },
    "tags": []
   },
   "outputs": [
    {
     "data": {
      "text/plain": [
       "'Union'"
      ]
     },
     "execution_count": 29,
     "metadata": {},
     "output_type": "execute_result"
    }
   ],
   "source": [
    "origin_optional._name"
   ]
  },
  {
   "cell_type": "code",
   "execution_count": 30,
   "metadata": {
    "execution": {
     "iopub.execute_input": "2023-02-19T19:14:21.537275Z",
     "iopub.status.busy": "2023-02-19T19:14:21.537097Z",
     "iopub.status.idle": "2023-02-19T19:14:21.540244Z",
     "shell.execute_reply": "2023-02-19T19:14:21.539817Z"
    },
    "tags": []
   },
   "outputs": [
    {
     "data": {
      "text/plain": [
       "'Union'"
      ]
     },
     "execution_count": 30,
     "metadata": {},
     "output_type": "execute_result"
    }
   ],
   "source": [
    "origin_optional.__name__"
   ]
  },
  {
   "cell_type": "markdown",
   "metadata": {},
   "source": [
    "### | (bitwise or) Operator"
   ]
  },
  {
   "cell_type": "code",
   "execution_count": 31,
   "metadata": {
    "execution": {
     "iopub.execute_input": "2023-02-19T19:14:21.542132Z",
     "iopub.status.busy": "2023-02-19T19:14:21.541952Z",
     "iopub.status.idle": "2023-02-19T19:14:21.544999Z",
     "shell.execute_reply": "2023-02-19T19:14:21.544557Z"
    },
    "tags": []
   },
   "outputs": [
    {
     "data": {
      "text/plain": [
       "int | None"
      ]
     },
     "execution_count": 31,
     "metadata": {},
     "output_type": "execute_result"
    }
   ],
   "source": [
    "tp_or_none = int | None\n",
    "tp_or_none"
   ]
  },
  {
   "cell_type": "code",
   "execution_count": 32,
   "metadata": {
    "execution": {
     "iopub.execute_input": "2023-02-19T19:14:21.546825Z",
     "iopub.status.busy": "2023-02-19T19:14:21.546647Z",
     "iopub.status.idle": "2023-02-19T19:14:21.549798Z",
     "shell.execute_reply": "2023-02-19T19:14:21.549362Z"
    },
    "tags": []
   },
   "outputs": [
    {
     "data": {
      "text/plain": [
       "types.UnionType"
      ]
     },
     "execution_count": 32,
     "metadata": {},
     "output_type": "execute_result"
    }
   ],
   "source": [
    "type(tp_or_none)"
   ]
  },
  {
   "cell_type": "code",
   "execution_count": 33,
   "metadata": {
    "execution": {
     "iopub.execute_input": "2023-02-19T19:14:21.551781Z",
     "iopub.status.busy": "2023-02-19T19:14:21.551554Z",
     "iopub.status.idle": "2023-02-19T19:14:21.554967Z",
     "shell.execute_reply": "2023-02-19T19:14:21.554537Z"
    },
    "tags": []
   },
   "outputs": [
    {
     "data": {
      "text/plain": [
       "(types.UnionType, object)"
      ]
     },
     "execution_count": 33,
     "metadata": {},
     "output_type": "execute_result"
    }
   ],
   "source": [
    "type(tp_or_none).__mro__"
   ]
  },
  {
   "cell_type": "code",
   "execution_count": 34,
   "metadata": {
    "execution": {
     "iopub.execute_input": "2023-02-19T19:14:21.557035Z",
     "iopub.status.busy": "2023-02-19T19:14:21.556730Z",
     "iopub.status.idle": "2023-02-19T19:14:21.567291Z",
     "shell.execute_reply": "2023-02-19T19:14:21.566649Z"
    },
    "tags": []
   },
   "outputs": [
    {
     "ename": "AttributeError",
     "evalue": "'types.UnionType' object has no attribute '_name'",
     "output_type": "error",
     "traceback": [
      "\u001b[0;31m---------------------------------------------------------------------------\u001b[0m",
      "\u001b[0;31mAttributeError\u001b[0m                            Traceback (most recent call last)",
      "Cell \u001b[0;32mIn[34], line 1\u001b[0m\n\u001b[0;32m----> 1\u001b[0m \u001b[43mtp_or_none\u001b[49m\u001b[38;5;241;43m.\u001b[39;49m\u001b[43m_name\u001b[49m\n",
      "\u001b[0;31mAttributeError\u001b[0m: 'types.UnionType' object has no attribute '_name'"
     ]
    }
   ],
   "source": [
    "tp_or_none._name"
   ]
  },
  {
   "cell_type": "code",
   "execution_count": 35,
   "metadata": {
    "execution": {
     "iopub.execute_input": "2023-02-19T19:14:21.569962Z",
     "iopub.status.busy": "2023-02-19T19:14:21.569726Z",
     "iopub.status.idle": "2023-02-19T19:14:21.579762Z",
     "shell.execute_reply": "2023-02-19T19:14:21.579298Z"
    },
    "tags": []
   },
   "outputs": [
    {
     "ename": "AttributeError",
     "evalue": "'types.UnionType' object has no attribute '__name__'",
     "output_type": "error",
     "traceback": [
      "\u001b[0;31m---------------------------------------------------------------------------\u001b[0m",
      "\u001b[0;31mAttributeError\u001b[0m                            Traceback (most recent call last)",
      "Cell \u001b[0;32mIn[35], line 1\u001b[0m\n\u001b[0;32m----> 1\u001b[0m \u001b[43mtp_or_none\u001b[49m\u001b[38;5;241;43m.\u001b[39;49m\u001b[38;5;18;43m__name__\u001b[39;49m\n",
      "\u001b[0;31mAttributeError\u001b[0m: 'types.UnionType' object has no attribute '__name__'"
     ]
    }
   ],
   "source": [
    "tp_or_none.__name__"
   ]
  },
  {
   "cell_type": "code",
   "execution_count": 36,
   "metadata": {
    "execution": {
     "iopub.execute_input": "2023-02-19T19:14:21.581739Z",
     "iopub.status.busy": "2023-02-19T19:14:21.581541Z",
     "iopub.status.idle": "2023-02-19T19:14:21.584893Z",
     "shell.execute_reply": "2023-02-19T19:14:21.584477Z"
    },
    "tags": []
   },
   "outputs": [
    {
     "data": {
      "text/plain": [
       "types.UnionType"
      ]
     },
     "execution_count": 36,
     "metadata": {},
     "output_type": "execute_result"
    }
   ],
   "source": [
    "origin_or_none = get_origin(tp_or_none)\n",
    "origin_or_none"
   ]
  },
  {
   "cell_type": "code",
   "execution_count": 37,
   "metadata": {
    "execution": {
     "iopub.execute_input": "2023-02-19T19:14:21.586746Z",
     "iopub.status.busy": "2023-02-19T19:14:21.586556Z",
     "iopub.status.idle": "2023-02-19T19:14:21.589712Z",
     "shell.execute_reply": "2023-02-19T19:14:21.589233Z"
    },
    "tags": []
   },
   "outputs": [
    {
     "data": {
      "text/plain": [
       "type"
      ]
     },
     "execution_count": 37,
     "metadata": {},
     "output_type": "execute_result"
    }
   ],
   "source": [
    "type(origin_or_none)"
   ]
  },
  {
   "cell_type": "code",
   "execution_count": 38,
   "metadata": {
    "execution": {
     "iopub.execute_input": "2023-02-19T19:14:21.591605Z",
     "iopub.status.busy": "2023-02-19T19:14:21.591420Z",
     "iopub.status.idle": "2023-02-19T19:14:21.594598Z",
     "shell.execute_reply": "2023-02-19T19:14:21.594186Z"
    },
    "tags": []
   },
   "outputs": [
    {
     "data": {
      "text/plain": [
       "(type, object)"
      ]
     },
     "execution_count": 38,
     "metadata": {},
     "output_type": "execute_result"
    }
   ],
   "source": [
    "type(origin_or_none).__mro__"
   ]
  },
  {
   "cell_type": "code",
   "execution_count": 39,
   "metadata": {
    "execution": {
     "iopub.execute_input": "2023-02-19T19:14:21.596541Z",
     "iopub.status.busy": "2023-02-19T19:14:21.596354Z",
     "iopub.status.idle": "2023-02-19T19:14:21.606652Z",
     "shell.execute_reply": "2023-02-19T19:14:21.606092Z"
    },
    "tags": []
   },
   "outputs": [
    {
     "ename": "AttributeError",
     "evalue": "type object 'types.UnionType' has no attribute '_name'",
     "output_type": "error",
     "traceback": [
      "\u001b[0;31m---------------------------------------------------------------------------\u001b[0m",
      "\u001b[0;31mAttributeError\u001b[0m                            Traceback (most recent call last)",
      "Cell \u001b[0;32mIn[39], line 1\u001b[0m\n\u001b[0;32m----> 1\u001b[0m \u001b[43morigin_or_none\u001b[49m\u001b[38;5;241;43m.\u001b[39;49m\u001b[43m_name\u001b[49m\n",
      "\u001b[0;31mAttributeError\u001b[0m: type object 'types.UnionType' has no attribute '_name'"
     ]
    }
   ],
   "source": [
    "origin_or_none._name"
   ]
  },
  {
   "cell_type": "code",
   "execution_count": 40,
   "metadata": {
    "execution": {
     "iopub.execute_input": "2023-02-19T19:14:21.608621Z",
     "iopub.status.busy": "2023-02-19T19:14:21.608423Z",
     "iopub.status.idle": "2023-02-19T19:14:21.611739Z",
     "shell.execute_reply": "2023-02-19T19:14:21.611288Z"
    },
    "tags": []
   },
   "outputs": [
    {
     "data": {
      "text/plain": [
       "'UnionType'"
      ]
     },
     "execution_count": 40,
     "metadata": {},
     "output_type": "execute_result"
    }
   ],
   "source": [
    "origin_or_none.__name__"
   ]
  },
  {
   "cell_type": "markdown",
   "metadata": {},
   "source": [
    "## Standard Collections"
   ]
  },
  {
   "cell_type": "markdown",
   "metadata": {},
   "source": [
    "### typing Module Aliases"
   ]
  },
  {
   "cell_type": "code",
   "execution_count": 41,
   "metadata": {
    "execution": {
     "iopub.execute_input": "2023-02-19T19:14:21.613867Z",
     "iopub.status.busy": "2023-02-19T19:14:21.613682Z",
     "iopub.status.idle": "2023-02-19T19:14:21.616982Z",
     "shell.execute_reply": "2023-02-19T19:14:21.616554Z"
    }
   },
   "outputs": [
    {
     "data": {
      "text/plain": [
       "typing.List[int]"
      ]
     },
     "execution_count": 41,
     "metadata": {},
     "output_type": "execute_result"
    }
   ],
   "source": [
    "tp_List = typing.List[int]\n",
    "tp_List"
   ]
  },
  {
   "cell_type": "code",
   "execution_count": 42,
   "metadata": {
    "execution": {
     "iopub.execute_input": "2023-02-19T19:14:21.618877Z",
     "iopub.status.busy": "2023-02-19T19:14:21.618690Z",
     "iopub.status.idle": "2023-02-19T19:14:21.621886Z",
     "shell.execute_reply": "2023-02-19T19:14:21.621463Z"
    }
   },
   "outputs": [
    {
     "data": {
      "text/plain": [
       "typing._GenericAlias"
      ]
     },
     "execution_count": 42,
     "metadata": {},
     "output_type": "execute_result"
    }
   ],
   "source": [
    "type(tp_List)"
   ]
  },
  {
   "cell_type": "code",
   "execution_count": 43,
   "metadata": {
    "execution": {
     "iopub.execute_input": "2023-02-19T19:14:21.623709Z",
     "iopub.status.busy": "2023-02-19T19:14:21.623525Z",
     "iopub.status.idle": "2023-02-19T19:14:21.626759Z",
     "shell.execute_reply": "2023-02-19T19:14:21.626338Z"
    }
   },
   "outputs": [
    {
     "data": {
      "text/plain": [
       "(typing._GenericAlias, typing._BaseGenericAlias, typing._Final, object)"
      ]
     },
     "execution_count": 43,
     "metadata": {},
     "output_type": "execute_result"
    }
   ],
   "source": [
    "type(tp_List).__mro__"
   ]
  },
  {
   "cell_type": "code",
   "execution_count": 44,
   "metadata": {
    "execution": {
     "iopub.execute_input": "2023-02-19T19:14:21.628785Z",
     "iopub.status.busy": "2023-02-19T19:14:21.628600Z",
     "iopub.status.idle": "2023-02-19T19:14:21.631638Z",
     "shell.execute_reply": "2023-02-19T19:14:21.631211Z"
    }
   },
   "outputs": [
    {
     "data": {
      "text/plain": [
       "'List'"
      ]
     },
     "execution_count": 44,
     "metadata": {},
     "output_type": "execute_result"
    }
   ],
   "source": [
    "tp_List._name"
   ]
  },
  {
   "cell_type": "code",
   "execution_count": 45,
   "metadata": {
    "execution": {
     "iopub.execute_input": "2023-02-19T19:14:21.633542Z",
     "iopub.status.busy": "2023-02-19T19:14:21.633357Z",
     "iopub.status.idle": "2023-02-19T19:14:21.636682Z",
     "shell.execute_reply": "2023-02-19T19:14:21.636252Z"
    },
    "tags": []
   },
   "outputs": [
    {
     "data": {
      "text/plain": [
       "'List'"
      ]
     },
     "execution_count": 45,
     "metadata": {},
     "output_type": "execute_result"
    }
   ],
   "source": [
    "tp_List.__name__"
   ]
  },
  {
   "cell_type": "code",
   "execution_count": 46,
   "metadata": {
    "execution": {
     "iopub.execute_input": "2023-02-19T19:14:21.638497Z",
     "iopub.status.busy": "2023-02-19T19:14:21.638314Z",
     "iopub.status.idle": "2023-02-19T19:14:21.641502Z",
     "shell.execute_reply": "2023-02-19T19:14:21.641077Z"
    }
   },
   "outputs": [
    {
     "data": {
      "text/plain": [
       "list"
      ]
     },
     "execution_count": 46,
     "metadata": {},
     "output_type": "execute_result"
    }
   ],
   "source": [
    "origin_List = get_origin(tp_List)\n",
    "origin_List"
   ]
  },
  {
   "cell_type": "code",
   "execution_count": 47,
   "metadata": {
    "execution": {
     "iopub.execute_input": "2023-02-19T19:14:21.643368Z",
     "iopub.status.busy": "2023-02-19T19:14:21.643181Z",
     "iopub.status.idle": "2023-02-19T19:14:21.646355Z",
     "shell.execute_reply": "2023-02-19T19:14:21.645929Z"
    }
   },
   "outputs": [
    {
     "data": {
      "text/plain": [
       "type"
      ]
     },
     "execution_count": 47,
     "metadata": {},
     "output_type": "execute_result"
    }
   ],
   "source": [
    "type(origin_List)"
   ]
  },
  {
   "cell_type": "code",
   "execution_count": 48,
   "metadata": {
    "execution": {
     "iopub.execute_input": "2023-02-19T19:14:21.648226Z",
     "iopub.status.busy": "2023-02-19T19:14:21.648038Z",
     "iopub.status.idle": "2023-02-19T19:14:21.651189Z",
     "shell.execute_reply": "2023-02-19T19:14:21.650768Z"
    }
   },
   "outputs": [
    {
     "data": {
      "text/plain": [
       "tuple"
      ]
     },
     "execution_count": 48,
     "metadata": {},
     "output_type": "execute_result"
    }
   ],
   "source": [
    "type(origin_List.__mro__)"
   ]
  },
  {
   "cell_type": "code",
   "execution_count": 49,
   "metadata": {
    "execution": {
     "iopub.execute_input": "2023-02-19T19:14:21.653111Z",
     "iopub.status.busy": "2023-02-19T19:14:21.652929Z",
     "iopub.status.idle": "2023-02-19T19:14:21.663389Z",
     "shell.execute_reply": "2023-02-19T19:14:21.662834Z"
    },
    "tags": []
   },
   "outputs": [
    {
     "ename": "AttributeError",
     "evalue": "type object 'list' has no attribute '_name'",
     "output_type": "error",
     "traceback": [
      "\u001b[0;31m---------------------------------------------------------------------------\u001b[0m",
      "\u001b[0;31mAttributeError\u001b[0m                            Traceback (most recent call last)",
      "Cell \u001b[0;32mIn[49], line 1\u001b[0m\n\u001b[0;32m----> 1\u001b[0m \u001b[43morigin_List\u001b[49m\u001b[38;5;241;43m.\u001b[39;49m\u001b[43m_name\u001b[49m\n",
      "\u001b[0;31mAttributeError\u001b[0m: type object 'list' has no attribute '_name'"
     ]
    }
   ],
   "source": [
    "origin_List._name"
   ]
  },
  {
   "cell_type": "code",
   "execution_count": 50,
   "metadata": {
    "execution": {
     "iopub.execute_input": "2023-02-19T19:14:21.665440Z",
     "iopub.status.busy": "2023-02-19T19:14:21.665130Z",
     "iopub.status.idle": "2023-02-19T19:14:21.668486Z",
     "shell.execute_reply": "2023-02-19T19:14:21.668042Z"
    },
    "tags": []
   },
   "outputs": [
    {
     "data": {
      "text/plain": [
       "'list'"
      ]
     },
     "execution_count": 50,
     "metadata": {},
     "output_type": "execute_result"
    }
   ],
   "source": [
    "origin_List.__name__"
   ]
  },
  {
   "cell_type": "markdown",
   "metadata": {},
   "source": [
    "### Standard Collection Aliases"
   ]
  },
  {
   "cell_type": "code",
   "execution_count": 51,
   "metadata": {
    "execution": {
     "iopub.execute_input": "2023-02-19T19:14:21.670687Z",
     "iopub.status.busy": "2023-02-19T19:14:21.670417Z",
     "iopub.status.idle": "2023-02-19T19:14:21.673766Z",
     "shell.execute_reply": "2023-02-19T19:14:21.673338Z"
    },
    "tags": []
   },
   "outputs": [
    {
     "data": {
      "text/plain": [
       "list[int]"
      ]
     },
     "execution_count": 51,
     "metadata": {},
     "output_type": "execute_result"
    }
   ],
   "source": [
    "tp_list = list[int]\n",
    "tp_list"
   ]
  },
  {
   "cell_type": "code",
   "execution_count": 52,
   "metadata": {
    "execution": {
     "iopub.execute_input": "2023-02-19T19:14:21.675686Z",
     "iopub.status.busy": "2023-02-19T19:14:21.675496Z",
     "iopub.status.idle": "2023-02-19T19:14:21.678645Z",
     "shell.execute_reply": "2023-02-19T19:14:21.678213Z"
    },
    "tags": []
   },
   "outputs": [
    {
     "data": {
      "text/plain": [
       "types.GenericAlias"
      ]
     },
     "execution_count": 52,
     "metadata": {},
     "output_type": "execute_result"
    }
   ],
   "source": [
    "type(tp_list)"
   ]
  },
  {
   "cell_type": "code",
   "execution_count": 53,
   "metadata": {
    "execution": {
     "iopub.execute_input": "2023-02-19T19:14:21.680476Z",
     "iopub.status.busy": "2023-02-19T19:14:21.680290Z",
     "iopub.status.idle": "2023-02-19T19:14:21.683505Z",
     "shell.execute_reply": "2023-02-19T19:14:21.683071Z"
    },
    "tags": []
   },
   "outputs": [
    {
     "data": {
      "text/plain": [
       "(types.GenericAlias, object)"
      ]
     },
     "execution_count": 53,
     "metadata": {},
     "output_type": "execute_result"
    }
   ],
   "source": [
    "type(tp_list).__mro__"
   ]
  },
  {
   "cell_type": "code",
   "execution_count": 54,
   "metadata": {
    "execution": {
     "iopub.execute_input": "2023-02-19T19:14:21.685356Z",
     "iopub.status.busy": "2023-02-19T19:14:21.685167Z",
     "iopub.status.idle": "2023-02-19T19:14:21.695592Z",
     "shell.execute_reply": "2023-02-19T19:14:21.695071Z"
    },
    "tags": []
   },
   "outputs": [
    {
     "ename": "AttributeError",
     "evalue": "type object 'list' has no attribute '_name'",
     "output_type": "error",
     "traceback": [
      "\u001b[0;31m---------------------------------------------------------------------------\u001b[0m",
      "\u001b[0;31mAttributeError\u001b[0m                            Traceback (most recent call last)",
      "Cell \u001b[0;32mIn[54], line 1\u001b[0m\n\u001b[0;32m----> 1\u001b[0m \u001b[43mtp_list\u001b[49m\u001b[38;5;241;43m.\u001b[39;49m\u001b[43m_name\u001b[49m\n",
      "\u001b[0;31mAttributeError\u001b[0m: type object 'list' has no attribute '_name'"
     ]
    }
   ],
   "source": [
    "tp_list._name"
   ]
  },
  {
   "cell_type": "code",
   "execution_count": 55,
   "metadata": {
    "execution": {
     "iopub.execute_input": "2023-02-19T19:14:21.697575Z",
     "iopub.status.busy": "2023-02-19T19:14:21.697390Z",
     "iopub.status.idle": "2023-02-19T19:14:21.700523Z",
     "shell.execute_reply": "2023-02-19T19:14:21.700048Z"
    },
    "tags": []
   },
   "outputs": [
    {
     "data": {
      "text/plain": [
       "'list'"
      ]
     },
     "execution_count": 55,
     "metadata": {},
     "output_type": "execute_result"
    }
   ],
   "source": [
    "tp_list.__name__"
   ]
  },
  {
   "cell_type": "code",
   "execution_count": 56,
   "metadata": {
    "execution": {
     "iopub.execute_input": "2023-02-19T19:14:21.702461Z",
     "iopub.status.busy": "2023-02-19T19:14:21.702276Z",
     "iopub.status.idle": "2023-02-19T19:14:21.705416Z",
     "shell.execute_reply": "2023-02-19T19:14:21.704972Z"
    },
    "tags": []
   },
   "outputs": [
    {
     "data": {
      "text/plain": [
       "list"
      ]
     },
     "execution_count": 56,
     "metadata": {},
     "output_type": "execute_result"
    }
   ],
   "source": [
    "origin_list = get_origin(tp_list)\n",
    "origin_list"
   ]
  },
  {
   "cell_type": "code",
   "execution_count": 57,
   "metadata": {
    "execution": {
     "iopub.execute_input": "2023-02-19T19:14:21.707286Z",
     "iopub.status.busy": "2023-02-19T19:14:21.707110Z",
     "iopub.status.idle": "2023-02-19T19:14:21.710231Z",
     "shell.execute_reply": "2023-02-19T19:14:21.709808Z"
    },
    "tags": []
   },
   "outputs": [
    {
     "data": {
      "text/plain": [
       "type"
      ]
     },
     "execution_count": 57,
     "metadata": {},
     "output_type": "execute_result"
    }
   ],
   "source": [
    "type(origin_list)"
   ]
  },
  {
   "cell_type": "code",
   "execution_count": 58,
   "metadata": {
    "execution": {
     "iopub.execute_input": "2023-02-19T19:14:21.712079Z",
     "iopub.status.busy": "2023-02-19T19:14:21.711889Z",
     "iopub.status.idle": "2023-02-19T19:14:21.715144Z",
     "shell.execute_reply": "2023-02-19T19:14:21.714708Z"
    },
    "tags": []
   },
   "outputs": [
    {
     "data": {
      "text/plain": [
       "(type, object)"
      ]
     },
     "execution_count": 58,
     "metadata": {},
     "output_type": "execute_result"
    }
   ],
   "source": [
    "type(origin_list).__mro__"
   ]
  },
  {
   "cell_type": "code",
   "execution_count": 59,
   "metadata": {
    "execution": {
     "iopub.execute_input": "2023-02-19T19:14:21.717152Z",
     "iopub.status.busy": "2023-02-19T19:14:21.716961Z",
     "iopub.status.idle": "2023-02-19T19:14:21.750109Z",
     "shell.execute_reply": "2023-02-19T19:14:21.749427Z"
    },
    "tags": []
   },
   "outputs": [
    {
     "ename": "AttributeError",
     "evalue": "type object 'list' has no attribute '_name'",
     "output_type": "error",
     "traceback": [
      "\u001b[0;31m---------------------------------------------------------------------------\u001b[0m",
      "\u001b[0;31mAttributeError\u001b[0m                            Traceback (most recent call last)",
      "Cell \u001b[0;32mIn[59], line 1\u001b[0m\n\u001b[0;32m----> 1\u001b[0m \u001b[43morigin_list\u001b[49m\u001b[38;5;241;43m.\u001b[39;49m\u001b[43m_name\u001b[49m\n",
      "\u001b[0;31mAttributeError\u001b[0m: type object 'list' has no attribute '_name'"
     ]
    }
   ],
   "source": [
    "origin_list._name"
   ]
  },
  {
   "cell_type": "code",
   "execution_count": 60,
   "metadata": {
    "execution": {
     "iopub.execute_input": "2023-02-19T19:14:21.752875Z",
     "iopub.status.busy": "2023-02-19T19:14:21.752593Z",
     "iopub.status.idle": "2023-02-19T19:14:21.756859Z",
     "shell.execute_reply": "2023-02-19T19:14:21.756199Z"
    },
    "tags": []
   },
   "outputs": [
    {
     "data": {
      "text/plain": [
       "'list'"
      ]
     },
     "execution_count": 60,
     "metadata": {},
     "output_type": "execute_result"
    }
   ],
   "source": [
    "origin_list.__name__"
   ]
  }
 ],
 "metadata": {
  "kernelspec": {
   "display_name": "Python 3 (ipykernel)",
   "language": "python",
   "name": "python3"
  },
  "language_info": {
   "codemirror_mode": {
    "name": "ipython",
    "version": 3
   },
   "file_extension": ".py",
   "mimetype": "text/x-python",
   "name": "python",
   "nbconvert_exporter": "python",
   "pygments_lexer": "ipython3",
   "version": "3.10.9"
  },
  "vscode": {
   "interpreter": {
    "hash": "80942b1bde6a4b6b83cda378767221fd5d0b42ef189a887432315083c1f66fc8"
   }
  }
 },
 "nbformat": 4,
 "nbformat_minor": 4
}
