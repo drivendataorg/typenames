{
 "cells": [
  {
   "cell_type": "code",
   "execution_count": 1,
   "metadata": {
    "execution": {
     "iopub.execute_input": "2023-02-19T18:47:51.535924Z",
     "iopub.status.busy": "2023-02-19T18:47:51.535614Z",
     "iopub.status.idle": "2023-02-19T18:47:51.543067Z",
     "shell.execute_reply": "2023-02-19T18:47:51.542257Z"
    }
   },
   "outputs": [],
   "source": [
    "import sys\n",
    "import typing"
   ]
  },
  {
   "cell_type": "code",
   "execution_count": 2,
   "metadata": {
    "execution": {
     "iopub.execute_input": "2023-02-19T18:47:51.546044Z",
     "iopub.status.busy": "2023-02-19T18:47:51.545792Z",
     "iopub.status.idle": "2023-02-19T18:47:51.553636Z",
     "shell.execute_reply": "2023-02-19T18:47:51.552870Z"
    }
   },
   "outputs": [
    {
     "data": {
      "text/plain": [
       "'3.11.2 (main, Feb 16 2023, 03:15:23) [Clang 14.0.0 (clang-1400.0.29.202)]'"
      ]
     },
     "execution_count": 2,
     "metadata": {},
     "output_type": "execute_result"
    }
   ],
   "source": [
    "sys.version"
   ]
  },
  {
   "cell_type": "markdown",
   "metadata": {},
   "source": [
    "## Union"
   ]
  },
  {
   "cell_type": "markdown",
   "metadata": {},
   "source": [
    "### typing.Union (Generic Alias)"
   ]
  },
  {
   "cell_type": "code",
   "execution_count": 3,
   "metadata": {
    "execution": {
     "iopub.execute_input": "2023-02-19T18:47:51.590947Z",
     "iopub.status.busy": "2023-02-19T18:47:51.590692Z",
     "iopub.status.idle": "2023-02-19T18:47:51.594937Z",
     "shell.execute_reply": "2023-02-19T18:47:51.594335Z"
    }
   },
   "outputs": [
    {
     "data": {
      "text/plain": [
       "typing.Union[int, str]"
      ]
     },
     "execution_count": 3,
     "metadata": {},
     "output_type": "execute_result"
    }
   ],
   "source": [
    "tp_union = typing.Union[int, str]\n",
    "tp_union"
   ]
  },
  {
   "cell_type": "code",
   "execution_count": 4,
   "metadata": {
    "execution": {
     "iopub.execute_input": "2023-02-19T18:47:51.597099Z",
     "iopub.status.busy": "2023-02-19T18:47:51.596907Z",
     "iopub.status.idle": "2023-02-19T18:47:51.600411Z",
     "shell.execute_reply": "2023-02-19T18:47:51.599907Z"
    }
   },
   "outputs": [
    {
     "data": {
      "text/plain": [
       "typing._UnionGenericAlias"
      ]
     },
     "execution_count": 4,
     "metadata": {},
     "output_type": "execute_result"
    }
   ],
   "source": [
    "type(tp_union)"
   ]
  },
  {
   "cell_type": "code",
   "execution_count": 5,
   "metadata": {
    "execution": {
     "iopub.execute_input": "2023-02-19T18:47:51.602660Z",
     "iopub.status.busy": "2023-02-19T18:47:51.602274Z",
     "iopub.status.idle": "2023-02-19T18:47:51.605880Z",
     "shell.execute_reply": "2023-02-19T18:47:51.605413Z"
    }
   },
   "outputs": [
    {
     "data": {
      "text/plain": [
       "(typing._UnionGenericAlias,\n",
       " typing._NotIterable,\n",
       " typing._GenericAlias,\n",
       " typing._BaseGenericAlias,\n",
       " typing._Final,\n",
       " object)"
      ]
     },
     "execution_count": 5,
     "metadata": {},
     "output_type": "execute_result"
    }
   ],
   "source": [
    "type(tp_union).__mro__"
   ]
  },
  {
   "cell_type": "code",
   "execution_count": 6,
   "metadata": {
    "execution": {
     "iopub.execute_input": "2023-02-19T18:47:51.607921Z",
     "iopub.status.busy": "2023-02-19T18:47:51.607733Z",
     "iopub.status.idle": "2023-02-19T18:47:51.610103Z",
     "shell.execute_reply": "2023-02-19T18:47:51.609654Z"
    }
   },
   "outputs": [],
   "source": [
    "tp_union._name"
   ]
  },
  {
   "cell_type": "code",
   "execution_count": 7,
   "metadata": {
    "execution": {
     "iopub.execute_input": "2023-02-19T18:47:51.611863Z",
     "iopub.status.busy": "2023-02-19T18:47:51.611698Z",
     "iopub.status.idle": "2023-02-19T18:47:51.614689Z",
     "shell.execute_reply": "2023-02-19T18:47:51.614281Z"
    }
   },
   "outputs": [
    {
     "data": {
      "text/plain": [
       "'Union'"
      ]
     },
     "execution_count": 7,
     "metadata": {},
     "output_type": "execute_result"
    }
   ],
   "source": [
    "tp_union.__name__"
   ]
  },
  {
   "cell_type": "code",
   "execution_count": 8,
   "metadata": {
    "execution": {
     "iopub.execute_input": "2023-02-19T18:47:51.616393Z",
     "iopub.status.busy": "2023-02-19T18:47:51.616225Z",
     "iopub.status.idle": "2023-02-19T18:47:51.619533Z",
     "shell.execute_reply": "2023-02-19T18:47:51.619102Z"
    }
   },
   "outputs": [
    {
     "data": {
      "text/plain": [
       "typing.Union"
      ]
     },
     "execution_count": 8,
     "metadata": {},
     "output_type": "execute_result"
    }
   ],
   "source": [
    "origin_union = typing.get_origin(tp_union)\n",
    "origin_union"
   ]
  },
  {
   "cell_type": "code",
   "execution_count": 9,
   "metadata": {
    "execution": {
     "iopub.execute_input": "2023-02-19T18:47:51.621528Z",
     "iopub.status.busy": "2023-02-19T18:47:51.621331Z",
     "iopub.status.idle": "2023-02-19T18:47:51.624682Z",
     "shell.execute_reply": "2023-02-19T18:47:51.624145Z"
    }
   },
   "outputs": [
    {
     "data": {
      "text/plain": [
       "typing._SpecialForm"
      ]
     },
     "execution_count": 9,
     "metadata": {},
     "output_type": "execute_result"
    }
   ],
   "source": [
    "type(origin_union)"
   ]
  },
  {
   "cell_type": "code",
   "execution_count": 10,
   "metadata": {
    "execution": {
     "iopub.execute_input": "2023-02-19T18:47:51.627264Z",
     "iopub.status.busy": "2023-02-19T18:47:51.627085Z",
     "iopub.status.idle": "2023-02-19T18:47:51.630248Z",
     "shell.execute_reply": "2023-02-19T18:47:51.629823Z"
    }
   },
   "outputs": [
    {
     "data": {
      "text/plain": [
       "(typing._SpecialForm, typing._Final, typing._NotIterable, object)"
      ]
     },
     "execution_count": 10,
     "metadata": {},
     "output_type": "execute_result"
    }
   ],
   "source": [
    "type(origin_union).__mro__"
   ]
  },
  {
   "cell_type": "code",
   "execution_count": 11,
   "metadata": {
    "execution": {
     "iopub.execute_input": "2023-02-19T18:47:51.632176Z",
     "iopub.status.busy": "2023-02-19T18:47:51.631988Z",
     "iopub.status.idle": "2023-02-19T18:47:51.634987Z",
     "shell.execute_reply": "2023-02-19T18:47:51.634556Z"
    }
   },
   "outputs": [
    {
     "data": {
      "text/plain": [
       "'Union'"
      ]
     },
     "execution_count": 11,
     "metadata": {},
     "output_type": "execute_result"
    }
   ],
   "source": [
    "origin_union._name"
   ]
  },
  {
   "cell_type": "code",
   "execution_count": 12,
   "metadata": {
    "execution": {
     "iopub.execute_input": "2023-02-19T18:47:51.636842Z",
     "iopub.status.busy": "2023-02-19T18:47:51.636663Z",
     "iopub.status.idle": "2023-02-19T18:47:51.639697Z",
     "shell.execute_reply": "2023-02-19T18:47:51.639261Z"
    }
   },
   "outputs": [
    {
     "data": {
      "text/plain": [
       "'Union'"
      ]
     },
     "execution_count": 12,
     "metadata": {},
     "output_type": "execute_result"
    }
   ],
   "source": [
    "origin_union.__name__"
   ]
  },
  {
   "cell_type": "markdown",
   "metadata": {},
   "source": [
    "### | (bitwise or) operator"
   ]
  },
  {
   "cell_type": "code",
   "execution_count": 13,
   "metadata": {
    "execution": {
     "iopub.execute_input": "2023-02-19T18:47:51.641436Z",
     "iopub.status.busy": "2023-02-19T18:47:51.641280Z",
     "iopub.status.idle": "2023-02-19T18:47:51.644340Z",
     "shell.execute_reply": "2023-02-19T18:47:51.643935Z"
    },
    "tags": []
   },
   "outputs": [
    {
     "data": {
      "text/plain": [
       "int | str"
      ]
     },
     "execution_count": 13,
     "metadata": {},
     "output_type": "execute_result"
    }
   ],
   "source": [
    "tp_or = int | str\n",
    "tp_or"
   ]
  },
  {
   "cell_type": "code",
   "execution_count": 14,
   "metadata": {
    "execution": {
     "iopub.execute_input": "2023-02-19T18:47:51.645966Z",
     "iopub.status.busy": "2023-02-19T18:47:51.645814Z",
     "iopub.status.idle": "2023-02-19T18:47:51.648601Z",
     "shell.execute_reply": "2023-02-19T18:47:51.648189Z"
    },
    "tags": []
   },
   "outputs": [
    {
     "data": {
      "text/plain": [
       "types.UnionType"
      ]
     },
     "execution_count": 14,
     "metadata": {},
     "output_type": "execute_result"
    }
   ],
   "source": [
    "type(tp_or)"
   ]
  },
  {
   "cell_type": "code",
   "execution_count": 15,
   "metadata": {
    "execution": {
     "iopub.execute_input": "2023-02-19T18:47:51.650251Z",
     "iopub.status.busy": "2023-02-19T18:47:51.650099Z",
     "iopub.status.idle": "2023-02-19T18:47:51.652972Z",
     "shell.execute_reply": "2023-02-19T18:47:51.652596Z"
    },
    "tags": []
   },
   "outputs": [
    {
     "data": {
      "text/plain": [
       "(types.UnionType, object)"
      ]
     },
     "execution_count": 15,
     "metadata": {},
     "output_type": "execute_result"
    }
   ],
   "source": [
    "type(tp_or).__mro__"
   ]
  },
  {
   "cell_type": "code",
   "execution_count": 16,
   "metadata": {
    "execution": {
     "iopub.execute_input": "2023-02-19T18:47:51.654572Z",
     "iopub.status.busy": "2023-02-19T18:47:51.654422Z",
     "iopub.status.idle": "2023-02-19T18:47:51.657376Z",
     "shell.execute_reply": "2023-02-19T18:47:51.656960Z"
    },
    "tags": []
   },
   "outputs": [
    {
     "data": {
      "text/plain": [
       "types.UnionType"
      ]
     },
     "execution_count": 16,
     "metadata": {},
     "output_type": "execute_result"
    }
   ],
   "source": [
    "origin_or = typing.get_origin(tp_or)\n",
    "origin_or"
   ]
  },
  {
   "cell_type": "code",
   "execution_count": 17,
   "metadata": {
    "execution": {
     "iopub.execute_input": "2023-02-19T18:47:51.659057Z",
     "iopub.status.busy": "2023-02-19T18:47:51.658902Z",
     "iopub.status.idle": "2023-02-19T18:47:51.661856Z",
     "shell.execute_reply": "2023-02-19T18:47:51.661403Z"
    },
    "tags": []
   },
   "outputs": [
    {
     "data": {
      "text/plain": [
       "type"
      ]
     },
     "execution_count": 17,
     "metadata": {},
     "output_type": "execute_result"
    }
   ],
   "source": [
    "type(origin_or)"
   ]
  },
  {
   "cell_type": "code",
   "execution_count": 18,
   "metadata": {
    "execution": {
     "iopub.execute_input": "2023-02-19T18:47:51.663526Z",
     "iopub.status.busy": "2023-02-19T18:47:51.663370Z",
     "iopub.status.idle": "2023-02-19T18:47:51.666259Z",
     "shell.execute_reply": "2023-02-19T18:47:51.665876Z"
    },
    "tags": []
   },
   "outputs": [
    {
     "data": {
      "text/plain": [
       "(type, object)"
      ]
     },
     "execution_count": 18,
     "metadata": {},
     "output_type": "execute_result"
    }
   ],
   "source": [
    "type(origin_or).__mro__"
   ]
  },
  {
   "cell_type": "code",
   "execution_count": 19,
   "metadata": {
    "execution": {
     "iopub.execute_input": "2023-02-19T18:47:51.667880Z",
     "iopub.status.busy": "2023-02-19T18:47:51.667723Z",
     "iopub.status.idle": "2023-02-19T18:47:51.763821Z",
     "shell.execute_reply": "2023-02-19T18:47:51.763357Z"
    },
    "tags": []
   },
   "outputs": [
    {
     "ename": "AttributeError",
     "evalue": "type object 'types.UnionType' has no attribute '_name'",
     "output_type": "error",
     "traceback": [
      "\u001b[0;31m---------------------------------------------------------------------------\u001b[0m",
      "\u001b[0;31mAttributeError\u001b[0m                            Traceback (most recent call last)",
      "Cell \u001b[0;32mIn[19], line 1\u001b[0m\n\u001b[0;32m----> 1\u001b[0m \u001b[43morigin_or\u001b[49m\u001b[38;5;241;43m.\u001b[39;49m\u001b[43m_name\u001b[49m\n",
      "\u001b[0;31mAttributeError\u001b[0m: type object 'types.UnionType' has no attribute '_name'"
     ]
    }
   ],
   "source": [
    "origin_or._name"
   ]
  },
  {
   "cell_type": "code",
   "execution_count": 20,
   "metadata": {
    "execution": {
     "iopub.execute_input": "2023-02-19T18:47:51.765820Z",
     "iopub.status.busy": "2023-02-19T18:47:51.765646Z",
     "iopub.status.idle": "2023-02-19T18:47:51.768797Z",
     "shell.execute_reply": "2023-02-19T18:47:51.768376Z"
    },
    "tags": []
   },
   "outputs": [
    {
     "data": {
      "text/plain": [
       "'UnionType'"
      ]
     },
     "execution_count": 20,
     "metadata": {},
     "output_type": "execute_result"
    }
   ],
   "source": [
    "origin_or.__name__"
   ]
  },
  {
   "cell_type": "markdown",
   "metadata": {},
   "source": [
    "## Optional"
   ]
  },
  {
   "cell_type": "markdown",
   "metadata": {},
   "source": [
    "### typing.Optional (Generic Alias)"
   ]
  },
  {
   "cell_type": "code",
   "execution_count": 21,
   "metadata": {
    "execution": {
     "iopub.execute_input": "2023-02-19T18:47:51.770658Z",
     "iopub.status.busy": "2023-02-19T18:47:51.770499Z",
     "iopub.status.idle": "2023-02-19T18:47:51.773516Z",
     "shell.execute_reply": "2023-02-19T18:47:51.773137Z"
    }
   },
   "outputs": [
    {
     "data": {
      "text/plain": [
       "typing.Optional[int]"
      ]
     },
     "execution_count": 21,
     "metadata": {},
     "output_type": "execute_result"
    }
   ],
   "source": [
    "tp_optional = typing.Optional[int]\n",
    "tp_optional"
   ]
  },
  {
   "cell_type": "code",
   "execution_count": 22,
   "metadata": {
    "execution": {
     "iopub.execute_input": "2023-02-19T18:47:51.775149Z",
     "iopub.status.busy": "2023-02-19T18:47:51.774996Z",
     "iopub.status.idle": "2023-02-19T18:47:51.777867Z",
     "shell.execute_reply": "2023-02-19T18:47:51.777485Z"
    }
   },
   "outputs": [
    {
     "data": {
      "text/plain": [
       "typing._UnionGenericAlias"
      ]
     },
     "execution_count": 22,
     "metadata": {},
     "output_type": "execute_result"
    }
   ],
   "source": [
    "type(tp_optional)"
   ]
  },
  {
   "cell_type": "code",
   "execution_count": 23,
   "metadata": {
    "execution": {
     "iopub.execute_input": "2023-02-19T18:47:51.779501Z",
     "iopub.status.busy": "2023-02-19T18:47:51.779349Z",
     "iopub.status.idle": "2023-02-19T18:47:51.782423Z",
     "shell.execute_reply": "2023-02-19T18:47:51.781959Z"
    }
   },
   "outputs": [
    {
     "data": {
      "text/plain": [
       "(typing._UnionGenericAlias,\n",
       " typing._NotIterable,\n",
       " typing._GenericAlias,\n",
       " typing._BaseGenericAlias,\n",
       " typing._Final,\n",
       " object)"
      ]
     },
     "execution_count": 23,
     "metadata": {},
     "output_type": "execute_result"
    }
   ],
   "source": [
    "type(tp_optional).__mro__"
   ]
  },
  {
   "cell_type": "code",
   "execution_count": 24,
   "metadata": {
    "execution": {
     "iopub.execute_input": "2023-02-19T18:47:51.784083Z",
     "iopub.status.busy": "2023-02-19T18:47:51.783903Z",
     "iopub.status.idle": "2023-02-19T18:47:51.786787Z",
     "shell.execute_reply": "2023-02-19T18:47:51.786410Z"
    },
    "tags": []
   },
   "outputs": [
    {
     "data": {
      "text/plain": [
       "'Optional'"
      ]
     },
     "execution_count": 24,
     "metadata": {},
     "output_type": "execute_result"
    }
   ],
   "source": [
    "tp_optional._name"
   ]
  },
  {
   "cell_type": "code",
   "execution_count": 25,
   "metadata": {
    "execution": {
     "iopub.execute_input": "2023-02-19T18:47:51.788419Z",
     "iopub.status.busy": "2023-02-19T18:47:51.788268Z",
     "iopub.status.idle": "2023-02-19T18:47:51.791274Z",
     "shell.execute_reply": "2023-02-19T18:47:51.790881Z"
    },
    "tags": []
   },
   "outputs": [
    {
     "data": {
      "text/plain": [
       "'Optional'"
      ]
     },
     "execution_count": 25,
     "metadata": {},
     "output_type": "execute_result"
    }
   ],
   "source": [
    "tp_optional.__name__"
   ]
  },
  {
   "cell_type": "code",
   "execution_count": 26,
   "metadata": {
    "execution": {
     "iopub.execute_input": "2023-02-19T18:47:51.792915Z",
     "iopub.status.busy": "2023-02-19T18:47:51.792762Z",
     "iopub.status.idle": "2023-02-19T18:47:51.795682Z",
     "shell.execute_reply": "2023-02-19T18:47:51.795314Z"
    }
   },
   "outputs": [
    {
     "data": {
      "text/plain": [
       "typing.Union"
      ]
     },
     "execution_count": 26,
     "metadata": {},
     "output_type": "execute_result"
    }
   ],
   "source": [
    "origin_optional = typing.get_origin(tp_optional)\n",
    "origin_optional"
   ]
  },
  {
   "cell_type": "code",
   "execution_count": 27,
   "metadata": {
    "execution": {
     "iopub.execute_input": "2023-02-19T18:47:51.797333Z",
     "iopub.status.busy": "2023-02-19T18:47:51.797169Z",
     "iopub.status.idle": "2023-02-19T18:47:51.800107Z",
     "shell.execute_reply": "2023-02-19T18:47:51.799659Z"
    }
   },
   "outputs": [
    {
     "data": {
      "text/plain": [
       "typing._SpecialForm"
      ]
     },
     "execution_count": 27,
     "metadata": {},
     "output_type": "execute_result"
    }
   ],
   "source": [
    "type(origin_optional)"
   ]
  },
  {
   "cell_type": "code",
   "execution_count": 28,
   "metadata": {
    "execution": {
     "iopub.execute_input": "2023-02-19T18:47:51.801659Z",
     "iopub.status.busy": "2023-02-19T18:47:51.801508Z",
     "iopub.status.idle": "2023-02-19T18:47:51.804554Z",
     "shell.execute_reply": "2023-02-19T18:47:51.804166Z"
    }
   },
   "outputs": [
    {
     "data": {
      "text/plain": [
       "(typing._SpecialForm, typing._Final, typing._NotIterable, object)"
      ]
     },
     "execution_count": 28,
     "metadata": {},
     "output_type": "execute_result"
    }
   ],
   "source": [
    "type(origin_optional).__mro__"
   ]
  },
  {
   "cell_type": "code",
   "execution_count": 29,
   "metadata": {
    "execution": {
     "iopub.execute_input": "2023-02-19T18:47:51.806173Z",
     "iopub.status.busy": "2023-02-19T18:47:51.806016Z",
     "iopub.status.idle": "2023-02-19T18:47:51.808905Z",
     "shell.execute_reply": "2023-02-19T18:47:51.808528Z"
    },
    "tags": []
   },
   "outputs": [
    {
     "data": {
      "text/plain": [
       "'Union'"
      ]
     },
     "execution_count": 29,
     "metadata": {},
     "output_type": "execute_result"
    }
   ],
   "source": [
    "origin_optional._name"
   ]
  },
  {
   "cell_type": "code",
   "execution_count": 30,
   "metadata": {
    "execution": {
     "iopub.execute_input": "2023-02-19T18:47:51.810495Z",
     "iopub.status.busy": "2023-02-19T18:47:51.810342Z",
     "iopub.status.idle": "2023-02-19T18:47:51.813212Z",
     "shell.execute_reply": "2023-02-19T18:47:51.812831Z"
    },
    "tags": []
   },
   "outputs": [
    {
     "data": {
      "text/plain": [
       "'Union'"
      ]
     },
     "execution_count": 30,
     "metadata": {},
     "output_type": "execute_result"
    }
   ],
   "source": [
    "origin_optional.__name__"
   ]
  },
  {
   "cell_type": "markdown",
   "metadata": {},
   "source": [
    "### | (bitwise or) Operator"
   ]
  },
  {
   "cell_type": "code",
   "execution_count": 31,
   "metadata": {
    "execution": {
     "iopub.execute_input": "2023-02-19T18:47:51.814848Z",
     "iopub.status.busy": "2023-02-19T18:47:51.814697Z",
     "iopub.status.idle": "2023-02-19T18:47:51.817596Z",
     "shell.execute_reply": "2023-02-19T18:47:51.817221Z"
    },
    "tags": []
   },
   "outputs": [
    {
     "data": {
      "text/plain": [
       "int | None"
      ]
     },
     "execution_count": 31,
     "metadata": {},
     "output_type": "execute_result"
    }
   ],
   "source": [
    "tp_or_none = int | None\n",
    "tp_or_none"
   ]
  },
  {
   "cell_type": "code",
   "execution_count": 32,
   "metadata": {
    "execution": {
     "iopub.execute_input": "2023-02-19T18:47:51.819220Z",
     "iopub.status.busy": "2023-02-19T18:47:51.819066Z",
     "iopub.status.idle": "2023-02-19T18:47:51.821957Z",
     "shell.execute_reply": "2023-02-19T18:47:51.821581Z"
    },
    "tags": []
   },
   "outputs": [
    {
     "data": {
      "text/plain": [
       "types.UnionType"
      ]
     },
     "execution_count": 32,
     "metadata": {},
     "output_type": "execute_result"
    }
   ],
   "source": [
    "type(tp_or_none)"
   ]
  },
  {
   "cell_type": "code",
   "execution_count": 33,
   "metadata": {
    "execution": {
     "iopub.execute_input": "2023-02-19T18:47:51.823609Z",
     "iopub.status.busy": "2023-02-19T18:47:51.823446Z",
     "iopub.status.idle": "2023-02-19T18:47:51.826564Z",
     "shell.execute_reply": "2023-02-19T18:47:51.826040Z"
    },
    "tags": []
   },
   "outputs": [
    {
     "data": {
      "text/plain": [
       "(types.UnionType, object)"
      ]
     },
     "execution_count": 33,
     "metadata": {},
     "output_type": "execute_result"
    }
   ],
   "source": [
    "type(tp_or_none).__mro__"
   ]
  },
  {
   "cell_type": "code",
   "execution_count": 34,
   "metadata": {
    "execution": {
     "iopub.execute_input": "2023-02-19T18:47:51.828205Z",
     "iopub.status.busy": "2023-02-19T18:47:51.828039Z",
     "iopub.status.idle": "2023-02-19T18:47:51.837016Z",
     "shell.execute_reply": "2023-02-19T18:47:51.836620Z"
    },
    "tags": []
   },
   "outputs": [
    {
     "ename": "AttributeError",
     "evalue": "'types.UnionType' object has no attribute '_name'",
     "output_type": "error",
     "traceback": [
      "\u001b[0;31m---------------------------------------------------------------------------\u001b[0m",
      "\u001b[0;31mAttributeError\u001b[0m                            Traceback (most recent call last)",
      "Cell \u001b[0;32mIn[34], line 1\u001b[0m\n\u001b[0;32m----> 1\u001b[0m \u001b[43mtp_or_none\u001b[49m\u001b[38;5;241;43m.\u001b[39;49m\u001b[43m_name\u001b[49m\n",
      "\u001b[0;31mAttributeError\u001b[0m: 'types.UnionType' object has no attribute '_name'"
     ]
    }
   ],
   "source": [
    "tp_or_none._name"
   ]
  },
  {
   "cell_type": "code",
   "execution_count": 35,
   "metadata": {
    "execution": {
     "iopub.execute_input": "2023-02-19T18:47:51.838854Z",
     "iopub.status.busy": "2023-02-19T18:47:51.838567Z",
     "iopub.status.idle": "2023-02-19T18:47:51.847441Z",
     "shell.execute_reply": "2023-02-19T18:47:51.846907Z"
    },
    "tags": []
   },
   "outputs": [
    {
     "ename": "AttributeError",
     "evalue": "'types.UnionType' object has no attribute '__name__'",
     "output_type": "error",
     "traceback": [
      "\u001b[0;31m---------------------------------------------------------------------------\u001b[0m",
      "\u001b[0;31mAttributeError\u001b[0m                            Traceback (most recent call last)",
      "Cell \u001b[0;32mIn[35], line 1\u001b[0m\n\u001b[0;32m----> 1\u001b[0m \u001b[43mtp_or_none\u001b[49m\u001b[38;5;241;43m.\u001b[39;49m\u001b[38;5;18;43m__name__\u001b[39;49m\n",
      "\u001b[0;31mAttributeError\u001b[0m: 'types.UnionType' object has no attribute '__name__'"
     ]
    }
   ],
   "source": [
    "tp_or_none.__name__"
   ]
  },
  {
   "cell_type": "code",
   "execution_count": 36,
   "metadata": {
    "execution": {
     "iopub.execute_input": "2023-02-19T18:47:51.849489Z",
     "iopub.status.busy": "2023-02-19T18:47:51.849322Z",
     "iopub.status.idle": "2023-02-19T18:47:51.852647Z",
     "shell.execute_reply": "2023-02-19T18:47:51.852241Z"
    },
    "tags": []
   },
   "outputs": [
    {
     "data": {
      "text/plain": [
       "types.UnionType"
      ]
     },
     "execution_count": 36,
     "metadata": {},
     "output_type": "execute_result"
    }
   ],
   "source": [
    "origin_or_none = typing.get_origin(tp_or_none)\n",
    "origin_or_none"
   ]
  },
  {
   "cell_type": "code",
   "execution_count": 37,
   "metadata": {
    "execution": {
     "iopub.execute_input": "2023-02-19T18:47:51.854314Z",
     "iopub.status.busy": "2023-02-19T18:47:51.854159Z",
     "iopub.status.idle": "2023-02-19T18:47:51.857092Z",
     "shell.execute_reply": "2023-02-19T18:47:51.856698Z"
    },
    "tags": []
   },
   "outputs": [
    {
     "data": {
      "text/plain": [
       "type"
      ]
     },
     "execution_count": 37,
     "metadata": {},
     "output_type": "execute_result"
    }
   ],
   "source": [
    "type(origin_or_none)"
   ]
  },
  {
   "cell_type": "code",
   "execution_count": 38,
   "metadata": {
    "execution": {
     "iopub.execute_input": "2023-02-19T18:47:51.858780Z",
     "iopub.status.busy": "2023-02-19T18:47:51.858538Z",
     "iopub.status.idle": "2023-02-19T18:47:51.861638Z",
     "shell.execute_reply": "2023-02-19T18:47:51.861251Z"
    },
    "tags": []
   },
   "outputs": [
    {
     "data": {
      "text/plain": [
       "(type, object)"
      ]
     },
     "execution_count": 38,
     "metadata": {},
     "output_type": "execute_result"
    }
   ],
   "source": [
    "type(origin_or_none).__mro__"
   ]
  },
  {
   "cell_type": "code",
   "execution_count": 39,
   "metadata": {
    "execution": {
     "iopub.execute_input": "2023-02-19T18:47:51.863385Z",
     "iopub.status.busy": "2023-02-19T18:47:51.863231Z",
     "iopub.status.idle": "2023-02-19T18:47:51.872389Z",
     "shell.execute_reply": "2023-02-19T18:47:51.871705Z"
    },
    "tags": []
   },
   "outputs": [
    {
     "ename": "AttributeError",
     "evalue": "type object 'types.UnionType' has no attribute '_name'",
     "output_type": "error",
     "traceback": [
      "\u001b[0;31m---------------------------------------------------------------------------\u001b[0m",
      "\u001b[0;31mAttributeError\u001b[0m                            Traceback (most recent call last)",
      "Cell \u001b[0;32mIn[39], line 1\u001b[0m\n\u001b[0;32m----> 1\u001b[0m \u001b[43morigin_or_none\u001b[49m\u001b[38;5;241;43m.\u001b[39;49m\u001b[43m_name\u001b[49m\n",
      "\u001b[0;31mAttributeError\u001b[0m: type object 'types.UnionType' has no attribute '_name'"
     ]
    }
   ],
   "source": [
    "origin_or_none._name"
   ]
  },
  {
   "cell_type": "code",
   "execution_count": 40,
   "metadata": {
    "execution": {
     "iopub.execute_input": "2023-02-19T18:47:51.874331Z",
     "iopub.status.busy": "2023-02-19T18:47:51.874176Z",
     "iopub.status.idle": "2023-02-19T18:47:51.877056Z",
     "shell.execute_reply": "2023-02-19T18:47:51.876574Z"
    },
    "tags": []
   },
   "outputs": [
    {
     "data": {
      "text/plain": [
       "'UnionType'"
      ]
     },
     "execution_count": 40,
     "metadata": {},
     "output_type": "execute_result"
    }
   ],
   "source": [
    "origin_or_none.__name__"
   ]
  },
  {
   "cell_type": "markdown",
   "metadata": {},
   "source": [
    "## Standard Collections"
   ]
  },
  {
   "cell_type": "markdown",
   "metadata": {},
   "source": [
    "### typing Module Aliases"
   ]
  },
  {
   "cell_type": "code",
   "execution_count": 41,
   "metadata": {
    "execution": {
     "iopub.execute_input": "2023-02-19T18:47:51.878965Z",
     "iopub.status.busy": "2023-02-19T18:47:51.878791Z",
     "iopub.status.idle": "2023-02-19T18:47:51.881817Z",
     "shell.execute_reply": "2023-02-19T18:47:51.881411Z"
    }
   },
   "outputs": [
    {
     "data": {
      "text/plain": [
       "typing.List[int]"
      ]
     },
     "execution_count": 41,
     "metadata": {},
     "output_type": "execute_result"
    }
   ],
   "source": [
    "tp_List = typing.List[int]\n",
    "tp_List"
   ]
  },
  {
   "cell_type": "code",
   "execution_count": 42,
   "metadata": {
    "execution": {
     "iopub.execute_input": "2023-02-19T18:47:51.883519Z",
     "iopub.status.busy": "2023-02-19T18:47:51.883356Z",
     "iopub.status.idle": "2023-02-19T18:47:51.886362Z",
     "shell.execute_reply": "2023-02-19T18:47:51.885964Z"
    }
   },
   "outputs": [
    {
     "data": {
      "text/plain": [
       "typing._GenericAlias"
      ]
     },
     "execution_count": 42,
     "metadata": {},
     "output_type": "execute_result"
    }
   ],
   "source": [
    "type(tp_List)"
   ]
  },
  {
   "cell_type": "code",
   "execution_count": 43,
   "metadata": {
    "execution": {
     "iopub.execute_input": "2023-02-19T18:47:51.888027Z",
     "iopub.status.busy": "2023-02-19T18:47:51.887871Z",
     "iopub.status.idle": "2023-02-19T18:47:51.890772Z",
     "shell.execute_reply": "2023-02-19T18:47:51.890404Z"
    }
   },
   "outputs": [
    {
     "data": {
      "text/plain": [
       "(typing._GenericAlias, typing._BaseGenericAlias, typing._Final, object)"
      ]
     },
     "execution_count": 43,
     "metadata": {},
     "output_type": "execute_result"
    }
   ],
   "source": [
    "type(tp_List).__mro__"
   ]
  },
  {
   "cell_type": "code",
   "execution_count": 44,
   "metadata": {
    "execution": {
     "iopub.execute_input": "2023-02-19T18:47:51.892407Z",
     "iopub.status.busy": "2023-02-19T18:47:51.892253Z",
     "iopub.status.idle": "2023-02-19T18:47:51.895063Z",
     "shell.execute_reply": "2023-02-19T18:47:51.894683Z"
    }
   },
   "outputs": [
    {
     "data": {
      "text/plain": [
       "'List'"
      ]
     },
     "execution_count": 44,
     "metadata": {},
     "output_type": "execute_result"
    }
   ],
   "source": [
    "tp_List._name"
   ]
  },
  {
   "cell_type": "code",
   "execution_count": 45,
   "metadata": {
    "execution": {
     "iopub.execute_input": "2023-02-19T18:47:51.896641Z",
     "iopub.status.busy": "2023-02-19T18:47:51.896486Z",
     "iopub.status.idle": "2023-02-19T18:47:51.899495Z",
     "shell.execute_reply": "2023-02-19T18:47:51.899107Z"
    },
    "tags": []
   },
   "outputs": [
    {
     "data": {
      "text/plain": [
       "'List'"
      ]
     },
     "execution_count": 45,
     "metadata": {},
     "output_type": "execute_result"
    }
   ],
   "source": [
    "tp_List.__name__"
   ]
  },
  {
   "cell_type": "code",
   "execution_count": 46,
   "metadata": {
    "execution": {
     "iopub.execute_input": "2023-02-19T18:47:51.901075Z",
     "iopub.status.busy": "2023-02-19T18:47:51.900923Z",
     "iopub.status.idle": "2023-02-19T18:47:51.903871Z",
     "shell.execute_reply": "2023-02-19T18:47:51.903481Z"
    }
   },
   "outputs": [
    {
     "data": {
      "text/plain": [
       "list"
      ]
     },
     "execution_count": 46,
     "metadata": {},
     "output_type": "execute_result"
    }
   ],
   "source": [
    "origin_List = typing.get_origin(tp_List)\n",
    "origin_List"
   ]
  },
  {
   "cell_type": "code",
   "execution_count": 47,
   "metadata": {
    "execution": {
     "iopub.execute_input": "2023-02-19T18:47:51.905540Z",
     "iopub.status.busy": "2023-02-19T18:47:51.905389Z",
     "iopub.status.idle": "2023-02-19T18:47:51.908257Z",
     "shell.execute_reply": "2023-02-19T18:47:51.907853Z"
    }
   },
   "outputs": [
    {
     "data": {
      "text/plain": [
       "type"
      ]
     },
     "execution_count": 47,
     "metadata": {},
     "output_type": "execute_result"
    }
   ],
   "source": [
    "type(origin_List)"
   ]
  },
  {
   "cell_type": "code",
   "execution_count": 48,
   "metadata": {
    "execution": {
     "iopub.execute_input": "2023-02-19T18:47:51.909909Z",
     "iopub.status.busy": "2023-02-19T18:47:51.909751Z",
     "iopub.status.idle": "2023-02-19T18:47:51.912658Z",
     "shell.execute_reply": "2023-02-19T18:47:51.912267Z"
    }
   },
   "outputs": [
    {
     "data": {
      "text/plain": [
       "tuple"
      ]
     },
     "execution_count": 48,
     "metadata": {},
     "output_type": "execute_result"
    }
   ],
   "source": [
    "type(origin_List.__mro__)"
   ]
  },
  {
   "cell_type": "code",
   "execution_count": 49,
   "metadata": {
    "execution": {
     "iopub.execute_input": "2023-02-19T18:47:51.914364Z",
     "iopub.status.busy": "2023-02-19T18:47:51.914204Z",
     "iopub.status.idle": "2023-02-19T18:47:51.923506Z",
     "shell.execute_reply": "2023-02-19T18:47:51.923076Z"
    },
    "tags": []
   },
   "outputs": [
    {
     "ename": "AttributeError",
     "evalue": "type object 'list' has no attribute '_name'",
     "output_type": "error",
     "traceback": [
      "\u001b[0;31m---------------------------------------------------------------------------\u001b[0m",
      "\u001b[0;31mAttributeError\u001b[0m                            Traceback (most recent call last)",
      "Cell \u001b[0;32mIn[49], line 1\u001b[0m\n\u001b[0;32m----> 1\u001b[0m \u001b[43morigin_List\u001b[49m\u001b[38;5;241;43m.\u001b[39;49m\u001b[43m_name\u001b[49m\n",
      "\u001b[0;31mAttributeError\u001b[0m: type object 'list' has no attribute '_name'"
     ]
    }
   ],
   "source": [
    "origin_List._name"
   ]
  },
  {
   "cell_type": "code",
   "execution_count": 50,
   "metadata": {
    "execution": {
     "iopub.execute_input": "2023-02-19T18:47:51.925388Z",
     "iopub.status.busy": "2023-02-19T18:47:51.925235Z",
     "iopub.status.idle": "2023-02-19T18:47:51.928253Z",
     "shell.execute_reply": "2023-02-19T18:47:51.927860Z"
    },
    "tags": []
   },
   "outputs": [
    {
     "data": {
      "text/plain": [
       "'list'"
      ]
     },
     "execution_count": 50,
     "metadata": {},
     "output_type": "execute_result"
    }
   ],
   "source": [
    "origin_List.__name__"
   ]
  },
  {
   "cell_type": "markdown",
   "metadata": {},
   "source": [
    "### Standard Collection Aliases"
   ]
  },
  {
   "cell_type": "code",
   "execution_count": 51,
   "metadata": {
    "execution": {
     "iopub.execute_input": "2023-02-19T18:47:51.930052Z",
     "iopub.status.busy": "2023-02-19T18:47:51.929900Z",
     "iopub.status.idle": "2023-02-19T18:47:51.933148Z",
     "shell.execute_reply": "2023-02-19T18:47:51.932710Z"
    },
    "tags": []
   },
   "outputs": [
    {
     "data": {
      "text/plain": [
       "list[int]"
      ]
     },
     "execution_count": 51,
     "metadata": {},
     "output_type": "execute_result"
    }
   ],
   "source": [
    "tp_list = list[int]\n",
    "tp_list"
   ]
  },
  {
   "cell_type": "code",
   "execution_count": 52,
   "metadata": {
    "execution": {
     "iopub.execute_input": "2023-02-19T18:47:51.934732Z",
     "iopub.status.busy": "2023-02-19T18:47:51.934583Z",
     "iopub.status.idle": "2023-02-19T18:47:51.937566Z",
     "shell.execute_reply": "2023-02-19T18:47:51.937177Z"
    },
    "tags": []
   },
   "outputs": [
    {
     "data": {
      "text/plain": [
       "types.GenericAlias"
      ]
     },
     "execution_count": 52,
     "metadata": {},
     "output_type": "execute_result"
    }
   ],
   "source": [
    "type(tp_list)"
   ]
  },
  {
   "cell_type": "code",
   "execution_count": 53,
   "metadata": {
    "execution": {
     "iopub.execute_input": "2023-02-19T18:47:51.939247Z",
     "iopub.status.busy": "2023-02-19T18:47:51.939096Z",
     "iopub.status.idle": "2023-02-19T18:47:51.942016Z",
     "shell.execute_reply": "2023-02-19T18:47:51.941632Z"
    },
    "tags": []
   },
   "outputs": [
    {
     "data": {
      "text/plain": [
       "(types.GenericAlias, object)"
      ]
     },
     "execution_count": 53,
     "metadata": {},
     "output_type": "execute_result"
    }
   ],
   "source": [
    "type(tp_list).__mro__"
   ]
  },
  {
   "cell_type": "code",
   "execution_count": 54,
   "metadata": {
    "execution": {
     "iopub.execute_input": "2023-02-19T18:47:51.943620Z",
     "iopub.status.busy": "2023-02-19T18:47:51.943467Z",
     "iopub.status.idle": "2023-02-19T18:47:51.952072Z",
     "shell.execute_reply": "2023-02-19T18:47:51.951603Z"
    },
    "tags": []
   },
   "outputs": [
    {
     "ename": "AttributeError",
     "evalue": "type object 'list' has no attribute '_name'",
     "output_type": "error",
     "traceback": [
      "\u001b[0;31m---------------------------------------------------------------------------\u001b[0m",
      "\u001b[0;31mAttributeError\u001b[0m                            Traceback (most recent call last)",
      "Cell \u001b[0;32mIn[54], line 1\u001b[0m\n\u001b[0;32m----> 1\u001b[0m \u001b[43mtp_list\u001b[49m\u001b[38;5;241;43m.\u001b[39;49m\u001b[43m_name\u001b[49m\n",
      "\u001b[0;31mAttributeError\u001b[0m: type object 'list' has no attribute '_name'"
     ]
    }
   ],
   "source": [
    "tp_list._name"
   ]
  },
  {
   "cell_type": "code",
   "execution_count": 55,
   "metadata": {
    "execution": {
     "iopub.execute_input": "2023-02-19T18:47:51.954373Z",
     "iopub.status.busy": "2023-02-19T18:47:51.954084Z",
     "iopub.status.idle": "2023-02-19T18:47:51.957105Z",
     "shell.execute_reply": "2023-02-19T18:47:51.956717Z"
    },
    "tags": []
   },
   "outputs": [
    {
     "data": {
      "text/plain": [
       "'list'"
      ]
     },
     "execution_count": 55,
     "metadata": {},
     "output_type": "execute_result"
    }
   ],
   "source": [
    "tp_list.__name__"
   ]
  },
  {
   "cell_type": "code",
   "execution_count": 56,
   "metadata": {
    "execution": {
     "iopub.execute_input": "2023-02-19T18:47:51.958776Z",
     "iopub.status.busy": "2023-02-19T18:47:51.958608Z",
     "iopub.status.idle": "2023-02-19T18:47:51.961546Z",
     "shell.execute_reply": "2023-02-19T18:47:51.961154Z"
    },
    "tags": []
   },
   "outputs": [
    {
     "data": {
      "text/plain": [
       "list"
      ]
     },
     "execution_count": 56,
     "metadata": {},
     "output_type": "execute_result"
    }
   ],
   "source": [
    "origin_list = typing.get_origin(tp_list)\n",
    "origin_list"
   ]
  },
  {
   "cell_type": "code",
   "execution_count": 57,
   "metadata": {
    "execution": {
     "iopub.execute_input": "2023-02-19T18:47:51.963174Z",
     "iopub.status.busy": "2023-02-19T18:47:51.963018Z",
     "iopub.status.idle": "2023-02-19T18:47:51.966070Z",
     "shell.execute_reply": "2023-02-19T18:47:51.965685Z"
    },
    "tags": []
   },
   "outputs": [
    {
     "data": {
      "text/plain": [
       "type"
      ]
     },
     "execution_count": 57,
     "metadata": {},
     "output_type": "execute_result"
    }
   ],
   "source": [
    "type(origin_list)"
   ]
  },
  {
   "cell_type": "code",
   "execution_count": 58,
   "metadata": {
    "execution": {
     "iopub.execute_input": "2023-02-19T18:47:51.967687Z",
     "iopub.status.busy": "2023-02-19T18:47:51.967534Z",
     "iopub.status.idle": "2023-02-19T18:47:51.970490Z",
     "shell.execute_reply": "2023-02-19T18:47:51.970078Z"
    },
    "tags": []
   },
   "outputs": [
    {
     "data": {
      "text/plain": [
       "(type, object)"
      ]
     },
     "execution_count": 58,
     "metadata": {},
     "output_type": "execute_result"
    }
   ],
   "source": [
    "type(origin_list).__mro__"
   ]
  },
  {
   "cell_type": "code",
   "execution_count": 59,
   "metadata": {
    "execution": {
     "iopub.execute_input": "2023-02-19T18:47:51.972101Z",
     "iopub.status.busy": "2023-02-19T18:47:51.971949Z",
     "iopub.status.idle": "2023-02-19T18:47:51.980644Z",
     "shell.execute_reply": "2023-02-19T18:47:51.980177Z"
    },
    "tags": []
   },
   "outputs": [
    {
     "ename": "AttributeError",
     "evalue": "type object 'list' has no attribute '_name'",
     "output_type": "error",
     "traceback": [
      "\u001b[0;31m---------------------------------------------------------------------------\u001b[0m",
      "\u001b[0;31mAttributeError\u001b[0m                            Traceback (most recent call last)",
      "Cell \u001b[0;32mIn[59], line 1\u001b[0m\n\u001b[0;32m----> 1\u001b[0m \u001b[43morigin_list\u001b[49m\u001b[38;5;241;43m.\u001b[39;49m\u001b[43m_name\u001b[49m\n",
      "\u001b[0;31mAttributeError\u001b[0m: type object 'list' has no attribute '_name'"
     ]
    }
   ],
   "source": [
    "origin_list._name"
   ]
  },
  {
   "cell_type": "code",
   "execution_count": 60,
   "metadata": {
    "execution": {
     "iopub.execute_input": "2023-02-19T18:47:51.982474Z",
     "iopub.status.busy": "2023-02-19T18:47:51.982196Z",
     "iopub.status.idle": "2023-02-19T18:47:51.985339Z",
     "shell.execute_reply": "2023-02-19T18:47:51.984920Z"
    },
    "tags": []
   },
   "outputs": [
    {
     "data": {
      "text/plain": [
       "'list'"
      ]
     },
     "execution_count": 60,
     "metadata": {},
     "output_type": "execute_result"
    }
   ],
   "source": [
    "origin_list.__name__"
   ]
  }
 ],
 "metadata": {
  "kernelspec": {
   "display_name": "Python 3 (ipykernel)",
   "language": "python",
   "name": "python3"
  },
  "language_info": {
   "codemirror_mode": {
    "name": "ipython",
    "version": 3
   },
   "file_extension": ".py",
   "mimetype": "text/x-python",
   "name": "python",
   "nbconvert_exporter": "python",
   "pygments_lexer": "ipython3",
   "version": "3.11.2"
  },
  "vscode": {
   "interpreter": {
    "hash": "80942b1bde6a4b6b83cda378767221fd5d0b42ef189a887432315083c1f66fc8"
   }
  }
 },
 "nbformat": 4,
 "nbformat_minor": 4
}
