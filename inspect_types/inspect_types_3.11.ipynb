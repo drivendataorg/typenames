{
 "cells": [
  {
   "cell_type": "code",
   "execution_count": 1,
   "metadata": {
    "execution": {
     "iopub.execute_input": "2023-02-19T19:14:24.925552Z",
     "iopub.status.busy": "2023-02-19T19:14:24.925249Z",
     "iopub.status.idle": "2023-02-19T19:14:24.933110Z",
     "shell.execute_reply": "2023-02-19T19:14:24.932301Z"
    }
   },
   "outputs": [],
   "source": [
    "import sys\n",
    "import typing\n",
    "try: \n",
    "    from typing import get_origin\n",
    "except ImportError:\n",
    "    from typing_extensions import get_origin"
   ]
  },
  {
   "cell_type": "code",
   "execution_count": 2,
   "metadata": {
    "execution": {
     "iopub.execute_input": "2023-02-19T19:14:24.936043Z",
     "iopub.status.busy": "2023-02-19T19:14:24.935778Z",
     "iopub.status.idle": "2023-02-19T19:14:24.942139Z",
     "shell.execute_reply": "2023-02-19T19:14:24.941455Z"
    }
   },
   "outputs": [
    {
     "data": {
      "text/plain": [
       "'3.11.2 (main, Feb 16 2023, 03:15:23) [Clang 14.0.0 (clang-1400.0.29.202)]'"
      ]
     },
     "execution_count": 2,
     "metadata": {},
     "output_type": "execute_result"
    }
   ],
   "source": [
    "sys.version"
   ]
  },
  {
   "cell_type": "markdown",
   "metadata": {},
   "source": [
    "## Union"
   ]
  },
  {
   "cell_type": "markdown",
   "metadata": {},
   "source": [
    "### typing.Union (Generic Alias)"
   ]
  },
  {
   "cell_type": "code",
   "execution_count": 3,
   "metadata": {
    "execution": {
     "iopub.execute_input": "2023-02-19T19:14:24.978515Z",
     "iopub.status.busy": "2023-02-19T19:14:24.978263Z",
     "iopub.status.idle": "2023-02-19T19:14:24.982077Z",
     "shell.execute_reply": "2023-02-19T19:14:24.981620Z"
    }
   },
   "outputs": [
    {
     "data": {
      "text/plain": [
       "typing.Union[int, str]"
      ]
     },
     "execution_count": 3,
     "metadata": {},
     "output_type": "execute_result"
    }
   ],
   "source": [
    "tp_union = typing.Union[int, str]\n",
    "tp_union"
   ]
  },
  {
   "cell_type": "code",
   "execution_count": 4,
   "metadata": {
    "execution": {
     "iopub.execute_input": "2023-02-19T19:14:24.984207Z",
     "iopub.status.busy": "2023-02-19T19:14:24.984008Z",
     "iopub.status.idle": "2023-02-19T19:14:24.987377Z",
     "shell.execute_reply": "2023-02-19T19:14:24.986919Z"
    }
   },
   "outputs": [
    {
     "data": {
      "text/plain": [
       "typing._UnionGenericAlias"
      ]
     },
     "execution_count": 4,
     "metadata": {},
     "output_type": "execute_result"
    }
   ],
   "source": [
    "type(tp_union)"
   ]
  },
  {
   "cell_type": "code",
   "execution_count": 5,
   "metadata": {
    "execution": {
     "iopub.execute_input": "2023-02-19T19:14:24.989367Z",
     "iopub.status.busy": "2023-02-19T19:14:24.989186Z",
     "iopub.status.idle": "2023-02-19T19:14:24.992620Z",
     "shell.execute_reply": "2023-02-19T19:14:24.992136Z"
    }
   },
   "outputs": [
    {
     "data": {
      "text/plain": [
       "(typing._UnionGenericAlias,\n",
       " typing._NotIterable,\n",
       " typing._GenericAlias,\n",
       " typing._BaseGenericAlias,\n",
       " typing._Final,\n",
       " object)"
      ]
     },
     "execution_count": 5,
     "metadata": {},
     "output_type": "execute_result"
    }
   ],
   "source": [
    "type(tp_union).__mro__"
   ]
  },
  {
   "cell_type": "code",
   "execution_count": 6,
   "metadata": {
    "execution": {
     "iopub.execute_input": "2023-02-19T19:14:24.994724Z",
     "iopub.status.busy": "2023-02-19T19:14:24.994537Z",
     "iopub.status.idle": "2023-02-19T19:14:24.996878Z",
     "shell.execute_reply": "2023-02-19T19:14:24.996475Z"
    }
   },
   "outputs": [],
   "source": [
    "tp_union._name"
   ]
  },
  {
   "cell_type": "code",
   "execution_count": 7,
   "metadata": {
    "execution": {
     "iopub.execute_input": "2023-02-19T19:14:24.998692Z",
     "iopub.status.busy": "2023-02-19T19:14:24.998521Z",
     "iopub.status.idle": "2023-02-19T19:14:25.001696Z",
     "shell.execute_reply": "2023-02-19T19:14:25.001294Z"
    }
   },
   "outputs": [
    {
     "data": {
      "text/plain": [
       "'Union'"
      ]
     },
     "execution_count": 7,
     "metadata": {},
     "output_type": "execute_result"
    }
   ],
   "source": [
    "tp_union.__name__"
   ]
  },
  {
   "cell_type": "code",
   "execution_count": 8,
   "metadata": {
    "execution": {
     "iopub.execute_input": "2023-02-19T19:14:25.003405Z",
     "iopub.status.busy": "2023-02-19T19:14:25.003219Z",
     "iopub.status.idle": "2023-02-19T19:14:25.006238Z",
     "shell.execute_reply": "2023-02-19T19:14:25.005873Z"
    }
   },
   "outputs": [
    {
     "data": {
      "text/plain": [
       "typing.Union"
      ]
     },
     "execution_count": 8,
     "metadata": {},
     "output_type": "execute_result"
    }
   ],
   "source": [
    "origin_union = get_origin(tp_union)\n",
    "origin_union"
   ]
  },
  {
   "cell_type": "code",
   "execution_count": 9,
   "metadata": {
    "execution": {
     "iopub.execute_input": "2023-02-19T19:14:25.007831Z",
     "iopub.status.busy": "2023-02-19T19:14:25.007680Z",
     "iopub.status.idle": "2023-02-19T19:14:25.010557Z",
     "shell.execute_reply": "2023-02-19T19:14:25.010190Z"
    }
   },
   "outputs": [
    {
     "data": {
      "text/plain": [
       "typing._SpecialForm"
      ]
     },
     "execution_count": 9,
     "metadata": {},
     "output_type": "execute_result"
    }
   ],
   "source": [
    "type(origin_union)"
   ]
  },
  {
   "cell_type": "code",
   "execution_count": 10,
   "metadata": {
    "execution": {
     "iopub.execute_input": "2023-02-19T19:14:25.012122Z",
     "iopub.status.busy": "2023-02-19T19:14:25.011970Z",
     "iopub.status.idle": "2023-02-19T19:14:25.014927Z",
     "shell.execute_reply": "2023-02-19T19:14:25.014546Z"
    }
   },
   "outputs": [
    {
     "data": {
      "text/plain": [
       "(typing._SpecialForm, typing._Final, typing._NotIterable, object)"
      ]
     },
     "execution_count": 10,
     "metadata": {},
     "output_type": "execute_result"
    }
   ],
   "source": [
    "type(origin_union).__mro__"
   ]
  },
  {
   "cell_type": "code",
   "execution_count": 11,
   "metadata": {
    "execution": {
     "iopub.execute_input": "2023-02-19T19:14:25.016517Z",
     "iopub.status.busy": "2023-02-19T19:14:25.016369Z",
     "iopub.status.idle": "2023-02-19T19:14:25.019377Z",
     "shell.execute_reply": "2023-02-19T19:14:25.018992Z"
    }
   },
   "outputs": [
    {
     "data": {
      "text/plain": [
       "'Union'"
      ]
     },
     "execution_count": 11,
     "metadata": {},
     "output_type": "execute_result"
    }
   ],
   "source": [
    "origin_union._name"
   ]
  },
  {
   "cell_type": "code",
   "execution_count": 12,
   "metadata": {
    "execution": {
     "iopub.execute_input": "2023-02-19T19:14:25.021032Z",
     "iopub.status.busy": "2023-02-19T19:14:25.020840Z",
     "iopub.status.idle": "2023-02-19T19:14:25.023651Z",
     "shell.execute_reply": "2023-02-19T19:14:25.023277Z"
    }
   },
   "outputs": [
    {
     "data": {
      "text/plain": [
       "'Union'"
      ]
     },
     "execution_count": 12,
     "metadata": {},
     "output_type": "execute_result"
    }
   ],
   "source": [
    "origin_union.__name__"
   ]
  },
  {
   "cell_type": "markdown",
   "metadata": {},
   "source": [
    "### | (bitwise or) operator"
   ]
  },
  {
   "cell_type": "code",
   "execution_count": 13,
   "metadata": {
    "execution": {
     "iopub.execute_input": "2023-02-19T19:14:25.025293Z",
     "iopub.status.busy": "2023-02-19T19:14:25.025144Z",
     "iopub.status.idle": "2023-02-19T19:14:25.027996Z",
     "shell.execute_reply": "2023-02-19T19:14:25.027527Z"
    },
    "tags": []
   },
   "outputs": [
    {
     "data": {
      "text/plain": [
       "int | str"
      ]
     },
     "execution_count": 13,
     "metadata": {},
     "output_type": "execute_result"
    }
   ],
   "source": [
    "tp_or = int | str\n",
    "tp_or"
   ]
  },
  {
   "cell_type": "code",
   "execution_count": 14,
   "metadata": {
    "execution": {
     "iopub.execute_input": "2023-02-19T19:14:25.029594Z",
     "iopub.status.busy": "2023-02-19T19:14:25.029444Z",
     "iopub.status.idle": "2023-02-19T19:14:25.032242Z",
     "shell.execute_reply": "2023-02-19T19:14:25.031865Z"
    },
    "tags": []
   },
   "outputs": [
    {
     "data": {
      "text/plain": [
       "types.UnionType"
      ]
     },
     "execution_count": 14,
     "metadata": {},
     "output_type": "execute_result"
    }
   ],
   "source": [
    "type(tp_or)"
   ]
  },
  {
   "cell_type": "code",
   "execution_count": 15,
   "metadata": {
    "execution": {
     "iopub.execute_input": "2023-02-19T19:14:25.033831Z",
     "iopub.status.busy": "2023-02-19T19:14:25.033683Z",
     "iopub.status.idle": "2023-02-19T19:14:25.036583Z",
     "shell.execute_reply": "2023-02-19T19:14:25.036142Z"
    },
    "tags": []
   },
   "outputs": [
    {
     "data": {
      "text/plain": [
       "(types.UnionType, object)"
      ]
     },
     "execution_count": 15,
     "metadata": {},
     "output_type": "execute_result"
    }
   ],
   "source": [
    "type(tp_or).__mro__"
   ]
  },
  {
   "cell_type": "code",
   "execution_count": 16,
   "metadata": {
    "execution": {
     "iopub.execute_input": "2023-02-19T19:14:25.038135Z",
     "iopub.status.busy": "2023-02-19T19:14:25.037988Z",
     "iopub.status.idle": "2023-02-19T19:14:25.040973Z",
     "shell.execute_reply": "2023-02-19T19:14:25.040502Z"
    },
    "tags": []
   },
   "outputs": [
    {
     "data": {
      "text/plain": [
       "types.UnionType"
      ]
     },
     "execution_count": 16,
     "metadata": {},
     "output_type": "execute_result"
    }
   ],
   "source": [
    "origin_or = get_origin(tp_or)\n",
    "origin_or"
   ]
  },
  {
   "cell_type": "code",
   "execution_count": 17,
   "metadata": {
    "execution": {
     "iopub.execute_input": "2023-02-19T19:14:25.042581Z",
     "iopub.status.busy": "2023-02-19T19:14:25.042432Z",
     "iopub.status.idle": "2023-02-19T19:14:25.045338Z",
     "shell.execute_reply": "2023-02-19T19:14:25.044945Z"
    },
    "tags": []
   },
   "outputs": [
    {
     "data": {
      "text/plain": [
       "type"
      ]
     },
     "execution_count": 17,
     "metadata": {},
     "output_type": "execute_result"
    }
   ],
   "source": [
    "type(origin_or)"
   ]
  },
  {
   "cell_type": "code",
   "execution_count": 18,
   "metadata": {
    "execution": {
     "iopub.execute_input": "2023-02-19T19:14:25.046945Z",
     "iopub.status.busy": "2023-02-19T19:14:25.046794Z",
     "iopub.status.idle": "2023-02-19T19:14:25.049685Z",
     "shell.execute_reply": "2023-02-19T19:14:25.049306Z"
    },
    "tags": []
   },
   "outputs": [
    {
     "data": {
      "text/plain": [
       "(type, object)"
      ]
     },
     "execution_count": 18,
     "metadata": {},
     "output_type": "execute_result"
    }
   ],
   "source": [
    "type(origin_or).__mro__"
   ]
  },
  {
   "cell_type": "code",
   "execution_count": 19,
   "metadata": {
    "execution": {
     "iopub.execute_input": "2023-02-19T19:14:25.051261Z",
     "iopub.status.busy": "2023-02-19T19:14:25.051111Z",
     "iopub.status.idle": "2023-02-19T19:14:25.144711Z",
     "shell.execute_reply": "2023-02-19T19:14:25.144252Z"
    },
    "tags": []
   },
   "outputs": [
    {
     "ename": "AttributeError",
     "evalue": "type object 'types.UnionType' has no attribute '_name'",
     "output_type": "error",
     "traceback": [
      "\u001b[0;31m---------------------------------------------------------------------------\u001b[0m",
      "\u001b[0;31mAttributeError\u001b[0m                            Traceback (most recent call last)",
      "Cell \u001b[0;32mIn[19], line 1\u001b[0m\n\u001b[0;32m----> 1\u001b[0m \u001b[43morigin_or\u001b[49m\u001b[38;5;241;43m.\u001b[39;49m\u001b[43m_name\u001b[49m\n",
      "\u001b[0;31mAttributeError\u001b[0m: type object 'types.UnionType' has no attribute '_name'"
     ]
    }
   ],
   "source": [
    "origin_or._name"
   ]
  },
  {
   "cell_type": "code",
   "execution_count": 20,
   "metadata": {
    "execution": {
     "iopub.execute_input": "2023-02-19T19:14:25.146708Z",
     "iopub.status.busy": "2023-02-19T19:14:25.146465Z",
     "iopub.status.idle": "2023-02-19T19:14:25.149775Z",
     "shell.execute_reply": "2023-02-19T19:14:25.149384Z"
    },
    "tags": []
   },
   "outputs": [
    {
     "data": {
      "text/plain": [
       "'UnionType'"
      ]
     },
     "execution_count": 20,
     "metadata": {},
     "output_type": "execute_result"
    }
   ],
   "source": [
    "origin_or.__name__"
   ]
  },
  {
   "cell_type": "markdown",
   "metadata": {},
   "source": [
    "## Optional"
   ]
  },
  {
   "cell_type": "markdown",
   "metadata": {},
   "source": [
    "### typing.Optional (Generic Alias)"
   ]
  },
  {
   "cell_type": "code",
   "execution_count": 21,
   "metadata": {
    "execution": {
     "iopub.execute_input": "2023-02-19T19:14:25.151644Z",
     "iopub.status.busy": "2023-02-19T19:14:25.151473Z",
     "iopub.status.idle": "2023-02-19T19:14:25.154635Z",
     "shell.execute_reply": "2023-02-19T19:14:25.154252Z"
    }
   },
   "outputs": [
    {
     "data": {
      "text/plain": [
       "typing.Optional[int]"
      ]
     },
     "execution_count": 21,
     "metadata": {},
     "output_type": "execute_result"
    }
   ],
   "source": [
    "tp_optional = typing.Optional[int]\n",
    "tp_optional"
   ]
  },
  {
   "cell_type": "code",
   "execution_count": 22,
   "metadata": {
    "execution": {
     "iopub.execute_input": "2023-02-19T19:14:25.156252Z",
     "iopub.status.busy": "2023-02-19T19:14:25.156104Z",
     "iopub.status.idle": "2023-02-19T19:14:25.158887Z",
     "shell.execute_reply": "2023-02-19T19:14:25.158516Z"
    }
   },
   "outputs": [
    {
     "data": {
      "text/plain": [
       "typing._UnionGenericAlias"
      ]
     },
     "execution_count": 22,
     "metadata": {},
     "output_type": "execute_result"
    }
   ],
   "source": [
    "type(tp_optional)"
   ]
  },
  {
   "cell_type": "code",
   "execution_count": 23,
   "metadata": {
    "execution": {
     "iopub.execute_input": "2023-02-19T19:14:25.160491Z",
     "iopub.status.busy": "2023-02-19T19:14:25.160338Z",
     "iopub.status.idle": "2023-02-19T19:14:25.163237Z",
     "shell.execute_reply": "2023-02-19T19:14:25.162860Z"
    }
   },
   "outputs": [
    {
     "data": {
      "text/plain": [
       "(typing._UnionGenericAlias,\n",
       " typing._NotIterable,\n",
       " typing._GenericAlias,\n",
       " typing._BaseGenericAlias,\n",
       " typing._Final,\n",
       " object)"
      ]
     },
     "execution_count": 23,
     "metadata": {},
     "output_type": "execute_result"
    }
   ],
   "source": [
    "type(tp_optional).__mro__"
   ]
  },
  {
   "cell_type": "code",
   "execution_count": 24,
   "metadata": {
    "execution": {
     "iopub.execute_input": "2023-02-19T19:14:25.164962Z",
     "iopub.status.busy": "2023-02-19T19:14:25.164813Z",
     "iopub.status.idle": "2023-02-19T19:14:25.167646Z",
     "shell.execute_reply": "2023-02-19T19:14:25.167273Z"
    },
    "tags": []
   },
   "outputs": [
    {
     "data": {
      "text/plain": [
       "'Optional'"
      ]
     },
     "execution_count": 24,
     "metadata": {},
     "output_type": "execute_result"
    }
   ],
   "source": [
    "tp_optional._name"
   ]
  },
  {
   "cell_type": "code",
   "execution_count": 25,
   "metadata": {
    "execution": {
     "iopub.execute_input": "2023-02-19T19:14:25.169319Z",
     "iopub.status.busy": "2023-02-19T19:14:25.169161Z",
     "iopub.status.idle": "2023-02-19T19:14:25.171920Z",
     "shell.execute_reply": "2023-02-19T19:14:25.171536Z"
    },
    "tags": []
   },
   "outputs": [
    {
     "data": {
      "text/plain": [
       "'Optional'"
      ]
     },
     "execution_count": 25,
     "metadata": {},
     "output_type": "execute_result"
    }
   ],
   "source": [
    "tp_optional.__name__"
   ]
  },
  {
   "cell_type": "code",
   "execution_count": 26,
   "metadata": {
    "execution": {
     "iopub.execute_input": "2023-02-19T19:14:25.173482Z",
     "iopub.status.busy": "2023-02-19T19:14:25.173333Z",
     "iopub.status.idle": "2023-02-19T19:14:25.176427Z",
     "shell.execute_reply": "2023-02-19T19:14:25.176044Z"
    }
   },
   "outputs": [
    {
     "data": {
      "text/plain": [
       "typing.Union"
      ]
     },
     "execution_count": 26,
     "metadata": {},
     "output_type": "execute_result"
    }
   ],
   "source": [
    "origin_optional = get_origin(tp_optional)\n",
    "origin_optional"
   ]
  },
  {
   "cell_type": "code",
   "execution_count": 27,
   "metadata": {
    "execution": {
     "iopub.execute_input": "2023-02-19T19:14:25.178054Z",
     "iopub.status.busy": "2023-02-19T19:14:25.177901Z",
     "iopub.status.idle": "2023-02-19T19:14:25.180609Z",
     "shell.execute_reply": "2023-02-19T19:14:25.180244Z"
    }
   },
   "outputs": [
    {
     "data": {
      "text/plain": [
       "typing._SpecialForm"
      ]
     },
     "execution_count": 27,
     "metadata": {},
     "output_type": "execute_result"
    }
   ],
   "source": [
    "type(origin_optional)"
   ]
  },
  {
   "cell_type": "code",
   "execution_count": 28,
   "metadata": {
    "execution": {
     "iopub.execute_input": "2023-02-19T19:14:25.182211Z",
     "iopub.status.busy": "2023-02-19T19:14:25.182059Z",
     "iopub.status.idle": "2023-02-19T19:14:25.185026Z",
     "shell.execute_reply": "2023-02-19T19:14:25.184649Z"
    }
   },
   "outputs": [
    {
     "data": {
      "text/plain": [
       "(typing._SpecialForm, typing._Final, typing._NotIterable, object)"
      ]
     },
     "execution_count": 28,
     "metadata": {},
     "output_type": "execute_result"
    }
   ],
   "source": [
    "type(origin_optional).__mro__"
   ]
  },
  {
   "cell_type": "code",
   "execution_count": 29,
   "metadata": {
    "execution": {
     "iopub.execute_input": "2023-02-19T19:14:25.186579Z",
     "iopub.status.busy": "2023-02-19T19:14:25.186431Z",
     "iopub.status.idle": "2023-02-19T19:14:25.189353Z",
     "shell.execute_reply": "2023-02-19T19:14:25.188903Z"
    },
    "tags": []
   },
   "outputs": [
    {
     "data": {
      "text/plain": [
       "'Union'"
      ]
     },
     "execution_count": 29,
     "metadata": {},
     "output_type": "execute_result"
    }
   ],
   "source": [
    "origin_optional._name"
   ]
  },
  {
   "cell_type": "code",
   "execution_count": 30,
   "metadata": {
    "execution": {
     "iopub.execute_input": "2023-02-19T19:14:25.191453Z",
     "iopub.status.busy": "2023-02-19T19:14:25.191295Z",
     "iopub.status.idle": "2023-02-19T19:14:25.194114Z",
     "shell.execute_reply": "2023-02-19T19:14:25.193742Z"
    },
    "tags": []
   },
   "outputs": [
    {
     "data": {
      "text/plain": [
       "'Union'"
      ]
     },
     "execution_count": 30,
     "metadata": {},
     "output_type": "execute_result"
    }
   ],
   "source": [
    "origin_optional.__name__"
   ]
  },
  {
   "cell_type": "markdown",
   "metadata": {},
   "source": [
    "### | (bitwise or) Operator"
   ]
  },
  {
   "cell_type": "code",
   "execution_count": 31,
   "metadata": {
    "execution": {
     "iopub.execute_input": "2023-02-19T19:14:25.195748Z",
     "iopub.status.busy": "2023-02-19T19:14:25.195598Z",
     "iopub.status.idle": "2023-02-19T19:14:25.198433Z",
     "shell.execute_reply": "2023-02-19T19:14:25.198031Z"
    },
    "tags": []
   },
   "outputs": [
    {
     "data": {
      "text/plain": [
       "int | None"
      ]
     },
     "execution_count": 31,
     "metadata": {},
     "output_type": "execute_result"
    }
   ],
   "source": [
    "tp_or_none = int | None\n",
    "tp_or_none"
   ]
  },
  {
   "cell_type": "code",
   "execution_count": 32,
   "metadata": {
    "execution": {
     "iopub.execute_input": "2023-02-19T19:14:25.200059Z",
     "iopub.status.busy": "2023-02-19T19:14:25.199910Z",
     "iopub.status.idle": "2023-02-19T19:14:25.202726Z",
     "shell.execute_reply": "2023-02-19T19:14:25.202351Z"
    },
    "tags": []
   },
   "outputs": [
    {
     "data": {
      "text/plain": [
       "types.UnionType"
      ]
     },
     "execution_count": 32,
     "metadata": {},
     "output_type": "execute_result"
    }
   ],
   "source": [
    "type(tp_or_none)"
   ]
  },
  {
   "cell_type": "code",
   "execution_count": 33,
   "metadata": {
    "execution": {
     "iopub.execute_input": "2023-02-19T19:14:25.204285Z",
     "iopub.status.busy": "2023-02-19T19:14:25.204135Z",
     "iopub.status.idle": "2023-02-19T19:14:25.206960Z",
     "shell.execute_reply": "2023-02-19T19:14:25.206575Z"
    },
    "tags": []
   },
   "outputs": [
    {
     "data": {
      "text/plain": [
       "(types.UnionType, object)"
      ]
     },
     "execution_count": 33,
     "metadata": {},
     "output_type": "execute_result"
    }
   ],
   "source": [
    "type(tp_or_none).__mro__"
   ]
  },
  {
   "cell_type": "code",
   "execution_count": 34,
   "metadata": {
    "execution": {
     "iopub.execute_input": "2023-02-19T19:14:25.208602Z",
     "iopub.status.busy": "2023-02-19T19:14:25.208453Z",
     "iopub.status.idle": "2023-02-19T19:14:25.217216Z",
     "shell.execute_reply": "2023-02-19T19:14:25.216683Z"
    },
    "tags": []
   },
   "outputs": [
    {
     "ename": "AttributeError",
     "evalue": "'types.UnionType' object has no attribute '_name'",
     "output_type": "error",
     "traceback": [
      "\u001b[0;31m---------------------------------------------------------------------------\u001b[0m",
      "\u001b[0;31mAttributeError\u001b[0m                            Traceback (most recent call last)",
      "Cell \u001b[0;32mIn[34], line 1\u001b[0m\n\u001b[0;32m----> 1\u001b[0m \u001b[43mtp_or_none\u001b[49m\u001b[38;5;241;43m.\u001b[39;49m\u001b[43m_name\u001b[49m\n",
      "\u001b[0;31mAttributeError\u001b[0m: 'types.UnionType' object has no attribute '_name'"
     ]
    }
   ],
   "source": [
    "tp_or_none._name"
   ]
  },
  {
   "cell_type": "code",
   "execution_count": 35,
   "metadata": {
    "execution": {
     "iopub.execute_input": "2023-02-19T19:14:25.219293Z",
     "iopub.status.busy": "2023-02-19T19:14:25.219111Z",
     "iopub.status.idle": "2023-02-19T19:14:25.228070Z",
     "shell.execute_reply": "2023-02-19T19:14:25.227546Z"
    },
    "tags": []
   },
   "outputs": [
    {
     "ename": "AttributeError",
     "evalue": "'types.UnionType' object has no attribute '__name__'",
     "output_type": "error",
     "traceback": [
      "\u001b[0;31m---------------------------------------------------------------------------\u001b[0m",
      "\u001b[0;31mAttributeError\u001b[0m                            Traceback (most recent call last)",
      "Cell \u001b[0;32mIn[35], line 1\u001b[0m\n\u001b[0;32m----> 1\u001b[0m \u001b[43mtp_or_none\u001b[49m\u001b[38;5;241;43m.\u001b[39;49m\u001b[38;5;18;43m__name__\u001b[39;49m\n",
      "\u001b[0;31mAttributeError\u001b[0m: 'types.UnionType' object has no attribute '__name__'"
     ]
    }
   ],
   "source": [
    "tp_or_none.__name__"
   ]
  },
  {
   "cell_type": "code",
   "execution_count": 36,
   "metadata": {
    "execution": {
     "iopub.execute_input": "2023-02-19T19:14:25.230145Z",
     "iopub.status.busy": "2023-02-19T19:14:25.229951Z",
     "iopub.status.idle": "2023-02-19T19:14:25.233127Z",
     "shell.execute_reply": "2023-02-19T19:14:25.232721Z"
    },
    "tags": []
   },
   "outputs": [
    {
     "data": {
      "text/plain": [
       "types.UnionType"
      ]
     },
     "execution_count": 36,
     "metadata": {},
     "output_type": "execute_result"
    }
   ],
   "source": [
    "origin_or_none = get_origin(tp_or_none)\n",
    "origin_or_none"
   ]
  },
  {
   "cell_type": "code",
   "execution_count": 37,
   "metadata": {
    "execution": {
     "iopub.execute_input": "2023-02-19T19:14:25.234891Z",
     "iopub.status.busy": "2023-02-19T19:14:25.234729Z",
     "iopub.status.idle": "2023-02-19T19:14:25.238051Z",
     "shell.execute_reply": "2023-02-19T19:14:25.237403Z"
    },
    "tags": []
   },
   "outputs": [
    {
     "data": {
      "text/plain": [
       "type"
      ]
     },
     "execution_count": 37,
     "metadata": {},
     "output_type": "execute_result"
    }
   ],
   "source": [
    "type(origin_or_none)"
   ]
  },
  {
   "cell_type": "code",
   "execution_count": 38,
   "metadata": {
    "execution": {
     "iopub.execute_input": "2023-02-19T19:14:25.239869Z",
     "iopub.status.busy": "2023-02-19T19:14:25.239702Z",
     "iopub.status.idle": "2023-02-19T19:14:25.242749Z",
     "shell.execute_reply": "2023-02-19T19:14:25.242336Z"
    },
    "tags": []
   },
   "outputs": [
    {
     "data": {
      "text/plain": [
       "(type, object)"
      ]
     },
     "execution_count": 38,
     "metadata": {},
     "output_type": "execute_result"
    }
   ],
   "source": [
    "type(origin_or_none).__mro__"
   ]
  },
  {
   "cell_type": "code",
   "execution_count": 39,
   "metadata": {
    "execution": {
     "iopub.execute_input": "2023-02-19T19:14:25.244489Z",
     "iopub.status.busy": "2023-02-19T19:14:25.244327Z",
     "iopub.status.idle": "2023-02-19T19:14:25.253492Z",
     "shell.execute_reply": "2023-02-19T19:14:25.252912Z"
    },
    "tags": []
   },
   "outputs": [
    {
     "ename": "AttributeError",
     "evalue": "type object 'types.UnionType' has no attribute '_name'",
     "output_type": "error",
     "traceback": [
      "\u001b[0;31m---------------------------------------------------------------------------\u001b[0m",
      "\u001b[0;31mAttributeError\u001b[0m                            Traceback (most recent call last)",
      "Cell \u001b[0;32mIn[39], line 1\u001b[0m\n\u001b[0;32m----> 1\u001b[0m \u001b[43morigin_or_none\u001b[49m\u001b[38;5;241;43m.\u001b[39;49m\u001b[43m_name\u001b[49m\n",
      "\u001b[0;31mAttributeError\u001b[0m: type object 'types.UnionType' has no attribute '_name'"
     ]
    }
   ],
   "source": [
    "origin_or_none._name"
   ]
  },
  {
   "cell_type": "code",
   "execution_count": 40,
   "metadata": {
    "execution": {
     "iopub.execute_input": "2023-02-19T19:14:25.255691Z",
     "iopub.status.busy": "2023-02-19T19:14:25.255508Z",
     "iopub.status.idle": "2023-02-19T19:14:25.258614Z",
     "shell.execute_reply": "2023-02-19T19:14:25.258169Z"
    },
    "tags": []
   },
   "outputs": [
    {
     "data": {
      "text/plain": [
       "'UnionType'"
      ]
     },
     "execution_count": 40,
     "metadata": {},
     "output_type": "execute_result"
    }
   ],
   "source": [
    "origin_or_none.__name__"
   ]
  },
  {
   "cell_type": "markdown",
   "metadata": {},
   "source": [
    "## Standard Collections"
   ]
  },
  {
   "cell_type": "markdown",
   "metadata": {},
   "source": [
    "### typing Module Aliases"
   ]
  },
  {
   "cell_type": "code",
   "execution_count": 41,
   "metadata": {
    "execution": {
     "iopub.execute_input": "2023-02-19T19:14:25.260522Z",
     "iopub.status.busy": "2023-02-19T19:14:25.260374Z",
     "iopub.status.idle": "2023-02-19T19:14:25.263665Z",
     "shell.execute_reply": "2023-02-19T19:14:25.263277Z"
    }
   },
   "outputs": [
    {
     "data": {
      "text/plain": [
       "typing.List[int]"
      ]
     },
     "execution_count": 41,
     "metadata": {},
     "output_type": "execute_result"
    }
   ],
   "source": [
    "tp_List = typing.List[int]\n",
    "tp_List"
   ]
  },
  {
   "cell_type": "code",
   "execution_count": 42,
   "metadata": {
    "execution": {
     "iopub.execute_input": "2023-02-19T19:14:25.265325Z",
     "iopub.status.busy": "2023-02-19T19:14:25.265174Z",
     "iopub.status.idle": "2023-02-19T19:14:25.268105Z",
     "shell.execute_reply": "2023-02-19T19:14:25.267692Z"
    }
   },
   "outputs": [
    {
     "data": {
      "text/plain": [
       "typing._GenericAlias"
      ]
     },
     "execution_count": 42,
     "metadata": {},
     "output_type": "execute_result"
    }
   ],
   "source": [
    "type(tp_List)"
   ]
  },
  {
   "cell_type": "code",
   "execution_count": 43,
   "metadata": {
    "execution": {
     "iopub.execute_input": "2023-02-19T19:14:25.269737Z",
     "iopub.status.busy": "2023-02-19T19:14:25.269587Z",
     "iopub.status.idle": "2023-02-19T19:14:25.272633Z",
     "shell.execute_reply": "2023-02-19T19:14:25.272249Z"
    }
   },
   "outputs": [
    {
     "data": {
      "text/plain": [
       "(typing._GenericAlias, typing._BaseGenericAlias, typing._Final, object)"
      ]
     },
     "execution_count": 43,
     "metadata": {},
     "output_type": "execute_result"
    }
   ],
   "source": [
    "type(tp_List).__mro__"
   ]
  },
  {
   "cell_type": "code",
   "execution_count": 44,
   "metadata": {
    "execution": {
     "iopub.execute_input": "2023-02-19T19:14:25.274297Z",
     "iopub.status.busy": "2023-02-19T19:14:25.274148Z",
     "iopub.status.idle": "2023-02-19T19:14:25.277109Z",
     "shell.execute_reply": "2023-02-19T19:14:25.276726Z"
    }
   },
   "outputs": [
    {
     "data": {
      "text/plain": [
       "'List'"
      ]
     },
     "execution_count": 44,
     "metadata": {},
     "output_type": "execute_result"
    }
   ],
   "source": [
    "tp_List._name"
   ]
  },
  {
   "cell_type": "code",
   "execution_count": 45,
   "metadata": {
    "execution": {
     "iopub.execute_input": "2023-02-19T19:14:25.278727Z",
     "iopub.status.busy": "2023-02-19T19:14:25.278577Z",
     "iopub.status.idle": "2023-02-19T19:14:25.281374Z",
     "shell.execute_reply": "2023-02-19T19:14:25.280997Z"
    },
    "tags": []
   },
   "outputs": [
    {
     "data": {
      "text/plain": [
       "'List'"
      ]
     },
     "execution_count": 45,
     "metadata": {},
     "output_type": "execute_result"
    }
   ],
   "source": [
    "tp_List.__name__"
   ]
  },
  {
   "cell_type": "code",
   "execution_count": 46,
   "metadata": {
    "execution": {
     "iopub.execute_input": "2023-02-19T19:14:25.283010Z",
     "iopub.status.busy": "2023-02-19T19:14:25.282849Z",
     "iopub.status.idle": "2023-02-19T19:14:25.285820Z",
     "shell.execute_reply": "2023-02-19T19:14:25.285438Z"
    }
   },
   "outputs": [
    {
     "data": {
      "text/plain": [
       "list"
      ]
     },
     "execution_count": 46,
     "metadata": {},
     "output_type": "execute_result"
    }
   ],
   "source": [
    "origin_List = get_origin(tp_List)\n",
    "origin_List"
   ]
  },
  {
   "cell_type": "code",
   "execution_count": 47,
   "metadata": {
    "execution": {
     "iopub.execute_input": "2023-02-19T19:14:25.287462Z",
     "iopub.status.busy": "2023-02-19T19:14:25.287311Z",
     "iopub.status.idle": "2023-02-19T19:14:25.290146Z",
     "shell.execute_reply": "2023-02-19T19:14:25.289776Z"
    }
   },
   "outputs": [
    {
     "data": {
      "text/plain": [
       "type"
      ]
     },
     "execution_count": 47,
     "metadata": {},
     "output_type": "execute_result"
    }
   ],
   "source": [
    "type(origin_List)"
   ]
  },
  {
   "cell_type": "code",
   "execution_count": 48,
   "metadata": {
    "execution": {
     "iopub.execute_input": "2023-02-19T19:14:25.291756Z",
     "iopub.status.busy": "2023-02-19T19:14:25.291608Z",
     "iopub.status.idle": "2023-02-19T19:14:25.294522Z",
     "shell.execute_reply": "2023-02-19T19:14:25.294146Z"
    }
   },
   "outputs": [
    {
     "data": {
      "text/plain": [
       "tuple"
      ]
     },
     "execution_count": 48,
     "metadata": {},
     "output_type": "execute_result"
    }
   ],
   "source": [
    "type(origin_List.__mro__)"
   ]
  },
  {
   "cell_type": "code",
   "execution_count": 49,
   "metadata": {
    "execution": {
     "iopub.execute_input": "2023-02-19T19:14:25.296126Z",
     "iopub.status.busy": "2023-02-19T19:14:25.295977Z",
     "iopub.status.idle": "2023-02-19T19:14:25.305061Z",
     "shell.execute_reply": "2023-02-19T19:14:25.304525Z"
    },
    "tags": []
   },
   "outputs": [
    {
     "ename": "AttributeError",
     "evalue": "type object 'list' has no attribute '_name'",
     "output_type": "error",
     "traceback": [
      "\u001b[0;31m---------------------------------------------------------------------------\u001b[0m",
      "\u001b[0;31mAttributeError\u001b[0m                            Traceback (most recent call last)",
      "Cell \u001b[0;32mIn[49], line 1\u001b[0m\n\u001b[0;32m----> 1\u001b[0m \u001b[43morigin_List\u001b[49m\u001b[38;5;241;43m.\u001b[39;49m\u001b[43m_name\u001b[49m\n",
      "\u001b[0;31mAttributeError\u001b[0m: type object 'list' has no attribute '_name'"
     ]
    }
   ],
   "source": [
    "origin_List._name"
   ]
  },
  {
   "cell_type": "code",
   "execution_count": 50,
   "metadata": {
    "execution": {
     "iopub.execute_input": "2023-02-19T19:14:25.306773Z",
     "iopub.status.busy": "2023-02-19T19:14:25.306602Z",
     "iopub.status.idle": "2023-02-19T19:14:25.309624Z",
     "shell.execute_reply": "2023-02-19T19:14:25.309251Z"
    },
    "tags": []
   },
   "outputs": [
    {
     "data": {
      "text/plain": [
       "'list'"
      ]
     },
     "execution_count": 50,
     "metadata": {},
     "output_type": "execute_result"
    }
   ],
   "source": [
    "origin_List.__name__"
   ]
  },
  {
   "cell_type": "markdown",
   "metadata": {},
   "source": [
    "### Standard Collection Aliases"
   ]
  },
  {
   "cell_type": "code",
   "execution_count": 51,
   "metadata": {
    "execution": {
     "iopub.execute_input": "2023-02-19T19:14:25.311362Z",
     "iopub.status.busy": "2023-02-19T19:14:25.311208Z",
     "iopub.status.idle": "2023-02-19T19:14:25.314107Z",
     "shell.execute_reply": "2023-02-19T19:14:25.313737Z"
    },
    "tags": []
   },
   "outputs": [
    {
     "data": {
      "text/plain": [
       "list[int]"
      ]
     },
     "execution_count": 51,
     "metadata": {},
     "output_type": "execute_result"
    }
   ],
   "source": [
    "tp_list = list[int]\n",
    "tp_list"
   ]
  },
  {
   "cell_type": "code",
   "execution_count": 52,
   "metadata": {
    "execution": {
     "iopub.execute_input": "2023-02-19T19:14:25.315797Z",
     "iopub.status.busy": "2023-02-19T19:14:25.315648Z",
     "iopub.status.idle": "2023-02-19T19:14:25.318429Z",
     "shell.execute_reply": "2023-02-19T19:14:25.318060Z"
    },
    "tags": []
   },
   "outputs": [
    {
     "data": {
      "text/plain": [
       "types.GenericAlias"
      ]
     },
     "execution_count": 52,
     "metadata": {},
     "output_type": "execute_result"
    }
   ],
   "source": [
    "type(tp_list)"
   ]
  },
  {
   "cell_type": "code",
   "execution_count": 53,
   "metadata": {
    "execution": {
     "iopub.execute_input": "2023-02-19T19:14:25.320140Z",
     "iopub.status.busy": "2023-02-19T19:14:25.319990Z",
     "iopub.status.idle": "2023-02-19T19:14:25.322932Z",
     "shell.execute_reply": "2023-02-19T19:14:25.322558Z"
    },
    "tags": []
   },
   "outputs": [
    {
     "data": {
      "text/plain": [
       "(types.GenericAlias, object)"
      ]
     },
     "execution_count": 53,
     "metadata": {},
     "output_type": "execute_result"
    }
   ],
   "source": [
    "type(tp_list).__mro__"
   ]
  },
  {
   "cell_type": "code",
   "execution_count": 54,
   "metadata": {
    "execution": {
     "iopub.execute_input": "2023-02-19T19:14:25.324547Z",
     "iopub.status.busy": "2023-02-19T19:14:25.324397Z",
     "iopub.status.idle": "2023-02-19T19:14:25.332739Z",
     "shell.execute_reply": "2023-02-19T19:14:25.332350Z"
    },
    "tags": []
   },
   "outputs": [
    {
     "ename": "AttributeError",
     "evalue": "type object 'list' has no attribute '_name'",
     "output_type": "error",
     "traceback": [
      "\u001b[0;31m---------------------------------------------------------------------------\u001b[0m",
      "\u001b[0;31mAttributeError\u001b[0m                            Traceback (most recent call last)",
      "Cell \u001b[0;32mIn[54], line 1\u001b[0m\n\u001b[0;32m----> 1\u001b[0m \u001b[43mtp_list\u001b[49m\u001b[38;5;241;43m.\u001b[39;49m\u001b[43m_name\u001b[49m\n",
      "\u001b[0;31mAttributeError\u001b[0m: type object 'list' has no attribute '_name'"
     ]
    }
   ],
   "source": [
    "tp_list._name"
   ]
  },
  {
   "cell_type": "code",
   "execution_count": 55,
   "metadata": {
    "execution": {
     "iopub.execute_input": "2023-02-19T19:14:25.334582Z",
     "iopub.status.busy": "2023-02-19T19:14:25.334431Z",
     "iopub.status.idle": "2023-02-19T19:14:25.337644Z",
     "shell.execute_reply": "2023-02-19T19:14:25.337191Z"
    },
    "tags": []
   },
   "outputs": [
    {
     "data": {
      "text/plain": [
       "'list'"
      ]
     },
     "execution_count": 55,
     "metadata": {},
     "output_type": "execute_result"
    }
   ],
   "source": [
    "tp_list.__name__"
   ]
  },
  {
   "cell_type": "code",
   "execution_count": 56,
   "metadata": {
    "execution": {
     "iopub.execute_input": "2023-02-19T19:14:25.339501Z",
     "iopub.status.busy": "2023-02-19T19:14:25.339349Z",
     "iopub.status.idle": "2023-02-19T19:14:25.342252Z",
     "shell.execute_reply": "2023-02-19T19:14:25.341881Z"
    },
    "tags": []
   },
   "outputs": [
    {
     "data": {
      "text/plain": [
       "list"
      ]
     },
     "execution_count": 56,
     "metadata": {},
     "output_type": "execute_result"
    }
   ],
   "source": [
    "origin_list = get_origin(tp_list)\n",
    "origin_list"
   ]
  },
  {
   "cell_type": "code",
   "execution_count": 57,
   "metadata": {
    "execution": {
     "iopub.execute_input": "2023-02-19T19:14:25.343956Z",
     "iopub.status.busy": "2023-02-19T19:14:25.343806Z",
     "iopub.status.idle": "2023-02-19T19:14:25.346649Z",
     "shell.execute_reply": "2023-02-19T19:14:25.346272Z"
    },
    "tags": []
   },
   "outputs": [
    {
     "data": {
      "text/plain": [
       "type"
      ]
     },
     "execution_count": 57,
     "metadata": {},
     "output_type": "execute_result"
    }
   ],
   "source": [
    "type(origin_list)"
   ]
  },
  {
   "cell_type": "code",
   "execution_count": 58,
   "metadata": {
    "execution": {
     "iopub.execute_input": "2023-02-19T19:14:25.348258Z",
     "iopub.status.busy": "2023-02-19T19:14:25.348107Z",
     "iopub.status.idle": "2023-02-19T19:14:25.350973Z",
     "shell.execute_reply": "2023-02-19T19:14:25.350592Z"
    },
    "tags": []
   },
   "outputs": [
    {
     "data": {
      "text/plain": [
       "(type, object)"
      ]
     },
     "execution_count": 58,
     "metadata": {},
     "output_type": "execute_result"
    }
   ],
   "source": [
    "type(origin_list).__mro__"
   ]
  },
  {
   "cell_type": "code",
   "execution_count": 59,
   "metadata": {
    "execution": {
     "iopub.execute_input": "2023-02-19T19:14:25.352540Z",
     "iopub.status.busy": "2023-02-19T19:14:25.352391Z",
     "iopub.status.idle": "2023-02-19T19:14:25.361173Z",
     "shell.execute_reply": "2023-02-19T19:14:25.360642Z"
    },
    "tags": []
   },
   "outputs": [
    {
     "ename": "AttributeError",
     "evalue": "type object 'list' has no attribute '_name'",
     "output_type": "error",
     "traceback": [
      "\u001b[0;31m---------------------------------------------------------------------------\u001b[0m",
      "\u001b[0;31mAttributeError\u001b[0m                            Traceback (most recent call last)",
      "Cell \u001b[0;32mIn[59], line 1\u001b[0m\n\u001b[0;32m----> 1\u001b[0m \u001b[43morigin_list\u001b[49m\u001b[38;5;241;43m.\u001b[39;49m\u001b[43m_name\u001b[49m\n",
      "\u001b[0;31mAttributeError\u001b[0m: type object 'list' has no attribute '_name'"
     ]
    }
   ],
   "source": [
    "origin_list._name"
   ]
  },
  {
   "cell_type": "code",
   "execution_count": 60,
   "metadata": {
    "execution": {
     "iopub.execute_input": "2023-02-19T19:14:25.362944Z",
     "iopub.status.busy": "2023-02-19T19:14:25.362778Z",
     "iopub.status.idle": "2023-02-19T19:14:25.365791Z",
     "shell.execute_reply": "2023-02-19T19:14:25.365408Z"
    },
    "tags": []
   },
   "outputs": [
    {
     "data": {
      "text/plain": [
       "'list'"
      ]
     },
     "execution_count": 60,
     "metadata": {},
     "output_type": "execute_result"
    }
   ],
   "source": [
    "origin_list.__name__"
   ]
  }
 ],
 "metadata": {
  "kernelspec": {
   "display_name": "Python 3 (ipykernel)",
   "language": "python",
   "name": "python3"
  },
  "language_info": {
   "codemirror_mode": {
    "name": "ipython",
    "version": 3
   },
   "file_extension": ".py",
   "mimetype": "text/x-python",
   "name": "python",
   "nbconvert_exporter": "python",
   "pygments_lexer": "ipython3",
   "version": "3.11.2"
  },
  "vscode": {
   "interpreter": {
    "hash": "80942b1bde6a4b6b83cda378767221fd5d0b42ef189a887432315083c1f66fc8"
   }
  }
 },
 "nbformat": 4,
 "nbformat_minor": 4
}
