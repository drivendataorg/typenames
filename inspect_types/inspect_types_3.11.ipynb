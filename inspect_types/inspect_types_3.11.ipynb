{
 "cells": [
  {
   "cell_type": "code",
   "execution_count": 1,
   "metadata": {
    "execution": {
     "iopub.execute_input": "2023-02-19T03:55:50.908552Z",
     "iopub.status.busy": "2023-02-19T03:55:50.908261Z",
     "iopub.status.idle": "2023-02-19T03:55:50.916381Z",
     "shell.execute_reply": "2023-02-19T03:55:50.915610Z"
    }
   },
   "outputs": [],
   "source": [
    "import sys\n",
    "import typing"
   ]
  },
  {
   "cell_type": "code",
   "execution_count": 2,
   "metadata": {
    "execution": {
     "iopub.execute_input": "2023-02-19T03:55:50.918831Z",
     "iopub.status.busy": "2023-02-19T03:55:50.918581Z",
     "iopub.status.idle": "2023-02-19T03:55:50.924698Z",
     "shell.execute_reply": "2023-02-19T03:55:50.924086Z"
    }
   },
   "outputs": [
    {
     "data": {
      "text/plain": [
       "'3.11.2 (main, Feb 16 2023, 03:15:23) [Clang 14.0.0 (clang-1400.0.29.202)]'"
      ]
     },
     "execution_count": 2,
     "metadata": {},
     "output_type": "execute_result"
    }
   ],
   "source": [
    "sys.version"
   ]
  },
  {
   "cell_type": "markdown",
   "metadata": {},
   "source": [
    "## Union"
   ]
  },
  {
   "cell_type": "markdown",
   "metadata": {},
   "source": [
    "### typing.Union (Generic Alias)"
   ]
  },
  {
   "cell_type": "code",
   "execution_count": 3,
   "metadata": {
    "execution": {
     "iopub.execute_input": "2023-02-19T03:55:50.961620Z",
     "iopub.status.busy": "2023-02-19T03:55:50.961356Z",
     "iopub.status.idle": "2023-02-19T03:55:50.965582Z",
     "shell.execute_reply": "2023-02-19T03:55:50.965041Z"
    }
   },
   "outputs": [
    {
     "data": {
      "text/plain": [
       "typing.Union[int, str]"
      ]
     },
     "execution_count": 3,
     "metadata": {},
     "output_type": "execute_result"
    }
   ],
   "source": [
    "tp = typing.Union[int, str]\n",
    "tp"
   ]
  },
  {
   "cell_type": "code",
   "execution_count": 4,
   "metadata": {
    "execution": {
     "iopub.execute_input": "2023-02-19T03:55:50.967671Z",
     "iopub.status.busy": "2023-02-19T03:55:50.967471Z",
     "iopub.status.idle": "2023-02-19T03:55:50.970706Z",
     "shell.execute_reply": "2023-02-19T03:55:50.970259Z"
    }
   },
   "outputs": [
    {
     "data": {
      "text/plain": [
       "typing._UnionGenericAlias"
      ]
     },
     "execution_count": 4,
     "metadata": {},
     "output_type": "execute_result"
    }
   ],
   "source": [
    "type(tp)"
   ]
  },
  {
   "cell_type": "code",
   "execution_count": 5,
   "metadata": {
    "execution": {
     "iopub.execute_input": "2023-02-19T03:55:50.972753Z",
     "iopub.status.busy": "2023-02-19T03:55:50.972569Z",
     "iopub.status.idle": "2023-02-19T03:55:50.976067Z",
     "shell.execute_reply": "2023-02-19T03:55:50.975617Z"
    }
   },
   "outputs": [
    {
     "data": {
      "text/plain": [
       "(typing._UnionGenericAlias,\n",
       " typing._NotIterable,\n",
       " typing._GenericAlias,\n",
       " typing._BaseGenericAlias,\n",
       " typing._Final,\n",
       " object)"
      ]
     },
     "execution_count": 5,
     "metadata": {},
     "output_type": "execute_result"
    }
   ],
   "source": [
    "type(tp).__mro__"
   ]
  },
  {
   "cell_type": "code",
   "execution_count": 6,
   "metadata": {
    "execution": {
     "iopub.execute_input": "2023-02-19T03:55:50.978077Z",
     "iopub.status.busy": "2023-02-19T03:55:50.977881Z",
     "iopub.status.idle": "2023-02-19T03:55:50.980303Z",
     "shell.execute_reply": "2023-02-19T03:55:50.979867Z"
    }
   },
   "outputs": [],
   "source": [
    "tp._name"
   ]
  },
  {
   "cell_type": "code",
   "execution_count": 7,
   "metadata": {
    "execution": {
     "iopub.execute_input": "2023-02-19T03:55:50.982197Z",
     "iopub.status.busy": "2023-02-19T03:55:50.982017Z",
     "iopub.status.idle": "2023-02-19T03:55:50.985282Z",
     "shell.execute_reply": "2023-02-19T03:55:50.984760Z"
    }
   },
   "outputs": [
    {
     "data": {
      "text/plain": [
       "'Union'"
      ]
     },
     "execution_count": 7,
     "metadata": {},
     "output_type": "execute_result"
    }
   ],
   "source": [
    "tp.__name__"
   ]
  },
  {
   "cell_type": "code",
   "execution_count": 8,
   "metadata": {
    "execution": {
     "iopub.execute_input": "2023-02-19T03:55:50.987054Z",
     "iopub.status.busy": "2023-02-19T03:55:50.986879Z",
     "iopub.status.idle": "2023-02-19T03:55:50.989907Z",
     "shell.execute_reply": "2023-02-19T03:55:50.989439Z"
    }
   },
   "outputs": [
    {
     "data": {
      "text/plain": [
       "typing.Union"
      ]
     },
     "execution_count": 8,
     "metadata": {},
     "output_type": "execute_result"
    }
   ],
   "source": [
    "origin = typing.get_origin(tp)\n",
    "origin"
   ]
  },
  {
   "cell_type": "code",
   "execution_count": 9,
   "metadata": {
    "execution": {
     "iopub.execute_input": "2023-02-19T03:55:50.991493Z",
     "iopub.status.busy": "2023-02-19T03:55:50.991339Z",
     "iopub.status.idle": "2023-02-19T03:55:50.994187Z",
     "shell.execute_reply": "2023-02-19T03:55:50.993803Z"
    }
   },
   "outputs": [
    {
     "data": {
      "text/plain": [
       "typing._SpecialForm"
      ]
     },
     "execution_count": 9,
     "metadata": {},
     "output_type": "execute_result"
    }
   ],
   "source": [
    "type(origin)"
   ]
  },
  {
   "cell_type": "code",
   "execution_count": 10,
   "metadata": {
    "execution": {
     "iopub.execute_input": "2023-02-19T03:55:50.995975Z",
     "iopub.status.busy": "2023-02-19T03:55:50.995822Z",
     "iopub.status.idle": "2023-02-19T03:55:50.998832Z",
     "shell.execute_reply": "2023-02-19T03:55:50.998456Z"
    }
   },
   "outputs": [
    {
     "data": {
      "text/plain": [
       "(typing._SpecialForm, typing._Final, typing._NotIterable, object)"
      ]
     },
     "execution_count": 10,
     "metadata": {},
     "output_type": "execute_result"
    }
   ],
   "source": [
    "type(origin).__mro__"
   ]
  },
  {
   "cell_type": "code",
   "execution_count": 11,
   "metadata": {
    "execution": {
     "iopub.execute_input": "2023-02-19T03:55:51.000451Z",
     "iopub.status.busy": "2023-02-19T03:55:51.000300Z",
     "iopub.status.idle": "2023-02-19T03:55:51.003191Z",
     "shell.execute_reply": "2023-02-19T03:55:51.002788Z"
    }
   },
   "outputs": [
    {
     "data": {
      "text/plain": [
       "'Union'"
      ]
     },
     "execution_count": 11,
     "metadata": {},
     "output_type": "execute_result"
    }
   ],
   "source": [
    "origin._name"
   ]
  },
  {
   "cell_type": "code",
   "execution_count": 12,
   "metadata": {
    "execution": {
     "iopub.execute_input": "2023-02-19T03:55:51.004862Z",
     "iopub.status.busy": "2023-02-19T03:55:51.004712Z",
     "iopub.status.idle": "2023-02-19T03:55:51.007603Z",
     "shell.execute_reply": "2023-02-19T03:55:51.007207Z"
    }
   },
   "outputs": [
    {
     "data": {
      "text/plain": [
       "'Union'"
      ]
     },
     "execution_count": 12,
     "metadata": {},
     "output_type": "execute_result"
    }
   ],
   "source": [
    "origin.__name__"
   ]
  },
  {
   "cell_type": "markdown",
   "metadata": {},
   "source": [
    "### | (bitwise or) operator"
   ]
  },
  {
   "cell_type": "code",
   "execution_count": 13,
   "metadata": {
    "execution": {
     "iopub.execute_input": "2023-02-19T03:55:51.009344Z",
     "iopub.status.busy": "2023-02-19T03:55:51.009190Z",
     "iopub.status.idle": "2023-02-19T03:55:51.012279Z",
     "shell.execute_reply": "2023-02-19T03:55:51.011890Z"
    },
    "tags": []
   },
   "outputs": [
    {
     "data": {
      "text/plain": [
       "int | str"
      ]
     },
     "execution_count": 13,
     "metadata": {},
     "output_type": "execute_result"
    }
   ],
   "source": [
    "tp = int | str\n",
    "tp"
   ]
  },
  {
   "cell_type": "code",
   "execution_count": 14,
   "metadata": {
    "execution": {
     "iopub.execute_input": "2023-02-19T03:55:51.013852Z",
     "iopub.status.busy": "2023-02-19T03:55:51.013700Z",
     "iopub.status.idle": "2023-02-19T03:55:51.016404Z",
     "shell.execute_reply": "2023-02-19T03:55:51.016038Z"
    },
    "tags": []
   },
   "outputs": [
    {
     "data": {
      "text/plain": [
       "types.UnionType"
      ]
     },
     "execution_count": 14,
     "metadata": {},
     "output_type": "execute_result"
    }
   ],
   "source": [
    "type(tp)"
   ]
  },
  {
   "cell_type": "code",
   "execution_count": 15,
   "metadata": {
    "execution": {
     "iopub.execute_input": "2023-02-19T03:55:51.018098Z",
     "iopub.status.busy": "2023-02-19T03:55:51.017946Z",
     "iopub.status.idle": "2023-02-19T03:55:51.020804Z",
     "shell.execute_reply": "2023-02-19T03:55:51.020400Z"
    },
    "tags": []
   },
   "outputs": [
    {
     "data": {
      "text/plain": [
       "(types.UnionType, object)"
      ]
     },
     "execution_count": 15,
     "metadata": {},
     "output_type": "execute_result"
    }
   ],
   "source": [
    "type(tp).__mro__"
   ]
  },
  {
   "cell_type": "code",
   "execution_count": 16,
   "metadata": {
    "execution": {
     "iopub.execute_input": "2023-02-19T03:55:51.022438Z",
     "iopub.status.busy": "2023-02-19T03:55:51.022285Z",
     "iopub.status.idle": "2023-02-19T03:55:51.025206Z",
     "shell.execute_reply": "2023-02-19T03:55:51.024827Z"
    },
    "tags": []
   },
   "outputs": [
    {
     "data": {
      "text/plain": [
       "types.UnionType"
      ]
     },
     "execution_count": 16,
     "metadata": {},
     "output_type": "execute_result"
    }
   ],
   "source": [
    "origin = typing.get_origin(tp)\n",
    "origin"
   ]
  },
  {
   "cell_type": "code",
   "execution_count": 17,
   "metadata": {
    "execution": {
     "iopub.execute_input": "2023-02-19T03:55:51.026801Z",
     "iopub.status.busy": "2023-02-19T03:55:51.026652Z",
     "iopub.status.idle": "2023-02-19T03:55:51.029696Z",
     "shell.execute_reply": "2023-02-19T03:55:51.029252Z"
    },
    "tags": []
   },
   "outputs": [
    {
     "data": {
      "text/plain": [
       "type"
      ]
     },
     "execution_count": 17,
     "metadata": {},
     "output_type": "execute_result"
    }
   ],
   "source": [
    "type(origin)"
   ]
  },
  {
   "cell_type": "code",
   "execution_count": 18,
   "metadata": {
    "execution": {
     "iopub.execute_input": "2023-02-19T03:55:51.031459Z",
     "iopub.status.busy": "2023-02-19T03:55:51.031303Z",
     "iopub.status.idle": "2023-02-19T03:55:51.034405Z",
     "shell.execute_reply": "2023-02-19T03:55:51.033937Z"
    },
    "tags": []
   },
   "outputs": [
    {
     "data": {
      "text/plain": [
       "(type, object)"
      ]
     },
     "execution_count": 18,
     "metadata": {},
     "output_type": "execute_result"
    }
   ],
   "source": [
    "type(origin).__mro__"
   ]
  },
  {
   "cell_type": "code",
   "execution_count": 19,
   "metadata": {
    "execution": {
     "iopub.execute_input": "2023-02-19T03:55:51.036049Z",
     "iopub.status.busy": "2023-02-19T03:55:51.035881Z",
     "iopub.status.idle": "2023-02-19T03:55:51.131552Z",
     "shell.execute_reply": "2023-02-19T03:55:51.130822Z"
    },
    "tags": []
   },
   "outputs": [
    {
     "ename": "AttributeError",
     "evalue": "type object 'types.UnionType' has no attribute '_name'",
     "output_type": "error",
     "traceback": [
      "\u001b[0;31m---------------------------------------------------------------------------\u001b[0m",
      "\u001b[0;31mAttributeError\u001b[0m                            Traceback (most recent call last)",
      "Cell \u001b[0;32mIn[19], line 1\u001b[0m\n\u001b[0;32m----> 1\u001b[0m \u001b[43morigin\u001b[49m\u001b[38;5;241;43m.\u001b[39;49m\u001b[43m_name\u001b[49m\n",
      "\u001b[0;31mAttributeError\u001b[0m: type object 'types.UnionType' has no attribute '_name'"
     ]
    }
   ],
   "source": [
    "origin._name"
   ]
  },
  {
   "cell_type": "code",
   "execution_count": 20,
   "metadata": {
    "execution": {
     "iopub.execute_input": "2023-02-19T03:55:51.133484Z",
     "iopub.status.busy": "2023-02-19T03:55:51.133307Z",
     "iopub.status.idle": "2023-02-19T03:55:51.136379Z",
     "shell.execute_reply": "2023-02-19T03:55:51.135990Z"
    },
    "tags": []
   },
   "outputs": [
    {
     "data": {
      "text/plain": [
       "'UnionType'"
      ]
     },
     "execution_count": 20,
     "metadata": {},
     "output_type": "execute_result"
    }
   ],
   "source": [
    "origin.__name__"
   ]
  },
  {
   "cell_type": "markdown",
   "metadata": {},
   "source": [
    "## Optional"
   ]
  },
  {
   "cell_type": "markdown",
   "metadata": {},
   "source": [
    "### typing.Optional (Generic Alias)"
   ]
  },
  {
   "cell_type": "code",
   "execution_count": 21,
   "metadata": {
    "execution": {
     "iopub.execute_input": "2023-02-19T03:55:51.138182Z",
     "iopub.status.busy": "2023-02-19T03:55:51.138022Z",
     "iopub.status.idle": "2023-02-19T03:55:51.141133Z",
     "shell.execute_reply": "2023-02-19T03:55:51.140667Z"
    }
   },
   "outputs": [
    {
     "data": {
      "text/plain": [
       "typing.Optional[int]"
      ]
     },
     "execution_count": 21,
     "metadata": {},
     "output_type": "execute_result"
    }
   ],
   "source": [
    "tp = typing.Optional[int]\n",
    "tp"
   ]
  },
  {
   "cell_type": "code",
   "execution_count": 22,
   "metadata": {
    "execution": {
     "iopub.execute_input": "2023-02-19T03:55:51.142783Z",
     "iopub.status.busy": "2023-02-19T03:55:51.142615Z",
     "iopub.status.idle": "2023-02-19T03:55:51.145435Z",
     "shell.execute_reply": "2023-02-19T03:55:51.145038Z"
    }
   },
   "outputs": [
    {
     "data": {
      "text/plain": [
       "typing._UnionGenericAlias"
      ]
     },
     "execution_count": 22,
     "metadata": {},
     "output_type": "execute_result"
    }
   ],
   "source": [
    "type(tp)"
   ]
  },
  {
   "cell_type": "code",
   "execution_count": 23,
   "metadata": {
    "execution": {
     "iopub.execute_input": "2023-02-19T03:55:51.147175Z",
     "iopub.status.busy": "2023-02-19T03:55:51.146990Z",
     "iopub.status.idle": "2023-02-19T03:55:51.150059Z",
     "shell.execute_reply": "2023-02-19T03:55:51.149610Z"
    }
   },
   "outputs": [
    {
     "data": {
      "text/plain": [
       "(typing._UnionGenericAlias,\n",
       " typing._NotIterable,\n",
       " typing._GenericAlias,\n",
       " typing._BaseGenericAlias,\n",
       " typing._Final,\n",
       " object)"
      ]
     },
     "execution_count": 23,
     "metadata": {},
     "output_type": "execute_result"
    }
   ],
   "source": [
    "type(tp).__mro__"
   ]
  },
  {
   "cell_type": "code",
   "execution_count": 24,
   "metadata": {
    "execution": {
     "iopub.execute_input": "2023-02-19T03:55:51.151858Z",
     "iopub.status.busy": "2023-02-19T03:55:51.151701Z",
     "iopub.status.idle": "2023-02-19T03:55:51.154581Z",
     "shell.execute_reply": "2023-02-19T03:55:51.154207Z"
    },
    "tags": []
   },
   "outputs": [
    {
     "data": {
      "text/plain": [
       "'Optional'"
      ]
     },
     "execution_count": 24,
     "metadata": {},
     "output_type": "execute_result"
    }
   ],
   "source": [
    "tp._name"
   ]
  },
  {
   "cell_type": "code",
   "execution_count": 25,
   "metadata": {
    "execution": {
     "iopub.execute_input": "2023-02-19T03:55:51.156254Z",
     "iopub.status.busy": "2023-02-19T03:55:51.156099Z",
     "iopub.status.idle": "2023-02-19T03:55:51.159008Z",
     "shell.execute_reply": "2023-02-19T03:55:51.158550Z"
    },
    "tags": []
   },
   "outputs": [
    {
     "data": {
      "text/plain": [
       "'Optional'"
      ]
     },
     "execution_count": 25,
     "metadata": {},
     "output_type": "execute_result"
    }
   ],
   "source": [
    "tp.__name__"
   ]
  },
  {
   "cell_type": "code",
   "execution_count": 26,
   "metadata": {
    "execution": {
     "iopub.execute_input": "2023-02-19T03:55:51.160685Z",
     "iopub.status.busy": "2023-02-19T03:55:51.160531Z",
     "iopub.status.idle": "2023-02-19T03:55:51.163454Z",
     "shell.execute_reply": "2023-02-19T03:55:51.163069Z"
    }
   },
   "outputs": [
    {
     "data": {
      "text/plain": [
       "typing.Union"
      ]
     },
     "execution_count": 26,
     "metadata": {},
     "output_type": "execute_result"
    }
   ],
   "source": [
    "origin = typing.get_origin(tp)\n",
    "origin"
   ]
  },
  {
   "cell_type": "code",
   "execution_count": 27,
   "metadata": {
    "execution": {
     "iopub.execute_input": "2023-02-19T03:55:51.165035Z",
     "iopub.status.busy": "2023-02-19T03:55:51.164883Z",
     "iopub.status.idle": "2023-02-19T03:55:51.167810Z",
     "shell.execute_reply": "2023-02-19T03:55:51.167394Z"
    }
   },
   "outputs": [
    {
     "data": {
      "text/plain": [
       "typing._SpecialForm"
      ]
     },
     "execution_count": 27,
     "metadata": {},
     "output_type": "execute_result"
    }
   ],
   "source": [
    "type(origin)"
   ]
  },
  {
   "cell_type": "code",
   "execution_count": 28,
   "metadata": {
    "execution": {
     "iopub.execute_input": "2023-02-19T03:55:51.169486Z",
     "iopub.status.busy": "2023-02-19T03:55:51.169335Z",
     "iopub.status.idle": "2023-02-19T03:55:51.172232Z",
     "shell.execute_reply": "2023-02-19T03:55:51.171849Z"
    }
   },
   "outputs": [
    {
     "data": {
      "text/plain": [
       "(typing._SpecialForm, typing._Final, typing._NotIterable, object)"
      ]
     },
     "execution_count": 28,
     "metadata": {},
     "output_type": "execute_result"
    }
   ],
   "source": [
    "type(origin).__mro__"
   ]
  },
  {
   "cell_type": "code",
   "execution_count": 29,
   "metadata": {
    "execution": {
     "iopub.execute_input": "2023-02-19T03:55:51.173844Z",
     "iopub.status.busy": "2023-02-19T03:55:51.173691Z",
     "iopub.status.idle": "2023-02-19T03:55:51.176626Z",
     "shell.execute_reply": "2023-02-19T03:55:51.176241Z"
    },
    "tags": []
   },
   "outputs": [
    {
     "data": {
      "text/plain": [
       "'Union'"
      ]
     },
     "execution_count": 29,
     "metadata": {},
     "output_type": "execute_result"
    }
   ],
   "source": [
    "origin._name"
   ]
  },
  {
   "cell_type": "code",
   "execution_count": 30,
   "metadata": {
    "execution": {
     "iopub.execute_input": "2023-02-19T03:55:51.178229Z",
     "iopub.status.busy": "2023-02-19T03:55:51.178073Z",
     "iopub.status.idle": "2023-02-19T03:55:51.181100Z",
     "shell.execute_reply": "2023-02-19T03:55:51.180705Z"
    },
    "tags": []
   },
   "outputs": [
    {
     "data": {
      "text/plain": [
       "'Union'"
      ]
     },
     "execution_count": 30,
     "metadata": {},
     "output_type": "execute_result"
    }
   ],
   "source": [
    "origin.__name__"
   ]
  },
  {
   "cell_type": "markdown",
   "metadata": {},
   "source": [
    "### | (bitwise or) Operator"
   ]
  },
  {
   "cell_type": "code",
   "execution_count": 31,
   "metadata": {
    "execution": {
     "iopub.execute_input": "2023-02-19T03:55:51.182763Z",
     "iopub.status.busy": "2023-02-19T03:55:51.182614Z",
     "iopub.status.idle": "2023-02-19T03:55:51.185532Z",
     "shell.execute_reply": "2023-02-19T03:55:51.185157Z"
    },
    "tags": []
   },
   "outputs": [
    {
     "data": {
      "text/plain": [
       "int | None"
      ]
     },
     "execution_count": 31,
     "metadata": {},
     "output_type": "execute_result"
    }
   ],
   "source": [
    "tp = int | None\n",
    "tp"
   ]
  },
  {
   "cell_type": "code",
   "execution_count": 32,
   "metadata": {
    "execution": {
     "iopub.execute_input": "2023-02-19T03:55:51.187156Z",
     "iopub.status.busy": "2023-02-19T03:55:51.186987Z",
     "iopub.status.idle": "2023-02-19T03:55:51.189857Z",
     "shell.execute_reply": "2023-02-19T03:55:51.189474Z"
    },
    "tags": []
   },
   "outputs": [
    {
     "data": {
      "text/plain": [
       "types.UnionType"
      ]
     },
     "execution_count": 32,
     "metadata": {},
     "output_type": "execute_result"
    }
   ],
   "source": [
    "type(tp)"
   ]
  },
  {
   "cell_type": "code",
   "execution_count": 33,
   "metadata": {
    "execution": {
     "iopub.execute_input": "2023-02-19T03:55:51.191442Z",
     "iopub.status.busy": "2023-02-19T03:55:51.191290Z",
     "iopub.status.idle": "2023-02-19T03:55:51.194263Z",
     "shell.execute_reply": "2023-02-19T03:55:51.193885Z"
    },
    "tags": []
   },
   "outputs": [
    {
     "data": {
      "text/plain": [
       "(types.UnionType, object)"
      ]
     },
     "execution_count": 33,
     "metadata": {},
     "output_type": "execute_result"
    }
   ],
   "source": [
    "type(tp).__mro__"
   ]
  },
  {
   "cell_type": "code",
   "execution_count": 34,
   "metadata": {
    "execution": {
     "iopub.execute_input": "2023-02-19T03:55:51.195859Z",
     "iopub.status.busy": "2023-02-19T03:55:51.195704Z",
     "iopub.status.idle": "2023-02-19T03:55:51.204464Z",
     "shell.execute_reply": "2023-02-19T03:55:51.204036Z"
    },
    "tags": []
   },
   "outputs": [
    {
     "ename": "AttributeError",
     "evalue": "'types.UnionType' object has no attribute '_name'",
     "output_type": "error",
     "traceback": [
      "\u001b[0;31m---------------------------------------------------------------------------\u001b[0m",
      "\u001b[0;31mAttributeError\u001b[0m                            Traceback (most recent call last)",
      "Cell \u001b[0;32mIn[34], line 1\u001b[0m\n\u001b[0;32m----> 1\u001b[0m \u001b[43mtp\u001b[49m\u001b[38;5;241;43m.\u001b[39;49m\u001b[43m_name\u001b[49m\n",
      "\u001b[0;31mAttributeError\u001b[0m: 'types.UnionType' object has no attribute '_name'"
     ]
    }
   ],
   "source": [
    "tp._name"
   ]
  },
  {
   "cell_type": "code",
   "execution_count": 35,
   "metadata": {
    "execution": {
     "iopub.execute_input": "2023-02-19T03:55:51.206299Z",
     "iopub.status.busy": "2023-02-19T03:55:51.206096Z",
     "iopub.status.idle": "2023-02-19T03:55:51.215045Z",
     "shell.execute_reply": "2023-02-19T03:55:51.214615Z"
    },
    "tags": []
   },
   "outputs": [
    {
     "ename": "AttributeError",
     "evalue": "'types.UnionType' object has no attribute '__name__'",
     "output_type": "error",
     "traceback": [
      "\u001b[0;31m---------------------------------------------------------------------------\u001b[0m",
      "\u001b[0;31mAttributeError\u001b[0m                            Traceback (most recent call last)",
      "Cell \u001b[0;32mIn[35], line 1\u001b[0m\n\u001b[0;32m----> 1\u001b[0m \u001b[43mtp\u001b[49m\u001b[38;5;241;43m.\u001b[39;49m\u001b[38;5;18;43m__name__\u001b[39;49m\n",
      "\u001b[0;31mAttributeError\u001b[0m: 'types.UnionType' object has no attribute '__name__'"
     ]
    }
   ],
   "source": [
    "tp.__name__"
   ]
  },
  {
   "cell_type": "code",
   "execution_count": 36,
   "metadata": {
    "execution": {
     "iopub.execute_input": "2023-02-19T03:55:51.216939Z",
     "iopub.status.busy": "2023-02-19T03:55:51.216785Z",
     "iopub.status.idle": "2023-02-19T03:55:51.220323Z",
     "shell.execute_reply": "2023-02-19T03:55:51.219493Z"
    },
    "tags": []
   },
   "outputs": [
    {
     "data": {
      "text/plain": [
       "types.UnionType"
      ]
     },
     "execution_count": 36,
     "metadata": {},
     "output_type": "execute_result"
    }
   ],
   "source": [
    "origin = typing.get_origin(tp)\n",
    "origin"
   ]
  },
  {
   "cell_type": "code",
   "execution_count": 37,
   "metadata": {
    "execution": {
     "iopub.execute_input": "2023-02-19T03:55:51.221993Z",
     "iopub.status.busy": "2023-02-19T03:55:51.221839Z",
     "iopub.status.idle": "2023-02-19T03:55:51.224894Z",
     "shell.execute_reply": "2023-02-19T03:55:51.224465Z"
    },
    "tags": []
   },
   "outputs": [
    {
     "data": {
      "text/plain": [
       "type"
      ]
     },
     "execution_count": 37,
     "metadata": {},
     "output_type": "execute_result"
    }
   ],
   "source": [
    "type(origin)"
   ]
  },
  {
   "cell_type": "code",
   "execution_count": 38,
   "metadata": {
    "execution": {
     "iopub.execute_input": "2023-02-19T03:55:51.226583Z",
     "iopub.status.busy": "2023-02-19T03:55:51.226430Z",
     "iopub.status.idle": "2023-02-19T03:55:51.229399Z",
     "shell.execute_reply": "2023-02-19T03:55:51.229015Z"
    },
    "tags": []
   },
   "outputs": [
    {
     "data": {
      "text/plain": [
       "(type, object)"
      ]
     },
     "execution_count": 38,
     "metadata": {},
     "output_type": "execute_result"
    }
   ],
   "source": [
    "type(origin).__mro__"
   ]
  },
  {
   "cell_type": "code",
   "execution_count": 39,
   "metadata": {
    "execution": {
     "iopub.execute_input": "2023-02-19T03:55:51.231188Z",
     "iopub.status.busy": "2023-02-19T03:55:51.231031Z",
     "iopub.status.idle": "2023-02-19T03:55:51.239382Z",
     "shell.execute_reply": "2023-02-19T03:55:51.238889Z"
    },
    "tags": []
   },
   "outputs": [
    {
     "ename": "AttributeError",
     "evalue": "type object 'types.UnionType' has no attribute '_name'",
     "output_type": "error",
     "traceback": [
      "\u001b[0;31m---------------------------------------------------------------------------\u001b[0m",
      "\u001b[0;31mAttributeError\u001b[0m                            Traceback (most recent call last)",
      "Cell \u001b[0;32mIn[39], line 1\u001b[0m\n\u001b[0;32m----> 1\u001b[0m \u001b[43morigin\u001b[49m\u001b[38;5;241;43m.\u001b[39;49m\u001b[43m_name\u001b[49m\n",
      "\u001b[0;31mAttributeError\u001b[0m: type object 'types.UnionType' has no attribute '_name'"
     ]
    }
   ],
   "source": [
    "origin._name"
   ]
  },
  {
   "cell_type": "code",
   "execution_count": 40,
   "metadata": {
    "execution": {
     "iopub.execute_input": "2023-02-19T03:55:51.241376Z",
     "iopub.status.busy": "2023-02-19T03:55:51.241078Z",
     "iopub.status.idle": "2023-02-19T03:55:51.244141Z",
     "shell.execute_reply": "2023-02-19T03:55:51.243755Z"
    },
    "tags": []
   },
   "outputs": [
    {
     "data": {
      "text/plain": [
       "'UnionType'"
      ]
     },
     "execution_count": 40,
     "metadata": {},
     "output_type": "execute_result"
    }
   ],
   "source": [
    "origin.__name__"
   ]
  },
  {
   "cell_type": "markdown",
   "metadata": {},
   "source": [
    "## Standard Collections"
   ]
  },
  {
   "cell_type": "markdown",
   "metadata": {},
   "source": [
    "### typing Module Aliases"
   ]
  },
  {
   "cell_type": "code",
   "execution_count": 41,
   "metadata": {
    "execution": {
     "iopub.execute_input": "2023-02-19T03:55:51.245922Z",
     "iopub.status.busy": "2023-02-19T03:55:51.245770Z",
     "iopub.status.idle": "2023-02-19T03:55:51.248892Z",
     "shell.execute_reply": "2023-02-19T03:55:51.248485Z"
    }
   },
   "outputs": [
    {
     "data": {
      "text/plain": [
       "typing.List[int]"
      ]
     },
     "execution_count": 41,
     "metadata": {},
     "output_type": "execute_result"
    }
   ],
   "source": [
    "tp = typing.List[int]\n",
    "tp"
   ]
  },
  {
   "cell_type": "code",
   "execution_count": 42,
   "metadata": {
    "execution": {
     "iopub.execute_input": "2023-02-19T03:55:51.250522Z",
     "iopub.status.busy": "2023-02-19T03:55:51.250370Z",
     "iopub.status.idle": "2023-02-19T03:55:51.253005Z",
     "shell.execute_reply": "2023-02-19T03:55:51.252623Z"
    }
   },
   "outputs": [
    {
     "data": {
      "text/plain": [
       "typing._GenericAlias"
      ]
     },
     "execution_count": 42,
     "metadata": {},
     "output_type": "execute_result"
    }
   ],
   "source": [
    "type(tp)"
   ]
  },
  {
   "cell_type": "code",
   "execution_count": 43,
   "metadata": {
    "execution": {
     "iopub.execute_input": "2023-02-19T03:55:51.254640Z",
     "iopub.status.busy": "2023-02-19T03:55:51.254486Z",
     "iopub.status.idle": "2023-02-19T03:55:51.257381Z",
     "shell.execute_reply": "2023-02-19T03:55:51.257002Z"
    }
   },
   "outputs": [
    {
     "data": {
      "text/plain": [
       "(typing._GenericAlias, typing._BaseGenericAlias, typing._Final, object)"
      ]
     },
     "execution_count": 43,
     "metadata": {},
     "output_type": "execute_result"
    }
   ],
   "source": [
    "type(tp).__mro__"
   ]
  },
  {
   "cell_type": "code",
   "execution_count": 44,
   "metadata": {
    "execution": {
     "iopub.execute_input": "2023-02-19T03:55:51.259051Z",
     "iopub.status.busy": "2023-02-19T03:55:51.258896Z",
     "iopub.status.idle": "2023-02-19T03:55:51.261801Z",
     "shell.execute_reply": "2023-02-19T03:55:51.261412Z"
    }
   },
   "outputs": [
    {
     "data": {
      "text/plain": [
       "'List'"
      ]
     },
     "execution_count": 44,
     "metadata": {},
     "output_type": "execute_result"
    }
   ],
   "source": [
    "tp._name"
   ]
  },
  {
   "cell_type": "code",
   "execution_count": 45,
   "metadata": {
    "execution": {
     "iopub.execute_input": "2023-02-19T03:55:51.263375Z",
     "iopub.status.busy": "2023-02-19T03:55:51.263220Z",
     "iopub.status.idle": "2023-02-19T03:55:51.265993Z",
     "shell.execute_reply": "2023-02-19T03:55:51.265597Z"
    },
    "tags": []
   },
   "outputs": [
    {
     "data": {
      "text/plain": [
       "'List'"
      ]
     },
     "execution_count": 45,
     "metadata": {},
     "output_type": "execute_result"
    }
   ],
   "source": [
    "tp.__name__"
   ]
  },
  {
   "cell_type": "code",
   "execution_count": 46,
   "metadata": {
    "execution": {
     "iopub.execute_input": "2023-02-19T03:55:51.267662Z",
     "iopub.status.busy": "2023-02-19T03:55:51.267510Z",
     "iopub.status.idle": "2023-02-19T03:55:51.270474Z",
     "shell.execute_reply": "2023-02-19T03:55:51.270097Z"
    }
   },
   "outputs": [
    {
     "data": {
      "text/plain": [
       "list"
      ]
     },
     "execution_count": 46,
     "metadata": {},
     "output_type": "execute_result"
    }
   ],
   "source": [
    "origin = typing.get_origin(tp)\n",
    "origin"
   ]
  },
  {
   "cell_type": "code",
   "execution_count": 47,
   "metadata": {
    "execution": {
     "iopub.execute_input": "2023-02-19T03:55:51.272126Z",
     "iopub.status.busy": "2023-02-19T03:55:51.271969Z",
     "iopub.status.idle": "2023-02-19T03:55:51.274845Z",
     "shell.execute_reply": "2023-02-19T03:55:51.274465Z"
    }
   },
   "outputs": [
    {
     "data": {
      "text/plain": [
       "type"
      ]
     },
     "execution_count": 47,
     "metadata": {},
     "output_type": "execute_result"
    }
   ],
   "source": [
    "type(origin)"
   ]
  },
  {
   "cell_type": "code",
   "execution_count": 48,
   "metadata": {
    "execution": {
     "iopub.execute_input": "2023-02-19T03:55:51.276430Z",
     "iopub.status.busy": "2023-02-19T03:55:51.276273Z",
     "iopub.status.idle": "2023-02-19T03:55:51.279228Z",
     "shell.execute_reply": "2023-02-19T03:55:51.278817Z"
    }
   },
   "outputs": [
    {
     "data": {
      "text/plain": [
       "tuple"
      ]
     },
     "execution_count": 48,
     "metadata": {},
     "output_type": "execute_result"
    }
   ],
   "source": [
    "type(origin.__mro__)"
   ]
  },
  {
   "cell_type": "code",
   "execution_count": 49,
   "metadata": {
    "execution": {
     "iopub.execute_input": "2023-02-19T03:55:51.281138Z",
     "iopub.status.busy": "2023-02-19T03:55:51.280961Z",
     "iopub.status.idle": "2023-02-19T03:55:51.290801Z",
     "shell.execute_reply": "2023-02-19T03:55:51.290371Z"
    },
    "tags": []
   },
   "outputs": [
    {
     "ename": "AttributeError",
     "evalue": "type object 'list' has no attribute '_name'",
     "output_type": "error",
     "traceback": [
      "\u001b[0;31m---------------------------------------------------------------------------\u001b[0m",
      "\u001b[0;31mAttributeError\u001b[0m                            Traceback (most recent call last)",
      "Cell \u001b[0;32mIn[49], line 1\u001b[0m\n\u001b[0;32m----> 1\u001b[0m \u001b[43morigin\u001b[49m\u001b[38;5;241;43m.\u001b[39;49m\u001b[43m_name\u001b[49m\n",
      "\u001b[0;31mAttributeError\u001b[0m: type object 'list' has no attribute '_name'"
     ]
    }
   ],
   "source": [
    "origin._name"
   ]
  },
  {
   "cell_type": "code",
   "execution_count": 50,
   "metadata": {
    "execution": {
     "iopub.execute_input": "2023-02-19T03:55:51.292588Z",
     "iopub.status.busy": "2023-02-19T03:55:51.292430Z",
     "iopub.status.idle": "2023-02-19T03:55:51.295532Z",
     "shell.execute_reply": "2023-02-19T03:55:51.295071Z"
    },
    "tags": []
   },
   "outputs": [
    {
     "data": {
      "text/plain": [
       "'list'"
      ]
     },
     "execution_count": 50,
     "metadata": {},
     "output_type": "execute_result"
    }
   ],
   "source": [
    "origin.__name__"
   ]
  },
  {
   "cell_type": "markdown",
   "metadata": {},
   "source": [
    "### Standard Collection Aliases"
   ]
  },
  {
   "cell_type": "code",
   "execution_count": 51,
   "metadata": {
    "execution": {
     "iopub.execute_input": "2023-02-19T03:55:51.297741Z",
     "iopub.status.busy": "2023-02-19T03:55:51.297395Z",
     "iopub.status.idle": "2023-02-19T03:55:51.300711Z",
     "shell.execute_reply": "2023-02-19T03:55:51.300284Z"
    },
    "tags": []
   },
   "outputs": [
    {
     "data": {
      "text/plain": [
       "list[int]"
      ]
     },
     "execution_count": 51,
     "metadata": {},
     "output_type": "execute_result"
    }
   ],
   "source": [
    "tp = list[int]\n",
    "tp"
   ]
  },
  {
   "cell_type": "code",
   "execution_count": 52,
   "metadata": {
    "execution": {
     "iopub.execute_input": "2023-02-19T03:55:51.302402Z",
     "iopub.status.busy": "2023-02-19T03:55:51.302234Z",
     "iopub.status.idle": "2023-02-19T03:55:51.305252Z",
     "shell.execute_reply": "2023-02-19T03:55:51.304868Z"
    },
    "tags": []
   },
   "outputs": [
    {
     "data": {
      "text/plain": [
       "types.GenericAlias"
      ]
     },
     "execution_count": 52,
     "metadata": {},
     "output_type": "execute_result"
    }
   ],
   "source": [
    "type(tp)"
   ]
  },
  {
   "cell_type": "code",
   "execution_count": 53,
   "metadata": {
    "execution": {
     "iopub.execute_input": "2023-02-19T03:55:51.306879Z",
     "iopub.status.busy": "2023-02-19T03:55:51.306725Z",
     "iopub.status.idle": "2023-02-19T03:55:51.309690Z",
     "shell.execute_reply": "2023-02-19T03:55:51.309296Z"
    },
    "tags": []
   },
   "outputs": [
    {
     "data": {
      "text/plain": [
       "(types.GenericAlias, object)"
      ]
     },
     "execution_count": 53,
     "metadata": {},
     "output_type": "execute_result"
    }
   ],
   "source": [
    "type(tp).__mro__"
   ]
  },
  {
   "cell_type": "code",
   "execution_count": 54,
   "metadata": {
    "execution": {
     "iopub.execute_input": "2023-02-19T03:55:51.311461Z",
     "iopub.status.busy": "2023-02-19T03:55:51.311294Z",
     "iopub.status.idle": "2023-02-19T03:55:51.320717Z",
     "shell.execute_reply": "2023-02-19T03:55:51.320319Z"
    },
    "tags": []
   },
   "outputs": [
    {
     "ename": "AttributeError",
     "evalue": "type object 'list' has no attribute '_name'",
     "output_type": "error",
     "traceback": [
      "\u001b[0;31m---------------------------------------------------------------------------\u001b[0m",
      "\u001b[0;31mAttributeError\u001b[0m                            Traceback (most recent call last)",
      "Cell \u001b[0;32mIn[54], line 1\u001b[0m\n\u001b[0;32m----> 1\u001b[0m \u001b[43mtp\u001b[49m\u001b[38;5;241;43m.\u001b[39;49m\u001b[43m_name\u001b[49m\n",
      "\u001b[0;31mAttributeError\u001b[0m: type object 'list' has no attribute '_name'"
     ]
    }
   ],
   "source": [
    "tp._name"
   ]
  },
  {
   "cell_type": "code",
   "execution_count": 55,
   "metadata": {
    "execution": {
     "iopub.execute_input": "2023-02-19T03:55:51.322337Z",
     "iopub.status.busy": "2023-02-19T03:55:51.322182Z",
     "iopub.status.idle": "2023-02-19T03:55:51.325098Z",
     "shell.execute_reply": "2023-02-19T03:55:51.324718Z"
    },
    "tags": []
   },
   "outputs": [
    {
     "data": {
      "text/plain": [
       "'list'"
      ]
     },
     "execution_count": 55,
     "metadata": {},
     "output_type": "execute_result"
    }
   ],
   "source": [
    "tp.__name__"
   ]
  },
  {
   "cell_type": "code",
   "execution_count": 56,
   "metadata": {
    "execution": {
     "iopub.execute_input": "2023-02-19T03:55:51.326798Z",
     "iopub.status.busy": "2023-02-19T03:55:51.326645Z",
     "iopub.status.idle": "2023-02-19T03:55:51.329807Z",
     "shell.execute_reply": "2023-02-19T03:55:51.329390Z"
    },
    "tags": []
   },
   "outputs": [
    {
     "data": {
      "text/plain": [
       "list"
      ]
     },
     "execution_count": 56,
     "metadata": {},
     "output_type": "execute_result"
    }
   ],
   "source": [
    "origin = typing.get_origin(tp)\n",
    "origin"
   ]
  },
  {
   "cell_type": "code",
   "execution_count": 57,
   "metadata": {
    "execution": {
     "iopub.execute_input": "2023-02-19T03:55:51.331446Z",
     "iopub.status.busy": "2023-02-19T03:55:51.331292Z",
     "iopub.status.idle": "2023-02-19T03:55:51.334112Z",
     "shell.execute_reply": "2023-02-19T03:55:51.333734Z"
    },
    "tags": []
   },
   "outputs": [
    {
     "data": {
      "text/plain": [
       "type"
      ]
     },
     "execution_count": 57,
     "metadata": {},
     "output_type": "execute_result"
    }
   ],
   "source": [
    "type(origin)"
   ]
  },
  {
   "cell_type": "code",
   "execution_count": 58,
   "metadata": {
    "execution": {
     "iopub.execute_input": "2023-02-19T03:55:51.335725Z",
     "iopub.status.busy": "2023-02-19T03:55:51.335572Z",
     "iopub.status.idle": "2023-02-19T03:55:51.338688Z",
     "shell.execute_reply": "2023-02-19T03:55:51.338246Z"
    },
    "tags": []
   },
   "outputs": [
    {
     "data": {
      "text/plain": [
       "(type, object)"
      ]
     },
     "execution_count": 58,
     "metadata": {},
     "output_type": "execute_result"
    }
   ],
   "source": [
    "type(origin).__mro__"
   ]
  },
  {
   "cell_type": "code",
   "execution_count": 59,
   "metadata": {
    "execution": {
     "iopub.execute_input": "2023-02-19T03:55:51.340298Z",
     "iopub.status.busy": "2023-02-19T03:55:51.340147Z",
     "iopub.status.idle": "2023-02-19T03:55:51.348637Z",
     "shell.execute_reply": "2023-02-19T03:55:51.348203Z"
    },
    "tags": []
   },
   "outputs": [
    {
     "ename": "AttributeError",
     "evalue": "type object 'list' has no attribute '_name'",
     "output_type": "error",
     "traceback": [
      "\u001b[0;31m---------------------------------------------------------------------------\u001b[0m",
      "\u001b[0;31mAttributeError\u001b[0m                            Traceback (most recent call last)",
      "Cell \u001b[0;32mIn[59], line 1\u001b[0m\n\u001b[0;32m----> 1\u001b[0m \u001b[43morigin\u001b[49m\u001b[38;5;241;43m.\u001b[39;49m\u001b[43m_name\u001b[49m\n",
      "\u001b[0;31mAttributeError\u001b[0m: type object 'list' has no attribute '_name'"
     ]
    }
   ],
   "source": [
    "origin._name"
   ]
  },
  {
   "cell_type": "code",
   "execution_count": 60,
   "metadata": {
    "execution": {
     "iopub.execute_input": "2023-02-19T03:55:51.350338Z",
     "iopub.status.busy": "2023-02-19T03:55:51.350185Z",
     "iopub.status.idle": "2023-02-19T03:55:51.353117Z",
     "shell.execute_reply": "2023-02-19T03:55:51.352700Z"
    },
    "tags": []
   },
   "outputs": [
    {
     "data": {
      "text/plain": [
       "'list'"
      ]
     },
     "execution_count": 60,
     "metadata": {},
     "output_type": "execute_result"
    }
   ],
   "source": [
    "origin.__name__"
   ]
  },
  {
   "cell_type": "code",
   "execution_count": null,
   "metadata": {},
   "outputs": [],
   "source": []
  }
 ],
 "metadata": {
  "kernelspec": {
   "display_name": "Python 3 (ipykernel)",
   "language": "python",
   "name": "python3"
  },
  "language_info": {
   "codemirror_mode": {
    "name": "ipython",
    "version": 3
   },
   "file_extension": ".py",
   "mimetype": "text/x-python",
   "name": "python",
   "nbconvert_exporter": "python",
   "pygments_lexer": "ipython3",
   "version": "3.11.2"
  },
  "vscode": {
   "interpreter": {
    "hash": "80942b1bde6a4b6b83cda378767221fd5d0b42ef189a887432315083c1f66fc8"
   }
  }
 },
 "nbformat": 4,
 "nbformat_minor": 4
}
