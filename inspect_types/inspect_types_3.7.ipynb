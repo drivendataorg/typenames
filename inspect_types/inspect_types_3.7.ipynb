{
 "cells": [
  {
   "cell_type": "code",
   "execution_count": 1,
   "metadata": {
    "execution": {
     "iopub.execute_input": "2023-02-19T19:14:08.663784Z",
     "iopub.status.busy": "2023-02-19T19:14:08.663105Z",
     "iopub.status.idle": "2023-02-19T19:14:08.673223Z",
     "shell.execute_reply": "2023-02-19T19:14:08.672423Z"
    }
   },
   "outputs": [],
   "source": [
    "import sys\n",
    "import typing\n",
    "try: \n",
    "    from typing import get_origin\n",
    "except ImportError:\n",
    "    from typing_extensions import get_origin"
   ]
  },
  {
   "cell_type": "code",
   "execution_count": 2,
   "metadata": {
    "execution": {
     "iopub.execute_input": "2023-02-19T19:14:08.677135Z",
     "iopub.status.busy": "2023-02-19T19:14:08.676822Z",
     "iopub.status.idle": "2023-02-19T19:14:08.684654Z",
     "shell.execute_reply": "2023-02-19T19:14:08.684006Z"
    }
   },
   "outputs": [
    {
     "data": {
      "text/plain": [
       "'3.7.16 (default, Dec  7 2022, 01:34:15) \\n[Clang 14.0.0 (clang-1400.0.29.202)]'"
      ]
     },
     "execution_count": 2,
     "metadata": {},
     "output_type": "execute_result"
    }
   ],
   "source": [
    "sys.version"
   ]
  },
  {
   "cell_type": "markdown",
   "metadata": {},
   "source": [
    "## Union"
   ]
  },
  {
   "cell_type": "markdown",
   "metadata": {},
   "source": [
    "### typing.Union (Generic Alias)"
   ]
  },
  {
   "cell_type": "code",
   "execution_count": 3,
   "metadata": {
    "execution": {
     "iopub.execute_input": "2023-02-19T19:14:08.729085Z",
     "iopub.status.busy": "2023-02-19T19:14:08.728752Z",
     "iopub.status.idle": "2023-02-19T19:14:08.733620Z",
     "shell.execute_reply": "2023-02-19T19:14:08.732961Z"
    }
   },
   "outputs": [
    {
     "data": {
      "text/plain": [
       "typing.Union[int, str]"
      ]
     },
     "execution_count": 3,
     "metadata": {},
     "output_type": "execute_result"
    }
   ],
   "source": [
    "tp_union = typing.Union[int, str]\n",
    "tp_union"
   ]
  },
  {
   "cell_type": "code",
   "execution_count": 4,
   "metadata": {
    "execution": {
     "iopub.execute_input": "2023-02-19T19:14:08.736997Z",
     "iopub.status.busy": "2023-02-19T19:14:08.736711Z",
     "iopub.status.idle": "2023-02-19T19:14:08.740996Z",
     "shell.execute_reply": "2023-02-19T19:14:08.740351Z"
    }
   },
   "outputs": [
    {
     "data": {
      "text/plain": [
       "typing._GenericAlias"
      ]
     },
     "execution_count": 4,
     "metadata": {},
     "output_type": "execute_result"
    }
   ],
   "source": [
    "type(tp_union)"
   ]
  },
  {
   "cell_type": "code",
   "execution_count": 5,
   "metadata": {
    "execution": {
     "iopub.execute_input": "2023-02-19T19:14:08.743976Z",
     "iopub.status.busy": "2023-02-19T19:14:08.743730Z",
     "iopub.status.idle": "2023-02-19T19:14:08.747297Z",
     "shell.execute_reply": "2023-02-19T19:14:08.746827Z"
    }
   },
   "outputs": [
    {
     "data": {
      "text/plain": [
       "(typing._GenericAlias, typing._Final, object)"
      ]
     },
     "execution_count": 5,
     "metadata": {},
     "output_type": "execute_result"
    }
   ],
   "source": [
    "type(tp_union).__mro__"
   ]
  },
  {
   "cell_type": "code",
   "execution_count": 6,
   "metadata": {
    "execution": {
     "iopub.execute_input": "2023-02-19T19:14:08.750421Z",
     "iopub.status.busy": "2023-02-19T19:14:08.750217Z",
     "iopub.status.idle": "2023-02-19T19:14:08.753220Z",
     "shell.execute_reply": "2023-02-19T19:14:08.752475Z"
    }
   },
   "outputs": [],
   "source": [
    "tp_union._name"
   ]
  },
  {
   "cell_type": "code",
   "execution_count": 7,
   "metadata": {
    "execution": {
     "iopub.execute_input": "2023-02-19T19:14:08.756025Z",
     "iopub.status.busy": "2023-02-19T19:14:08.755818Z",
     "iopub.status.idle": "2023-02-19T19:14:08.859414Z",
     "shell.execute_reply": "2023-02-19T19:14:08.858628Z"
    }
   },
   "outputs": [
    {
     "ename": "AttributeError",
     "evalue": "__name__",
     "output_type": "error",
     "traceback": [
      "\u001b[0;31m---------------------------------------------------------------------------\u001b[0m",
      "\u001b[0;31mAttributeError\u001b[0m                            Traceback (most recent call last)",
      "\u001b[0;32m/var/folders/nq/vp3dgt812jgb0q09rh5l706c0000gn/T/ipykernel_28359/3650770868.py\u001b[0m in \u001b[0;36m<module>\u001b[0;34m\u001b[0m\n\u001b[0;32m----> 1\u001b[0;31m \u001b[0mtp_union\u001b[0m\u001b[0;34m.\u001b[0m\u001b[0m__name__\u001b[0m\u001b[0;34m\u001b[0m\u001b[0;34m\u001b[0m\u001b[0m\n\u001b[0m",
      "\u001b[0;32m/usr/local/opt/python@3.7/Frameworks/Python.framework/Versions/3.7/lib/python3.7/typing.py\u001b[0m in \u001b[0;36m__getattr__\u001b[0;34m(self, attr)\u001b[0m\n\u001b[1;32m    705\u001b[0m         \u001b[0;32mif\u001b[0m \u001b[0;34m'__origin__'\u001b[0m \u001b[0;32min\u001b[0m \u001b[0mself\u001b[0m\u001b[0;34m.\u001b[0m\u001b[0m__dict__\u001b[0m \u001b[0;32mand\u001b[0m \u001b[0;32mnot\u001b[0m \u001b[0m_is_dunder\u001b[0m\u001b[0;34m(\u001b[0m\u001b[0mattr\u001b[0m\u001b[0;34m)\u001b[0m\u001b[0;34m:\u001b[0m\u001b[0;34m\u001b[0m\u001b[0;34m\u001b[0m\u001b[0m\n\u001b[1;32m    706\u001b[0m             \u001b[0;32mreturn\u001b[0m \u001b[0mgetattr\u001b[0m\u001b[0;34m(\u001b[0m\u001b[0mself\u001b[0m\u001b[0;34m.\u001b[0m\u001b[0m__origin__\u001b[0m\u001b[0;34m,\u001b[0m \u001b[0mattr\u001b[0m\u001b[0;34m)\u001b[0m\u001b[0;34m\u001b[0m\u001b[0;34m\u001b[0m\u001b[0m\n\u001b[0;32m--> 707\u001b[0;31m         \u001b[0;32mraise\u001b[0m \u001b[0mAttributeError\u001b[0m\u001b[0;34m(\u001b[0m\u001b[0mattr\u001b[0m\u001b[0;34m)\u001b[0m\u001b[0;34m\u001b[0m\u001b[0;34m\u001b[0m\u001b[0m\n\u001b[0m\u001b[1;32m    708\u001b[0m \u001b[0;34m\u001b[0m\u001b[0m\n\u001b[1;32m    709\u001b[0m     \u001b[0;32mdef\u001b[0m \u001b[0m__setattr__\u001b[0m\u001b[0;34m(\u001b[0m\u001b[0mself\u001b[0m\u001b[0;34m,\u001b[0m \u001b[0mattr\u001b[0m\u001b[0;34m,\u001b[0m \u001b[0mval\u001b[0m\u001b[0;34m)\u001b[0m\u001b[0;34m:\u001b[0m\u001b[0;34m\u001b[0m\u001b[0;34m\u001b[0m\u001b[0m\n",
      "\u001b[0;31mAttributeError\u001b[0m: __name__"
     ]
    }
   ],
   "source": [
    "tp_union.__name__"
   ]
  },
  {
   "cell_type": "code",
   "execution_count": 8,
   "metadata": {
    "execution": {
     "iopub.execute_input": "2023-02-19T19:14:08.862763Z",
     "iopub.status.busy": "2023-02-19T19:14:08.862486Z",
     "iopub.status.idle": "2023-02-19T19:14:08.867029Z",
     "shell.execute_reply": "2023-02-19T19:14:08.866296Z"
    }
   },
   "outputs": [
    {
     "data": {
      "text/plain": [
       "typing.Union"
      ]
     },
     "execution_count": 8,
     "metadata": {},
     "output_type": "execute_result"
    }
   ],
   "source": [
    "origin_union = get_origin(tp_union)\n",
    "origin_union"
   ]
  },
  {
   "cell_type": "code",
   "execution_count": 9,
   "metadata": {
    "execution": {
     "iopub.execute_input": "2023-02-19T19:14:08.870200Z",
     "iopub.status.busy": "2023-02-19T19:14:08.869944Z",
     "iopub.status.idle": "2023-02-19T19:14:08.874091Z",
     "shell.execute_reply": "2023-02-19T19:14:08.873494Z"
    }
   },
   "outputs": [
    {
     "data": {
      "text/plain": [
       "typing._SpecialForm"
      ]
     },
     "execution_count": 9,
     "metadata": {},
     "output_type": "execute_result"
    }
   ],
   "source": [
    "type(origin_union)"
   ]
  },
  {
   "cell_type": "code",
   "execution_count": 10,
   "metadata": {
    "execution": {
     "iopub.execute_input": "2023-02-19T19:14:08.876882Z",
     "iopub.status.busy": "2023-02-19T19:14:08.876650Z",
     "iopub.status.idle": "2023-02-19T19:14:08.880346Z",
     "shell.execute_reply": "2023-02-19T19:14:08.879777Z"
    }
   },
   "outputs": [
    {
     "data": {
      "text/plain": [
       "(typing._SpecialForm, typing._Final, typing._Immutable, object)"
      ]
     },
     "execution_count": 10,
     "metadata": {},
     "output_type": "execute_result"
    }
   ],
   "source": [
    "type(origin_union).__mro__"
   ]
  },
  {
   "cell_type": "code",
   "execution_count": 11,
   "metadata": {
    "execution": {
     "iopub.execute_input": "2023-02-19T19:14:08.883320Z",
     "iopub.status.busy": "2023-02-19T19:14:08.883113Z",
     "iopub.status.idle": "2023-02-19T19:14:08.886627Z",
     "shell.execute_reply": "2023-02-19T19:14:08.886155Z"
    }
   },
   "outputs": [
    {
     "data": {
      "text/plain": [
       "'Union'"
      ]
     },
     "execution_count": 11,
     "metadata": {},
     "output_type": "execute_result"
    }
   ],
   "source": [
    "origin_union._name"
   ]
  },
  {
   "cell_type": "code",
   "execution_count": 12,
   "metadata": {
    "execution": {
     "iopub.execute_input": "2023-02-19T19:14:08.889536Z",
     "iopub.status.busy": "2023-02-19T19:14:08.889322Z",
     "iopub.status.idle": "2023-02-19T19:14:08.894546Z",
     "shell.execute_reply": "2023-02-19T19:14:08.894002Z"
    }
   },
   "outputs": [
    {
     "ename": "AttributeError",
     "evalue": "'_SpecialForm' object has no attribute '__name__'",
     "output_type": "error",
     "traceback": [
      "\u001b[0;31m---------------------------------------------------------------------------\u001b[0m",
      "\u001b[0;31mAttributeError\u001b[0m                            Traceback (most recent call last)",
      "\u001b[0;32m/var/folders/nq/vp3dgt812jgb0q09rh5l706c0000gn/T/ipykernel_28359/1481934031.py\u001b[0m in \u001b[0;36m<module>\u001b[0;34m\u001b[0m\n\u001b[0;32m----> 1\u001b[0;31m \u001b[0morigin_union\u001b[0m\u001b[0;34m.\u001b[0m\u001b[0m__name__\u001b[0m\u001b[0;34m\u001b[0m\u001b[0;34m\u001b[0m\u001b[0m\n\u001b[0m",
      "\u001b[0;31mAttributeError\u001b[0m: '_SpecialForm' object has no attribute '__name__'"
     ]
    }
   ],
   "source": [
    "origin_union.__name__"
   ]
  },
  {
   "cell_type": "markdown",
   "metadata": {},
   "source": [
    "### | (bitwise or) operator"
   ]
  },
  {
   "cell_type": "code",
   "execution_count": 13,
   "metadata": {
    "execution": {
     "iopub.execute_input": "2023-02-19T19:14:08.897349Z",
     "iopub.status.busy": "2023-02-19T19:14:08.897139Z",
     "iopub.status.idle": "2023-02-19T19:14:08.902490Z",
     "shell.execute_reply": "2023-02-19T19:14:08.901832Z"
    },
    "tags": []
   },
   "outputs": [
    {
     "ename": "TypeError",
     "evalue": "unsupported operand type(s) for |: 'type' and 'type'",
     "output_type": "error",
     "traceback": [
      "\u001b[0;31m---------------------------------------------------------------------------\u001b[0m",
      "\u001b[0;31mTypeError\u001b[0m                                 Traceback (most recent call last)",
      "\u001b[0;32m/var/folders/nq/vp3dgt812jgb0q09rh5l706c0000gn/T/ipykernel_28359/1876596125.py\u001b[0m in \u001b[0;36m<module>\u001b[0;34m\u001b[0m\n\u001b[0;32m----> 1\u001b[0;31m \u001b[0mtp_or\u001b[0m \u001b[0;34m=\u001b[0m \u001b[0mint\u001b[0m \u001b[0;34m|\u001b[0m \u001b[0mstr\u001b[0m\u001b[0;34m\u001b[0m\u001b[0;34m\u001b[0m\u001b[0m\n\u001b[0m\u001b[1;32m      2\u001b[0m \u001b[0mtp_or\u001b[0m\u001b[0;34m\u001b[0m\u001b[0;34m\u001b[0m\u001b[0m\n",
      "\u001b[0;31mTypeError\u001b[0m: unsupported operand type(s) for |: 'type' and 'type'"
     ]
    }
   ],
   "source": [
    "tp_or = int | str\n",
    "tp_or"
   ]
  },
  {
   "cell_type": "code",
   "execution_count": 14,
   "metadata": {
    "execution": {
     "iopub.execute_input": "2023-02-19T19:14:08.905319Z",
     "iopub.status.busy": "2023-02-19T19:14:08.905111Z",
     "iopub.status.idle": "2023-02-19T19:14:08.909967Z",
     "shell.execute_reply": "2023-02-19T19:14:08.909433Z"
    },
    "tags": []
   },
   "outputs": [
    {
     "ename": "NameError",
     "evalue": "name 'tp_or' is not defined",
     "output_type": "error",
     "traceback": [
      "\u001b[0;31m---------------------------------------------------------------------------\u001b[0m",
      "\u001b[0;31mNameError\u001b[0m                                 Traceback (most recent call last)",
      "\u001b[0;32m/var/folders/nq/vp3dgt812jgb0q09rh5l706c0000gn/T/ipykernel_28359/3442893854.py\u001b[0m in \u001b[0;36m<module>\u001b[0;34m\u001b[0m\n\u001b[0;32m----> 1\u001b[0;31m \u001b[0mtype\u001b[0m\u001b[0;34m(\u001b[0m\u001b[0mtp_or\u001b[0m\u001b[0;34m)\u001b[0m\u001b[0;34m\u001b[0m\u001b[0;34m\u001b[0m\u001b[0m\n\u001b[0m",
      "\u001b[0;31mNameError\u001b[0m: name 'tp_or' is not defined"
     ]
    }
   ],
   "source": [
    "type(tp_or)"
   ]
  },
  {
   "cell_type": "code",
   "execution_count": 15,
   "metadata": {
    "execution": {
     "iopub.execute_input": "2023-02-19T19:14:08.912814Z",
     "iopub.status.busy": "2023-02-19T19:14:08.912604Z",
     "iopub.status.idle": "2023-02-19T19:14:08.917958Z",
     "shell.execute_reply": "2023-02-19T19:14:08.917416Z"
    },
    "tags": []
   },
   "outputs": [
    {
     "ename": "NameError",
     "evalue": "name 'tp_or' is not defined",
     "output_type": "error",
     "traceback": [
      "\u001b[0;31m---------------------------------------------------------------------------\u001b[0m",
      "\u001b[0;31mNameError\u001b[0m                                 Traceback (most recent call last)",
      "\u001b[0;32m/var/folders/nq/vp3dgt812jgb0q09rh5l706c0000gn/T/ipykernel_28359/1088819322.py\u001b[0m in \u001b[0;36m<module>\u001b[0;34m\u001b[0m\n\u001b[0;32m----> 1\u001b[0;31m \u001b[0mtype\u001b[0m\u001b[0;34m(\u001b[0m\u001b[0mtp_or\u001b[0m\u001b[0;34m)\u001b[0m\u001b[0;34m.\u001b[0m\u001b[0m__mro__\u001b[0m\u001b[0;34m\u001b[0m\u001b[0;34m\u001b[0m\u001b[0m\n\u001b[0m",
      "\u001b[0;31mNameError\u001b[0m: name 'tp_or' is not defined"
     ]
    }
   ],
   "source": [
    "type(tp_or).__mro__"
   ]
  },
  {
   "cell_type": "code",
   "execution_count": 16,
   "metadata": {
    "execution": {
     "iopub.execute_input": "2023-02-19T19:14:08.920771Z",
     "iopub.status.busy": "2023-02-19T19:14:08.920515Z",
     "iopub.status.idle": "2023-02-19T19:14:08.925756Z",
     "shell.execute_reply": "2023-02-19T19:14:08.925259Z"
    },
    "tags": []
   },
   "outputs": [
    {
     "ename": "NameError",
     "evalue": "name 'tp_or' is not defined",
     "output_type": "error",
     "traceback": [
      "\u001b[0;31m---------------------------------------------------------------------------\u001b[0m",
      "\u001b[0;31mNameError\u001b[0m                                 Traceback (most recent call last)",
      "\u001b[0;32m/var/folders/nq/vp3dgt812jgb0q09rh5l706c0000gn/T/ipykernel_28359/3470942985.py\u001b[0m in \u001b[0;36m<module>\u001b[0;34m\u001b[0m\n\u001b[0;32m----> 1\u001b[0;31m \u001b[0morigin_or\u001b[0m \u001b[0;34m=\u001b[0m \u001b[0mget_origin\u001b[0m\u001b[0;34m(\u001b[0m\u001b[0mtp_or\u001b[0m\u001b[0;34m)\u001b[0m\u001b[0;34m\u001b[0m\u001b[0;34m\u001b[0m\u001b[0m\n\u001b[0m\u001b[1;32m      2\u001b[0m \u001b[0morigin_or\u001b[0m\u001b[0;34m\u001b[0m\u001b[0;34m\u001b[0m\u001b[0m\n",
      "\u001b[0;31mNameError\u001b[0m: name 'tp_or' is not defined"
     ]
    }
   ],
   "source": [
    "origin_or = get_origin(tp_or)\n",
    "origin_or"
   ]
  },
  {
   "cell_type": "code",
   "execution_count": 17,
   "metadata": {
    "execution": {
     "iopub.execute_input": "2023-02-19T19:14:08.928521Z",
     "iopub.status.busy": "2023-02-19T19:14:08.928310Z",
     "iopub.status.idle": "2023-02-19T19:14:08.933201Z",
     "shell.execute_reply": "2023-02-19T19:14:08.932706Z"
    },
    "tags": []
   },
   "outputs": [
    {
     "ename": "NameError",
     "evalue": "name 'origin_or' is not defined",
     "output_type": "error",
     "traceback": [
      "\u001b[0;31m---------------------------------------------------------------------------\u001b[0m",
      "\u001b[0;31mNameError\u001b[0m                                 Traceback (most recent call last)",
      "\u001b[0;32m/var/folders/nq/vp3dgt812jgb0q09rh5l706c0000gn/T/ipykernel_28359/2021421507.py\u001b[0m in \u001b[0;36m<module>\u001b[0;34m\u001b[0m\n\u001b[0;32m----> 1\u001b[0;31m \u001b[0mtype\u001b[0m\u001b[0;34m(\u001b[0m\u001b[0morigin_or\u001b[0m\u001b[0;34m)\u001b[0m\u001b[0;34m\u001b[0m\u001b[0;34m\u001b[0m\u001b[0m\n\u001b[0m",
      "\u001b[0;31mNameError\u001b[0m: name 'origin_or' is not defined"
     ]
    }
   ],
   "source": [
    "type(origin_or)"
   ]
  },
  {
   "cell_type": "code",
   "execution_count": 18,
   "metadata": {
    "execution": {
     "iopub.execute_input": "2023-02-19T19:14:08.935949Z",
     "iopub.status.busy": "2023-02-19T19:14:08.935741Z",
     "iopub.status.idle": "2023-02-19T19:14:08.940797Z",
     "shell.execute_reply": "2023-02-19T19:14:08.940182Z"
    },
    "tags": []
   },
   "outputs": [
    {
     "ename": "NameError",
     "evalue": "name 'origin_or' is not defined",
     "output_type": "error",
     "traceback": [
      "\u001b[0;31m---------------------------------------------------------------------------\u001b[0m",
      "\u001b[0;31mNameError\u001b[0m                                 Traceback (most recent call last)",
      "\u001b[0;32m/var/folders/nq/vp3dgt812jgb0q09rh5l706c0000gn/T/ipykernel_28359/344018114.py\u001b[0m in \u001b[0;36m<module>\u001b[0;34m\u001b[0m\n\u001b[0;32m----> 1\u001b[0;31m \u001b[0mtype\u001b[0m\u001b[0;34m(\u001b[0m\u001b[0morigin_or\u001b[0m\u001b[0;34m)\u001b[0m\u001b[0;34m.\u001b[0m\u001b[0m__mro__\u001b[0m\u001b[0;34m\u001b[0m\u001b[0;34m\u001b[0m\u001b[0m\n\u001b[0m",
      "\u001b[0;31mNameError\u001b[0m: name 'origin_or' is not defined"
     ]
    }
   ],
   "source": [
    "type(origin_or).__mro__"
   ]
  },
  {
   "cell_type": "code",
   "execution_count": 19,
   "metadata": {
    "execution": {
     "iopub.execute_input": "2023-02-19T19:14:08.943648Z",
     "iopub.status.busy": "2023-02-19T19:14:08.943440Z",
     "iopub.status.idle": "2023-02-19T19:14:08.948284Z",
     "shell.execute_reply": "2023-02-19T19:14:08.947719Z"
    },
    "tags": []
   },
   "outputs": [
    {
     "ename": "NameError",
     "evalue": "name 'origin_or' is not defined",
     "output_type": "error",
     "traceback": [
      "\u001b[0;31m---------------------------------------------------------------------------\u001b[0m",
      "\u001b[0;31mNameError\u001b[0m                                 Traceback (most recent call last)",
      "\u001b[0;32m/var/folders/nq/vp3dgt812jgb0q09rh5l706c0000gn/T/ipykernel_28359/2314814414.py\u001b[0m in \u001b[0;36m<module>\u001b[0;34m\u001b[0m\n\u001b[0;32m----> 1\u001b[0;31m \u001b[0morigin_or\u001b[0m\u001b[0;34m.\u001b[0m\u001b[0m_name\u001b[0m\u001b[0;34m\u001b[0m\u001b[0;34m\u001b[0m\u001b[0m\n\u001b[0m",
      "\u001b[0;31mNameError\u001b[0m: name 'origin_or' is not defined"
     ]
    }
   ],
   "source": [
    "origin_or._name"
   ]
  },
  {
   "cell_type": "code",
   "execution_count": 20,
   "metadata": {
    "execution": {
     "iopub.execute_input": "2023-02-19T19:14:08.951041Z",
     "iopub.status.busy": "2023-02-19T19:14:08.950834Z",
     "iopub.status.idle": "2023-02-19T19:14:08.955762Z",
     "shell.execute_reply": "2023-02-19T19:14:08.955282Z"
    },
    "tags": []
   },
   "outputs": [
    {
     "ename": "NameError",
     "evalue": "name 'origin_or' is not defined",
     "output_type": "error",
     "traceback": [
      "\u001b[0;31m---------------------------------------------------------------------------\u001b[0m",
      "\u001b[0;31mNameError\u001b[0m                                 Traceback (most recent call last)",
      "\u001b[0;32m/var/folders/nq/vp3dgt812jgb0q09rh5l706c0000gn/T/ipykernel_28359/3007395664.py\u001b[0m in \u001b[0;36m<module>\u001b[0;34m\u001b[0m\n\u001b[0;32m----> 1\u001b[0;31m \u001b[0morigin_or\u001b[0m\u001b[0;34m.\u001b[0m\u001b[0m__name__\u001b[0m\u001b[0;34m\u001b[0m\u001b[0;34m\u001b[0m\u001b[0m\n\u001b[0m",
      "\u001b[0;31mNameError\u001b[0m: name 'origin_or' is not defined"
     ]
    }
   ],
   "source": [
    "origin_or.__name__"
   ]
  },
  {
   "cell_type": "markdown",
   "metadata": {},
   "source": [
    "## Optional"
   ]
  },
  {
   "cell_type": "markdown",
   "metadata": {},
   "source": [
    "### typing.Optional (Generic Alias)"
   ]
  },
  {
   "cell_type": "code",
   "execution_count": 21,
   "metadata": {
    "execution": {
     "iopub.execute_input": "2023-02-19T19:14:08.958576Z",
     "iopub.status.busy": "2023-02-19T19:14:08.958369Z",
     "iopub.status.idle": "2023-02-19T19:14:08.962126Z",
     "shell.execute_reply": "2023-02-19T19:14:08.961556Z"
    }
   },
   "outputs": [
    {
     "data": {
      "text/plain": [
       "typing.Union[int, NoneType]"
      ]
     },
     "execution_count": 21,
     "metadata": {},
     "output_type": "execute_result"
    }
   ],
   "source": [
    "tp_optional = typing.Optional[int]\n",
    "tp_optional"
   ]
  },
  {
   "cell_type": "code",
   "execution_count": 22,
   "metadata": {
    "execution": {
     "iopub.execute_input": "2023-02-19T19:14:08.964876Z",
     "iopub.status.busy": "2023-02-19T19:14:08.964668Z",
     "iopub.status.idle": "2023-02-19T19:14:08.968378Z",
     "shell.execute_reply": "2023-02-19T19:14:08.967903Z"
    }
   },
   "outputs": [
    {
     "data": {
      "text/plain": [
       "typing._GenericAlias"
      ]
     },
     "execution_count": 22,
     "metadata": {},
     "output_type": "execute_result"
    }
   ],
   "source": [
    "type(tp_optional)"
   ]
  },
  {
   "cell_type": "code",
   "execution_count": 23,
   "metadata": {
    "execution": {
     "iopub.execute_input": "2023-02-19T19:14:08.971171Z",
     "iopub.status.busy": "2023-02-19T19:14:08.970960Z",
     "iopub.status.idle": "2023-02-19T19:14:08.974586Z",
     "shell.execute_reply": "2023-02-19T19:14:08.974097Z"
    }
   },
   "outputs": [
    {
     "data": {
      "text/plain": [
       "(typing._GenericAlias, typing._Final, object)"
      ]
     },
     "execution_count": 23,
     "metadata": {},
     "output_type": "execute_result"
    }
   ],
   "source": [
    "type(tp_optional).__mro__"
   ]
  },
  {
   "cell_type": "code",
   "execution_count": 24,
   "metadata": {
    "execution": {
     "iopub.execute_input": "2023-02-19T19:14:08.977454Z",
     "iopub.status.busy": "2023-02-19T19:14:08.977244Z",
     "iopub.status.idle": "2023-02-19T19:14:08.980034Z",
     "shell.execute_reply": "2023-02-19T19:14:08.979481Z"
    },
    "tags": []
   },
   "outputs": [],
   "source": [
    "tp_optional._name"
   ]
  },
  {
   "cell_type": "code",
   "execution_count": 25,
   "metadata": {
    "execution": {
     "iopub.execute_input": "2023-02-19T19:14:08.982757Z",
     "iopub.status.busy": "2023-02-19T19:14:08.982543Z",
     "iopub.status.idle": "2023-02-19T19:14:08.988490Z",
     "shell.execute_reply": "2023-02-19T19:14:08.987979Z"
    },
    "tags": []
   },
   "outputs": [
    {
     "ename": "AttributeError",
     "evalue": "__name__",
     "output_type": "error",
     "traceback": [
      "\u001b[0;31m---------------------------------------------------------------------------\u001b[0m",
      "\u001b[0;31mAttributeError\u001b[0m                            Traceback (most recent call last)",
      "\u001b[0;32m/var/folders/nq/vp3dgt812jgb0q09rh5l706c0000gn/T/ipykernel_28359/3002610529.py\u001b[0m in \u001b[0;36m<module>\u001b[0;34m\u001b[0m\n\u001b[0;32m----> 1\u001b[0;31m \u001b[0mtp_optional\u001b[0m\u001b[0;34m.\u001b[0m\u001b[0m__name__\u001b[0m\u001b[0;34m\u001b[0m\u001b[0;34m\u001b[0m\u001b[0m\n\u001b[0m",
      "\u001b[0;32m/usr/local/opt/python@3.7/Frameworks/Python.framework/Versions/3.7/lib/python3.7/typing.py\u001b[0m in \u001b[0;36m__getattr__\u001b[0;34m(self, attr)\u001b[0m\n\u001b[1;32m    705\u001b[0m         \u001b[0;32mif\u001b[0m \u001b[0;34m'__origin__'\u001b[0m \u001b[0;32min\u001b[0m \u001b[0mself\u001b[0m\u001b[0;34m.\u001b[0m\u001b[0m__dict__\u001b[0m \u001b[0;32mand\u001b[0m \u001b[0;32mnot\u001b[0m \u001b[0m_is_dunder\u001b[0m\u001b[0;34m(\u001b[0m\u001b[0mattr\u001b[0m\u001b[0;34m)\u001b[0m\u001b[0;34m:\u001b[0m\u001b[0;34m\u001b[0m\u001b[0;34m\u001b[0m\u001b[0m\n\u001b[1;32m    706\u001b[0m             \u001b[0;32mreturn\u001b[0m \u001b[0mgetattr\u001b[0m\u001b[0;34m(\u001b[0m\u001b[0mself\u001b[0m\u001b[0;34m.\u001b[0m\u001b[0m__origin__\u001b[0m\u001b[0;34m,\u001b[0m \u001b[0mattr\u001b[0m\u001b[0;34m)\u001b[0m\u001b[0;34m\u001b[0m\u001b[0;34m\u001b[0m\u001b[0m\n\u001b[0;32m--> 707\u001b[0;31m         \u001b[0;32mraise\u001b[0m \u001b[0mAttributeError\u001b[0m\u001b[0;34m(\u001b[0m\u001b[0mattr\u001b[0m\u001b[0;34m)\u001b[0m\u001b[0;34m\u001b[0m\u001b[0;34m\u001b[0m\u001b[0m\n\u001b[0m\u001b[1;32m    708\u001b[0m \u001b[0;34m\u001b[0m\u001b[0m\n\u001b[1;32m    709\u001b[0m     \u001b[0;32mdef\u001b[0m \u001b[0m__setattr__\u001b[0m\u001b[0;34m(\u001b[0m\u001b[0mself\u001b[0m\u001b[0;34m,\u001b[0m \u001b[0mattr\u001b[0m\u001b[0;34m,\u001b[0m \u001b[0mval\u001b[0m\u001b[0;34m)\u001b[0m\u001b[0;34m:\u001b[0m\u001b[0;34m\u001b[0m\u001b[0;34m\u001b[0m\u001b[0m\n",
      "\u001b[0;31mAttributeError\u001b[0m: __name__"
     ]
    }
   ],
   "source": [
    "tp_optional.__name__"
   ]
  },
  {
   "cell_type": "code",
   "execution_count": 26,
   "metadata": {
    "execution": {
     "iopub.execute_input": "2023-02-19T19:14:08.991236Z",
     "iopub.status.busy": "2023-02-19T19:14:08.991022Z",
     "iopub.status.idle": "2023-02-19T19:14:08.994713Z",
     "shell.execute_reply": "2023-02-19T19:14:08.994227Z"
    }
   },
   "outputs": [
    {
     "data": {
      "text/plain": [
       "typing.Union"
      ]
     },
     "execution_count": 26,
     "metadata": {},
     "output_type": "execute_result"
    }
   ],
   "source": [
    "origin_optional = get_origin(tp_optional)\n",
    "origin_optional"
   ]
  },
  {
   "cell_type": "code",
   "execution_count": 27,
   "metadata": {
    "execution": {
     "iopub.execute_input": "2023-02-19T19:14:08.997457Z",
     "iopub.status.busy": "2023-02-19T19:14:08.997246Z",
     "iopub.status.idle": "2023-02-19T19:14:09.000825Z",
     "shell.execute_reply": "2023-02-19T19:14:09.000315Z"
    }
   },
   "outputs": [
    {
     "data": {
      "text/plain": [
       "typing._SpecialForm"
      ]
     },
     "execution_count": 27,
     "metadata": {},
     "output_type": "execute_result"
    }
   ],
   "source": [
    "type(origin_optional)"
   ]
  },
  {
   "cell_type": "code",
   "execution_count": 28,
   "metadata": {
    "execution": {
     "iopub.execute_input": "2023-02-19T19:14:09.003537Z",
     "iopub.status.busy": "2023-02-19T19:14:09.003318Z",
     "iopub.status.idle": "2023-02-19T19:14:09.007253Z",
     "shell.execute_reply": "2023-02-19T19:14:09.006695Z"
    }
   },
   "outputs": [
    {
     "data": {
      "text/plain": [
       "(typing._SpecialForm, typing._Final, typing._Immutable, object)"
      ]
     },
     "execution_count": 28,
     "metadata": {},
     "output_type": "execute_result"
    }
   ],
   "source": [
    "type(origin_optional).__mro__"
   ]
  },
  {
   "cell_type": "code",
   "execution_count": 29,
   "metadata": {
    "execution": {
     "iopub.execute_input": "2023-02-19T19:14:09.010015Z",
     "iopub.status.busy": "2023-02-19T19:14:09.009802Z",
     "iopub.status.idle": "2023-02-19T19:14:09.013501Z",
     "shell.execute_reply": "2023-02-19T19:14:09.012920Z"
    },
    "tags": []
   },
   "outputs": [
    {
     "data": {
      "text/plain": [
       "'Union'"
      ]
     },
     "execution_count": 29,
     "metadata": {},
     "output_type": "execute_result"
    }
   ],
   "source": [
    "origin_optional._name"
   ]
  },
  {
   "cell_type": "code",
   "execution_count": 30,
   "metadata": {
    "execution": {
     "iopub.execute_input": "2023-02-19T19:14:09.016236Z",
     "iopub.status.busy": "2023-02-19T19:14:09.016019Z",
     "iopub.status.idle": "2023-02-19T19:14:09.021066Z",
     "shell.execute_reply": "2023-02-19T19:14:09.020561Z"
    },
    "tags": []
   },
   "outputs": [
    {
     "ename": "AttributeError",
     "evalue": "'_SpecialForm' object has no attribute '__name__'",
     "output_type": "error",
     "traceback": [
      "\u001b[0;31m---------------------------------------------------------------------------\u001b[0m",
      "\u001b[0;31mAttributeError\u001b[0m                            Traceback (most recent call last)",
      "\u001b[0;32m/var/folders/nq/vp3dgt812jgb0q09rh5l706c0000gn/T/ipykernel_28359/68465607.py\u001b[0m in \u001b[0;36m<module>\u001b[0;34m\u001b[0m\n\u001b[0;32m----> 1\u001b[0;31m \u001b[0morigin_optional\u001b[0m\u001b[0;34m.\u001b[0m\u001b[0m__name__\u001b[0m\u001b[0;34m\u001b[0m\u001b[0;34m\u001b[0m\u001b[0m\n\u001b[0m",
      "\u001b[0;31mAttributeError\u001b[0m: '_SpecialForm' object has no attribute '__name__'"
     ]
    }
   ],
   "source": [
    "origin_optional.__name__"
   ]
  },
  {
   "cell_type": "markdown",
   "metadata": {},
   "source": [
    "### | (bitwise or) Operator"
   ]
  },
  {
   "cell_type": "code",
   "execution_count": 31,
   "metadata": {
    "execution": {
     "iopub.execute_input": "2023-02-19T19:14:09.023948Z",
     "iopub.status.busy": "2023-02-19T19:14:09.023735Z",
     "iopub.status.idle": "2023-02-19T19:14:09.028833Z",
     "shell.execute_reply": "2023-02-19T19:14:09.028238Z"
    },
    "tags": []
   },
   "outputs": [
    {
     "ename": "TypeError",
     "evalue": "unsupported operand type(s) for |: 'type' and 'NoneType'",
     "output_type": "error",
     "traceback": [
      "\u001b[0;31m---------------------------------------------------------------------------\u001b[0m",
      "\u001b[0;31mTypeError\u001b[0m                                 Traceback (most recent call last)",
      "\u001b[0;32m/var/folders/nq/vp3dgt812jgb0q09rh5l706c0000gn/T/ipykernel_28359/2877484241.py\u001b[0m in \u001b[0;36m<module>\u001b[0;34m\u001b[0m\n\u001b[0;32m----> 1\u001b[0;31m \u001b[0mtp_or_none\u001b[0m \u001b[0;34m=\u001b[0m \u001b[0mint\u001b[0m \u001b[0;34m|\u001b[0m \u001b[0;32mNone\u001b[0m\u001b[0;34m\u001b[0m\u001b[0;34m\u001b[0m\u001b[0m\n\u001b[0m\u001b[1;32m      2\u001b[0m \u001b[0mtp_or_none\u001b[0m\u001b[0;34m\u001b[0m\u001b[0;34m\u001b[0m\u001b[0m\n",
      "\u001b[0;31mTypeError\u001b[0m: unsupported operand type(s) for |: 'type' and 'NoneType'"
     ]
    }
   ],
   "source": [
    "tp_or_none = int | None\n",
    "tp_or_none"
   ]
  },
  {
   "cell_type": "code",
   "execution_count": 32,
   "metadata": {
    "execution": {
     "iopub.execute_input": "2023-02-19T19:14:09.031607Z",
     "iopub.status.busy": "2023-02-19T19:14:09.031390Z",
     "iopub.status.idle": "2023-02-19T19:14:09.036307Z",
     "shell.execute_reply": "2023-02-19T19:14:09.035822Z"
    },
    "tags": []
   },
   "outputs": [
    {
     "ename": "NameError",
     "evalue": "name 'tp_or_none' is not defined",
     "output_type": "error",
     "traceback": [
      "\u001b[0;31m---------------------------------------------------------------------------\u001b[0m",
      "\u001b[0;31mNameError\u001b[0m                                 Traceback (most recent call last)",
      "\u001b[0;32m/var/folders/nq/vp3dgt812jgb0q09rh5l706c0000gn/T/ipykernel_28359/2351913409.py\u001b[0m in \u001b[0;36m<module>\u001b[0;34m\u001b[0m\n\u001b[0;32m----> 1\u001b[0;31m \u001b[0mtype\u001b[0m\u001b[0;34m(\u001b[0m\u001b[0mtp_or_none\u001b[0m\u001b[0;34m)\u001b[0m\u001b[0;34m\u001b[0m\u001b[0;34m\u001b[0m\u001b[0m\n\u001b[0m",
      "\u001b[0;31mNameError\u001b[0m: name 'tp_or_none' is not defined"
     ]
    }
   ],
   "source": [
    "type(tp_or_none)"
   ]
  },
  {
   "cell_type": "code",
   "execution_count": 33,
   "metadata": {
    "execution": {
     "iopub.execute_input": "2023-02-19T19:14:09.038974Z",
     "iopub.status.busy": "2023-02-19T19:14:09.038761Z",
     "iopub.status.idle": "2023-02-19T19:14:09.043777Z",
     "shell.execute_reply": "2023-02-19T19:14:09.043288Z"
    },
    "tags": []
   },
   "outputs": [
    {
     "ename": "NameError",
     "evalue": "name 'tp_or_none' is not defined",
     "output_type": "error",
     "traceback": [
      "\u001b[0;31m---------------------------------------------------------------------------\u001b[0m",
      "\u001b[0;31mNameError\u001b[0m                                 Traceback (most recent call last)",
      "\u001b[0;32m/var/folders/nq/vp3dgt812jgb0q09rh5l706c0000gn/T/ipykernel_28359/2139428148.py\u001b[0m in \u001b[0;36m<module>\u001b[0;34m\u001b[0m\n\u001b[0;32m----> 1\u001b[0;31m \u001b[0mtype\u001b[0m\u001b[0;34m(\u001b[0m\u001b[0mtp_or_none\u001b[0m\u001b[0;34m)\u001b[0m\u001b[0;34m.\u001b[0m\u001b[0m__mro__\u001b[0m\u001b[0;34m\u001b[0m\u001b[0;34m\u001b[0m\u001b[0m\n\u001b[0m",
      "\u001b[0;31mNameError\u001b[0m: name 'tp_or_none' is not defined"
     ]
    }
   ],
   "source": [
    "type(tp_or_none).__mro__"
   ]
  },
  {
   "cell_type": "code",
   "execution_count": 34,
   "metadata": {
    "execution": {
     "iopub.execute_input": "2023-02-19T19:14:09.046606Z",
     "iopub.status.busy": "2023-02-19T19:14:09.046387Z",
     "iopub.status.idle": "2023-02-19T19:14:09.051317Z",
     "shell.execute_reply": "2023-02-19T19:14:09.050772Z"
    },
    "tags": []
   },
   "outputs": [
    {
     "ename": "NameError",
     "evalue": "name 'tp_or_none' is not defined",
     "output_type": "error",
     "traceback": [
      "\u001b[0;31m---------------------------------------------------------------------------\u001b[0m",
      "\u001b[0;31mNameError\u001b[0m                                 Traceback (most recent call last)",
      "\u001b[0;32m/var/folders/nq/vp3dgt812jgb0q09rh5l706c0000gn/T/ipykernel_28359/3248812949.py\u001b[0m in \u001b[0;36m<module>\u001b[0;34m\u001b[0m\n\u001b[0;32m----> 1\u001b[0;31m \u001b[0mtp_or_none\u001b[0m\u001b[0;34m.\u001b[0m\u001b[0m_name\u001b[0m\u001b[0;34m\u001b[0m\u001b[0;34m\u001b[0m\u001b[0m\n\u001b[0m",
      "\u001b[0;31mNameError\u001b[0m: name 'tp_or_none' is not defined"
     ]
    }
   ],
   "source": [
    "tp_or_none._name"
   ]
  },
  {
   "cell_type": "code",
   "execution_count": 35,
   "metadata": {
    "execution": {
     "iopub.execute_input": "2023-02-19T19:14:09.054187Z",
     "iopub.status.busy": "2023-02-19T19:14:09.053974Z",
     "iopub.status.idle": "2023-02-19T19:14:09.058883Z",
     "shell.execute_reply": "2023-02-19T19:14:09.058391Z"
    },
    "tags": []
   },
   "outputs": [
    {
     "ename": "NameError",
     "evalue": "name 'tp_or_none' is not defined",
     "output_type": "error",
     "traceback": [
      "\u001b[0;31m---------------------------------------------------------------------------\u001b[0m",
      "\u001b[0;31mNameError\u001b[0m                                 Traceback (most recent call last)",
      "\u001b[0;32m/var/folders/nq/vp3dgt812jgb0q09rh5l706c0000gn/T/ipykernel_28359/3701193136.py\u001b[0m in \u001b[0;36m<module>\u001b[0;34m\u001b[0m\n\u001b[0;32m----> 1\u001b[0;31m \u001b[0mtp_or_none\u001b[0m\u001b[0;34m.\u001b[0m\u001b[0m__name__\u001b[0m\u001b[0;34m\u001b[0m\u001b[0;34m\u001b[0m\u001b[0m\n\u001b[0m",
      "\u001b[0;31mNameError\u001b[0m: name 'tp_or_none' is not defined"
     ]
    }
   ],
   "source": [
    "tp_or_none.__name__"
   ]
  },
  {
   "cell_type": "code",
   "execution_count": 36,
   "metadata": {
    "execution": {
     "iopub.execute_input": "2023-02-19T19:14:09.061847Z",
     "iopub.status.busy": "2023-02-19T19:14:09.061359Z",
     "iopub.status.idle": "2023-02-19T19:14:09.066483Z",
     "shell.execute_reply": "2023-02-19T19:14:09.065981Z"
    },
    "tags": []
   },
   "outputs": [
    {
     "ename": "NameError",
     "evalue": "name 'tp_or_none' is not defined",
     "output_type": "error",
     "traceback": [
      "\u001b[0;31m---------------------------------------------------------------------------\u001b[0m",
      "\u001b[0;31mNameError\u001b[0m                                 Traceback (most recent call last)",
      "\u001b[0;32m/var/folders/nq/vp3dgt812jgb0q09rh5l706c0000gn/T/ipykernel_28359/4270391277.py\u001b[0m in \u001b[0;36m<module>\u001b[0;34m\u001b[0m\n\u001b[0;32m----> 1\u001b[0;31m \u001b[0morigin_or_none\u001b[0m \u001b[0;34m=\u001b[0m \u001b[0mget_origin\u001b[0m\u001b[0;34m(\u001b[0m\u001b[0mtp_or_none\u001b[0m\u001b[0;34m)\u001b[0m\u001b[0;34m\u001b[0m\u001b[0;34m\u001b[0m\u001b[0m\n\u001b[0m\u001b[1;32m      2\u001b[0m \u001b[0morigin_or_none\u001b[0m\u001b[0;34m\u001b[0m\u001b[0;34m\u001b[0m\u001b[0m\n",
      "\u001b[0;31mNameError\u001b[0m: name 'tp_or_none' is not defined"
     ]
    }
   ],
   "source": [
    "origin_or_none = get_origin(tp_or_none)\n",
    "origin_or_none"
   ]
  },
  {
   "cell_type": "code",
   "execution_count": 37,
   "metadata": {
    "execution": {
     "iopub.execute_input": "2023-02-19T19:14:09.069182Z",
     "iopub.status.busy": "2023-02-19T19:14:09.068970Z",
     "iopub.status.idle": "2023-02-19T19:14:09.074001Z",
     "shell.execute_reply": "2023-02-19T19:14:09.073484Z"
    },
    "tags": []
   },
   "outputs": [
    {
     "ename": "NameError",
     "evalue": "name 'origin_or_none' is not defined",
     "output_type": "error",
     "traceback": [
      "\u001b[0;31m---------------------------------------------------------------------------\u001b[0m",
      "\u001b[0;31mNameError\u001b[0m                                 Traceback (most recent call last)",
      "\u001b[0;32m/var/folders/nq/vp3dgt812jgb0q09rh5l706c0000gn/T/ipykernel_28359/1560036036.py\u001b[0m in \u001b[0;36m<module>\u001b[0;34m\u001b[0m\n\u001b[0;32m----> 1\u001b[0;31m \u001b[0mtype\u001b[0m\u001b[0;34m(\u001b[0m\u001b[0morigin_or_none\u001b[0m\u001b[0;34m)\u001b[0m\u001b[0;34m\u001b[0m\u001b[0;34m\u001b[0m\u001b[0m\n\u001b[0m",
      "\u001b[0;31mNameError\u001b[0m: name 'origin_or_none' is not defined"
     ]
    }
   ],
   "source": [
    "type(origin_or_none)"
   ]
  },
  {
   "cell_type": "code",
   "execution_count": 38,
   "metadata": {
    "execution": {
     "iopub.execute_input": "2023-02-19T19:14:09.076693Z",
     "iopub.status.busy": "2023-02-19T19:14:09.076475Z",
     "iopub.status.idle": "2023-02-19T19:14:09.081615Z",
     "shell.execute_reply": "2023-02-19T19:14:09.081015Z"
    },
    "tags": []
   },
   "outputs": [
    {
     "ename": "NameError",
     "evalue": "name 'origin_or_none' is not defined",
     "output_type": "error",
     "traceback": [
      "\u001b[0;31m---------------------------------------------------------------------------\u001b[0m",
      "\u001b[0;31mNameError\u001b[0m                                 Traceback (most recent call last)",
      "\u001b[0;32m/var/folders/nq/vp3dgt812jgb0q09rh5l706c0000gn/T/ipykernel_28359/1959470683.py\u001b[0m in \u001b[0;36m<module>\u001b[0;34m\u001b[0m\n\u001b[0;32m----> 1\u001b[0;31m \u001b[0mtype\u001b[0m\u001b[0;34m(\u001b[0m\u001b[0morigin_or_none\u001b[0m\u001b[0;34m)\u001b[0m\u001b[0;34m.\u001b[0m\u001b[0m__mro__\u001b[0m\u001b[0;34m\u001b[0m\u001b[0;34m\u001b[0m\u001b[0m\n\u001b[0m",
      "\u001b[0;31mNameError\u001b[0m: name 'origin_or_none' is not defined"
     ]
    }
   ],
   "source": [
    "type(origin_or_none).__mro__"
   ]
  },
  {
   "cell_type": "code",
   "execution_count": 39,
   "metadata": {
    "execution": {
     "iopub.execute_input": "2023-02-19T19:14:09.084340Z",
     "iopub.status.busy": "2023-02-19T19:14:09.084128Z",
     "iopub.status.idle": "2023-02-19T19:14:09.089222Z",
     "shell.execute_reply": "2023-02-19T19:14:09.088643Z"
    },
    "tags": []
   },
   "outputs": [
    {
     "ename": "NameError",
     "evalue": "name 'origin_or_none' is not defined",
     "output_type": "error",
     "traceback": [
      "\u001b[0;31m---------------------------------------------------------------------------\u001b[0m",
      "\u001b[0;31mNameError\u001b[0m                                 Traceback (most recent call last)",
      "\u001b[0;32m/var/folders/nq/vp3dgt812jgb0q09rh5l706c0000gn/T/ipykernel_28359/1186053773.py\u001b[0m in \u001b[0;36m<module>\u001b[0;34m\u001b[0m\n\u001b[0;32m----> 1\u001b[0;31m \u001b[0morigin_or_none\u001b[0m\u001b[0;34m.\u001b[0m\u001b[0m_name\u001b[0m\u001b[0;34m\u001b[0m\u001b[0;34m\u001b[0m\u001b[0m\n\u001b[0m",
      "\u001b[0;31mNameError\u001b[0m: name 'origin_or_none' is not defined"
     ]
    }
   ],
   "source": [
    "origin_or_none._name"
   ]
  },
  {
   "cell_type": "code",
   "execution_count": 40,
   "metadata": {
    "execution": {
     "iopub.execute_input": "2023-02-19T19:14:09.091907Z",
     "iopub.status.busy": "2023-02-19T19:14:09.091695Z",
     "iopub.status.idle": "2023-02-19T19:14:09.096764Z",
     "shell.execute_reply": "2023-02-19T19:14:09.096182Z"
    },
    "tags": []
   },
   "outputs": [
    {
     "ename": "NameError",
     "evalue": "name 'origin_or_none' is not defined",
     "output_type": "error",
     "traceback": [
      "\u001b[0;31m---------------------------------------------------------------------------\u001b[0m",
      "\u001b[0;31mNameError\u001b[0m                                 Traceback (most recent call last)",
      "\u001b[0;32m/var/folders/nq/vp3dgt812jgb0q09rh5l706c0000gn/T/ipykernel_28359/2832496858.py\u001b[0m in \u001b[0;36m<module>\u001b[0;34m\u001b[0m\n\u001b[0;32m----> 1\u001b[0;31m \u001b[0morigin_or_none\u001b[0m\u001b[0;34m.\u001b[0m\u001b[0m__name__\u001b[0m\u001b[0;34m\u001b[0m\u001b[0;34m\u001b[0m\u001b[0m\n\u001b[0m",
      "\u001b[0;31mNameError\u001b[0m: name 'origin_or_none' is not defined"
     ]
    }
   ],
   "source": [
    "origin_or_none.__name__"
   ]
  },
  {
   "cell_type": "markdown",
   "metadata": {},
   "source": [
    "## Standard Collections"
   ]
  },
  {
   "cell_type": "markdown",
   "metadata": {},
   "source": [
    "### typing Module Aliases"
   ]
  },
  {
   "cell_type": "code",
   "execution_count": 41,
   "metadata": {
    "execution": {
     "iopub.execute_input": "2023-02-19T19:14:09.099669Z",
     "iopub.status.busy": "2023-02-19T19:14:09.099460Z",
     "iopub.status.idle": "2023-02-19T19:14:09.103147Z",
     "shell.execute_reply": "2023-02-19T19:14:09.102658Z"
    }
   },
   "outputs": [
    {
     "data": {
      "text/plain": [
       "typing.List[int]"
      ]
     },
     "execution_count": 41,
     "metadata": {},
     "output_type": "execute_result"
    }
   ],
   "source": [
    "tp_List = typing.List[int]\n",
    "tp_List"
   ]
  },
  {
   "cell_type": "code",
   "execution_count": 42,
   "metadata": {
    "execution": {
     "iopub.execute_input": "2023-02-19T19:14:09.106000Z",
     "iopub.status.busy": "2023-02-19T19:14:09.105784Z",
     "iopub.status.idle": "2023-02-19T19:14:09.109373Z",
     "shell.execute_reply": "2023-02-19T19:14:09.108815Z"
    }
   },
   "outputs": [
    {
     "data": {
      "text/plain": [
       "typing._GenericAlias"
      ]
     },
     "execution_count": 42,
     "metadata": {},
     "output_type": "execute_result"
    }
   ],
   "source": [
    "type(tp_List)"
   ]
  },
  {
   "cell_type": "code",
   "execution_count": 43,
   "metadata": {
    "execution": {
     "iopub.execute_input": "2023-02-19T19:14:09.112147Z",
     "iopub.status.busy": "2023-02-19T19:14:09.111935Z",
     "iopub.status.idle": "2023-02-19T19:14:09.115916Z",
     "shell.execute_reply": "2023-02-19T19:14:09.115351Z"
    }
   },
   "outputs": [
    {
     "data": {
      "text/plain": [
       "(typing._GenericAlias, typing._Final, object)"
      ]
     },
     "execution_count": 43,
     "metadata": {},
     "output_type": "execute_result"
    }
   ],
   "source": [
    "type(tp_List).__mro__"
   ]
  },
  {
   "cell_type": "code",
   "execution_count": 44,
   "metadata": {
    "execution": {
     "iopub.execute_input": "2023-02-19T19:14:09.118742Z",
     "iopub.status.busy": "2023-02-19T19:14:09.118522Z",
     "iopub.status.idle": "2023-02-19T19:14:09.122213Z",
     "shell.execute_reply": "2023-02-19T19:14:09.121641Z"
    }
   },
   "outputs": [
    {
     "data": {
      "text/plain": [
       "'List'"
      ]
     },
     "execution_count": 44,
     "metadata": {},
     "output_type": "execute_result"
    }
   ],
   "source": [
    "tp_List._name"
   ]
  },
  {
   "cell_type": "code",
   "execution_count": 45,
   "metadata": {
    "execution": {
     "iopub.execute_input": "2023-02-19T19:14:09.124940Z",
     "iopub.status.busy": "2023-02-19T19:14:09.124722Z",
     "iopub.status.idle": "2023-02-19T19:14:09.130766Z",
     "shell.execute_reply": "2023-02-19T19:14:09.130248Z"
    },
    "tags": []
   },
   "outputs": [
    {
     "ename": "AttributeError",
     "evalue": "__name__",
     "output_type": "error",
     "traceback": [
      "\u001b[0;31m---------------------------------------------------------------------------\u001b[0m",
      "\u001b[0;31mAttributeError\u001b[0m                            Traceback (most recent call last)",
      "\u001b[0;32m/var/folders/nq/vp3dgt812jgb0q09rh5l706c0000gn/T/ipykernel_28359/2984193317.py\u001b[0m in \u001b[0;36m<module>\u001b[0;34m\u001b[0m\n\u001b[0;32m----> 1\u001b[0;31m \u001b[0mtp_List\u001b[0m\u001b[0;34m.\u001b[0m\u001b[0m__name__\u001b[0m\u001b[0;34m\u001b[0m\u001b[0;34m\u001b[0m\u001b[0m\n\u001b[0m",
      "\u001b[0;32m/usr/local/opt/python@3.7/Frameworks/Python.framework/Versions/3.7/lib/python3.7/typing.py\u001b[0m in \u001b[0;36m__getattr__\u001b[0;34m(self, attr)\u001b[0m\n\u001b[1;32m    705\u001b[0m         \u001b[0;32mif\u001b[0m \u001b[0;34m'__origin__'\u001b[0m \u001b[0;32min\u001b[0m \u001b[0mself\u001b[0m\u001b[0;34m.\u001b[0m\u001b[0m__dict__\u001b[0m \u001b[0;32mand\u001b[0m \u001b[0;32mnot\u001b[0m \u001b[0m_is_dunder\u001b[0m\u001b[0;34m(\u001b[0m\u001b[0mattr\u001b[0m\u001b[0;34m)\u001b[0m\u001b[0;34m:\u001b[0m\u001b[0;34m\u001b[0m\u001b[0;34m\u001b[0m\u001b[0m\n\u001b[1;32m    706\u001b[0m             \u001b[0;32mreturn\u001b[0m \u001b[0mgetattr\u001b[0m\u001b[0;34m(\u001b[0m\u001b[0mself\u001b[0m\u001b[0;34m.\u001b[0m\u001b[0m__origin__\u001b[0m\u001b[0;34m,\u001b[0m \u001b[0mattr\u001b[0m\u001b[0;34m)\u001b[0m\u001b[0;34m\u001b[0m\u001b[0;34m\u001b[0m\u001b[0m\n\u001b[0;32m--> 707\u001b[0;31m         \u001b[0;32mraise\u001b[0m \u001b[0mAttributeError\u001b[0m\u001b[0;34m(\u001b[0m\u001b[0mattr\u001b[0m\u001b[0;34m)\u001b[0m\u001b[0;34m\u001b[0m\u001b[0;34m\u001b[0m\u001b[0m\n\u001b[0m\u001b[1;32m    708\u001b[0m \u001b[0;34m\u001b[0m\u001b[0m\n\u001b[1;32m    709\u001b[0m     \u001b[0;32mdef\u001b[0m \u001b[0m__setattr__\u001b[0m\u001b[0;34m(\u001b[0m\u001b[0mself\u001b[0m\u001b[0;34m,\u001b[0m \u001b[0mattr\u001b[0m\u001b[0;34m,\u001b[0m \u001b[0mval\u001b[0m\u001b[0;34m)\u001b[0m\u001b[0;34m:\u001b[0m\u001b[0;34m\u001b[0m\u001b[0;34m\u001b[0m\u001b[0m\n",
      "\u001b[0;31mAttributeError\u001b[0m: __name__"
     ]
    }
   ],
   "source": [
    "tp_List.__name__"
   ]
  },
  {
   "cell_type": "code",
   "execution_count": 46,
   "metadata": {
    "execution": {
     "iopub.execute_input": "2023-02-19T19:14:09.133556Z",
     "iopub.status.busy": "2023-02-19T19:14:09.133343Z",
     "iopub.status.idle": "2023-02-19T19:14:09.137300Z",
     "shell.execute_reply": "2023-02-19T19:14:09.136811Z"
    }
   },
   "outputs": [
    {
     "data": {
      "text/plain": [
       "list"
      ]
     },
     "execution_count": 46,
     "metadata": {},
     "output_type": "execute_result"
    }
   ],
   "source": [
    "origin_List = get_origin(tp_List)\n",
    "origin_List"
   ]
  },
  {
   "cell_type": "code",
   "execution_count": 47,
   "metadata": {
    "execution": {
     "iopub.execute_input": "2023-02-19T19:14:09.140080Z",
     "iopub.status.busy": "2023-02-19T19:14:09.139862Z",
     "iopub.status.idle": "2023-02-19T19:14:09.143468Z",
     "shell.execute_reply": "2023-02-19T19:14:09.142970Z"
    }
   },
   "outputs": [
    {
     "data": {
      "text/plain": [
       "type"
      ]
     },
     "execution_count": 47,
     "metadata": {},
     "output_type": "execute_result"
    }
   ],
   "source": [
    "type(origin_List)"
   ]
  },
  {
   "cell_type": "code",
   "execution_count": 48,
   "metadata": {
    "execution": {
     "iopub.execute_input": "2023-02-19T19:14:09.146287Z",
     "iopub.status.busy": "2023-02-19T19:14:09.146076Z",
     "iopub.status.idle": "2023-02-19T19:14:09.149745Z",
     "shell.execute_reply": "2023-02-19T19:14:09.149168Z"
    }
   },
   "outputs": [
    {
     "data": {
      "text/plain": [
       "tuple"
      ]
     },
     "execution_count": 48,
     "metadata": {},
     "output_type": "execute_result"
    }
   ],
   "source": [
    "type(origin_List.__mro__)"
   ]
  },
  {
   "cell_type": "code",
   "execution_count": 49,
   "metadata": {
    "execution": {
     "iopub.execute_input": "2023-02-19T19:14:09.152656Z",
     "iopub.status.busy": "2023-02-19T19:14:09.152426Z",
     "iopub.status.idle": "2023-02-19T19:14:09.157755Z",
     "shell.execute_reply": "2023-02-19T19:14:09.157239Z"
    },
    "tags": []
   },
   "outputs": [
    {
     "ename": "AttributeError",
     "evalue": "type object 'list' has no attribute '_name'",
     "output_type": "error",
     "traceback": [
      "\u001b[0;31m---------------------------------------------------------------------------\u001b[0m",
      "\u001b[0;31mAttributeError\u001b[0m                            Traceback (most recent call last)",
      "\u001b[0;32m/var/folders/nq/vp3dgt812jgb0q09rh5l706c0000gn/T/ipykernel_28359/2614691794.py\u001b[0m in \u001b[0;36m<module>\u001b[0;34m\u001b[0m\n\u001b[0;32m----> 1\u001b[0;31m \u001b[0morigin_List\u001b[0m\u001b[0;34m.\u001b[0m\u001b[0m_name\u001b[0m\u001b[0;34m\u001b[0m\u001b[0;34m\u001b[0m\u001b[0m\n\u001b[0m",
      "\u001b[0;31mAttributeError\u001b[0m: type object 'list' has no attribute '_name'"
     ]
    }
   ],
   "source": [
    "origin_List._name"
   ]
  },
  {
   "cell_type": "code",
   "execution_count": 50,
   "metadata": {
    "execution": {
     "iopub.execute_input": "2023-02-19T19:14:09.162109Z",
     "iopub.status.busy": "2023-02-19T19:14:09.161870Z",
     "iopub.status.idle": "2023-02-19T19:14:09.165891Z",
     "shell.execute_reply": "2023-02-19T19:14:09.165237Z"
    },
    "tags": []
   },
   "outputs": [
    {
     "data": {
      "text/plain": [
       "'list'"
      ]
     },
     "execution_count": 50,
     "metadata": {},
     "output_type": "execute_result"
    }
   ],
   "source": [
    "origin_List.__name__"
   ]
  },
  {
   "cell_type": "markdown",
   "metadata": {},
   "source": [
    "### Standard Collection Aliases"
   ]
  },
  {
   "cell_type": "code",
   "execution_count": 51,
   "metadata": {
    "execution": {
     "iopub.execute_input": "2023-02-19T19:14:09.168799Z",
     "iopub.status.busy": "2023-02-19T19:14:09.168574Z",
     "iopub.status.idle": "2023-02-19T19:14:09.173874Z",
     "shell.execute_reply": "2023-02-19T19:14:09.173337Z"
    },
    "tags": []
   },
   "outputs": [
    {
     "ename": "TypeError",
     "evalue": "'type' object is not subscriptable",
     "output_type": "error",
     "traceback": [
      "\u001b[0;31m---------------------------------------------------------------------------\u001b[0m",
      "\u001b[0;31mTypeError\u001b[0m                                 Traceback (most recent call last)",
      "\u001b[0;32m/var/folders/nq/vp3dgt812jgb0q09rh5l706c0000gn/T/ipykernel_28359/3553886767.py\u001b[0m in \u001b[0;36m<module>\u001b[0;34m\u001b[0m\n\u001b[0;32m----> 1\u001b[0;31m \u001b[0mtp_list\u001b[0m \u001b[0;34m=\u001b[0m \u001b[0mlist\u001b[0m\u001b[0;34m[\u001b[0m\u001b[0mint\u001b[0m\u001b[0;34m]\u001b[0m\u001b[0;34m\u001b[0m\u001b[0;34m\u001b[0m\u001b[0m\n\u001b[0m\u001b[1;32m      2\u001b[0m \u001b[0mtp_list\u001b[0m\u001b[0;34m\u001b[0m\u001b[0;34m\u001b[0m\u001b[0m\n",
      "\u001b[0;31mTypeError\u001b[0m: 'type' object is not subscriptable"
     ]
    }
   ],
   "source": [
    "tp_list = list[int]\n",
    "tp_list"
   ]
  },
  {
   "cell_type": "code",
   "execution_count": 52,
   "metadata": {
    "execution": {
     "iopub.execute_input": "2023-02-19T19:14:09.176769Z",
     "iopub.status.busy": "2023-02-19T19:14:09.176551Z",
     "iopub.status.idle": "2023-02-19T19:14:09.181667Z",
     "shell.execute_reply": "2023-02-19T19:14:09.181020Z"
    },
    "tags": []
   },
   "outputs": [
    {
     "ename": "NameError",
     "evalue": "name 'tp_list' is not defined",
     "output_type": "error",
     "traceback": [
      "\u001b[0;31m---------------------------------------------------------------------------\u001b[0m",
      "\u001b[0;31mNameError\u001b[0m                                 Traceback (most recent call last)",
      "\u001b[0;32m/var/folders/nq/vp3dgt812jgb0q09rh5l706c0000gn/T/ipykernel_28359/2255621749.py\u001b[0m in \u001b[0;36m<module>\u001b[0;34m\u001b[0m\n\u001b[0;32m----> 1\u001b[0;31m \u001b[0mtype\u001b[0m\u001b[0;34m(\u001b[0m\u001b[0mtp_list\u001b[0m\u001b[0;34m)\u001b[0m\u001b[0;34m\u001b[0m\u001b[0;34m\u001b[0m\u001b[0m\n\u001b[0m",
      "\u001b[0;31mNameError\u001b[0m: name 'tp_list' is not defined"
     ]
    }
   ],
   "source": [
    "type(tp_list)"
   ]
  },
  {
   "cell_type": "code",
   "execution_count": 53,
   "metadata": {
    "execution": {
     "iopub.execute_input": "2023-02-19T19:14:09.184427Z",
     "iopub.status.busy": "2023-02-19T19:14:09.184210Z",
     "iopub.status.idle": "2023-02-19T19:14:09.189601Z",
     "shell.execute_reply": "2023-02-19T19:14:09.188978Z"
    },
    "tags": []
   },
   "outputs": [
    {
     "ename": "NameError",
     "evalue": "name 'tp_list' is not defined",
     "output_type": "error",
     "traceback": [
      "\u001b[0;31m---------------------------------------------------------------------------\u001b[0m",
      "\u001b[0;31mNameError\u001b[0m                                 Traceback (most recent call last)",
      "\u001b[0;32m/var/folders/nq/vp3dgt812jgb0q09rh5l706c0000gn/T/ipykernel_28359/3805303791.py\u001b[0m in \u001b[0;36m<module>\u001b[0;34m\u001b[0m\n\u001b[0;32m----> 1\u001b[0;31m \u001b[0mtype\u001b[0m\u001b[0;34m(\u001b[0m\u001b[0mtp_list\u001b[0m\u001b[0;34m)\u001b[0m\u001b[0;34m.\u001b[0m\u001b[0m__mro__\u001b[0m\u001b[0;34m\u001b[0m\u001b[0;34m\u001b[0m\u001b[0m\n\u001b[0m",
      "\u001b[0;31mNameError\u001b[0m: name 'tp_list' is not defined"
     ]
    }
   ],
   "source": [
    "type(tp_list).__mro__"
   ]
  },
  {
   "cell_type": "code",
   "execution_count": 54,
   "metadata": {
    "execution": {
     "iopub.execute_input": "2023-02-19T19:14:09.192284Z",
     "iopub.status.busy": "2023-02-19T19:14:09.192074Z",
     "iopub.status.idle": "2023-02-19T19:14:09.197148Z",
     "shell.execute_reply": "2023-02-19T19:14:09.196565Z"
    },
    "tags": []
   },
   "outputs": [
    {
     "ename": "NameError",
     "evalue": "name 'tp_list' is not defined",
     "output_type": "error",
     "traceback": [
      "\u001b[0;31m---------------------------------------------------------------------------\u001b[0m",
      "\u001b[0;31mNameError\u001b[0m                                 Traceback (most recent call last)",
      "\u001b[0;32m/var/folders/nq/vp3dgt812jgb0q09rh5l706c0000gn/T/ipykernel_28359/3701069191.py\u001b[0m in \u001b[0;36m<module>\u001b[0;34m\u001b[0m\n\u001b[0;32m----> 1\u001b[0;31m \u001b[0mtp_list\u001b[0m\u001b[0;34m.\u001b[0m\u001b[0m_name\u001b[0m\u001b[0;34m\u001b[0m\u001b[0;34m\u001b[0m\u001b[0m\n\u001b[0m",
      "\u001b[0;31mNameError\u001b[0m: name 'tp_list' is not defined"
     ]
    }
   ],
   "source": [
    "tp_list._name"
   ]
  },
  {
   "cell_type": "code",
   "execution_count": 55,
   "metadata": {
    "execution": {
     "iopub.execute_input": "2023-02-19T19:14:09.199870Z",
     "iopub.status.busy": "2023-02-19T19:14:09.199655Z",
     "iopub.status.idle": "2023-02-19T19:14:09.204564Z",
     "shell.execute_reply": "2023-02-19T19:14:09.204030Z"
    },
    "tags": []
   },
   "outputs": [
    {
     "ename": "NameError",
     "evalue": "name 'tp_list' is not defined",
     "output_type": "error",
     "traceback": [
      "\u001b[0;31m---------------------------------------------------------------------------\u001b[0m",
      "\u001b[0;31mNameError\u001b[0m                                 Traceback (most recent call last)",
      "\u001b[0;32m/var/folders/nq/vp3dgt812jgb0q09rh5l706c0000gn/T/ipykernel_28359/332758997.py\u001b[0m in \u001b[0;36m<module>\u001b[0;34m\u001b[0m\n\u001b[0;32m----> 1\u001b[0;31m \u001b[0mtp_list\u001b[0m\u001b[0;34m.\u001b[0m\u001b[0m__name__\u001b[0m\u001b[0;34m\u001b[0m\u001b[0;34m\u001b[0m\u001b[0m\n\u001b[0m",
      "\u001b[0;31mNameError\u001b[0m: name 'tp_list' is not defined"
     ]
    }
   ],
   "source": [
    "tp_list.__name__"
   ]
  },
  {
   "cell_type": "code",
   "execution_count": 56,
   "metadata": {
    "execution": {
     "iopub.execute_input": "2023-02-19T19:14:09.207316Z",
     "iopub.status.busy": "2023-02-19T19:14:09.207101Z",
     "iopub.status.idle": "2023-02-19T19:14:09.212160Z",
     "shell.execute_reply": "2023-02-19T19:14:09.211646Z"
    },
    "tags": []
   },
   "outputs": [
    {
     "ename": "NameError",
     "evalue": "name 'tp_list' is not defined",
     "output_type": "error",
     "traceback": [
      "\u001b[0;31m---------------------------------------------------------------------------\u001b[0m",
      "\u001b[0;31mNameError\u001b[0m                                 Traceback (most recent call last)",
      "\u001b[0;32m/var/folders/nq/vp3dgt812jgb0q09rh5l706c0000gn/T/ipykernel_28359/962937193.py\u001b[0m in \u001b[0;36m<module>\u001b[0;34m\u001b[0m\n\u001b[0;32m----> 1\u001b[0;31m \u001b[0morigin_list\u001b[0m \u001b[0;34m=\u001b[0m \u001b[0mget_origin\u001b[0m\u001b[0;34m(\u001b[0m\u001b[0mtp_list\u001b[0m\u001b[0;34m)\u001b[0m\u001b[0;34m\u001b[0m\u001b[0;34m\u001b[0m\u001b[0m\n\u001b[0m\u001b[1;32m      2\u001b[0m \u001b[0morigin_list\u001b[0m\u001b[0;34m\u001b[0m\u001b[0;34m\u001b[0m\u001b[0m\n",
      "\u001b[0;31mNameError\u001b[0m: name 'tp_list' is not defined"
     ]
    }
   ],
   "source": [
    "origin_list = get_origin(tp_list)\n",
    "origin_list"
   ]
  },
  {
   "cell_type": "code",
   "execution_count": 57,
   "metadata": {
    "execution": {
     "iopub.execute_input": "2023-02-19T19:14:09.214913Z",
     "iopub.status.busy": "2023-02-19T19:14:09.214695Z",
     "iopub.status.idle": "2023-02-19T19:14:09.219726Z",
     "shell.execute_reply": "2023-02-19T19:14:09.219139Z"
    },
    "tags": []
   },
   "outputs": [
    {
     "ename": "NameError",
     "evalue": "name 'origin_list' is not defined",
     "output_type": "error",
     "traceback": [
      "\u001b[0;31m---------------------------------------------------------------------------\u001b[0m",
      "\u001b[0;31mNameError\u001b[0m                                 Traceback (most recent call last)",
      "\u001b[0;32m/var/folders/nq/vp3dgt812jgb0q09rh5l706c0000gn/T/ipykernel_28359/2157852126.py\u001b[0m in \u001b[0;36m<module>\u001b[0;34m\u001b[0m\n\u001b[0;32m----> 1\u001b[0;31m \u001b[0mtype\u001b[0m\u001b[0;34m(\u001b[0m\u001b[0morigin_list\u001b[0m\u001b[0;34m)\u001b[0m\u001b[0;34m\u001b[0m\u001b[0;34m\u001b[0m\u001b[0m\n\u001b[0m",
      "\u001b[0;31mNameError\u001b[0m: name 'origin_list' is not defined"
     ]
    }
   ],
   "source": [
    "type(origin_list)"
   ]
  },
  {
   "cell_type": "code",
   "execution_count": 58,
   "metadata": {
    "execution": {
     "iopub.execute_input": "2023-02-19T19:14:09.222393Z",
     "iopub.status.busy": "2023-02-19T19:14:09.222179Z",
     "iopub.status.idle": "2023-02-19T19:14:09.227218Z",
     "shell.execute_reply": "2023-02-19T19:14:09.226730Z"
    },
    "tags": []
   },
   "outputs": [
    {
     "ename": "NameError",
     "evalue": "name 'origin_list' is not defined",
     "output_type": "error",
     "traceback": [
      "\u001b[0;31m---------------------------------------------------------------------------\u001b[0m",
      "\u001b[0;31mNameError\u001b[0m                                 Traceback (most recent call last)",
      "\u001b[0;32m/var/folders/nq/vp3dgt812jgb0q09rh5l706c0000gn/T/ipykernel_28359/2863265915.py\u001b[0m in \u001b[0;36m<module>\u001b[0;34m\u001b[0m\n\u001b[0;32m----> 1\u001b[0;31m \u001b[0mtype\u001b[0m\u001b[0;34m(\u001b[0m\u001b[0morigin_list\u001b[0m\u001b[0;34m)\u001b[0m\u001b[0;34m.\u001b[0m\u001b[0m__mro__\u001b[0m\u001b[0;34m\u001b[0m\u001b[0;34m\u001b[0m\u001b[0m\n\u001b[0m",
      "\u001b[0;31mNameError\u001b[0m: name 'origin_list' is not defined"
     ]
    }
   ],
   "source": [
    "type(origin_list).__mro__"
   ]
  },
  {
   "cell_type": "code",
   "execution_count": 59,
   "metadata": {
    "execution": {
     "iopub.execute_input": "2023-02-19T19:14:09.229880Z",
     "iopub.status.busy": "2023-02-19T19:14:09.229667Z",
     "iopub.status.idle": "2023-02-19T19:14:09.234568Z",
     "shell.execute_reply": "2023-02-19T19:14:09.234067Z"
    },
    "tags": []
   },
   "outputs": [
    {
     "ename": "NameError",
     "evalue": "name 'origin_list' is not defined",
     "output_type": "error",
     "traceback": [
      "\u001b[0;31m---------------------------------------------------------------------------\u001b[0m",
      "\u001b[0;31mNameError\u001b[0m                                 Traceback (most recent call last)",
      "\u001b[0;32m/var/folders/nq/vp3dgt812jgb0q09rh5l706c0000gn/T/ipykernel_28359/2588725931.py\u001b[0m in \u001b[0;36m<module>\u001b[0;34m\u001b[0m\n\u001b[0;32m----> 1\u001b[0;31m \u001b[0morigin_list\u001b[0m\u001b[0;34m.\u001b[0m\u001b[0m_name\u001b[0m\u001b[0;34m\u001b[0m\u001b[0;34m\u001b[0m\u001b[0m\n\u001b[0m",
      "\u001b[0;31mNameError\u001b[0m: name 'origin_list' is not defined"
     ]
    }
   ],
   "source": [
    "origin_list._name"
   ]
  },
  {
   "cell_type": "code",
   "execution_count": 60,
   "metadata": {
    "execution": {
     "iopub.execute_input": "2023-02-19T19:14:09.237354Z",
     "iopub.status.busy": "2023-02-19T19:14:09.237128Z",
     "iopub.status.idle": "2023-02-19T19:14:09.242168Z",
     "shell.execute_reply": "2023-02-19T19:14:09.241574Z"
    },
    "tags": []
   },
   "outputs": [
    {
     "ename": "NameError",
     "evalue": "name 'origin_list' is not defined",
     "output_type": "error",
     "traceback": [
      "\u001b[0;31m---------------------------------------------------------------------------\u001b[0m",
      "\u001b[0;31mNameError\u001b[0m                                 Traceback (most recent call last)",
      "\u001b[0;32m/var/folders/nq/vp3dgt812jgb0q09rh5l706c0000gn/T/ipykernel_28359/325420629.py\u001b[0m in \u001b[0;36m<module>\u001b[0;34m\u001b[0m\n\u001b[0;32m----> 1\u001b[0;31m \u001b[0morigin_list\u001b[0m\u001b[0;34m.\u001b[0m\u001b[0m__name__\u001b[0m\u001b[0;34m\u001b[0m\u001b[0;34m\u001b[0m\u001b[0m\n\u001b[0m",
      "\u001b[0;31mNameError\u001b[0m: name 'origin_list' is not defined"
     ]
    }
   ],
   "source": [
    "origin_list.__name__"
   ]
  }
 ],
 "metadata": {
  "kernelspec": {
   "display_name": "Python 3 (ipykernel)",
   "language": "python",
   "name": "python3"
  },
  "language_info": {
   "codemirror_mode": {
    "name": "ipython",
    "version": 3
   },
   "file_extension": ".py",
   "mimetype": "text/x-python",
   "name": "python",
   "nbconvert_exporter": "python",
   "pygments_lexer": "ipython3",
   "version": "3.7.16"
  },
  "vscode": {
   "interpreter": {
    "hash": "80942b1bde6a4b6b83cda378767221fd5d0b42ef189a887432315083c1f66fc8"
   }
  }
 },
 "nbformat": 4,
 "nbformat_minor": 4
}
