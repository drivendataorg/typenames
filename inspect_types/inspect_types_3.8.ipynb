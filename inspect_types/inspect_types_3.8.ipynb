{
 "cells": [
  {
   "cell_type": "code",
   "execution_count": 1,
   "metadata": {
    "execution": {
     "iopub.execute_input": "2023-02-19T19:14:12.562590Z",
     "iopub.status.busy": "2023-02-19T19:14:12.561895Z",
     "iopub.status.idle": "2023-02-19T19:14:12.572097Z",
     "shell.execute_reply": "2023-02-19T19:14:12.570881Z"
    }
   },
   "outputs": [],
   "source": [
    "import sys\n",
    "import typing\n",
    "try: \n",
    "    from typing import get_origin\n",
    "except ImportError:\n",
    "    from typing_extensions import get_origin"
   ]
  },
  {
   "cell_type": "code",
   "execution_count": 2,
   "metadata": {
    "execution": {
     "iopub.execute_input": "2023-02-19T19:14:12.575086Z",
     "iopub.status.busy": "2023-02-19T19:14:12.574780Z",
     "iopub.status.idle": "2023-02-19T19:14:12.582463Z",
     "shell.execute_reply": "2023-02-19T19:14:12.581770Z"
    }
   },
   "outputs": [
    {
     "data": {
      "text/plain": [
       "'3.8.5 (default, Oct  4 2020, 11:30:26) \\n[Clang 11.0.3 (clang-1103.0.32.29)]'"
      ]
     },
     "execution_count": 2,
     "metadata": {},
     "output_type": "execute_result"
    }
   ],
   "source": [
    "sys.version"
   ]
  },
  {
   "cell_type": "markdown",
   "metadata": {},
   "source": [
    "## Union"
   ]
  },
  {
   "cell_type": "markdown",
   "metadata": {},
   "source": [
    "### typing.Union (Generic Alias)"
   ]
  },
  {
   "cell_type": "code",
   "execution_count": 3,
   "metadata": {
    "execution": {
     "iopub.execute_input": "2023-02-19T19:14:12.623317Z",
     "iopub.status.busy": "2023-02-19T19:14:12.623009Z",
     "iopub.status.idle": "2023-02-19T19:14:12.627700Z",
     "shell.execute_reply": "2023-02-19T19:14:12.627014Z"
    }
   },
   "outputs": [
    {
     "data": {
      "text/plain": [
       "typing.Union[int, str]"
      ]
     },
     "execution_count": 3,
     "metadata": {},
     "output_type": "execute_result"
    }
   ],
   "source": [
    "tp_union = typing.Union[int, str]\n",
    "tp_union"
   ]
  },
  {
   "cell_type": "code",
   "execution_count": 4,
   "metadata": {
    "execution": {
     "iopub.execute_input": "2023-02-19T19:14:12.630286Z",
     "iopub.status.busy": "2023-02-19T19:14:12.630036Z",
     "iopub.status.idle": "2023-02-19T19:14:12.634110Z",
     "shell.execute_reply": "2023-02-19T19:14:12.633481Z"
    }
   },
   "outputs": [
    {
     "data": {
      "text/plain": [
       "typing._GenericAlias"
      ]
     },
     "execution_count": 4,
     "metadata": {},
     "output_type": "execute_result"
    }
   ],
   "source": [
    "type(tp_union)"
   ]
  },
  {
   "cell_type": "code",
   "execution_count": 5,
   "metadata": {
    "execution": {
     "iopub.execute_input": "2023-02-19T19:14:12.636734Z",
     "iopub.status.busy": "2023-02-19T19:14:12.636472Z",
     "iopub.status.idle": "2023-02-19T19:14:12.640467Z",
     "shell.execute_reply": "2023-02-19T19:14:12.639875Z"
    }
   },
   "outputs": [
    {
     "data": {
      "text/plain": [
       "(typing._GenericAlias, typing._Final, object)"
      ]
     },
     "execution_count": 5,
     "metadata": {},
     "output_type": "execute_result"
    }
   ],
   "source": [
    "type(tp_union).__mro__"
   ]
  },
  {
   "cell_type": "code",
   "execution_count": 6,
   "metadata": {
    "execution": {
     "iopub.execute_input": "2023-02-19T19:14:12.642899Z",
     "iopub.status.busy": "2023-02-19T19:14:12.642658Z",
     "iopub.status.idle": "2023-02-19T19:14:12.645483Z",
     "shell.execute_reply": "2023-02-19T19:14:12.644873Z"
    }
   },
   "outputs": [],
   "source": [
    "tp_union._name"
   ]
  },
  {
   "cell_type": "code",
   "execution_count": 7,
   "metadata": {
    "execution": {
     "iopub.execute_input": "2023-02-19T19:14:12.647592Z",
     "iopub.status.busy": "2023-02-19T19:14:12.647369Z",
     "iopub.status.idle": "2023-02-19T19:14:12.910966Z",
     "shell.execute_reply": "2023-02-19T19:14:12.910337Z"
    }
   },
   "outputs": [
    {
     "ename": "AttributeError",
     "evalue": "__name__",
     "output_type": "error",
     "traceback": [
      "\u001b[0;31m---------------------------------------------------------------------------\u001b[0m",
      "\u001b[0;31mAttributeError\u001b[0m                            Traceback (most recent call last)",
      "Cell \u001b[0;32mIn[7], line 1\u001b[0m\n\u001b[0;32m----> 1\u001b[0m \u001b[43mtp_union\u001b[49m\u001b[38;5;241;43m.\u001b[39;49m\u001b[38;5;18;43m__name__\u001b[39;49m\n",
      "File \u001b[0;32m~/.pyenv/versions/3.8.5/lib/python3.8/typing.py:760\u001b[0m, in \u001b[0;36m_GenericAlias.__getattr__\u001b[0;34m(self, attr)\u001b[0m\n\u001b[1;32m    758\u001b[0m \u001b[38;5;28;01mif\u001b[39;00m \u001b[38;5;124m'\u001b[39m\u001b[38;5;124m__origin__\u001b[39m\u001b[38;5;124m'\u001b[39m \u001b[38;5;129;01min\u001b[39;00m \u001b[38;5;28mself\u001b[39m\u001b[38;5;241m.\u001b[39m\u001b[38;5;18m__dict__\u001b[39m \u001b[38;5;129;01mand\u001b[39;00m \u001b[38;5;129;01mnot\u001b[39;00m _is_dunder(attr):\n\u001b[1;32m    759\u001b[0m     \u001b[38;5;28;01mreturn\u001b[39;00m \u001b[38;5;28mgetattr\u001b[39m(\u001b[38;5;28mself\u001b[39m\u001b[38;5;241m.\u001b[39m__origin__, attr)\n\u001b[0;32m--> 760\u001b[0m \u001b[38;5;28;01mraise\u001b[39;00m \u001b[38;5;167;01mAttributeError\u001b[39;00m(attr)\n",
      "\u001b[0;31mAttributeError\u001b[0m: __name__"
     ]
    }
   ],
   "source": [
    "tp_union.__name__"
   ]
  },
  {
   "cell_type": "code",
   "execution_count": 8,
   "metadata": {
    "execution": {
     "iopub.execute_input": "2023-02-19T19:14:12.913959Z",
     "iopub.status.busy": "2023-02-19T19:14:12.913668Z",
     "iopub.status.idle": "2023-02-19T19:14:12.918674Z",
     "shell.execute_reply": "2023-02-19T19:14:12.918013Z"
    }
   },
   "outputs": [
    {
     "data": {
      "text/plain": [
       "typing.Union"
      ]
     },
     "execution_count": 8,
     "metadata": {},
     "output_type": "execute_result"
    }
   ],
   "source": [
    "origin_union = get_origin(tp_union)\n",
    "origin_union"
   ]
  },
  {
   "cell_type": "code",
   "execution_count": 9,
   "metadata": {
    "execution": {
     "iopub.execute_input": "2023-02-19T19:14:12.921080Z",
     "iopub.status.busy": "2023-02-19T19:14:12.920836Z",
     "iopub.status.idle": "2023-02-19T19:14:12.924473Z",
     "shell.execute_reply": "2023-02-19T19:14:12.923980Z"
    }
   },
   "outputs": [
    {
     "data": {
      "text/plain": [
       "typing._SpecialForm"
      ]
     },
     "execution_count": 9,
     "metadata": {},
     "output_type": "execute_result"
    }
   ],
   "source": [
    "type(origin_union)"
   ]
  },
  {
   "cell_type": "code",
   "execution_count": 10,
   "metadata": {
    "execution": {
     "iopub.execute_input": "2023-02-19T19:14:12.926765Z",
     "iopub.status.busy": "2023-02-19T19:14:12.926567Z",
     "iopub.status.idle": "2023-02-19T19:14:12.929973Z",
     "shell.execute_reply": "2023-02-19T19:14:12.929516Z"
    }
   },
   "outputs": [
    {
     "data": {
      "text/plain": [
       "(typing._SpecialForm, typing._Final, typing._Immutable, object)"
      ]
     },
     "execution_count": 10,
     "metadata": {},
     "output_type": "execute_result"
    }
   ],
   "source": [
    "type(origin_union).__mro__"
   ]
  },
  {
   "cell_type": "code",
   "execution_count": 11,
   "metadata": {
    "execution": {
     "iopub.execute_input": "2023-02-19T19:14:12.932093Z",
     "iopub.status.busy": "2023-02-19T19:14:12.931900Z",
     "iopub.status.idle": "2023-02-19T19:14:12.935167Z",
     "shell.execute_reply": "2023-02-19T19:14:12.934711Z"
    }
   },
   "outputs": [
    {
     "data": {
      "text/plain": [
       "'Union'"
      ]
     },
     "execution_count": 11,
     "metadata": {},
     "output_type": "execute_result"
    }
   ],
   "source": [
    "origin_union._name"
   ]
  },
  {
   "cell_type": "code",
   "execution_count": 12,
   "metadata": {
    "execution": {
     "iopub.execute_input": "2023-02-19T19:14:12.937403Z",
     "iopub.status.busy": "2023-02-19T19:14:12.937073Z",
     "iopub.status.idle": "2023-02-19T19:14:12.950093Z",
     "shell.execute_reply": "2023-02-19T19:14:12.949402Z"
    }
   },
   "outputs": [
    {
     "ename": "AttributeError",
     "evalue": "'_SpecialForm' object has no attribute '__name__'",
     "output_type": "error",
     "traceback": [
      "\u001b[0;31m---------------------------------------------------------------------------\u001b[0m",
      "\u001b[0;31mAttributeError\u001b[0m                            Traceback (most recent call last)",
      "Cell \u001b[0;32mIn[12], line 1\u001b[0m\n\u001b[0;32m----> 1\u001b[0m \u001b[43morigin_union\u001b[49m\u001b[38;5;241;43m.\u001b[39;49m\u001b[38;5;18;43m__name__\u001b[39;49m\n",
      "\u001b[0;31mAttributeError\u001b[0m: '_SpecialForm' object has no attribute '__name__'"
     ]
    }
   ],
   "source": [
    "origin_union.__name__"
   ]
  },
  {
   "cell_type": "markdown",
   "metadata": {},
   "source": [
    "### | (bitwise or) operator"
   ]
  },
  {
   "cell_type": "code",
   "execution_count": 13,
   "metadata": {
    "execution": {
     "iopub.execute_input": "2023-02-19T19:14:12.953350Z",
     "iopub.status.busy": "2023-02-19T19:14:12.953048Z",
     "iopub.status.idle": "2023-02-19T19:14:12.966686Z",
     "shell.execute_reply": "2023-02-19T19:14:12.966108Z"
    },
    "tags": []
   },
   "outputs": [
    {
     "ename": "TypeError",
     "evalue": "unsupported operand type(s) for |: 'type' and 'type'",
     "output_type": "error",
     "traceback": [
      "\u001b[0;31m---------------------------------------------------------------------------\u001b[0m",
      "\u001b[0;31mTypeError\u001b[0m                                 Traceback (most recent call last)",
      "Cell \u001b[0;32mIn[13], line 1\u001b[0m\n\u001b[0;32m----> 1\u001b[0m tp_or \u001b[38;5;241m=\u001b[39m \u001b[38;5;28;43mint\u001b[39;49m\u001b[43m \u001b[49m\u001b[38;5;241;43m|\u001b[39;49m\u001b[43m \u001b[49m\u001b[38;5;28;43mstr\u001b[39;49m\n\u001b[1;32m      2\u001b[0m tp_or\n",
      "\u001b[0;31mTypeError\u001b[0m: unsupported operand type(s) for |: 'type' and 'type'"
     ]
    }
   ],
   "source": [
    "tp_or = int | str\n",
    "tp_or"
   ]
  },
  {
   "cell_type": "code",
   "execution_count": 14,
   "metadata": {
    "execution": {
     "iopub.execute_input": "2023-02-19T19:14:12.969202Z",
     "iopub.status.busy": "2023-02-19T19:14:12.968934Z",
     "iopub.status.idle": "2023-02-19T19:14:12.981316Z",
     "shell.execute_reply": "2023-02-19T19:14:12.980841Z"
    },
    "tags": []
   },
   "outputs": [
    {
     "ename": "NameError",
     "evalue": "name 'tp_or' is not defined",
     "output_type": "error",
     "traceback": [
      "\u001b[0;31m---------------------------------------------------------------------------\u001b[0m",
      "\u001b[0;31mNameError\u001b[0m                                 Traceback (most recent call last)",
      "Cell \u001b[0;32mIn[14], line 1\u001b[0m\n\u001b[0;32m----> 1\u001b[0m \u001b[38;5;28mtype\u001b[39m(\u001b[43mtp_or\u001b[49m)\n",
      "\u001b[0;31mNameError\u001b[0m: name 'tp_or' is not defined"
     ]
    }
   ],
   "source": [
    "type(tp_or)"
   ]
  },
  {
   "cell_type": "code",
   "execution_count": 15,
   "metadata": {
    "execution": {
     "iopub.execute_input": "2023-02-19T19:14:12.983592Z",
     "iopub.status.busy": "2023-02-19T19:14:12.983373Z",
     "iopub.status.idle": "2023-02-19T19:14:12.995110Z",
     "shell.execute_reply": "2023-02-19T19:14:12.994627Z"
    },
    "tags": []
   },
   "outputs": [
    {
     "ename": "NameError",
     "evalue": "name 'tp_or' is not defined",
     "output_type": "error",
     "traceback": [
      "\u001b[0;31m---------------------------------------------------------------------------\u001b[0m",
      "\u001b[0;31mNameError\u001b[0m                                 Traceback (most recent call last)",
      "Cell \u001b[0;32mIn[15], line 1\u001b[0m\n\u001b[0;32m----> 1\u001b[0m \u001b[38;5;28mtype\u001b[39m(\u001b[43mtp_or\u001b[49m)\u001b[38;5;241m.\u001b[39m\u001b[38;5;18m__mro__\u001b[39m\n",
      "\u001b[0;31mNameError\u001b[0m: name 'tp_or' is not defined"
     ]
    }
   ],
   "source": [
    "type(tp_or).__mro__"
   ]
  },
  {
   "cell_type": "code",
   "execution_count": 16,
   "metadata": {
    "execution": {
     "iopub.execute_input": "2023-02-19T19:14:12.997477Z",
     "iopub.status.busy": "2023-02-19T19:14:12.997267Z",
     "iopub.status.idle": "2023-02-19T19:14:13.009161Z",
     "shell.execute_reply": "2023-02-19T19:14:13.008620Z"
    },
    "tags": []
   },
   "outputs": [
    {
     "ename": "NameError",
     "evalue": "name 'tp_or' is not defined",
     "output_type": "error",
     "traceback": [
      "\u001b[0;31m---------------------------------------------------------------------------\u001b[0m",
      "\u001b[0;31mNameError\u001b[0m                                 Traceback (most recent call last)",
      "Cell \u001b[0;32mIn[16], line 1\u001b[0m\n\u001b[0;32m----> 1\u001b[0m origin_or \u001b[38;5;241m=\u001b[39m get_origin(\u001b[43mtp_or\u001b[49m)\n\u001b[1;32m      2\u001b[0m origin_or\n",
      "\u001b[0;31mNameError\u001b[0m: name 'tp_or' is not defined"
     ]
    }
   ],
   "source": [
    "origin_or = get_origin(tp_or)\n",
    "origin_or"
   ]
  },
  {
   "cell_type": "code",
   "execution_count": 17,
   "metadata": {
    "execution": {
     "iopub.execute_input": "2023-02-19T19:14:13.011458Z",
     "iopub.status.busy": "2023-02-19T19:14:13.011244Z",
     "iopub.status.idle": "2023-02-19T19:14:13.023850Z",
     "shell.execute_reply": "2023-02-19T19:14:13.023279Z"
    },
    "tags": []
   },
   "outputs": [
    {
     "ename": "NameError",
     "evalue": "name 'origin_or' is not defined",
     "output_type": "error",
     "traceback": [
      "\u001b[0;31m---------------------------------------------------------------------------\u001b[0m",
      "\u001b[0;31mNameError\u001b[0m                                 Traceback (most recent call last)",
      "Cell \u001b[0;32mIn[17], line 1\u001b[0m\n\u001b[0;32m----> 1\u001b[0m \u001b[38;5;28mtype\u001b[39m(\u001b[43morigin_or\u001b[49m)\n",
      "\u001b[0;31mNameError\u001b[0m: name 'origin_or' is not defined"
     ]
    }
   ],
   "source": [
    "type(origin_or)"
   ]
  },
  {
   "cell_type": "code",
   "execution_count": 18,
   "metadata": {
    "execution": {
     "iopub.execute_input": "2023-02-19T19:14:13.026082Z",
     "iopub.status.busy": "2023-02-19T19:14:13.025871Z",
     "iopub.status.idle": "2023-02-19T19:14:13.037801Z",
     "shell.execute_reply": "2023-02-19T19:14:13.037200Z"
    },
    "tags": []
   },
   "outputs": [
    {
     "ename": "NameError",
     "evalue": "name 'origin_or' is not defined",
     "output_type": "error",
     "traceback": [
      "\u001b[0;31m---------------------------------------------------------------------------\u001b[0m",
      "\u001b[0;31mNameError\u001b[0m                                 Traceback (most recent call last)",
      "Cell \u001b[0;32mIn[18], line 1\u001b[0m\n\u001b[0;32m----> 1\u001b[0m \u001b[38;5;28mtype\u001b[39m(\u001b[43morigin_or\u001b[49m)\u001b[38;5;241m.\u001b[39m\u001b[38;5;18m__mro__\u001b[39m\n",
      "\u001b[0;31mNameError\u001b[0m: name 'origin_or' is not defined"
     ]
    }
   ],
   "source": [
    "type(origin_or).__mro__"
   ]
  },
  {
   "cell_type": "code",
   "execution_count": 19,
   "metadata": {
    "execution": {
     "iopub.execute_input": "2023-02-19T19:14:13.040119Z",
     "iopub.status.busy": "2023-02-19T19:14:13.039893Z",
     "iopub.status.idle": "2023-02-19T19:14:13.051478Z",
     "shell.execute_reply": "2023-02-19T19:14:13.050939Z"
    },
    "tags": []
   },
   "outputs": [
    {
     "ename": "NameError",
     "evalue": "name 'origin_or' is not defined",
     "output_type": "error",
     "traceback": [
      "\u001b[0;31m---------------------------------------------------------------------------\u001b[0m",
      "\u001b[0;31mNameError\u001b[0m                                 Traceback (most recent call last)",
      "Cell \u001b[0;32mIn[19], line 1\u001b[0m\n\u001b[0;32m----> 1\u001b[0m \u001b[43morigin_or\u001b[49m\u001b[38;5;241m.\u001b[39m_name\n",
      "\u001b[0;31mNameError\u001b[0m: name 'origin_or' is not defined"
     ]
    }
   ],
   "source": [
    "origin_or._name"
   ]
  },
  {
   "cell_type": "code",
   "execution_count": 20,
   "metadata": {
    "execution": {
     "iopub.execute_input": "2023-02-19T19:14:13.053646Z",
     "iopub.status.busy": "2023-02-19T19:14:13.053430Z",
     "iopub.status.idle": "2023-02-19T19:14:13.065087Z",
     "shell.execute_reply": "2023-02-19T19:14:13.064561Z"
    },
    "tags": []
   },
   "outputs": [
    {
     "ename": "NameError",
     "evalue": "name 'origin_or' is not defined",
     "output_type": "error",
     "traceback": [
      "\u001b[0;31m---------------------------------------------------------------------------\u001b[0m",
      "\u001b[0;31mNameError\u001b[0m                                 Traceback (most recent call last)",
      "Cell \u001b[0;32mIn[20], line 1\u001b[0m\n\u001b[0;32m----> 1\u001b[0m \u001b[43morigin_or\u001b[49m\u001b[38;5;241m.\u001b[39m\u001b[38;5;18m__name__\u001b[39m\n",
      "\u001b[0;31mNameError\u001b[0m: name 'origin_or' is not defined"
     ]
    }
   ],
   "source": [
    "origin_or.__name__"
   ]
  },
  {
   "cell_type": "markdown",
   "metadata": {},
   "source": [
    "## Optional"
   ]
  },
  {
   "cell_type": "markdown",
   "metadata": {},
   "source": [
    "### typing.Optional (Generic Alias)"
   ]
  },
  {
   "cell_type": "code",
   "execution_count": 21,
   "metadata": {
    "execution": {
     "iopub.execute_input": "2023-02-19T19:14:13.068374Z",
     "iopub.status.busy": "2023-02-19T19:14:13.068113Z",
     "iopub.status.idle": "2023-02-19T19:14:13.072314Z",
     "shell.execute_reply": "2023-02-19T19:14:13.071691Z"
    }
   },
   "outputs": [
    {
     "data": {
      "text/plain": [
       "typing.Union[int, NoneType]"
      ]
     },
     "execution_count": 21,
     "metadata": {},
     "output_type": "execute_result"
    }
   ],
   "source": [
    "tp_optional = typing.Optional[int]\n",
    "tp_optional"
   ]
  },
  {
   "cell_type": "code",
   "execution_count": 22,
   "metadata": {
    "execution": {
     "iopub.execute_input": "2023-02-19T19:14:13.074617Z",
     "iopub.status.busy": "2023-02-19T19:14:13.074405Z",
     "iopub.status.idle": "2023-02-19T19:14:13.077830Z",
     "shell.execute_reply": "2023-02-19T19:14:13.077341Z"
    }
   },
   "outputs": [
    {
     "data": {
      "text/plain": [
       "typing._GenericAlias"
      ]
     },
     "execution_count": 22,
     "metadata": {},
     "output_type": "execute_result"
    }
   ],
   "source": [
    "type(tp_optional)"
   ]
  },
  {
   "cell_type": "code",
   "execution_count": 23,
   "metadata": {
    "execution": {
     "iopub.execute_input": "2023-02-19T19:14:13.080017Z",
     "iopub.status.busy": "2023-02-19T19:14:13.079813Z",
     "iopub.status.idle": "2023-02-19T19:14:13.083364Z",
     "shell.execute_reply": "2023-02-19T19:14:13.082868Z"
    }
   },
   "outputs": [
    {
     "data": {
      "text/plain": [
       "(typing._GenericAlias, typing._Final, object)"
      ]
     },
     "execution_count": 23,
     "metadata": {},
     "output_type": "execute_result"
    }
   ],
   "source": [
    "type(tp_optional).__mro__"
   ]
  },
  {
   "cell_type": "code",
   "execution_count": 24,
   "metadata": {
    "execution": {
     "iopub.execute_input": "2023-02-19T19:14:13.085379Z",
     "iopub.status.busy": "2023-02-19T19:14:13.085178Z",
     "iopub.status.idle": "2023-02-19T19:14:13.087966Z",
     "shell.execute_reply": "2023-02-19T19:14:13.087367Z"
    },
    "tags": []
   },
   "outputs": [],
   "source": [
    "tp_optional._name"
   ]
  },
  {
   "cell_type": "code",
   "execution_count": 25,
   "metadata": {
    "execution": {
     "iopub.execute_input": "2023-02-19T19:14:13.090133Z",
     "iopub.status.busy": "2023-02-19T19:14:13.089921Z",
     "iopub.status.idle": "2023-02-19T19:14:13.106590Z",
     "shell.execute_reply": "2023-02-19T19:14:13.106080Z"
    },
    "tags": []
   },
   "outputs": [
    {
     "ename": "AttributeError",
     "evalue": "__name__",
     "output_type": "error",
     "traceback": [
      "\u001b[0;31m---------------------------------------------------------------------------\u001b[0m",
      "\u001b[0;31mAttributeError\u001b[0m                            Traceback (most recent call last)",
      "Cell \u001b[0;32mIn[25], line 1\u001b[0m\n\u001b[0;32m----> 1\u001b[0m \u001b[43mtp_optional\u001b[49m\u001b[38;5;241;43m.\u001b[39;49m\u001b[38;5;18;43m__name__\u001b[39;49m\n",
      "File \u001b[0;32m~/.pyenv/versions/3.8.5/lib/python3.8/typing.py:760\u001b[0m, in \u001b[0;36m_GenericAlias.__getattr__\u001b[0;34m(self, attr)\u001b[0m\n\u001b[1;32m    758\u001b[0m \u001b[38;5;28;01mif\u001b[39;00m \u001b[38;5;124m'\u001b[39m\u001b[38;5;124m__origin__\u001b[39m\u001b[38;5;124m'\u001b[39m \u001b[38;5;129;01min\u001b[39;00m \u001b[38;5;28mself\u001b[39m\u001b[38;5;241m.\u001b[39m\u001b[38;5;18m__dict__\u001b[39m \u001b[38;5;129;01mand\u001b[39;00m \u001b[38;5;129;01mnot\u001b[39;00m _is_dunder(attr):\n\u001b[1;32m    759\u001b[0m     \u001b[38;5;28;01mreturn\u001b[39;00m \u001b[38;5;28mgetattr\u001b[39m(\u001b[38;5;28mself\u001b[39m\u001b[38;5;241m.\u001b[39m__origin__, attr)\n\u001b[0;32m--> 760\u001b[0m \u001b[38;5;28;01mraise\u001b[39;00m \u001b[38;5;167;01mAttributeError\u001b[39;00m(attr)\n",
      "\u001b[0;31mAttributeError\u001b[0m: __name__"
     ]
    }
   ],
   "source": [
    "tp_optional.__name__"
   ]
  },
  {
   "cell_type": "code",
   "execution_count": 26,
   "metadata": {
    "execution": {
     "iopub.execute_input": "2023-02-19T19:14:13.108829Z",
     "iopub.status.busy": "2023-02-19T19:14:13.108615Z",
     "iopub.status.idle": "2023-02-19T19:14:13.112337Z",
     "shell.execute_reply": "2023-02-19T19:14:13.111796Z"
    }
   },
   "outputs": [
    {
     "data": {
      "text/plain": [
       "typing.Union"
      ]
     },
     "execution_count": 26,
     "metadata": {},
     "output_type": "execute_result"
    }
   ],
   "source": [
    "origin_optional = get_origin(tp_optional)\n",
    "origin_optional"
   ]
  },
  {
   "cell_type": "code",
   "execution_count": 27,
   "metadata": {
    "execution": {
     "iopub.execute_input": "2023-02-19T19:14:13.114479Z",
     "iopub.status.busy": "2023-02-19T19:14:13.114271Z",
     "iopub.status.idle": "2023-02-19T19:14:13.117743Z",
     "shell.execute_reply": "2023-02-19T19:14:13.117274Z"
    }
   },
   "outputs": [
    {
     "data": {
      "text/plain": [
       "typing._SpecialForm"
      ]
     },
     "execution_count": 27,
     "metadata": {},
     "output_type": "execute_result"
    }
   ],
   "source": [
    "type(origin_optional)"
   ]
  },
  {
   "cell_type": "code",
   "execution_count": 28,
   "metadata": {
    "execution": {
     "iopub.execute_input": "2023-02-19T19:14:13.119815Z",
     "iopub.status.busy": "2023-02-19T19:14:13.119608Z",
     "iopub.status.idle": "2023-02-19T19:14:13.123044Z",
     "shell.execute_reply": "2023-02-19T19:14:13.122557Z"
    }
   },
   "outputs": [
    {
     "data": {
      "text/plain": [
       "(typing._SpecialForm, typing._Final, typing._Immutable, object)"
      ]
     },
     "execution_count": 28,
     "metadata": {},
     "output_type": "execute_result"
    }
   ],
   "source": [
    "type(origin_optional).__mro__"
   ]
  },
  {
   "cell_type": "code",
   "execution_count": 29,
   "metadata": {
    "execution": {
     "iopub.execute_input": "2023-02-19T19:14:13.125287Z",
     "iopub.status.busy": "2023-02-19T19:14:13.125074Z",
     "iopub.status.idle": "2023-02-19T19:14:13.128379Z",
     "shell.execute_reply": "2023-02-19T19:14:13.127937Z"
    },
    "tags": []
   },
   "outputs": [
    {
     "data": {
      "text/plain": [
       "'Union'"
      ]
     },
     "execution_count": 29,
     "metadata": {},
     "output_type": "execute_result"
    }
   ],
   "source": [
    "origin_optional._name"
   ]
  },
  {
   "cell_type": "code",
   "execution_count": 30,
   "metadata": {
    "execution": {
     "iopub.execute_input": "2023-02-19T19:14:13.130445Z",
     "iopub.status.busy": "2023-02-19T19:14:13.130237Z",
     "iopub.status.idle": "2023-02-19T19:14:13.142368Z",
     "shell.execute_reply": "2023-02-19T19:14:13.141839Z"
    },
    "tags": []
   },
   "outputs": [
    {
     "ename": "AttributeError",
     "evalue": "'_SpecialForm' object has no attribute '__name__'",
     "output_type": "error",
     "traceback": [
      "\u001b[0;31m---------------------------------------------------------------------------\u001b[0m",
      "\u001b[0;31mAttributeError\u001b[0m                            Traceback (most recent call last)",
      "Cell \u001b[0;32mIn[30], line 1\u001b[0m\n\u001b[0;32m----> 1\u001b[0m \u001b[43morigin_optional\u001b[49m\u001b[38;5;241;43m.\u001b[39;49m\u001b[38;5;18;43m__name__\u001b[39;49m\n",
      "\u001b[0;31mAttributeError\u001b[0m: '_SpecialForm' object has no attribute '__name__'"
     ]
    }
   ],
   "source": [
    "origin_optional.__name__"
   ]
  },
  {
   "cell_type": "markdown",
   "metadata": {},
   "source": [
    "### | (bitwise or) Operator"
   ]
  },
  {
   "cell_type": "code",
   "execution_count": 31,
   "metadata": {
    "execution": {
     "iopub.execute_input": "2023-02-19T19:14:13.144751Z",
     "iopub.status.busy": "2023-02-19T19:14:13.144487Z",
     "iopub.status.idle": "2023-02-19T19:14:13.157359Z",
     "shell.execute_reply": "2023-02-19T19:14:13.156687Z"
    },
    "tags": []
   },
   "outputs": [
    {
     "ename": "TypeError",
     "evalue": "unsupported operand type(s) for |: 'type' and 'NoneType'",
     "output_type": "error",
     "traceback": [
      "\u001b[0;31m---------------------------------------------------------------------------\u001b[0m",
      "\u001b[0;31mTypeError\u001b[0m                                 Traceback (most recent call last)",
      "Cell \u001b[0;32mIn[31], line 1\u001b[0m\n\u001b[0;32m----> 1\u001b[0m tp_or_none \u001b[38;5;241m=\u001b[39m \u001b[38;5;28;43mint\u001b[39;49m\u001b[43m \u001b[49m\u001b[38;5;241;43m|\u001b[39;49m\u001b[43m \u001b[49m\u001b[38;5;28;43;01mNone\u001b[39;49;00m\n\u001b[1;32m      2\u001b[0m tp_or_none\n",
      "\u001b[0;31mTypeError\u001b[0m: unsupported operand type(s) for |: 'type' and 'NoneType'"
     ]
    }
   ],
   "source": [
    "tp_or_none = int | None\n",
    "tp_or_none"
   ]
  },
  {
   "cell_type": "code",
   "execution_count": 32,
   "metadata": {
    "execution": {
     "iopub.execute_input": "2023-02-19T19:14:13.159823Z",
     "iopub.status.busy": "2023-02-19T19:14:13.159583Z",
     "iopub.status.idle": "2023-02-19T19:14:13.172752Z",
     "shell.execute_reply": "2023-02-19T19:14:13.172093Z"
    },
    "tags": []
   },
   "outputs": [
    {
     "ename": "NameError",
     "evalue": "name 'tp_or_none' is not defined",
     "output_type": "error",
     "traceback": [
      "\u001b[0;31m---------------------------------------------------------------------------\u001b[0m",
      "\u001b[0;31mNameError\u001b[0m                                 Traceback (most recent call last)",
      "Cell \u001b[0;32mIn[32], line 1\u001b[0m\n\u001b[0;32m----> 1\u001b[0m \u001b[38;5;28mtype\u001b[39m(\u001b[43mtp_or_none\u001b[49m)\n",
      "\u001b[0;31mNameError\u001b[0m: name 'tp_or_none' is not defined"
     ]
    }
   ],
   "source": [
    "type(tp_or_none)"
   ]
  },
  {
   "cell_type": "code",
   "execution_count": 33,
   "metadata": {
    "execution": {
     "iopub.execute_input": "2023-02-19T19:14:13.175300Z",
     "iopub.status.busy": "2023-02-19T19:14:13.175061Z",
     "iopub.status.idle": "2023-02-19T19:14:13.187766Z",
     "shell.execute_reply": "2023-02-19T19:14:13.187240Z"
    },
    "tags": []
   },
   "outputs": [
    {
     "ename": "NameError",
     "evalue": "name 'tp_or_none' is not defined",
     "output_type": "error",
     "traceback": [
      "\u001b[0;31m---------------------------------------------------------------------------\u001b[0m",
      "\u001b[0;31mNameError\u001b[0m                                 Traceback (most recent call last)",
      "Cell \u001b[0;32mIn[33], line 1\u001b[0m\n\u001b[0;32m----> 1\u001b[0m \u001b[38;5;28mtype\u001b[39m(\u001b[43mtp_or_none\u001b[49m)\u001b[38;5;241m.\u001b[39m\u001b[38;5;18m__mro__\u001b[39m\n",
      "\u001b[0;31mNameError\u001b[0m: name 'tp_or_none' is not defined"
     ]
    }
   ],
   "source": [
    "type(tp_or_none).__mro__"
   ]
  },
  {
   "cell_type": "code",
   "execution_count": 34,
   "metadata": {
    "execution": {
     "iopub.execute_input": "2023-02-19T19:14:13.190193Z",
     "iopub.status.busy": "2023-02-19T19:14:13.189983Z",
     "iopub.status.idle": "2023-02-19T19:14:13.201958Z",
     "shell.execute_reply": "2023-02-19T19:14:13.201314Z"
    },
    "tags": []
   },
   "outputs": [
    {
     "ename": "NameError",
     "evalue": "name 'tp_or_none' is not defined",
     "output_type": "error",
     "traceback": [
      "\u001b[0;31m---------------------------------------------------------------------------\u001b[0m",
      "\u001b[0;31mNameError\u001b[0m                                 Traceback (most recent call last)",
      "Cell \u001b[0;32mIn[34], line 1\u001b[0m\n\u001b[0;32m----> 1\u001b[0m \u001b[43mtp_or_none\u001b[49m\u001b[38;5;241m.\u001b[39m_name\n",
      "\u001b[0;31mNameError\u001b[0m: name 'tp_or_none' is not defined"
     ]
    }
   ],
   "source": [
    "tp_or_none._name"
   ]
  },
  {
   "cell_type": "code",
   "execution_count": 35,
   "metadata": {
    "execution": {
     "iopub.execute_input": "2023-02-19T19:14:13.204388Z",
     "iopub.status.busy": "2023-02-19T19:14:13.204165Z",
     "iopub.status.idle": "2023-02-19T19:14:13.216206Z",
     "shell.execute_reply": "2023-02-19T19:14:13.215535Z"
    },
    "tags": []
   },
   "outputs": [
    {
     "ename": "NameError",
     "evalue": "name 'tp_or_none' is not defined",
     "output_type": "error",
     "traceback": [
      "\u001b[0;31m---------------------------------------------------------------------------\u001b[0m",
      "\u001b[0;31mNameError\u001b[0m                                 Traceback (most recent call last)",
      "Cell \u001b[0;32mIn[35], line 1\u001b[0m\n\u001b[0;32m----> 1\u001b[0m \u001b[43mtp_or_none\u001b[49m\u001b[38;5;241m.\u001b[39m\u001b[38;5;18m__name__\u001b[39m\n",
      "\u001b[0;31mNameError\u001b[0m: name 'tp_or_none' is not defined"
     ]
    }
   ],
   "source": [
    "tp_or_none.__name__"
   ]
  },
  {
   "cell_type": "code",
   "execution_count": 36,
   "metadata": {
    "execution": {
     "iopub.execute_input": "2023-02-19T19:14:13.218708Z",
     "iopub.status.busy": "2023-02-19T19:14:13.218478Z",
     "iopub.status.idle": "2023-02-19T19:14:13.231049Z",
     "shell.execute_reply": "2023-02-19T19:14:13.230106Z"
    },
    "tags": []
   },
   "outputs": [
    {
     "ename": "NameError",
     "evalue": "name 'tp_or_none' is not defined",
     "output_type": "error",
     "traceback": [
      "\u001b[0;31m---------------------------------------------------------------------------\u001b[0m",
      "\u001b[0;31mNameError\u001b[0m                                 Traceback (most recent call last)",
      "Cell \u001b[0;32mIn[36], line 1\u001b[0m\n\u001b[0;32m----> 1\u001b[0m origin_or_none \u001b[38;5;241m=\u001b[39m get_origin(\u001b[43mtp_or_none\u001b[49m)\n\u001b[1;32m      2\u001b[0m origin_or_none\n",
      "\u001b[0;31mNameError\u001b[0m: name 'tp_or_none' is not defined"
     ]
    }
   ],
   "source": [
    "origin_or_none = get_origin(tp_or_none)\n",
    "origin_or_none"
   ]
  },
  {
   "cell_type": "code",
   "execution_count": 37,
   "metadata": {
    "execution": {
     "iopub.execute_input": "2023-02-19T19:14:13.233472Z",
     "iopub.status.busy": "2023-02-19T19:14:13.233249Z",
     "iopub.status.idle": "2023-02-19T19:14:13.245539Z",
     "shell.execute_reply": "2023-02-19T19:14:13.244865Z"
    },
    "tags": []
   },
   "outputs": [
    {
     "ename": "NameError",
     "evalue": "name 'origin_or_none' is not defined",
     "output_type": "error",
     "traceback": [
      "\u001b[0;31m---------------------------------------------------------------------------\u001b[0m",
      "\u001b[0;31mNameError\u001b[0m                                 Traceback (most recent call last)",
      "Cell \u001b[0;32mIn[37], line 1\u001b[0m\n\u001b[0;32m----> 1\u001b[0m \u001b[38;5;28mtype\u001b[39m(\u001b[43morigin_or_none\u001b[49m)\n",
      "\u001b[0;31mNameError\u001b[0m: name 'origin_or_none' is not defined"
     ]
    }
   ],
   "source": [
    "type(origin_or_none)"
   ]
  },
  {
   "cell_type": "code",
   "execution_count": 38,
   "metadata": {
    "execution": {
     "iopub.execute_input": "2023-02-19T19:14:13.248048Z",
     "iopub.status.busy": "2023-02-19T19:14:13.247827Z",
     "iopub.status.idle": "2023-02-19T19:14:13.259904Z",
     "shell.execute_reply": "2023-02-19T19:14:13.259404Z"
    },
    "tags": []
   },
   "outputs": [
    {
     "ename": "NameError",
     "evalue": "name 'origin_or_none' is not defined",
     "output_type": "error",
     "traceback": [
      "\u001b[0;31m---------------------------------------------------------------------------\u001b[0m",
      "\u001b[0;31mNameError\u001b[0m                                 Traceback (most recent call last)",
      "Cell \u001b[0;32mIn[38], line 1\u001b[0m\n\u001b[0;32m----> 1\u001b[0m \u001b[38;5;28mtype\u001b[39m(\u001b[43morigin_or_none\u001b[49m)\u001b[38;5;241m.\u001b[39m\u001b[38;5;18m__mro__\u001b[39m\n",
      "\u001b[0;31mNameError\u001b[0m: name 'origin_or_none' is not defined"
     ]
    }
   ],
   "source": [
    "type(origin_or_none).__mro__"
   ]
  },
  {
   "cell_type": "code",
   "execution_count": 39,
   "metadata": {
    "execution": {
     "iopub.execute_input": "2023-02-19T19:14:13.262134Z",
     "iopub.status.busy": "2023-02-19T19:14:13.261909Z",
     "iopub.status.idle": "2023-02-19T19:14:13.273752Z",
     "shell.execute_reply": "2023-02-19T19:14:13.273273Z"
    },
    "tags": []
   },
   "outputs": [
    {
     "ename": "NameError",
     "evalue": "name 'origin_or_none' is not defined",
     "output_type": "error",
     "traceback": [
      "\u001b[0;31m---------------------------------------------------------------------------\u001b[0m",
      "\u001b[0;31mNameError\u001b[0m                                 Traceback (most recent call last)",
      "Cell \u001b[0;32mIn[39], line 1\u001b[0m\n\u001b[0;32m----> 1\u001b[0m \u001b[43morigin_or_none\u001b[49m\u001b[38;5;241m.\u001b[39m_name\n",
      "\u001b[0;31mNameError\u001b[0m: name 'origin_or_none' is not defined"
     ]
    }
   ],
   "source": [
    "origin_or_none._name"
   ]
  },
  {
   "cell_type": "code",
   "execution_count": 40,
   "metadata": {
    "execution": {
     "iopub.execute_input": "2023-02-19T19:14:13.275996Z",
     "iopub.status.busy": "2023-02-19T19:14:13.275793Z",
     "iopub.status.idle": "2023-02-19T19:14:13.288400Z",
     "shell.execute_reply": "2023-02-19T19:14:13.287774Z"
    },
    "tags": []
   },
   "outputs": [
    {
     "ename": "NameError",
     "evalue": "name 'origin_or_none' is not defined",
     "output_type": "error",
     "traceback": [
      "\u001b[0;31m---------------------------------------------------------------------------\u001b[0m",
      "\u001b[0;31mNameError\u001b[0m                                 Traceback (most recent call last)",
      "Cell \u001b[0;32mIn[40], line 1\u001b[0m\n\u001b[0;32m----> 1\u001b[0m \u001b[43morigin_or_none\u001b[49m\u001b[38;5;241m.\u001b[39m\u001b[38;5;18m__name__\u001b[39m\n",
      "\u001b[0;31mNameError\u001b[0m: name 'origin_or_none' is not defined"
     ]
    }
   ],
   "source": [
    "origin_or_none.__name__"
   ]
  },
  {
   "cell_type": "markdown",
   "metadata": {},
   "source": [
    "## Standard Collections"
   ]
  },
  {
   "cell_type": "markdown",
   "metadata": {},
   "source": [
    "### typing Module Aliases"
   ]
  },
  {
   "cell_type": "code",
   "execution_count": 41,
   "metadata": {
    "execution": {
     "iopub.execute_input": "2023-02-19T19:14:13.290812Z",
     "iopub.status.busy": "2023-02-19T19:14:13.290600Z",
     "iopub.status.idle": "2023-02-19T19:14:13.294280Z",
     "shell.execute_reply": "2023-02-19T19:14:13.293817Z"
    }
   },
   "outputs": [
    {
     "data": {
      "text/plain": [
       "typing.List[int]"
      ]
     },
     "execution_count": 41,
     "metadata": {},
     "output_type": "execute_result"
    }
   ],
   "source": [
    "tp_List = typing.List[int]\n",
    "tp_List"
   ]
  },
  {
   "cell_type": "code",
   "execution_count": 42,
   "metadata": {
    "execution": {
     "iopub.execute_input": "2023-02-19T19:14:13.296387Z",
     "iopub.status.busy": "2023-02-19T19:14:13.296144Z",
     "iopub.status.idle": "2023-02-19T19:14:13.299581Z",
     "shell.execute_reply": "2023-02-19T19:14:13.299129Z"
    }
   },
   "outputs": [
    {
     "data": {
      "text/plain": [
       "typing._GenericAlias"
      ]
     },
     "execution_count": 42,
     "metadata": {},
     "output_type": "execute_result"
    }
   ],
   "source": [
    "type(tp_List)"
   ]
  },
  {
   "cell_type": "code",
   "execution_count": 43,
   "metadata": {
    "execution": {
     "iopub.execute_input": "2023-02-19T19:14:13.301670Z",
     "iopub.status.busy": "2023-02-19T19:14:13.301472Z",
     "iopub.status.idle": "2023-02-19T19:14:13.304897Z",
     "shell.execute_reply": "2023-02-19T19:14:13.304449Z"
    }
   },
   "outputs": [
    {
     "data": {
      "text/plain": [
       "(typing._GenericAlias, typing._Final, object)"
      ]
     },
     "execution_count": 43,
     "metadata": {},
     "output_type": "execute_result"
    }
   ],
   "source": [
    "type(tp_List).__mro__"
   ]
  },
  {
   "cell_type": "code",
   "execution_count": 44,
   "metadata": {
    "execution": {
     "iopub.execute_input": "2023-02-19T19:14:13.307074Z",
     "iopub.status.busy": "2023-02-19T19:14:13.306876Z",
     "iopub.status.idle": "2023-02-19T19:14:13.310087Z",
     "shell.execute_reply": "2023-02-19T19:14:13.309628Z"
    }
   },
   "outputs": [
    {
     "data": {
      "text/plain": [
       "'List'"
      ]
     },
     "execution_count": 44,
     "metadata": {},
     "output_type": "execute_result"
    }
   ],
   "source": [
    "tp_List._name"
   ]
  },
  {
   "cell_type": "code",
   "execution_count": 45,
   "metadata": {
    "execution": {
     "iopub.execute_input": "2023-02-19T19:14:13.312235Z",
     "iopub.status.busy": "2023-02-19T19:14:13.312032Z",
     "iopub.status.idle": "2023-02-19T19:14:13.330144Z",
     "shell.execute_reply": "2023-02-19T19:14:13.329497Z"
    },
    "tags": []
   },
   "outputs": [
    {
     "ename": "AttributeError",
     "evalue": "__name__",
     "output_type": "error",
     "traceback": [
      "\u001b[0;31m---------------------------------------------------------------------------\u001b[0m",
      "\u001b[0;31mAttributeError\u001b[0m                            Traceback (most recent call last)",
      "Cell \u001b[0;32mIn[45], line 1\u001b[0m\n\u001b[0;32m----> 1\u001b[0m \u001b[43mtp_List\u001b[49m\u001b[38;5;241;43m.\u001b[39;49m\u001b[38;5;18;43m__name__\u001b[39;49m\n",
      "File \u001b[0;32m~/.pyenv/versions/3.8.5/lib/python3.8/typing.py:760\u001b[0m, in \u001b[0;36m_GenericAlias.__getattr__\u001b[0;34m(self, attr)\u001b[0m\n\u001b[1;32m    758\u001b[0m \u001b[38;5;28;01mif\u001b[39;00m \u001b[38;5;124m'\u001b[39m\u001b[38;5;124m__origin__\u001b[39m\u001b[38;5;124m'\u001b[39m \u001b[38;5;129;01min\u001b[39;00m \u001b[38;5;28mself\u001b[39m\u001b[38;5;241m.\u001b[39m\u001b[38;5;18m__dict__\u001b[39m \u001b[38;5;129;01mand\u001b[39;00m \u001b[38;5;129;01mnot\u001b[39;00m _is_dunder(attr):\n\u001b[1;32m    759\u001b[0m     \u001b[38;5;28;01mreturn\u001b[39;00m \u001b[38;5;28mgetattr\u001b[39m(\u001b[38;5;28mself\u001b[39m\u001b[38;5;241m.\u001b[39m__origin__, attr)\n\u001b[0;32m--> 760\u001b[0m \u001b[38;5;28;01mraise\u001b[39;00m \u001b[38;5;167;01mAttributeError\u001b[39;00m(attr)\n",
      "\u001b[0;31mAttributeError\u001b[0m: __name__"
     ]
    }
   ],
   "source": [
    "tp_List.__name__"
   ]
  },
  {
   "cell_type": "code",
   "execution_count": 46,
   "metadata": {
    "execution": {
     "iopub.execute_input": "2023-02-19T19:14:13.332433Z",
     "iopub.status.busy": "2023-02-19T19:14:13.332205Z",
     "iopub.status.idle": "2023-02-19T19:14:13.335773Z",
     "shell.execute_reply": "2023-02-19T19:14:13.335300Z"
    }
   },
   "outputs": [
    {
     "data": {
      "text/plain": [
       "list"
      ]
     },
     "execution_count": 46,
     "metadata": {},
     "output_type": "execute_result"
    }
   ],
   "source": [
    "origin_List = get_origin(tp_List)\n",
    "origin_List"
   ]
  },
  {
   "cell_type": "code",
   "execution_count": 47,
   "metadata": {
    "execution": {
     "iopub.execute_input": "2023-02-19T19:14:13.337876Z",
     "iopub.status.busy": "2023-02-19T19:14:13.337669Z",
     "iopub.status.idle": "2023-02-19T19:14:13.341176Z",
     "shell.execute_reply": "2023-02-19T19:14:13.340613Z"
    }
   },
   "outputs": [
    {
     "data": {
      "text/plain": [
       "type"
      ]
     },
     "execution_count": 47,
     "metadata": {},
     "output_type": "execute_result"
    }
   ],
   "source": [
    "type(origin_List)"
   ]
  },
  {
   "cell_type": "code",
   "execution_count": 48,
   "metadata": {
    "execution": {
     "iopub.execute_input": "2023-02-19T19:14:13.343301Z",
     "iopub.status.busy": "2023-02-19T19:14:13.343091Z",
     "iopub.status.idle": "2023-02-19T19:14:13.346464Z",
     "shell.execute_reply": "2023-02-19T19:14:13.345992Z"
    }
   },
   "outputs": [
    {
     "data": {
      "text/plain": [
       "tuple"
      ]
     },
     "execution_count": 48,
     "metadata": {},
     "output_type": "execute_result"
    }
   ],
   "source": [
    "type(origin_List.__mro__)"
   ]
  },
  {
   "cell_type": "code",
   "execution_count": 49,
   "metadata": {
    "execution": {
     "iopub.execute_input": "2023-02-19T19:14:13.348531Z",
     "iopub.status.busy": "2023-02-19T19:14:13.348323Z",
     "iopub.status.idle": "2023-02-19T19:14:13.360492Z",
     "shell.execute_reply": "2023-02-19T19:14:13.359902Z"
    },
    "tags": []
   },
   "outputs": [
    {
     "ename": "AttributeError",
     "evalue": "type object 'list' has no attribute '_name'",
     "output_type": "error",
     "traceback": [
      "\u001b[0;31m---------------------------------------------------------------------------\u001b[0m",
      "\u001b[0;31mAttributeError\u001b[0m                            Traceback (most recent call last)",
      "Cell \u001b[0;32mIn[49], line 1\u001b[0m\n\u001b[0;32m----> 1\u001b[0m \u001b[43morigin_List\u001b[49m\u001b[38;5;241;43m.\u001b[39;49m\u001b[43m_name\u001b[49m\n",
      "\u001b[0;31mAttributeError\u001b[0m: type object 'list' has no attribute '_name'"
     ]
    }
   ],
   "source": [
    "origin_List._name"
   ]
  },
  {
   "cell_type": "code",
   "execution_count": 50,
   "metadata": {
    "execution": {
     "iopub.execute_input": "2023-02-19T19:14:13.362818Z",
     "iopub.status.busy": "2023-02-19T19:14:13.362606Z",
     "iopub.status.idle": "2023-02-19T19:14:13.366149Z",
     "shell.execute_reply": "2023-02-19T19:14:13.365691Z"
    },
    "tags": []
   },
   "outputs": [
    {
     "data": {
      "text/plain": [
       "'list'"
      ]
     },
     "execution_count": 50,
     "metadata": {},
     "output_type": "execute_result"
    }
   ],
   "source": [
    "origin_List.__name__"
   ]
  },
  {
   "cell_type": "markdown",
   "metadata": {},
   "source": [
    "### Standard Collection Aliases"
   ]
  },
  {
   "cell_type": "code",
   "execution_count": 51,
   "metadata": {
    "execution": {
     "iopub.execute_input": "2023-02-19T19:14:13.368442Z",
     "iopub.status.busy": "2023-02-19T19:14:13.368238Z",
     "iopub.status.idle": "2023-02-19T19:14:13.380213Z",
     "shell.execute_reply": "2023-02-19T19:14:13.379571Z"
    },
    "tags": []
   },
   "outputs": [
    {
     "ename": "TypeError",
     "evalue": "'type' object is not subscriptable",
     "output_type": "error",
     "traceback": [
      "\u001b[0;31m---------------------------------------------------------------------------\u001b[0m",
      "\u001b[0;31mTypeError\u001b[0m                                 Traceback (most recent call last)",
      "Cell \u001b[0;32mIn[51], line 1\u001b[0m\n\u001b[0;32m----> 1\u001b[0m tp_list \u001b[38;5;241m=\u001b[39m \u001b[38;5;28;43mlist\u001b[39;49m\u001b[43m[\u001b[49m\u001b[38;5;28;43mint\u001b[39;49m\u001b[43m]\u001b[49m\n\u001b[1;32m      2\u001b[0m tp_list\n",
      "\u001b[0;31mTypeError\u001b[0m: 'type' object is not subscriptable"
     ]
    }
   ],
   "source": [
    "tp_list = list[int]\n",
    "tp_list"
   ]
  },
  {
   "cell_type": "code",
   "execution_count": 52,
   "metadata": {
    "execution": {
     "iopub.execute_input": "2023-02-19T19:14:13.382510Z",
     "iopub.status.busy": "2023-02-19T19:14:13.382292Z",
     "iopub.status.idle": "2023-02-19T19:14:13.393931Z",
     "shell.execute_reply": "2023-02-19T19:14:13.393446Z"
    },
    "tags": []
   },
   "outputs": [
    {
     "ename": "NameError",
     "evalue": "name 'tp_list' is not defined",
     "output_type": "error",
     "traceback": [
      "\u001b[0;31m---------------------------------------------------------------------------\u001b[0m",
      "\u001b[0;31mNameError\u001b[0m                                 Traceback (most recent call last)",
      "Cell \u001b[0;32mIn[52], line 1\u001b[0m\n\u001b[0;32m----> 1\u001b[0m \u001b[38;5;28mtype\u001b[39m(\u001b[43mtp_list\u001b[49m)\n",
      "\u001b[0;31mNameError\u001b[0m: name 'tp_list' is not defined"
     ]
    }
   ],
   "source": [
    "type(tp_list)"
   ]
  },
  {
   "cell_type": "code",
   "execution_count": 53,
   "metadata": {
    "execution": {
     "iopub.execute_input": "2023-02-19T19:14:13.396233Z",
     "iopub.status.busy": "2023-02-19T19:14:13.396031Z",
     "iopub.status.idle": "2023-02-19T19:14:13.407720Z",
     "shell.execute_reply": "2023-02-19T19:14:13.407220Z"
    },
    "tags": []
   },
   "outputs": [
    {
     "ename": "NameError",
     "evalue": "name 'tp_list' is not defined",
     "output_type": "error",
     "traceback": [
      "\u001b[0;31m---------------------------------------------------------------------------\u001b[0m",
      "\u001b[0;31mNameError\u001b[0m                                 Traceback (most recent call last)",
      "Cell \u001b[0;32mIn[53], line 1\u001b[0m\n\u001b[0;32m----> 1\u001b[0m \u001b[38;5;28mtype\u001b[39m(\u001b[43mtp_list\u001b[49m)\u001b[38;5;241m.\u001b[39m\u001b[38;5;18m__mro__\u001b[39m\n",
      "\u001b[0;31mNameError\u001b[0m: name 'tp_list' is not defined"
     ]
    }
   ],
   "source": [
    "type(tp_list).__mro__"
   ]
  },
  {
   "cell_type": "code",
   "execution_count": 54,
   "metadata": {
    "execution": {
     "iopub.execute_input": "2023-02-19T19:14:13.409954Z",
     "iopub.status.busy": "2023-02-19T19:14:13.409720Z",
     "iopub.status.idle": "2023-02-19T19:14:13.421453Z",
     "shell.execute_reply": "2023-02-19T19:14:13.420875Z"
    },
    "tags": []
   },
   "outputs": [
    {
     "ename": "NameError",
     "evalue": "name 'tp_list' is not defined",
     "output_type": "error",
     "traceback": [
      "\u001b[0;31m---------------------------------------------------------------------------\u001b[0m",
      "\u001b[0;31mNameError\u001b[0m                                 Traceback (most recent call last)",
      "Cell \u001b[0;32mIn[54], line 1\u001b[0m\n\u001b[0;32m----> 1\u001b[0m \u001b[43mtp_list\u001b[49m\u001b[38;5;241m.\u001b[39m_name\n",
      "\u001b[0;31mNameError\u001b[0m: name 'tp_list' is not defined"
     ]
    }
   ],
   "source": [
    "tp_list._name"
   ]
  },
  {
   "cell_type": "code",
   "execution_count": 55,
   "metadata": {
    "execution": {
     "iopub.execute_input": "2023-02-19T19:14:13.423707Z",
     "iopub.status.busy": "2023-02-19T19:14:13.423488Z",
     "iopub.status.idle": "2023-02-19T19:14:13.435186Z",
     "shell.execute_reply": "2023-02-19T19:14:13.434668Z"
    },
    "tags": []
   },
   "outputs": [
    {
     "ename": "NameError",
     "evalue": "name 'tp_list' is not defined",
     "output_type": "error",
     "traceback": [
      "\u001b[0;31m---------------------------------------------------------------------------\u001b[0m",
      "\u001b[0;31mNameError\u001b[0m                                 Traceback (most recent call last)",
      "Cell \u001b[0;32mIn[55], line 1\u001b[0m\n\u001b[0;32m----> 1\u001b[0m \u001b[43mtp_list\u001b[49m\u001b[38;5;241m.\u001b[39m\u001b[38;5;18m__name__\u001b[39m\n",
      "\u001b[0;31mNameError\u001b[0m: name 'tp_list' is not defined"
     ]
    }
   ],
   "source": [
    "tp_list.__name__"
   ]
  },
  {
   "cell_type": "code",
   "execution_count": 56,
   "metadata": {
    "execution": {
     "iopub.execute_input": "2023-02-19T19:14:13.437534Z",
     "iopub.status.busy": "2023-02-19T19:14:13.437318Z",
     "iopub.status.idle": "2023-02-19T19:14:13.449972Z",
     "shell.execute_reply": "2023-02-19T19:14:13.449445Z"
    },
    "tags": []
   },
   "outputs": [
    {
     "ename": "NameError",
     "evalue": "name 'tp_list' is not defined",
     "output_type": "error",
     "traceback": [
      "\u001b[0;31m---------------------------------------------------------------------------\u001b[0m",
      "\u001b[0;31mNameError\u001b[0m                                 Traceback (most recent call last)",
      "Cell \u001b[0;32mIn[56], line 1\u001b[0m\n\u001b[0;32m----> 1\u001b[0m origin_list \u001b[38;5;241m=\u001b[39m get_origin(\u001b[43mtp_list\u001b[49m)\n\u001b[1;32m      2\u001b[0m origin_list\n",
      "\u001b[0;31mNameError\u001b[0m: name 'tp_list' is not defined"
     ]
    }
   ],
   "source": [
    "origin_list = get_origin(tp_list)\n",
    "origin_list"
   ]
  },
  {
   "cell_type": "code",
   "execution_count": 57,
   "metadata": {
    "execution": {
     "iopub.execute_input": "2023-02-19T19:14:13.452512Z",
     "iopub.status.busy": "2023-02-19T19:14:13.452294Z",
     "iopub.status.idle": "2023-02-19T19:14:13.464398Z",
     "shell.execute_reply": "2023-02-19T19:14:13.463823Z"
    },
    "tags": []
   },
   "outputs": [
    {
     "ename": "NameError",
     "evalue": "name 'origin_list' is not defined",
     "output_type": "error",
     "traceback": [
      "\u001b[0;31m---------------------------------------------------------------------------\u001b[0m",
      "\u001b[0;31mNameError\u001b[0m                                 Traceback (most recent call last)",
      "Cell \u001b[0;32mIn[57], line 1\u001b[0m\n\u001b[0;32m----> 1\u001b[0m \u001b[38;5;28mtype\u001b[39m(\u001b[43morigin_list\u001b[49m)\n",
      "\u001b[0;31mNameError\u001b[0m: name 'origin_list' is not defined"
     ]
    }
   ],
   "source": [
    "type(origin_list)"
   ]
  },
  {
   "cell_type": "code",
   "execution_count": 58,
   "metadata": {
    "execution": {
     "iopub.execute_input": "2023-02-19T19:14:13.466711Z",
     "iopub.status.busy": "2023-02-19T19:14:13.466495Z",
     "iopub.status.idle": "2023-02-19T19:14:13.477961Z",
     "shell.execute_reply": "2023-02-19T19:14:13.477437Z"
    },
    "tags": []
   },
   "outputs": [
    {
     "ename": "NameError",
     "evalue": "name 'origin_list' is not defined",
     "output_type": "error",
     "traceback": [
      "\u001b[0;31m---------------------------------------------------------------------------\u001b[0m",
      "\u001b[0;31mNameError\u001b[0m                                 Traceback (most recent call last)",
      "Cell \u001b[0;32mIn[58], line 1\u001b[0m\n\u001b[0;32m----> 1\u001b[0m \u001b[38;5;28mtype\u001b[39m(\u001b[43morigin_list\u001b[49m)\u001b[38;5;241m.\u001b[39m\u001b[38;5;18m__mro__\u001b[39m\n",
      "\u001b[0;31mNameError\u001b[0m: name 'origin_list' is not defined"
     ]
    }
   ],
   "source": [
    "type(origin_list).__mro__"
   ]
  },
  {
   "cell_type": "code",
   "execution_count": 59,
   "metadata": {
    "execution": {
     "iopub.execute_input": "2023-02-19T19:14:13.480286Z",
     "iopub.status.busy": "2023-02-19T19:14:13.479959Z",
     "iopub.status.idle": "2023-02-19T19:14:13.491547Z",
     "shell.execute_reply": "2023-02-19T19:14:13.491010Z"
    },
    "tags": []
   },
   "outputs": [
    {
     "ename": "NameError",
     "evalue": "name 'origin_list' is not defined",
     "output_type": "error",
     "traceback": [
      "\u001b[0;31m---------------------------------------------------------------------------\u001b[0m",
      "\u001b[0;31mNameError\u001b[0m                                 Traceback (most recent call last)",
      "Cell \u001b[0;32mIn[59], line 1\u001b[0m\n\u001b[0;32m----> 1\u001b[0m \u001b[43morigin_list\u001b[49m\u001b[38;5;241m.\u001b[39m_name\n",
      "\u001b[0;31mNameError\u001b[0m: name 'origin_list' is not defined"
     ]
    }
   ],
   "source": [
    "origin_list._name"
   ]
  },
  {
   "cell_type": "code",
   "execution_count": 60,
   "metadata": {
    "execution": {
     "iopub.execute_input": "2023-02-19T19:14:13.493790Z",
     "iopub.status.busy": "2023-02-19T19:14:13.493566Z",
     "iopub.status.idle": "2023-02-19T19:14:13.505187Z",
     "shell.execute_reply": "2023-02-19T19:14:13.504651Z"
    },
    "tags": []
   },
   "outputs": [
    {
     "ename": "NameError",
     "evalue": "name 'origin_list' is not defined",
     "output_type": "error",
     "traceback": [
      "\u001b[0;31m---------------------------------------------------------------------------\u001b[0m",
      "\u001b[0;31mNameError\u001b[0m                                 Traceback (most recent call last)",
      "Cell \u001b[0;32mIn[60], line 1\u001b[0m\n\u001b[0;32m----> 1\u001b[0m \u001b[43morigin_list\u001b[49m\u001b[38;5;241m.\u001b[39m\u001b[38;5;18m__name__\u001b[39m\n",
      "\u001b[0;31mNameError\u001b[0m: name 'origin_list' is not defined"
     ]
    }
   ],
   "source": [
    "origin_list.__name__"
   ]
  }
 ],
 "metadata": {
  "kernelspec": {
   "display_name": "Python 3 (ipykernel)",
   "language": "python",
   "name": "python3"
  },
  "language_info": {
   "codemirror_mode": {
    "name": "ipython",
    "version": 3
   },
   "file_extension": ".py",
   "mimetype": "text/x-python",
   "name": "python",
   "nbconvert_exporter": "python",
   "pygments_lexer": "ipython3",
   "version": "3.8.5"
  },
  "vscode": {
   "interpreter": {
    "hash": "80942b1bde6a4b6b83cda378767221fd5d0b42ef189a887432315083c1f66fc8"
   }
  }
 },
 "nbformat": 4,
 "nbformat_minor": 4
}
